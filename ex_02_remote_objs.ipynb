{
 "cells": [
  {
   "cell_type": "markdown",
   "metadata": {},
   "source": [
    "# A Guided Tour of Ray Core: Remote Objects\n",
    "\n",
    "© 2019-2022, Anyscale. All Rights Reserved\n",
    "\n",
    "📖 [Back to Table of Contents](./ex_00_tutorial_overview.ipynb)<br>\n",
    "➡ [Next notebook](./ex_03_remote_classes.ipynb) <br>\n",
    "⬅️ [Previous notebook](./ex_01_remote_funcs.ipynb) <br>\n",
    "\n",
    "### Overview\n",
    "\n",
    "\n",
    "In Ray, tasks and actors create and compute on objects. We refer to these objects as remote objects because they can be stored anywhere in a Ray cluster, and we use object refs to refer to them. Remote objects are cached in Ray’s distributed shared-memory object store, and there is one object store per node in the cluster. In the cluster setting, a remote object can live on one or many nodes, independent of who holds the object ref(s). Collectively, these individual object store makes a shared object store across the the Ray Cluster, as shown in the diagram below.\n",
    "\n",
    "[Remote Objects](https://docs.ray.io/en/latest/walkthrough.html#objects-in-ray)\n",
    "reside in a distributed [shared-memory object store](https://en.wikipedia.org/wiki/Shared_memory).\n",
    "\n",
    "|<img src=\"images/ray_arch.png\" width=\"70%\" height=\"30%\" loading=\"lazy\">|\n",
    "|:--|\n",
    "|Ray archictecture with Ray nodes, each with its own object store. Collectively, it's a shared object store across the cluster.|\n",
    "\n",
    "Objects are immutable and can be accessed from anywhere on the cluster, as they are stored in the cluster shared memory. An object ref is essentially a pointer or a unique ID that can be used to refer to a remote object without seeing its value. If you’re familiar with futures in Python, Java or Scala, Ray object refs are conceptually similar.\n",
    "\n",
    "\n",
    "In general, small objects are stored in their owner’s **in-process store** (**<=100KB**), while large objects are stored in the **distributed object store**. This decision is meant to reduce the memory footprint and resolution time for each object. Note that in the latter case, a placeholder object is stored in the in-process store to indicate the object has been promoted to shared memory.\n",
    "\n",
    "In the case if there is no space in the shared-memory, objects are spilled over to disk. But the main point here is that\n",
    "shared-memory allows _zero-copy_ access to processes on the same worker node.\n",
    "\n",
    "<img src=\"images/shared_memory_plasma_store.png\"  height=\"40%\" width=\"65%\">\n",
    "\n",
    "### Learning objectives\n",
    "\n",
    "In this tutorial, you learn about:\n",
    " * Ray Futures as one of the patterns\n",
    " * Ray's distributed Plasma object store\n",
    " * How obejcts are stored and fetched from the distributed shared object store\n",
    "     * Use `ray.get` and `ray.put` examples\n",
    " * How to use Ray tasks and object store to do inference batching at scale"
   ]
  },
  {
   "cell_type": "markdown",
   "metadata": {},
   "source": [
    "### Object references as futures pattern"
   ]
  },
  {
   "cell_type": "markdown",
   "metadata": {},
   "source": [
    "First, let's start Ray…"
   ]
  },
  {
   "cell_type": "code",
   "execution_count": 6,
   "metadata": {},
   "outputs": [],
   "source": [
    "import logging\n",
    "import numpy as np\n",
    "import pandas as pd\n",
    "import pyarrow.parquet as pq\n",
    "from typing import Tuple\n",
    "import random\n",
    "import torch\n",
    "import ray"
   ]
  },
  {
   "cell_type": "code",
   "execution_count": 7,
   "metadata": {},
   "outputs": [
    {
     "data": {
      "text/html": [
       "<div>\n",
       "    <div style=\"margin-left: 50px;display: flex;flex-direction: row;align-items: center\">\n",
       "        <h3 style=\"color: var(--jp-ui-font-color0)\">Ray</h3>\n",
       "        <svg version=\"1.1\" id=\"ray\" width=\"3em\" viewBox=\"0 0 144.5 144.6\" style=\"margin-left: 3em;margin-right: 3em\">\n",
       "            <g id=\"layer-1\">\n",
       "                <path fill=\"#00a2e9\" class=\"st0\" d=\"M97.3,77.2c-3.8-1.1-6.2,0.9-8.3,5.1c-3.5,6.8-9.9,9.9-17.4,9.6S58,88.1,54.8,81.2c-1.4-3-3-4-6.3-4.1\n",
       "                    c-5.6-0.1-9.9,0.1-13.1,6.4c-3.8,7.6-13.6,10.2-21.8,7.6C5.2,88.4-0.4,80.5,0,71.7c0.1-8.4,5.7-15.8,13.8-18.2\n",
       "                    c8.4-2.6,17.5,0.7,22.3,8c1.3,1.9,1.3,5.2,3.6,5.6c3.9,0.6,8,0.2,12,0.2c1.8,0,1.9-1.6,2.4-2.8c3.5-7.8,9.7-11.8,18-11.9\n",
       "                    c8.2-0.1,14.4,3.9,17.8,11.4c1.3,2.8,2.9,3.6,5.7,3.3c1-0.1,2,0.1,3,0c2.8-0.5,6.4,1.7,8.1-2.7s-2.3-5.5-4.1-7.5\n",
       "                    c-5.1-5.7-10.9-10.8-16.1-16.3C84,38,81.9,37.1,78,38.3C66.7,42,56.2,35.7,53,24.1C50.3,14,57.3,2.8,67.7,0.5\n",
       "                    C78.4-2,89,4.7,91.5,15.3c0.1,0.3,0.1,0.5,0.2,0.8c0.7,3.4,0.7,6.9-0.8,9.8c-1.7,3.2-0.8,5,1.5,7.2c6.7,6.5,13.3,13,19.8,19.7\n",
       "                    c1.8,1.8,3,2.1,5.5,1.2c9.1-3.4,17.9-0.6,23.4,7c4.8,6.9,4.6,16.1-0.4,22.9c-5.4,7.2-14.2,9.9-23.1,6.5c-2.3-0.9-3.5-0.6-5.1,1.1\n",
       "                    c-6.7,6.9-13.6,13.7-20.5,20.4c-1.8,1.8-2.5,3.2-1.4,5.9c3.5,8.7,0.3,18.6-7.7,23.6c-7.9,5-18.2,3.8-24.8-2.9\n",
       "                    c-6.4-6.4-7.4-16.2-2.5-24.3c4.9-7.8,14.5-11,23.1-7.8c3,1.1,4.7,0.5,6.9-1.7C91.7,98.4,98,92.3,104.2,86c1.6-1.6,4.1-2.7,2.6-6.2\n",
       "                    c-1.4-3.3-3.8-2.5-6.2-2.6C99.8,77.2,98.9,77.2,97.3,77.2z M72.1,29.7c5.5,0.1,9.9-4.3,10-9.8c0-0.1,0-0.2,0-0.3\n",
       "                    C81.8,14,77,9.8,71.5,10.2c-5,0.3-9,4.2-9.3,9.2c-0.2,5.5,4,10.1,9.5,10.3C71.8,29.7,72,29.7,72.1,29.7z M72.3,62.3\n",
       "                    c-5.4-0.1-9.9,4.2-10.1,9.7c0,0.2,0,0.3,0,0.5c0.2,5.4,4.5,9.7,9.9,10c5.1,0.1,9.9-4.7,10.1-9.8c0.2-5.5-4-10-9.5-10.3\n",
       "                    C72.6,62.3,72.4,62.3,72.3,62.3z M115,72.5c0.1,5.4,4.5,9.7,9.8,9.9c5.6-0.2,10-4.8,10-10.4c-0.2-5.4-4.6-9.7-10-9.7\n",
       "                    c-5.3-0.1-9.8,4.2-9.9,9.5C115,72.1,115,72.3,115,72.5z M19.5,62.3c-5.4,0.1-9.8,4.4-10,9.8c-0.1,5.1,5.2,10.4,10.2,10.3\n",
       "                    c5.6-0.2,10-4.9,9.8-10.5c-0.1-5.4-4.5-9.7-9.9-9.6C19.6,62.3,19.5,62.3,19.5,62.3z M71.8,134.6c5.9,0.2,10.3-3.9,10.4-9.6\n",
       "                    c0.5-5.5-3.6-10.4-9.1-10.8c-5.5-0.5-10.4,3.6-10.8,9.1c0,0.5,0,0.9,0,1.4c-0.2,5.3,4,9.8,9.3,10\n",
       "                    C71.6,134.6,71.7,134.6,71.8,134.6z\"/>\n",
       "            </g>\n",
       "        </svg>\n",
       "        <table>\n",
       "            <tr>\n",
       "                <td style=\"text-align: left\"><b>Python version:</b></td>\n",
       "                <td style=\"text-align: left\"><b>3.8.13</b></td>\n",
       "            </tr>\n",
       "            <tr>\n",
       "                <td style=\"text-align: left\"><b>Ray version:</b></td>\n",
       "                <td style=\"text-align: left\"><b> 2.3.0</b></td>\n",
       "            </tr>\n",
       "            <tr>\n",
       "    <td style=\"text-align: left\"><b>Dashboard:</b></td>\n",
       "    <td style=\"text-align: left\"><b><a href=\"http://127.0.0.1:8265\" target=\"_blank\">http://127.0.0.1:8265</a></b></td>\n",
       "</tr>\n",
       "\n",
       "        </table>\n",
       "    </div>\n",
       "</div>\n"
      ],
      "text/plain": [
       "RayContext(dashboard_url='127.0.0.1:8265', python_version='3.8.13', ray_version='2.3.0', ray_commit='cf7a56b4b0b648c324722df7c99c168e92ff0b45', address_info={'node_ip_address': '127.0.0.1', 'raylet_ip_address': '127.0.0.1', 'redis_address': None, 'object_store_address': '/tmp/ray/session_2023-02-26_14-10-03_601751_20903/sockets/plasma_store', 'raylet_socket_name': '/tmp/ray/session_2023-02-26_14-10-03_601751_20903/sockets/raylet', 'webui_url': '127.0.0.1:8265', 'session_dir': '/tmp/ray/session_2023-02-26_14-10-03_601751_20903', 'metrics_export_port': 57520, 'gcs_address': '127.0.0.1:62525', 'address': '127.0.0.1:62525', 'dashboard_agent_listen_port': 52365, 'node_id': 'b0e5be528e497e4669f133bc8f5919d80de06c42d796aa73380f968a'})"
      ]
     },
     "execution_count": 7,
     "metadata": {},
     "output_type": "execute_result"
    }
   ],
   "source": [
    "if ray.is_initialized:\n",
    "    ray.shutdown()\n",
    "ray.init(logging_level=logging.ERROR)"
   ]
  },
  {
   "cell_type": "markdown",
   "metadata": {},
   "source": [
    "### Example 1: Remote Objects"
   ]
  },
  {
   "cell_type": "markdown",
   "metadata": {},
   "source": [
    "To start, we'll create some python objects and put them in shared memory using the [Ray Core APIs](https://docs.ray.io/en/latest/ray-core/package-ref.html)\n",
    "\n",
    "* `ray.put()` - put an object in the in-memory object store and return its `RefObjectID`. Use this `RefObjectID` to pass object to any remote task or an Actor method call\n",
    "* `ray.get()` - get the values from a remote object or a list of remote objects from the object store\n",
    "\n",
    "\n",
    "|<img src=\"images/object_store.png\" width=\"70%\" loading=\"lazy\">|\n",
    "|:--|\n",
    "|Diagram of workers in worker nodes using `ray.put()` to place values and using `ray.get()` to retrieve them from each node's object store. If the workder node's does not have the value of the ObjectRefID, it'll fetched or copied from the worker's node that created it.|\n"
   ]
  },
  {
   "cell_type": "markdown",
   "metadata": {},
   "source": [
    "Create a function to return an random tensor shape. We use this\n",
    "tensor to store in our object store and retrieve it later for processing."
   ]
  },
  {
   "cell_type": "code",
   "execution_count": 8,
   "metadata": {},
   "outputs": [],
   "source": [
    "def create_rand_tensor(size: Tuple[int, int]) -> torch.tensor:\n",
    "    return torch.randn(size=(size), dtype=torch.float)"
   ]
  },
  {
   "cell_type": "code",
   "execution_count": 9,
   "metadata": {},
   "outputs": [],
   "source": [
    "@ray.remote\n",
    "def transform_rand_tensor(tensor: torch.tensor) -> torch.tensor:\n",
    "    return torch.mul(tensor, random.randint(2, 10))"
   ]
  },
  {
   "cell_type": "markdown",
   "metadata": {},
   "source": [
    "#### Create random tensors and store them in object store\n",
    "1. create a random tensor\n",
    "2. put it in the object store\n",
    "3. the final list returned from the comprehension is list of `ObjectRefIDs`"
   ]
  },
  {
   "cell_type": "code",
   "execution_count": 10,
   "metadata": {},
   "outputs": [
    {
     "data": {
      "text/plain": [
       "([ObjectRef(00ffffffffffffffffffffffffffffffffffffff0100000001000000),\n",
       "  ObjectRef(00ffffffffffffffffffffffffffffffffffffff0100000002000000)],\n",
       " 100)"
      ]
     },
     "execution_count": 10,
     "metadata": {},
     "output_type": "execute_result"
    }
   ],
   "source": [
    "torch.manual_seed(42)\n",
    "#\n",
    "# Create a 100 random tensors of shape (X, 50)\n",
    "#\n",
    "tensor_list_obj_ref = [ray.put(create_rand_tensor(((i+1)*25, 50))) for i in range(0, 100)]\n",
    "tensor_list_obj_ref[:2], len(tensor_list_obj_ref)"
   ]
  },
  {
   "cell_type": "markdown",
   "metadata": {},
   "source": [
    "You can view the object store in the [Ray Dashboard](https://docs.ray.io/en/latest/ray-core/ray-dashboard.html)"
   ]
  },
  {
   "cell_type": "markdown",
   "metadata": {},
   "source": [
    "#### Fetch the random tensors from the object store"
   ]
  },
  {
   "cell_type": "markdown",
   "metadata": {},
   "source": [
    "Retrieve the value of this object reference. \n",
    "\n",
    "Small objects are resolved by copying them directly from the _owner’s_ **in-process store**. For example, if the owner calls `ray.get`, the system looks up and deserializes the value from the local **in-process store**. For larger objects greater than 100KB, they will be stored in the distributed object store."
   ]
  },
  {
   "cell_type": "code",
   "execution_count": 11,
   "metadata": {},
   "outputs": [
    {
     "data": {
      "text/plain": [
       "(torch.Size([25, 50]),\n",
       " tensor([[ 1.9269,  1.4873,  0.9007,  ..., -0.4879, -0.9138, -0.6581],\n",
       "         [ 0.0780,  0.5258, -0.4880,  ...,  0.4880,  0.7846,  0.0286],\n",
       "         [ 0.6408,  0.5832,  1.0669,  ...,  1.4506,  0.2695, -0.2104],\n",
       "         ...,\n",
       "         [ 0.3258, -1.4584,  1.8989,  ...,  0.1473, -1.3136, -0.6061],\n",
       "         [ 0.6450, -0.2477, -1.4078,  ...,  1.7561,  0.2113,  1.4860],\n",
       "         [ 0.5585,  0.3491,  0.8484,  ...,  2.2683, -0.0661, -1.0740]]))"
      ]
     },
     "execution_count": 11,
     "metadata": {},
     "output_type": "execute_result"
    }
   ],
   "source": [
    "# Since we got back a list of ObjectRefIDs, index into the first value of the tensor from \n",
    "# the list of ObectRefIDs\n",
    "val = ray.get(tensor_list_obj_ref[0])\n",
    "val.size(), val"
   ]
  },
  {
   "cell_type": "markdown",
   "metadata": {},
   "source": [
    "Alternatively, you can fetch all the values of multiple object references."
   ]
  },
  {
   "cell_type": "code",
   "execution_count": 12,
   "metadata": {},
   "outputs": [
    {
     "data": {
      "text/plain": [
       "([tensor([[ 1.9269,  1.4873,  0.9007,  ..., -0.4879, -0.9138, -0.6581],\n",
       "          [ 0.0780,  0.5258, -0.4880,  ...,  0.4880,  0.7846,  0.0286],\n",
       "          [ 0.6408,  0.5832,  1.0669,  ...,  1.4506,  0.2695, -0.2104],\n",
       "          ...,\n",
       "          [ 0.3258, -1.4584,  1.8989,  ...,  0.1473, -1.3136, -0.6061],\n",
       "          [ 0.6450, -0.2477, -1.4078,  ...,  1.7561,  0.2113,  1.4860],\n",
       "          [ 0.5585,  0.3491,  0.8484,  ...,  2.2683, -0.0661, -1.0740]])],\n",
       " torch.Size([25, 50]))"
      ]
     },
     "execution_count": 12,
     "metadata": {},
     "output_type": "execute_result"
    }
   ],
   "source": [
    "results = ray.get(tensor_list_obj_ref)\n",
    "results[:1], results[:1][0].size()"
   ]
  },
  {
   "cell_type": "markdown",
   "metadata": {},
   "source": [
    "#### Transform tensors stored in the object store"
   ]
  },
  {
   "cell_type": "markdown",
   "metadata": {},
   "source": [
    "Let's transform our tensors stored in the object store, store the transformed tensors in the object store (the ray remote task will implicity store it as a returned value), and then fetch the values."
   ]
  },
  {
   "cell_type": "markdown",
   "metadata": {},
   "source": [
    "Transform each tensor in the object store with a remote task"
   ]
  },
  {
   "cell_type": "code",
   "execution_count": 22,
   "metadata": {},
   "outputs": [
    {
     "data": {
      "text/plain": [
       "[ObjectRef(8b2e7fa63270c5f3ffffffffffffffffffffffff0100000001000000),\n",
       " ObjectRef(10ef70752e9c9a2bffffffffffffffffffffffff0100000001000000)]"
      ]
     },
     "execution_count": 22,
     "metadata": {},
     "output_type": "execute_result"
    }
   ],
   "source": [
    "transformed_object_list = [transform_rand_tensor.remote(t_obj_ref) for t_obj_ref in tensor_list_obj_ref]\n",
    "transformed_object_list[:2]"
   ]
  },
  {
   "cell_type": "code",
   "execution_count": 23,
   "metadata": {},
   "outputs": [
    {
     "data": {
      "text/plain": [
       "[tensor([[ 3.8538,  2.9746,  1.8014,  ..., -0.9758, -1.8276, -1.3163],\n",
       "         [ 0.1560,  1.0516, -0.9760,  ...,  0.9760,  1.5692,  0.0573],\n",
       "         [ 1.2815,  1.1665,  2.1339,  ...,  2.9012,  0.5390, -0.4208],\n",
       "         ...,\n",
       "         [ 0.6516, -2.9169,  3.7978,  ...,  0.2946, -2.6272, -1.2122],\n",
       "         [ 1.2900, -0.4954, -2.8156,  ...,  3.5123,  0.4226,  2.9720],\n",
       "         [ 1.1170,  0.6983,  1.6967,  ...,  4.5367, -0.1322, -2.1481]]),\n",
       " tensor([[  4.4440,   7.1669,   6.7023,  ...,   7.9999, -16.3133,  -5.4662],\n",
       "         [  5.7750,   8.5447,  -0.4408,  ...,   9.7114,  -5.7739,   2.4815],\n",
       "         [ -1.9652,  -1.7028,  15.7128,  ...,   3.7381,  -6.2063,   5.5746],\n",
       "         ...,\n",
       "         [ -3.7279,  -0.2907,  -2.9323,  ...,   3.8987,   4.6501,  -1.3954],\n",
       "         [ -6.8392,  -4.0922, -10.8494,  ...,  -1.6914,  14.8104,   1.8503],\n",
       "         [ -7.8164,   7.9808,  -8.0498,  ...,  10.8340,   4.4420, -10.3995]])]"
      ]
     },
     "execution_count": 23,
     "metadata": {},
     "output_type": "execute_result"
    }
   ],
   "source": [
    "transformed_tensor_values = ray.get(transformed_object_list)\n",
    "transformed_tensor_values[:2]"
   ]
  },
  {
   "cell_type": "markdown",
   "metadata": {},
   "source": [
    "### Recap\n",
    "Ray's object store is a shared memory store spanning a Ray cluster. Workers on each Ray node have their own object store, and they can use simple Ray APIs,`ray.put()` and `ray.get()`, to insert values and fetch values of Ray objects created by Ray tasks or Actor methods. Collectively, these individual object stores per node comprise a shared and distributed object store.  \n",
    "\n",
    "In the above exercise, we created random tensors, inserted them into our object store, transformed them, by iterating over each `ObjectRefID`, sending this `ObjectRefID` to a Ray task, and then fetching the transformed tensor returned by each Ray remote task. "
   ]
  },
  {
   "cell_type": "markdown",
   "metadata": {},
   "source": [
    "### Exercise\n",
    "See if you can write your own transformation to modify the tensor. Consider any of the following\n",
    "tensor transformations:\n",
    " 1. [torch.transpose](https://pytorch.org/docs/stable/generated/torch.transpose.html)\n",
    " 2. [torch.dot](https://pytorch.org/docs/stable/generated/torch.dot.html)\n",
    " 3. [torch.reshape](https://pytorch.org/docs/stable/generated/torch.reshape.html)"
   ]
  },
  {
   "cell_type": "markdown",
   "metadata": {
    "jp-MarkdownHeadingCollapsed": true,
    "tags": []
   },
   "source": [
    "#### Solution"
   ]
  },
  {
   "cell_type": "code",
   "execution_count": 19,
   "metadata": {
    "tags": []
   },
   "outputs": [],
   "source": [
    "@ray.remote\n",
    "def transform_rand_tensor_2(tensor: torch.tensor) -> torch.tensor:\n",
    "    return torch.transpose(tensor, 0, 1)"
   ]
  },
  {
   "cell_type": "markdown",
   "metadata": {},
   "source": [
    "### Passing Objects by Reference\n",
    "\n",
    "Ray object references can be freely passed around a Ray application. This means that they can be passed as arguments to tasks, actor methods, and even stored in other objects. Objects are tracked via distributed reference counting, and their data is automatically freed once all references to the object are deleted."
   ]
  },
  {
   "cell_type": "code",
   "execution_count": 10,
   "metadata": {},
   "outputs": [],
   "source": [
    "# Define a Task\n",
    "@ray.remote\n",
    "def echo(x):\n",
    "    print(f\"current value of argument x: {x}\")"
   ]
  },
  {
   "cell_type": "code",
   "execution_count": 11,
   "metadata": {},
   "outputs": [],
   "source": [
    "# Define some variables\n",
    "x = list(range(10))\n",
    "obj_ref_x = ray.put(x)\n",
    "y = 25"
   ]
  },
  {
   "cell_type": "markdown",
   "metadata": {},
   "source": [
    "### Pass-by-value\n",
    "\n",
    "Send the object to a task as a top-level argument.\n",
    "The object will be *de-referenced* automatically, so the task only sees its value."
   ]
  },
  {
   "cell_type": "code",
   "execution_count": 12,
   "metadata": {},
   "outputs": [
    {
     "data": {
      "text/plain": [
       "ObjectRef(298e3e66d66deed9ffffffffffffffffffffffff0100000001000000)"
      ]
     },
     "execution_count": 12,
     "metadata": {},
     "output_type": "execute_result"
    }
   ],
   "source": [
    "# send y as value argument\n",
    "echo.remote(y)"
   ]
  },
  {
   "cell_type": "code",
   "execution_count": 13,
   "metadata": {},
   "outputs": [
    {
     "data": {
      "text/plain": [
       "ObjectRef(664a780010703836ffffffffffffffffffffffff0100000001000000)"
      ]
     },
     "execution_count": 13,
     "metadata": {},
     "output_type": "execute_result"
    }
   ],
   "source": [
    "# send a an object reference\n",
    "# note that the echo function deferences it\n",
    "echo.remote(obj_ref_x)"
   ]
  },
  {
   "cell_type": "markdown",
   "metadata": {},
   "source": [
    "### Pass-by-reference\n",
    "\n",
    "When a parameter is passed inside a Python list or as any other data structure,\n",
    "the *object ref is preserved*, meaning it's not *de-referenced*. The object data is not transferred to the worker when it is passed by reference, until `ray.get()` is called on the reference.\n",
    "\n",
    "You can pass by reference in two ways:\n",
    " 1. as a dictionary `.remote({\"obj\": obj_ref_x})`\n",
    " 2. as list of objRefs `.remote([obj_ref_x])`"
   ]
  },
  {
   "cell_type": "code",
   "execution_count": 14,
   "metadata": {},
   "outputs": [
    {
     "data": {
      "text/plain": [
       "ObjectRef(5b39a414803e3f8effffffffffffffffffffffff0100000001000000)"
      ]
     },
     "execution_count": 14,
     "metadata": {},
     "output_type": "execute_result"
    }
   ],
   "source": [
    "x = list(range(20))\n",
    "obj_ref_x = ray.put(x)\n",
    "# Echo will not automaticall de-reference it\n",
    "echo.remote({\"obj\": obj_ref_x})"
   ]
  },
  {
   "cell_type": "code",
   "execution_count": 15,
   "metadata": {},
   "outputs": [
    {
     "name": "stdout",
     "output_type": "stream",
     "text": [
      "\u001b[2m\u001b[36m(echo pid=21111)\u001b[0m current value of argument x: 25\n"
     ]
    },
    {
     "data": {
      "text/plain": [
       "ObjectRef(66736a23c9cfb453ffffffffffffffffffffffff0100000001000000)"
      ]
     },
     "execution_count": 15,
     "metadata": {},
     "output_type": "execute_result"
    },
    {
     "name": "stdout",
     "output_type": "stream",
     "text": [
      "\u001b[2m\u001b[36m(echo pid=21111)\u001b[0m current value of argument x: [0, 1, 2, 3, 4, 5, 6, 7, 8, 9]\n",
      "\u001b[2m\u001b[36m(echo pid=21111)\u001b[0m current value of argument x: {'obj': ObjectRef(00ffffffffffffffffffffffffffffffffffffff0100000066000000)}\n",
      "\u001b[2m\u001b[36m(echo pid=21111)\u001b[0m current value of argument x: [ObjectRef(00ffffffffffffffffffffffffffffffffffffff0100000066000000)]\n"
     ]
    }
   ],
   "source": [
    "echo.remote([obj_ref_x])"
   ]
  },
  {
   "cell_type": "markdown",
   "metadata": {},
   "source": [
    "## What about long running tasks?\n",
    "\n",
    "Sometimes, you may have tasks that are long running, past their expected times due to some problem, maybe blocked on accessing a variable in the object store. How do you exit or terminate it? Use a timeout!\n",
    "\n",
    "Now let's set a timeout to return early from an attempted access of a remote object that is blocking for too long..."
   ]
  },
  {
   "cell_type": "code",
   "execution_count": 16,
   "metadata": {},
   "outputs": [],
   "source": [
    "import time\n",
    "\n",
    "@ray.remote\n",
    "def long_running_function ():\n",
    "    time.sleep(10)\n",
    "    return 42"
   ]
  },
  {
   "cell_type": "markdown",
   "metadata": {},
   "source": [
    "You can control how long you want to wait for the task to finish"
   ]
  },
  {
   "cell_type": "code",
   "execution_count": 17,
   "metadata": {},
   "outputs": [
    {
     "name": "stdout",
     "output_type": "stream",
     "text": [
      "`get` timed out\n",
      "CPU times: user 36.3 ms, sys: 21.7 ms, total: 58 ms\n",
      "Wall time: 6.03 s\n"
     ]
    }
   ],
   "source": [
    "%%time\n",
    "\n",
    "from ray.exceptions import GetTimeoutError\n",
    "\n",
    "obj_ref = long_running_function.remote()\n",
    "\n",
    "try:\n",
    "    ray.get(obj_ref, timeout=6)\n",
    "except GetTimeoutError:\n",
    "    print(\"`get` timed out\")"
   ]
  },
  {
   "cell_type": "markdown",
   "metadata": {},
   "source": [
    "### Example 2:  How to use Tasks and object store for distributed batch inference \n",
    "\n",
    "Batch inference is a common distributed application workload in machine learning. It's a process of using a trained model to generate predictions for a collection of observations. \n",
    "Primarily, it has the following elements:\n",
    "\n",
    "**Input dataset**: This is a large collection of observations to generate predictions for. The data is usually stored in an external storage system like S3, HDFS or database, across\n",
    "many files.\n",
    "\n",
    "**ML model**: This is a trained ML model that is usually also stored in an external storage system or in a model store.\n",
    "\n",
    "**Predictions**: These are the outputs when applying the ML model on observations. Normally, predictions are usually written back to the storage system.\n",
    "\n",
    "For purpose of this exercise, we make the following provisions:\n",
    " * create a dummy model that returns some fake prediction\n",
    " * use real-world NYC taxi data to provide large data set for batch inference\n",
    " * return the predictions instead of writing it back to the disk\n",
    "\n",
    "As an example of scaling pattern called **Different Data Same Function** (DDSF), also known as **Distributed Data Parallel** (DDP), our function in this diagram is the \n",
    "pretrained **model**, and the data is split and disributed as **shards**.\n",
    "\n",
    "|<img src=\"images/batch-inference.png\" width=\"65%\" height=\"35%\">|\n",
    "|:--|\n",
    "|Distributed batch inference: Different Data Same Function (DDSF.|\n",
    "\n"
   ]
  },
  {
   "cell_type": "markdown",
   "metadata": {},
   "source": [
    "Define a Python closure to load our pretrained model. This model is just a fake model that predicts whether a \n",
    "tip is warranted contigent on the number of fares (2 or more) on collective rides.\n",
    "\n",
    "**Note**: This prediction is fake. The real model will invoke model's `model.predict(input_data)`. Yet\n",
    "it suffices for this example."
   ]
  },
  {
   "cell_type": "code",
   "execution_count": 18,
   "metadata": {},
   "outputs": [],
   "source": [
    "def load_trained_model():\n",
    "    # A fake model that predicts whether tips were given based on number of passengers in the taxi cab.\n",
    "    def model(batch: pd.DataFrame) -> pd.DataFrame:\n",
    "        \n",
    "        # Some model weights and payload so Ray copies the model in the \n",
    "        # shared plasma store to tasks scheduled across nodes.\n",
    "        model.payload = np.arange(100, 100_000_000, dtype=float)\n",
    "        model.cls = \"regression\"\n",
    "        \n",
    "        # give a tip if 2 or more passengers\n",
    "        predict = batch[\"passenger_count\"] >= 2 \n",
    "        return pd.DataFrame({\"score\": predict})\n",
    "    \n",
    "    return model    "
   ]
  },
  {
   "cell_type": "markdown",
   "metadata": {},
   "source": [
    "Let's define a Ray task that will handle each shard of the NYC taxt data"
   ]
  },
  {
   "cell_type": "code",
   "execution_count": 19,
   "metadata": {},
   "outputs": [],
   "source": [
    "@ray.remote\n",
    "def make_model_batch_predictions(model, shard_path, verbose=False):\n",
    "    if verbose:\n",
    "        print(f\"Batch inference for shard file: {shard_path}\")\n",
    "    df = pq.read_table(shard_path).to_pandas()\n",
    "    result = model(df)\n",
    "\n",
    "    # Return our prediction data frame\n",
    "    return result"
   ]
  },
  {
   "cell_type": "markdown",
   "metadata": {},
   "source": [
    "Get the 12 files consisting of NYC data per month"
   ]
  },
  {
   "cell_type": "code",
   "execution_count": 20,
   "metadata": {},
   "outputs": [],
   "source": [
    "# 12 files, one for each remote task.\n",
    "input_files = [\n",
    "    f\"s3://anonymous@air-example-data/ursa-labs-taxi-data/downsampled_2009_full_year_data.parquet\"\n",
    "    f\"/fe41422b01c04169af2a65a83b753e0f_{i:06d}.parquet\" for i in range(12)]"
   ]
  },
  {
   "cell_type": "markdown",
   "metadata": {},
   "source": [
    "### Insert model into the object store\n",
    "\n",
    "`ray.put()` the model just once to local object store, and then pass the reference to the remote tasks.\n",
    "\n",
    "It would be highly inefficient if you are passing the model itself like `make_model_prediction.remote(model, file)`,\n",
    "which in order to pass the model to remote node will implicitly do a `ray.put(model)` for each task, potentially overwhelming\n",
    "the local object store and causing out-of-memory or out-of-disk error.\n",
    "\n",
    "Instead, we will just pass a reference, and the node where the task is scheduled deference it.\n",
    "\n",
    "This is [Ray core API](https://docs.ray.io/en/latest/ray-core/package-ref.html) for putting objects into the Ray Plasma store. "
   ]
  },
  {
   "cell_type": "code",
   "execution_count": 21,
   "metadata": {},
   "outputs": [
    {
     "data": {
      "text/plain": [
       "ObjectRef(00ffffffffffffffffffffffffffffffffffffff0100000067000000)"
      ]
     },
     "execution_count": 21,
     "metadata": {},
     "output_type": "execute_result"
    }
   ],
   "source": [
    "# Get the model \n",
    "model = load_trained_model()\n",
    "\n",
    "# Put the model object into the shared object store.\n",
    "model_ref = ray.put(model)\n",
    "model_ref"
   ]
  },
  {
   "cell_type": "code",
   "execution_count": 22,
   "metadata": {},
   "outputs": [],
   "source": [
    "# List for holding all object references returned from the model's predictions\n",
    "result_refs = []\n",
    "\n",
    "# Launch all prediction tasks. For each file create a Ray remote task to do a batch inference\n",
    "for file in input_files:\n",
    "    \n",
    "    # Launch a prediction task by passing model reference and shard file to it.\n",
    "    result_refs.append(make_model_batch_predictions.remote(model_ref, file))"
   ]
  },
  {
   "cell_type": "markdown",
   "metadata": {},
   "source": [
    "Fetch the results"
   ]
  },
  {
   "cell_type": "code",
   "execution_count": 23,
   "metadata": {},
   "outputs": [],
   "source": [
    "results = ray.get(result_refs)"
   ]
  },
  {
   "cell_type": "code",
   "execution_count": 24,
   "metadata": {},
   "outputs": [
    {
     "name": "stdout",
     "output_type": "stream",
     "text": [
      "Predictions dataframe size: 141062 | Total score for tips: 46360\n",
      "Predictions dataframe size: 133932 | Total score for tips: 42175\n",
      "Predictions dataframe size: 144014 | Total score for tips: 45175\n",
      "Predictions dataframe size: 143087 | Total score for tips: 45510\n",
      "Predictions dataframe size: 148108 | Total score for tips: 47713\n",
      "Predictions dataframe size: 141981 | Total score for tips: 45188\n",
      "Predictions dataframe size: 136394 | Total score for tips: 43234\n",
      "Predictions dataframe size: 136999 | Total score for tips: 45142\n",
      "Predictions dataframe size: 139985 | Total score for tips: 44138\n",
      "Predictions dataframe size: 156198 | Total score for tips: 49909\n",
      "Predictions dataframe size: 142893 | Total score for tips: 46112\n",
      "Predictions dataframe size: 145976 | Total score for tips: 48036\n"
     ]
    }
   ],
   "source": [
    "# Let's check predictions and output size.\n",
    "for r in results:\n",
    "    print(f\"Predictions dataframe size: {len(r)} | Total score for tips: {r['score'].sum()}\")"
   ]
  },
  {
   "cell_type": "code",
   "execution_count": 25,
   "metadata": {},
   "outputs": [],
   "source": [
    "ray.shutdown()"
   ]
  },
  {
   "cell_type": "markdown",
   "metadata": {},
   "source": [
    "### Homework\n",
    "\n",
    "1. Read references to get advanced deep dives and more about Ray objects\n",
    "2. [Serialization](https://docs.ray.io/en/latest/ray-core/objects/serialization.html)\n",
    "3. [Memory Management](https://docs.ray.io/en/latest/ray-core/objects/memory-management.html)\n",
    "4. [Object Spilling](https://docs.ray.io/en/latest/ray-core/objects/object-spilling.html)\n",
    "5. [Fault Tolerance](https://docs.ray.io/en/latest/ray-core/objects/fault-tolerance.html)"
   ]
  },
  {
   "cell_type": "markdown",
   "metadata": {},
   "source": [
    "### Recap\n",
    "\n",
    "We covered how to \n",
    " * use Ray `tasks`, `ray.get()` and `ray.put`, \n",
    " * understand distributed remote object store\n",
    " * how you to access objects from object store for transformation\n",
    "\n",
    "Let's move on to the [Ray Actors lesson](ex_03_remote_classes.ipynb)."
   ]
  },
  {
   "cell_type": "markdown",
   "metadata": {},
   "source": [
    "### References\n",
    "\n",
    " * [Ray Architecture Reference](https://docs.google.com/document/d/1tBw9A4j62ruI5omIJbMxly-la5w4q_TjyJgJL_jN2fI/preview)\n",
    " * [Ray Internals: A peek at ray,get](https://www.youtube.com/watch?v=a1kNnQu6vGw)\n",
    " * [Ray Internals: Object management with Ownership Model](https://www.youtube.com/watch?v=1oSBxTayfJc)\n",
    " * [Deep Dive into Ray scheduling Policies](https://www.youtube.com/watch?v=EJUYKXWGzfI)\n",
    " * [Redis in Ray: Past and future](https://www.anyscale.com/blog/redis-in-ray-past-and-future)\n",
    " * [StackOverFlow: How Ray Shares Data](https://stackoverflow.com/questions/58082023/how-exactly-does-ray-share-data-to-workers/71500979#71500979)\n",
    " "
   ]
  },
  {
   "cell_type": "markdown",
   "metadata": {},
   "source": [
    "📖 [Back to Table of Contents](./ex_00_tutorial_overview.ipynb)<br>\n",
    "➡ [Next notebook](./ex_03_remote_classes.ipynb) <br>\n",
    "⬅️ [Previous notebook](./ex_01_remote_funcs.ipynb) <br>"
   ]
  }
 ],
 "metadata": {
  "kernelspec": {
   "display_name": "Python 3 (ipykernel)",
   "language": "python",
   "name": "python3"
  },
  "language_info": {
   "codemirror_mode": {
    "name": "ipython",
    "version": 3
   },
   "file_extension": ".py",
   "mimetype": "text/x-python",
   "name": "python",
   "nbconvert_exporter": "python",
   "pygments_lexer": "ipython3",
   "version": "3.8.13"
  }
 },
 "nbformat": 4,
 "nbformat_minor": 4
}
