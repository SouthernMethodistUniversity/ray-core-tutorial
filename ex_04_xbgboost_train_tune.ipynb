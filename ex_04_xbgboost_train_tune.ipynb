{
 "cells": [
  {
   "cell_type": "markdown",
   "id": "f2f8ad5d-4621-4fa2-887b-9696008d9b42",
   "metadata": {},
   "source": [
    "This demo introduces **Ray tune's** key concepts using a trivial examples. This example is derived from [Ray Tune basic example](https://docs.ray.io/en/latest/tune/examples/tune_basic_example.html). Basically, there are three basic steps or Ray Tune pattern for you as a newcomer to get started with using Ray Tune.\n",
    "\n",
    " 1. Setup your config space and define your trainable and objective function\n",
    " 2. Use tune to execute your training, supplying the appropriate arguments including: search space, [search algorithms](https://docs.ray.io/en/latest/tune/api_docs/suggestion.html#blendsearch) or [trial schedulers](https://docs.ray.io/en/latest/tune/api_docs/schedulers.html#tune-schedulers)\n",
    " 3. Examine analyse the results\n",
    " \n",
    " ![](https://docs.ray.io/en/latest/_images/tune-workflow.png)\n",
    "\n",
    "\n",
    "See also the [Hyperparameter Tuning References](References-Hyperparameter-Tuning.ipynb) notebook and the [Tune documentation](http://tune.io), in particular, the [API reference](https://docs.ray.io/en/latest/tune/api_docs/overview.html). \n"
   ]
  },
  {
   "cell_type": "code",
   "execution_count": 1,
   "id": "f2b8885d-b698-419f-b43f-d91a073052c8",
   "metadata": {},
   "outputs": [],
   "source": [
    "from xgboost_ray import RayDMatrix, RayParams, train\n",
    "from sklearn.datasets import load_breast_cancer\n",
    "\n",
    "from ray import tune"
   ]
  },
  {
   "cell_type": "code",
   "execution_count": 2,
   "id": "4b632024-1e88-4972-8687-46d58a5910f6",
   "metadata": {},
   "outputs": [],
   "source": [
    "NUM_OF_ACTORS = 4           # degree of parallel trials; each actor will have a separate trial\n",
    "NUM_OF_CPUS_PER_ACTOR = 1   # number of CPUs per actor"
   ]
  },
  {
   "cell_type": "code",
   "execution_count": 3,
   "id": "eaa72d37-e6d3-4cae-ba41-4556d6dc15a1",
   "metadata": {},
   "outputs": [],
   "source": [
    "ray_params = RayParams(num_actors=NUM_OF_ACTORS, cpus_per_actor=NUM_OF_CPUS_PER_ACTOR)"
   ]
  },
  {
   "cell_type": "markdown",
   "id": "6e7515b4-c4eb-4068-a908-f53769ef35ab",
   "metadata": {},
   "source": [
    "## Step 1: Define our training function to use with Ray Tune `ray.tune(...)`"
   ]
  },
  {
   "cell_type": "code",
   "execution_count": 4,
   "id": "72ab5961-daac-4986-a9d3-5c224990c51a",
   "metadata": {},
   "outputs": [],
   "source": [
    "def train_model(config:dict):\n",
    "    # create the dataset\n",
    "    train_X, train_y = load_breast_cancer(return_X_y=True)\n",
    "    # Convert to RayDMatrix data structure\n",
    "    train_set = RayDMatrix(train_X, train_y)\n",
    "\n",
    "    # Empty dictionary for the evaluation results reported back\n",
    "    # to tune\n",
    "    evals_result = {}\n",
    "\n",
    "    # Train the model with XGBoost train\n",
    "    bst = train(\n",
    "        params=config,                       # our hyperparameter search space\n",
    "        dtrain=train_set,                    # our RayDMatrix data structure\n",
    "        evals_result=evals_result,           # place holder for results\n",
    "        evals=[(train_set, \"train\")],\n",
    "        verbose_eval=False,\n",
    "        ray_params=ray_params)                # distributed parameters configs for Ray Tune\n",
    "\n",
    "    bst.save_model(\"model.xgb\")"
   ]
  },
  {
   "cell_type": "markdown",
   "id": "73f68cc5-6999-4bef-99e8-f68c6a5052c5",
   "metadata": {},
   "source": [
    "## Step 2: Define our hyperparameter search space"
   ]
  },
  {
   "cell_type": "code",
   "execution_count": 6,
   "id": "9a35e0c3-f0e5-4efd-a7a8-ffdf28dc5216",
   "metadata": {},
   "outputs": [],
   "source": [
    " # Specify the hyperparameter search space\n",
    "config = {\n",
    "    \"tree_method\": \"approx\",\n",
    "    \"objective\": \"binary:logistic\",\n",
    "    \"eval_metric\": [\"logloss\", \"error\"],\n",
    "    \"eta\": tune.loguniform(1e-4, 1e-1),\n",
    "    \"subsample\": tune.uniform(0.5, 1.0),\n",
    "    \"max_depth\": tune.randint(1, 9)\n",
    "}"
   ]
  },
  {
   "cell_type": "markdown",
   "id": "46ee450f-0eee-4fa1-ad81-f39a3247ef12",
   "metadata": {},
   "source": [
    "## Step 3: Run Ray tune main trainer and examine the results"
   ]
  },
  {
   "cell_type": "code",
   "execution_count": 7,
   "id": "c36a1548-90e7-4699-98d1-7e88cbab154f",
   "metadata": {},
   "outputs": [
    {
     "name": "stderr",
     "output_type": "stream",
     "text": [
      "2022-01-04 14:57:14,805\tINFO services.py:1338 -- View the Ray dashboard at \u001b[1m\u001b[32mhttp://127.0.0.1:8265\u001b[39m\u001b[22m\n",
      "2022-01-04 14:57:16,121\tWARNING function_runner.py:561 -- Function checkpointing is disabled. This may result in unexpected behavior when using checkpointing features or certain schedulers. To enable, set the train function arguments to be `func(config, checkpoint_dir=None)`.\n"
     ]
    },
    {
     "data": {
      "text/html": [
       "== Status ==<br>Current time: 2022-01-04 14:57:16 (running for 00:00:00.17)<br>Memory usage on this node: 16.6/32.0 GiB<br>Using FIFO scheduling algorithm.<br>Resources requested: 0/12 CPUs, 0/0 GPUs, 0.0/10.65 GiB heap, 0.0/5.32 GiB objects<br>Result logdir: /Users/jules/ray_results/train_model_2022-01-04_14-57-16<br>Number of trials: 4/4 (4 PENDING)<br><table>\n",
       "<thead>\n",
       "<tr><th>Trial name             </th><th>status  </th><th>loc  </th><th style=\"text-align: right;\">        eta</th><th style=\"text-align: right;\">  max_depth</th><th style=\"text-align: right;\">  subsample</th></tr>\n",
       "</thead>\n",
       "<tbody>\n",
       "<tr><td>train_model_a973f_00000</td><td>PENDING </td><td>     </td><td style=\"text-align: right;\">0.00122545 </td><td style=\"text-align: right;\">          1</td><td style=\"text-align: right;\">   0.942262</td></tr>\n",
       "<tr><td>train_model_a973f_00001</td><td>PENDING </td><td>     </td><td style=\"text-align: right;\">0.000668487</td><td style=\"text-align: right;\">          7</td><td style=\"text-align: right;\">   0.667592</td></tr>\n",
       "<tr><td>train_model_a973f_00002</td><td>PENDING </td><td>     </td><td style=\"text-align: right;\">0.00256656 </td><td style=\"text-align: right;\">          8</td><td style=\"text-align: right;\">   0.626182</td></tr>\n",
       "<tr><td>train_model_a973f_00003</td><td>PENDING </td><td>     </td><td style=\"text-align: right;\">0.00070348 </td><td style=\"text-align: right;\">          3</td><td style=\"text-align: right;\">   0.560148</td></tr>\n",
       "</tbody>\n",
       "</table><br><br>"
      ],
      "text/plain": [
       "<IPython.core.display.HTML object>"
      ]
     },
     "metadata": {},
     "output_type": "display_data"
    },
    {
     "name": "stderr",
     "output_type": "stream",
     "text": [
      "\u001b[2m\u001b[36m(ImplicitFunc pid=83544)\u001b[0m 2022-01-04 14:57:18,435\tINFO main.py:976 -- [RayXGBoost] Created 4 new actors (4 total actors). Waiting until actors are ready for training.\n",
      "\u001b[2m\u001b[36m(ImplicitFunc pid=83542)\u001b[0m 2022-01-04 14:57:18,411\tINFO main.py:976 -- [RayXGBoost] Created 4 new actors (4 total actors). Waiting until actors are ready for training.\n",
      "\u001b[2m\u001b[36m(ImplicitFunc pid=83542)\u001b[0m 2022-01-04 14:57:20,393\tINFO main.py:1021 -- [RayXGBoost] Starting XGBoost training.\n",
      "\u001b[2m\u001b[36m(_RemoteRayXGBoostActor pid=83543)\u001b[0m [14:57:20] task [xgboost.ray]:140376179703472 got new rank 3\n",
      "\u001b[2m\u001b[36m(_RemoteRayXGBoostActor pid=83535)\u001b[0m [14:57:20] task [xgboost.ray]:140527845572224 got new rank 2\n",
      "\u001b[2m\u001b[36m(_RemoteRayXGBoostActor pid=83538)\u001b[0m [14:57:20] task [xgboost.ray]:140486506315440 got new rank 0\n",
      "\u001b[2m\u001b[36m(_RemoteRayXGBoostActor pid=83545)\u001b[0m [14:57:20] task [xgboost.ray]:140664214716080 got new rank 1\n",
      "\u001b[2m\u001b[36m(ImplicitFunc pid=83544)\u001b[0m 2022-01-04 14:57:21,009\tINFO main.py:1021 -- [RayXGBoost] Starting XGBoost training.\n",
      "\u001b[2m\u001b[36m(_RemoteRayXGBoostActor pid=83534)\u001b[0m [14:57:21] task [xgboost.ray]:140679649394304 got new rank 1\n",
      "\u001b[2m\u001b[36m(_RemoteRayXGBoostActor pid=83536)\u001b[0m [14:57:21] task [xgboost.ray]:140213507325568 got new rank 0\n",
      "\u001b[2m\u001b[36m(_RemoteRayXGBoostActor pid=83593)\u001b[0m [14:57:21] task [xgboost.ray]:140564620836432 got new rank 3\n",
      "\u001b[2m\u001b[36m(_RemoteRayXGBoostActor pid=83592)\u001b[0m [14:57:21] task [xgboost.ray]:140558045675088 got new rank 2\n"
     ]
    },
    {
     "name": "stdout",
     "output_type": "stream",
     "text": [
      "Result for train_model_a973f_00000:\n",
      "  date: 2022-01-04_14-57-21\n",
      "  done: false\n",
      "  experiment_id: f8f5f33c48f14891b87d55160334efee\n",
      "  hostname: Juless-MacBook-Pro-16-inch-2019\n",
      "  iterations_since_restore: 1\n",
      "  node_ip: 127.0.0.1\n",
      "  pid: 83542\n",
      "  time_since_restore: 3.231962203979492\n",
      "  time_this_iter_s: 3.231962203979492\n",
      "  time_total_s: 3.231962203979492\n",
      "  timestamp: 1641337041\n",
      "  timesteps_since_restore: 0\n",
      "  train-error: 0.079086\n",
      "  train-logloss: 0.692296\n",
      "  training_iteration: 1\n",
      "  trial_id: a973f_00000\n",
      "  \n",
      "Result for train_model_a973f_00000:\n",
      "  date: 2022-01-04_14-57-21\n",
      "  done: true\n",
      "  experiment_id: f8f5f33c48f14891b87d55160334efee\n",
      "  experiment_tag: 0_eta=0.0012254,max_depth=1,subsample=0.94226\n",
      "  hostname: Juless-MacBook-Pro-16-inch-2019\n",
      "  iterations_since_restore: 10\n",
      "  node_ip: 127.0.0.1\n",
      "  pid: 83542\n",
      "  time_since_restore: 3.2896409034729004\n",
      "  time_this_iter_s: 0.004565715789794922\n",
      "  time_total_s: 3.2896409034729004\n",
      "  timestamp: 1641337041\n",
      "  timesteps_since_restore: 0\n",
      "  train-error: 0.079086\n",
      "  train-logloss: 0.684677\n",
      "  training_iteration: 10\n",
      "  trial_id: a973f_00000\n",
      "  \n"
     ]
    },
    {
     "name": "stderr",
     "output_type": "stream",
     "text": [
      "\u001b[2m\u001b[36m(ImplicitFunc pid=83542)\u001b[0m 2022-01-04 14:57:21,696\tINFO main.py:1500 -- [RayXGBoost] Finished XGBoost training on training data with total N=569 in 3.32 seconds (1.30 pure XGBoost training time).\n"
     ]
    },
    {
     "data": {
      "text/html": [
       "== Status ==<br>Current time: 2022-01-04 14:57:23 (running for 00:00:06.97)<br>Memory usage on this node: 16.7/32.0 GiB<br>Using FIFO scheduling algorithm.<br>Resources requested: 10.0/12 CPUs, 0/0 GPUs, 0.0/10.65 GiB heap, 0.0/5.32 GiB objects<br>Current best trial: a973f_00000 with train-error=0.079086 and parameters={'tree_method': 'approx', 'objective': 'binary:logistic', 'eval_metric': ['logloss', 'error'], 'eta': 0.0012254486297942524, 'subsample': 0.9422617548804029, 'max_depth': 1, 'nthread': 1, 'n_jobs': 1}<br>Result logdir: /Users/jules/ray_results/train_model_2022-01-04_14-57-16<br>Number of trials: 4/4 (1 PENDING, 2 RUNNING, 1 TERMINATED)<br><table>\n",
       "<thead>\n",
       "<tr><th>Trial name             </th><th>status    </th><th>loc            </th><th style=\"text-align: right;\">        eta</th><th style=\"text-align: right;\">  max_depth</th><th style=\"text-align: right;\">  subsample</th><th style=\"text-align: right;\">  iter</th><th style=\"text-align: right;\">  total time (s)</th><th style=\"text-align: right;\">  train-logloss</th><th style=\"text-align: right;\">  train-error</th></tr>\n",
       "</thead>\n",
       "<tbody>\n",
       "<tr><td>train_model_a973f_00001</td><td>RUNNING   </td><td>127.0.0.1:83544</td><td style=\"text-align: right;\">0.000668487</td><td style=\"text-align: right;\">          7</td><td style=\"text-align: right;\">   0.667592</td><td style=\"text-align: right;\">      </td><td style=\"text-align: right;\">                </td><td style=\"text-align: right;\">               </td><td style=\"text-align: right;\">             </td></tr>\n",
       "<tr><td>train_model_a973f_00002</td><td>RUNNING   </td><td>127.0.0.1:83615</td><td style=\"text-align: right;\">0.00256656 </td><td style=\"text-align: right;\">          8</td><td style=\"text-align: right;\">   0.626182</td><td style=\"text-align: right;\">      </td><td style=\"text-align: right;\">                </td><td style=\"text-align: right;\">               </td><td style=\"text-align: right;\">             </td></tr>\n",
       "<tr><td>train_model_a973f_00003</td><td>PENDING   </td><td>               </td><td style=\"text-align: right;\">0.00070348 </td><td style=\"text-align: right;\">          3</td><td style=\"text-align: right;\">   0.560148</td><td style=\"text-align: right;\">      </td><td style=\"text-align: right;\">                </td><td style=\"text-align: right;\">               </td><td style=\"text-align: right;\">             </td></tr>\n",
       "<tr><td>train_model_a973f_00000</td><td>TERMINATED</td><td>127.0.0.1:83542</td><td style=\"text-align: right;\">0.00122545 </td><td style=\"text-align: right;\">          1</td><td style=\"text-align: right;\">   0.942262</td><td style=\"text-align: right;\">    10</td><td style=\"text-align: right;\">         3.28964</td><td style=\"text-align: right;\">       0.684677</td><td style=\"text-align: right;\">     0.079086</td></tr>\n",
       "</tbody>\n",
       "</table><br><br>"
      ],
      "text/plain": [
       "<IPython.core.display.HTML object>"
      ]
     },
     "metadata": {},
     "output_type": "display_data"
    },
    {
     "name": "stdout",
     "output_type": "stream",
     "text": [
      "Result for train_model_a973f_00001:\n",
      "  date: 2022-01-04_14-57-22\n",
      "  done: false\n",
      "  experiment_id: 861f8023db0340fa9f5942d13e1aba4b\n",
      "  hostname: Juless-MacBook-Pro-16-inch-2019\n",
      "  iterations_since_restore: 1\n",
      "  node_ip: 127.0.0.1\n",
      "  pid: 83544\n",
      "  time_since_restore: 3.8772809505462646\n",
      "  time_this_iter_s: 3.8772809505462646\n",
      "  time_total_s: 3.8772809505462646\n",
      "  timestamp: 1641337042\n",
      "  timesteps_since_restore: 0\n",
      "  train-error: 0.040422\n",
      "  train-logloss: 0.692564\n",
      "  training_iteration: 1\n",
      "  trial_id: a973f_00001\n",
      "  \n",
      "Result for train_model_a973f_00001:\n",
      "  date: 2022-01-04_14-57-23\n",
      "  done: true\n",
      "  experiment_id: 861f8023db0340fa9f5942d13e1aba4b\n",
      "  experiment_tag: 1_eta=0.00066849,max_depth=7,subsample=0.66759\n",
      "  hostname: Juless-MacBook-Pro-16-inch-2019\n",
      "  iterations_since_restore: 10\n",
      "  node_ip: 127.0.0.1\n",
      "  pid: 83544\n",
      "  time_since_restore: 5.426163911819458\n",
      "  time_this_iter_s: 0.009679079055786133\n",
      "  time_total_s: 5.426163911819458\n",
      "  timestamp: 1641337043\n",
      "  timesteps_since_restore: 0\n",
      "  train-error: 0.022847\n",
      "  train-logloss: 0.687487\n",
      "  training_iteration: 10\n",
      "  trial_id: a973f_00001\n",
      "  \n"
     ]
    },
    {
     "name": "stderr",
     "output_type": "stream",
     "text": [
      "\u001b[2m\u001b[36m(ImplicitFunc pid=83544)\u001b[0m 2022-01-04 14:57:23,809\tINFO main.py:1500 -- [RayXGBoost] Finished XGBoost training on training data with total N=569 in 5.43 seconds (2.79 pure XGBoost training time).\n",
      "\u001b[2m\u001b[36m(ImplicitFunc pid=83615)\u001b[0m 2022-01-04 14:57:23,776\tINFO main.py:976 -- [RayXGBoost] Created 4 new actors (4 total actors). Waiting until actors are ready for training.\n",
      "\u001b[2m\u001b[36m(ImplicitFunc pid=83615)\u001b[0m 2022-01-04 14:57:25,969\tINFO main.py:1021 -- [RayXGBoost] Starting XGBoost training.\n",
      "\u001b[2m\u001b[36m(_RemoteRayXGBoostActor pid=83619)\u001b[0m [14:57:25] task [xgboost.ray]:140619654856272 got new rank 0\n",
      "\u001b[2m\u001b[36m(_RemoteRayXGBoostActor pid=83621)\u001b[0m [14:57:25] task [xgboost.ray]:140275387334224 got new rank 2\n",
      "\u001b[2m\u001b[36m(_RemoteRayXGBoostActor pid=83620)\u001b[0m [14:57:25] task [xgboost.ray]:140729979666000 got new rank 1\n",
      "\u001b[2m\u001b[36m(_RemoteRayXGBoostActor pid=83622)\u001b[0m [14:57:25] task [xgboost.ray]:140472553373264 got new rank 3\n",
      "\u001b[2m\u001b[36m(ImplicitFunc pid=83623)\u001b[0m 2022-01-04 14:57:26,241\tINFO main.py:976 -- [RayXGBoost] Created 4 new actors (4 total actors). Waiting until actors are ready for training.\n"
     ]
    },
    {
     "name": "stdout",
     "output_type": "stream",
     "text": [
      "Result for train_model_a973f_00002:\n",
      "  date: 2022-01-04_14-57-27\n",
      "  done: false\n",
      "  experiment_id: ceb9bc0ebc86423282de1e849818c098\n",
      "  hostname: Juless-MacBook-Pro-16-inch-2019\n",
      "  iterations_since_restore: 1\n",
      "  node_ip: 127.0.0.1\n",
      "  pid: 83615\n",
      "  time_since_restore: 3.6770269870758057\n",
      "  time_this_iter_s: 3.6770269870758057\n",
      "  time_total_s: 3.6770269870758057\n",
      "  timestamp: 1641337047\n",
      "  timesteps_since_restore: 0\n",
      "  train-error: 0.043937\n",
      "  train-logloss: 0.690927\n",
      "  training_iteration: 1\n",
      "  trial_id: a973f_00002\n",
      "  \n"
     ]
    },
    {
     "data": {
      "text/html": [
       "== Status ==<br>Current time: 2022-01-04 14:57:27 (running for 00:00:10.67)<br>Memory usage on this node: 16.9/32.0 GiB<br>Using FIFO scheduling algorithm.<br>Resources requested: 10.0/12 CPUs, 0/0 GPUs, 0.0/10.65 GiB heap, 0.0/5.32 GiB objects<br>Current best trial: a973f_00001 with train-error=0.022847 and parameters={'tree_method': 'approx', 'objective': 'binary:logistic', 'eval_metric': ['logloss', 'error'], 'eta': 0.0006684866042847465, 'subsample': 0.6675916933432418, 'max_depth': 7, 'nthread': 1, 'n_jobs': 1}<br>Result logdir: /Users/jules/ray_results/train_model_2022-01-04_14-57-16<br>Number of trials: 4/4 (2 RUNNING, 2 TERMINATED)<br><table>\n",
       "<thead>\n",
       "<tr><th>Trial name             </th><th>status    </th><th>loc            </th><th style=\"text-align: right;\">        eta</th><th style=\"text-align: right;\">  max_depth</th><th style=\"text-align: right;\">  subsample</th><th style=\"text-align: right;\">  iter</th><th style=\"text-align: right;\">  total time (s)</th><th style=\"text-align: right;\">  train-logloss</th><th style=\"text-align: right;\">  train-error</th></tr>\n",
       "</thead>\n",
       "<tbody>\n",
       "<tr><td>train_model_a973f_00002</td><td>RUNNING   </td><td>127.0.0.1:83615</td><td style=\"text-align: right;\">0.00256656 </td><td style=\"text-align: right;\">          8</td><td style=\"text-align: right;\">   0.626182</td><td style=\"text-align: right;\">     1</td><td style=\"text-align: right;\">         3.67703</td><td style=\"text-align: right;\">       0.690927</td><td style=\"text-align: right;\">     0.043937</td></tr>\n",
       "<tr><td>train_model_a973f_00003</td><td>RUNNING   </td><td>127.0.0.1:83623</td><td style=\"text-align: right;\">0.00070348 </td><td style=\"text-align: right;\">          3</td><td style=\"text-align: right;\">   0.560148</td><td style=\"text-align: right;\">      </td><td style=\"text-align: right;\">                </td><td style=\"text-align: right;\">               </td><td style=\"text-align: right;\">             </td></tr>\n",
       "<tr><td>train_model_a973f_00000</td><td>TERMINATED</td><td>127.0.0.1:83542</td><td style=\"text-align: right;\">0.00122545 </td><td style=\"text-align: right;\">          1</td><td style=\"text-align: right;\">   0.942262</td><td style=\"text-align: right;\">    10</td><td style=\"text-align: right;\">         3.28964</td><td style=\"text-align: right;\">       0.684677</td><td style=\"text-align: right;\">     0.079086</td></tr>\n",
       "<tr><td>train_model_a973f_00001</td><td>TERMINATED</td><td>127.0.0.1:83544</td><td style=\"text-align: right;\">0.000668487</td><td style=\"text-align: right;\">          7</td><td style=\"text-align: right;\">   0.667592</td><td style=\"text-align: right;\">    10</td><td style=\"text-align: right;\">         5.42616</td><td style=\"text-align: right;\">       0.687487</td><td style=\"text-align: right;\">     0.022847</td></tr>\n",
       "</tbody>\n",
       "</table><br><br>"
      ],
      "text/plain": [
       "<IPython.core.display.HTML object>"
      ]
     },
     "metadata": {},
     "output_type": "display_data"
    },
    {
     "name": "stdout",
     "output_type": "stream",
     "text": [
      "Result for train_model_a973f_00002:\n",
      "  date: 2022-01-04_14-57-27\n",
      "  done: true\n",
      "  experiment_id: ceb9bc0ebc86423282de1e849818c098\n",
      "  experiment_tag: 2_eta=0.0025666,max_depth=8,subsample=0.62618\n",
      "  hostname: Juless-MacBook-Pro-16-inch-2019\n",
      "  iterations_since_restore: 10\n",
      "  node_ip: 127.0.0.1\n",
      "  pid: 83615\n",
      "  time_since_restore: 3.7706780433654785\n",
      "  time_this_iter_s: 0.006224870681762695\n",
      "  time_total_s: 3.7706780433654785\n",
      "  timestamp: 1641337047\n",
      "  timesteps_since_restore: 0\n",
      "  train-error: 0.024605\n",
      "  train-logloss: 0.671759\n",
      "  training_iteration: 10\n",
      "  trial_id: a973f_00002\n",
      "  \n"
     ]
    },
    {
     "name": "stderr",
     "output_type": "stream",
     "text": [
      "\u001b[2m\u001b[36m(ImplicitFunc pid=83615)\u001b[0m 2022-01-04 14:57:27,504\tINFO main.py:1500 -- [RayXGBoost] Finished XGBoost training on training data with total N=569 in 3.77 seconds (1.53 pure XGBoost training time).\n",
      "\u001b[2m\u001b[36m(ImplicitFunc pid=83623)\u001b[0m 2022-01-04 14:57:28,396\tINFO main.py:1021 -- [RayXGBoost] Starting XGBoost training.\n",
      "\u001b[2m\u001b[36m(_RemoteRayXGBoostActor pid=83637)\u001b[0m [14:57:28] task [xgboost.ray]:140433091624528 got new rank 3\n",
      "\u001b[2m\u001b[36m(_RemoteRayXGBoostActor pid=83636)\u001b[0m [14:57:28] task [xgboost.ray]:140242234867280 got new rank 2\n",
      "\u001b[2m\u001b[36m(_RemoteRayXGBoostActor pid=83634)\u001b[0m [14:57:28] task [xgboost.ray]:140513892404816 got new rank 0\n",
      "\u001b[2m\u001b[36m(_RemoteRayXGBoostActor pid=83635)\u001b[0m [14:57:28] task [xgboost.ray]:140434031050320 got new rank 1\n"
     ]
    },
    {
     "name": "stdout",
     "output_type": "stream",
     "text": [
      "Result for train_model_a973f_00003:\n",
      "  date: 2022-01-04_14-57-29\n",
      "  done: false\n",
      "  experiment_id: 7e1779e7e647487ca5dfcf287f650dfd\n",
      "  hostname: Juless-MacBook-Pro-16-inch-2019\n",
      "  iterations_since_restore: 1\n",
      "  node_ip: 127.0.0.1\n",
      "  pid: 83623\n",
      "  time_since_restore: 3.4027671813964844\n",
      "  time_this_iter_s: 3.4027671813964844\n",
      "  time_total_s: 3.4027671813964844\n",
      "  timestamp: 1641337049\n",
      "  timesteps_since_restore: 0\n",
      "  train-error: 0.047452\n",
      "  train-logloss: 0.692544\n",
      "  training_iteration: 1\n",
      "  trial_id: a973f_00003\n",
      "  \n",
      "Result for train_model_a973f_00003:\n",
      "  date: 2022-01-04_14-57-29\n",
      "  done: true\n",
      "  experiment_id: 7e1779e7e647487ca5dfcf287f650dfd\n",
      "  experiment_tag: 3_eta=0.00070348,max_depth=3,subsample=0.56015\n",
      "  hostname: Juless-MacBook-Pro-16-inch-2019\n",
      "  iterations_since_restore: 10\n",
      "  node_ip: 127.0.0.1\n",
      "  pid: 83623\n",
      "  time_since_restore: 3.447298049926758\n",
      "  time_this_iter_s: 0.004242897033691406\n",
      "  time_total_s: 3.447298049926758\n",
      "  timestamp: 1641337049\n",
      "  timesteps_since_restore: 0\n",
      "  train-error: 0.033392\n",
      "  train-logloss: 0.687265\n",
      "  training_iteration: 10\n",
      "  trial_id: a973f_00003\n",
      "  \n"
     ]
    },
    {
     "data": {
      "text/html": [
       "== Status ==<br>Current time: 2022-01-04 14:57:29 (running for 00:00:12.91)<br>Memory usage on this node: 16.2/32.0 GiB<br>Using FIFO scheduling algorithm.<br>Resources requested: 0/12 CPUs, 0/0 GPUs, 0.0/10.65 GiB heap, 0.0/5.32 GiB objects<br>Current best trial: a973f_00001 with train-error=0.022847 and parameters={'tree_method': 'approx', 'objective': 'binary:logistic', 'eval_metric': ['logloss', 'error'], 'eta': 0.0006684866042847465, 'subsample': 0.6675916933432418, 'max_depth': 7, 'nthread': 1, 'n_jobs': 1}<br>Result logdir: /Users/jules/ray_results/train_model_2022-01-04_14-57-16<br>Number of trials: 4/4 (4 TERMINATED)<br><table>\n",
       "<thead>\n",
       "<tr><th>Trial name             </th><th>status    </th><th>loc            </th><th style=\"text-align: right;\">        eta</th><th style=\"text-align: right;\">  max_depth</th><th style=\"text-align: right;\">  subsample</th><th style=\"text-align: right;\">  iter</th><th style=\"text-align: right;\">  total time (s)</th><th style=\"text-align: right;\">  train-logloss</th><th style=\"text-align: right;\">  train-error</th></tr>\n",
       "</thead>\n",
       "<tbody>\n",
       "<tr><td>train_model_a973f_00000</td><td>TERMINATED</td><td>127.0.0.1:83542</td><td style=\"text-align: right;\">0.00122545 </td><td style=\"text-align: right;\">          1</td><td style=\"text-align: right;\">   0.942262</td><td style=\"text-align: right;\">    10</td><td style=\"text-align: right;\">         3.28964</td><td style=\"text-align: right;\">       0.684677</td><td style=\"text-align: right;\">     0.079086</td></tr>\n",
       "<tr><td>train_model_a973f_00001</td><td>TERMINATED</td><td>127.0.0.1:83544</td><td style=\"text-align: right;\">0.000668487</td><td style=\"text-align: right;\">          7</td><td style=\"text-align: right;\">   0.667592</td><td style=\"text-align: right;\">    10</td><td style=\"text-align: right;\">         5.42616</td><td style=\"text-align: right;\">       0.687487</td><td style=\"text-align: right;\">     0.022847</td></tr>\n",
       "<tr><td>train_model_a973f_00002</td><td>TERMINATED</td><td>127.0.0.1:83615</td><td style=\"text-align: right;\">0.00256656 </td><td style=\"text-align: right;\">          8</td><td style=\"text-align: right;\">   0.626182</td><td style=\"text-align: right;\">    10</td><td style=\"text-align: right;\">         3.77068</td><td style=\"text-align: right;\">       0.671759</td><td style=\"text-align: right;\">     0.024605</td></tr>\n",
       "<tr><td>train_model_a973f_00003</td><td>TERMINATED</td><td>127.0.0.1:83623</td><td style=\"text-align: right;\">0.00070348 </td><td style=\"text-align: right;\">          3</td><td style=\"text-align: right;\">   0.560148</td><td style=\"text-align: right;\">    10</td><td style=\"text-align: right;\">         3.4473 </td><td style=\"text-align: right;\">       0.687265</td><td style=\"text-align: right;\">     0.033392</td></tr>\n",
       "</tbody>\n",
       "</table><br><br>"
      ],
      "text/plain": [
       "<IPython.core.display.HTML object>"
      ]
     },
     "metadata": {},
     "output_type": "display_data"
    },
    {
     "name": "stderr",
     "output_type": "stream",
     "text": [
      "\u001b[2m\u001b[36m(ImplicitFunc pid=83623)\u001b[0m 2022-01-04 14:57:29,649\tINFO main.py:1500 -- [RayXGBoost] Finished XGBoost training on training data with total N=569 in 3.45 seconds (1.25 pure XGBoost training time).\n",
      "2022-01-04 14:57:29,782\tINFO tune.py:626 -- Total run time: 13.66 seconds (12.91 seconds for the tuning loop).\n"
     ]
    }
   ],
   "source": [
    "# Run tune\n",
    "analysis = tune.run(\n",
    "    train_model,\n",
    "    config=config,\n",
    "    metric=\"train-error\",\n",
    "    mode=\"min\",\n",
    "    num_samples=4,\n",
    "    \n",
    "    resources_per_trial=ray_params.get_tune_resources()\n",
    ")"
   ]
  },
  {
   "cell_type": "code",
   "execution_count": 8,
   "id": "10ab3eaa-9002-4950-a29e-9790298de949",
   "metadata": {},
   "outputs": [
    {
     "name": "stdout",
     "output_type": "stream",
     "text": [
      "Best hyperparameters {'tree_method': 'approx', 'objective': 'binary:logistic', 'eval_metric': ['logloss', 'error'], 'eta': 0.0006684866042847465, 'subsample': 0.6675916933432418, 'max_depth': 7}\n"
     ]
    }
   ],
   "source": [
    "print(\"Best hyperparameters\", analysis.best_config)"
   ]
  },
  {
   "cell_type": "code",
   "execution_count": 9,
   "id": "405aff3f-88c9-4c07-b9b1-89dfa6f7a580",
   "metadata": {},
   "outputs": [
    {
     "name": "stderr",
     "output_type": "stream",
     "text": [
      "/usr/local/anaconda3/lib/python3.8/site-packages/ray/tune/analysis/experiment_analysis.py:262: UserWarning: Dataframes will use '/' instead of '.' to delimit nested result keys in future versions of Ray. For forward compatibility, set the environment variable TUNE_RESULT_DELIM='/'\n",
      "  warnings.warn(\n"
     ]
    },
    {
     "data": {
      "text/html": [
       "<div>\n",
       "<style scoped>\n",
       "    .dataframe tbody tr th:only-of-type {\n",
       "        vertical-align: middle;\n",
       "    }\n",
       "\n",
       "    .dataframe tbody tr th {\n",
       "        vertical-align: top;\n",
       "    }\n",
       "\n",
       "    .dataframe thead th {\n",
       "        text-align: right;\n",
       "    }\n",
       "</style>\n",
       "<table border=\"1\" class=\"dataframe\">\n",
       "  <thead>\n",
       "    <tr style=\"text-align: right;\">\n",
       "      <th></th>\n",
       "      <th>train-logloss</th>\n",
       "      <th>train-error</th>\n",
       "      <th>time_this_iter_s</th>\n",
       "      <th>done</th>\n",
       "      <th>timesteps_total</th>\n",
       "      <th>episodes_total</th>\n",
       "      <th>training_iteration</th>\n",
       "      <th>experiment_id</th>\n",
       "      <th>date</th>\n",
       "      <th>timestamp</th>\n",
       "      <th>...</th>\n",
       "      <th>iterations_since_restore</th>\n",
       "      <th>experiment_tag</th>\n",
       "      <th>config.tree_method</th>\n",
       "      <th>config.objective</th>\n",
       "      <th>config.eval_metric</th>\n",
       "      <th>config.eta</th>\n",
       "      <th>config.subsample</th>\n",
       "      <th>config.max_depth</th>\n",
       "      <th>config.nthread</th>\n",
       "      <th>config.n_jobs</th>\n",
       "    </tr>\n",
       "    <tr>\n",
       "      <th>trial_id</th>\n",
       "      <th></th>\n",
       "      <th></th>\n",
       "      <th></th>\n",
       "      <th></th>\n",
       "      <th></th>\n",
       "      <th></th>\n",
       "      <th></th>\n",
       "      <th></th>\n",
       "      <th></th>\n",
       "      <th></th>\n",
       "      <th></th>\n",
       "      <th></th>\n",
       "      <th></th>\n",
       "      <th></th>\n",
       "      <th></th>\n",
       "      <th></th>\n",
       "      <th></th>\n",
       "      <th></th>\n",
       "      <th></th>\n",
       "      <th></th>\n",
       "      <th></th>\n",
       "    </tr>\n",
       "  </thead>\n",
       "  <tbody>\n",
       "    <tr>\n",
       "      <th>a973f_00000</th>\n",
       "      <td>0.684677</td>\n",
       "      <td>0.079086</td>\n",
       "      <td>0.004566</td>\n",
       "      <td>True</td>\n",
       "      <td>None</td>\n",
       "      <td>None</td>\n",
       "      <td>10</td>\n",
       "      <td>f8f5f33c48f14891b87d55160334efee</td>\n",
       "      <td>2022-01-04_14-57-21</td>\n",
       "      <td>1641337041</td>\n",
       "      <td>...</td>\n",
       "      <td>10</td>\n",
       "      <td>0_eta=0.0012254,max_depth=1,subsample=0.94226</td>\n",
       "      <td>approx</td>\n",
       "      <td>binary:logistic</td>\n",
       "      <td>[logloss, error]</td>\n",
       "      <td>0.001225</td>\n",
       "      <td>0.942262</td>\n",
       "      <td>1</td>\n",
       "      <td>1</td>\n",
       "      <td>1</td>\n",
       "    </tr>\n",
       "    <tr>\n",
       "      <th>a973f_00001</th>\n",
       "      <td>0.687487</td>\n",
       "      <td>0.022847</td>\n",
       "      <td>0.009679</td>\n",
       "      <td>True</td>\n",
       "      <td>None</td>\n",
       "      <td>None</td>\n",
       "      <td>10</td>\n",
       "      <td>861f8023db0340fa9f5942d13e1aba4b</td>\n",
       "      <td>2022-01-04_14-57-23</td>\n",
       "      <td>1641337043</td>\n",
       "      <td>...</td>\n",
       "      <td>10</td>\n",
       "      <td>1_eta=0.00066849,max_depth=7,subsample=0.66759</td>\n",
       "      <td>approx</td>\n",
       "      <td>binary:logistic</td>\n",
       "      <td>[logloss, error]</td>\n",
       "      <td>0.000668</td>\n",
       "      <td>0.667592</td>\n",
       "      <td>7</td>\n",
       "      <td>1</td>\n",
       "      <td>1</td>\n",
       "    </tr>\n",
       "    <tr>\n",
       "      <th>a973f_00002</th>\n",
       "      <td>0.671759</td>\n",
       "      <td>0.024605</td>\n",
       "      <td>0.006225</td>\n",
       "      <td>True</td>\n",
       "      <td>None</td>\n",
       "      <td>None</td>\n",
       "      <td>10</td>\n",
       "      <td>ceb9bc0ebc86423282de1e849818c098</td>\n",
       "      <td>2022-01-04_14-57-27</td>\n",
       "      <td>1641337047</td>\n",
       "      <td>...</td>\n",
       "      <td>10</td>\n",
       "      <td>2_eta=0.0025666,max_depth=8,subsample=0.62618</td>\n",
       "      <td>approx</td>\n",
       "      <td>binary:logistic</td>\n",
       "      <td>[logloss, error]</td>\n",
       "      <td>0.002567</td>\n",
       "      <td>0.626182</td>\n",
       "      <td>8</td>\n",
       "      <td>1</td>\n",
       "      <td>1</td>\n",
       "    </tr>\n",
       "    <tr>\n",
       "      <th>a973f_00003</th>\n",
       "      <td>0.687265</td>\n",
       "      <td>0.033392</td>\n",
       "      <td>0.004243</td>\n",
       "      <td>True</td>\n",
       "      <td>None</td>\n",
       "      <td>None</td>\n",
       "      <td>10</td>\n",
       "      <td>7e1779e7e647487ca5dfcf287f650dfd</td>\n",
       "      <td>2022-01-04_14-57-29</td>\n",
       "      <td>1641337049</td>\n",
       "      <td>...</td>\n",
       "      <td>10</td>\n",
       "      <td>3_eta=0.00070348,max_depth=3,subsample=0.56015</td>\n",
       "      <td>approx</td>\n",
       "      <td>binary:logistic</td>\n",
       "      <td>[logloss, error]</td>\n",
       "      <td>0.000703</td>\n",
       "      <td>0.560148</td>\n",
       "      <td>3</td>\n",
       "      <td>1</td>\n",
       "      <td>1</td>\n",
       "    </tr>\n",
       "  </tbody>\n",
       "</table>\n",
       "<p>4 rows × 26 columns</p>\n",
       "</div>"
      ],
      "text/plain": [
       "             train-logloss  train-error  time_this_iter_s  done  \\\n",
       "trial_id                                                          \n",
       "a973f_00000       0.684677     0.079086          0.004566  True   \n",
       "a973f_00001       0.687487     0.022847          0.009679  True   \n",
       "a973f_00002       0.671759     0.024605          0.006225  True   \n",
       "a973f_00003       0.687265     0.033392          0.004243  True   \n",
       "\n",
       "            timesteps_total episodes_total  training_iteration  \\\n",
       "trial_id                                                         \n",
       "a973f_00000            None           None                  10   \n",
       "a973f_00001            None           None                  10   \n",
       "a973f_00002            None           None                  10   \n",
       "a973f_00003            None           None                  10   \n",
       "\n",
       "                                experiment_id                 date  \\\n",
       "trial_id                                                             \n",
       "a973f_00000  f8f5f33c48f14891b87d55160334efee  2022-01-04_14-57-21   \n",
       "a973f_00001  861f8023db0340fa9f5942d13e1aba4b  2022-01-04_14-57-23   \n",
       "a973f_00002  ceb9bc0ebc86423282de1e849818c098  2022-01-04_14-57-27   \n",
       "a973f_00003  7e1779e7e647487ca5dfcf287f650dfd  2022-01-04_14-57-29   \n",
       "\n",
       "              timestamp  ...  iterations_since_restore  \\\n",
       "trial_id                 ...                             \n",
       "a973f_00000  1641337041  ...                        10   \n",
       "a973f_00001  1641337043  ...                        10   \n",
       "a973f_00002  1641337047  ...                        10   \n",
       "a973f_00003  1641337049  ...                        10   \n",
       "\n",
       "                                             experiment_tag  \\\n",
       "trial_id                                                      \n",
       "a973f_00000   0_eta=0.0012254,max_depth=1,subsample=0.94226   \n",
       "a973f_00001  1_eta=0.00066849,max_depth=7,subsample=0.66759   \n",
       "a973f_00002   2_eta=0.0025666,max_depth=8,subsample=0.62618   \n",
       "a973f_00003  3_eta=0.00070348,max_depth=3,subsample=0.56015   \n",
       "\n",
       "            config.tree_method config.objective  config.eval_metric  \\\n",
       "trial_id                                                              \n",
       "a973f_00000             approx  binary:logistic    [logloss, error]   \n",
       "a973f_00001             approx  binary:logistic    [logloss, error]   \n",
       "a973f_00002             approx  binary:logistic    [logloss, error]   \n",
       "a973f_00003             approx  binary:logistic    [logloss, error]   \n",
       "\n",
       "             config.eta  config.subsample config.max_depth config.nthread  \\\n",
       "trial_id                                                                    \n",
       "a973f_00000    0.001225          0.942262                1              1   \n",
       "a973f_00001    0.000668          0.667592                7              1   \n",
       "a973f_00002    0.002567          0.626182                8              1   \n",
       "a973f_00003    0.000703          0.560148                3              1   \n",
       "\n",
       "            config.n_jobs  \n",
       "trial_id                   \n",
       "a973f_00000             1  \n",
       "a973f_00001             1  \n",
       "a973f_00002             1  \n",
       "a973f_00003             1  \n",
       "\n",
       "[4 rows x 26 columns]"
      ]
     },
     "execution_count": 9,
     "metadata": {},
     "output_type": "execute_result"
    }
   ],
   "source": [
    "analysis.results_df.head(5)"
   ]
  }
 ],
 "metadata": {
  "kernelspec": {
   "display_name": "Python 3 (ipykernel)",
   "language": "python",
   "name": "python3"
  },
  "language_info": {
   "codemirror_mode": {
    "name": "ipython",
    "version": 3
   },
   "file_extension": ".py",
   "mimetype": "text/x-python",
   "name": "python",
   "nbconvert_exporter": "python",
   "pygments_lexer": "ipython3",
   "version": "3.8.12"
  }
 },
 "nbformat": 4,
 "nbformat_minor": 5
}
