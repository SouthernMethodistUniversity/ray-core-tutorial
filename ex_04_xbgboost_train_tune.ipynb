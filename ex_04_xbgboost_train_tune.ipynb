{
 "cells": [
  {
   "cell_type": "markdown",
   "id": "f2f8ad5d-4621-4fa2-887b-9696008d9b42",
   "metadata": {},
   "source": [
    "# Distributed HPO with Ray Tune and XGBoost-Ray\n",
    "\n",
    "This demo introduces **Ray tune's** key concepts using a a classification example. This example is derived from [Hyperparametere Tuning with Ray Tune and XGBoost-Ray](https://github.com/ray-project/xgboost_ray#hyperparameter-tuning). Basically, there are three basic steps or Ray Tune pattern for you as a newcomer to get started with using Ray Tune.\n",
    "\n",
    " 1. Setup your config space and define your trainable and objective function\n",
    " 2. Use tune to execute your training, supplying the appropriate arguments including: search space, [search algorithms](https://docs.ray.io/en/latest/tune/api_docs/suggestion.html#blendsearch) or [trial schedulers](https://docs.ray.io/en/latest/tune/api_docs/schedulers.html#tune-schedulers)\n",
    " 3. Examine analyse the results\n",
    " \n",
    " <img src=\"https://docs.ray.io/en/latest/_images/tune-workflow.png\" height=\"50%\" width=\"60%\">\n",
    "\n",
    "\n",
    "See also the [Hyperparameter Tuning References](References-Hyperparameter-Tuning.ipynb) notebook and the [Tune documentation](http://tune.io), in particular, the [API reference](https://docs.ray.io/en/latest/tune/api_docs/overview.html). \n"
   ]
  },
  {
   "cell_type": "code",
   "execution_count": 1,
   "id": "f2b8885d-b698-419f-b43f-d91a073052c8",
   "metadata": {},
   "outputs": [],
   "source": [
    "from xgboost_ray import RayDMatrix, RayParams, train\n",
    "from sklearn.datasets import load_breast_cancer\n",
    "\n",
    "import ray\n",
    "from ray import tune\n",
    "CONNECT_TO_ANYSCALE=True"
   ]
  },
  {
   "cell_type": "code",
   "execution_count": 2,
   "id": "94dd77f0-672e-461c-ad45-ff9b5079c819",
   "metadata": {},
   "outputs": [
    {
     "name": "stdout",
     "output_type": "stream",
     "text": [
      "\u001b[1m\u001b[36mAuthenticating\u001b[0m\n",
      "Loaded Anyscale authentication token from ANYSCALE_CLI_TOKEN.\n",
      "\n",
      "\u001b[1m\u001b[36mOutput\u001b[0m\n",
      "\u001b[22m\u001b[33m(anyscale +0.7s)\u001b[0m WARNING: No working_dir specified! Files will only be uploaded to the cluster if a working_dir is provided or a project is detected. In the future, files will only be uploaded if working_dir is provided. To ensure files continue being imported going forward, set the working_dir in your runtime environment. See https://docs.ray.io/en/latest/handling-dependencies.html#runtime-environments.\n",
      "\u001b[1m\u001b[36m(anyscale +0.7s)\u001b[0m .anyscale.yaml found in project_dir. Directory is attached to a project.\n",
      "\u001b[1m\u001b[36m(anyscale +0.8s)\u001b[0m Using project (name: prj-weekly-demo, project_dir: /Users/jules/git-repos/ray-core-tutorial, id: prj_5rvR1w2ciyUs9RM27FeZ6FVB).\n",
      "\u001b[1m\u001b[36m(anyscale +3.0s)\u001b[0m cluster jsd-weekly-demo is currently running, the cluster will not be restarted.\n"
     ]
    },
    {
     "name": "stderr",
     "output_type": "stream",
     "text": [
      "2022-01-09 16:03:10,694\tINFO packaging.py:352 -- Creating a file package for local directory '/Users/jules/git-repos/ray-core-tutorial'.\n",
      "2022-01-09 16:03:10,730\tINFO packaging.py:221 -- Pushing file package 'gcs://_ray_pkg_58a639b07024fb1a.zip' (6.25MiB) to Ray cluster...\n",
      "2022-01-09 16:03:16,033\tINFO packaging.py:224 -- Successfully pushed file package 'gcs://_ray_pkg_58a639b07024fb1a.zip'.\n"
     ]
    },
    {
     "name": "stdout",
     "output_type": "stream",
     "text": [
      "\u001b[1m\u001b[36m(anyscale +20.4s)\u001b[0m Connected to jsd-weekly-demo, see: https://console.anyscale.com/projects/prj_5rvR1w2ciyUs9RM27FeZ6FVB/clusters/ses_GKnU1MGrXqZNmAkicHxSKU9G\n",
      "\u001b[1m\u001b[36m(anyscale +20.4s)\u001b[0m URL for head node of cluster: https://session-gknu1mgrxqznmakichxsku9g.i.anyscaleuserdata.com\n"
     ]
    }
   ],
   "source": [
    "if ray.is_initialized:\n",
    "    ray.shutdown()\n",
    "    if CONNECT_TO_ANYSCALE:\n",
    "        ray.init(\"anyscale://jsd-weekly-demo\")\n",
    "    else:\n",
    "        ray.init()"
   ]
  },
  {
   "cell_type": "markdown",
   "id": "6e7515b4-c4eb-4068-a908-f53769ef35ab",
   "metadata": {},
   "source": [
    "## Step 1: Define a 'Trainable' training function to use with Ray Tune `ray.tune(...)`"
   ]
  },
  {
   "cell_type": "code",
   "execution_count": 3,
   "id": "4b632024-1e88-4972-8687-46d58a5910f6",
   "metadata": {},
   "outputs": [],
   "source": [
    "NUM_OF_ACTORS = 4           # degree of parallel trials; each actor will have a separate trial\n",
    "NUM_OF_CPUS_PER_ACTOR = 1   # number of CPUs per actor\n",
    "\n",
    "ray_params = RayParams(num_actors=NUM_OF_ACTORS, cpus_per_actor=NUM_OF_CPUS_PER_ACTOR)"
   ]
  },
  {
   "cell_type": "code",
   "execution_count": 4,
   "id": "72ab5961-daac-4986-a9d3-5c224990c51a",
   "metadata": {},
   "outputs": [],
   "source": [
    "def train_func_model(config:dict, checkpoint_dir=None):\n",
    "    # create the dataset\n",
    "    train_X, train_y = load_breast_cancer(return_X_y=True)\n",
    "    # Convert to RayDMatrix data structure\n",
    "    train_set = RayDMatrix(train_X, train_y)\n",
    "\n",
    "    # Empty dictionary for the evaluation results reported back\n",
    "    # to tune\n",
    "    evals_result = {}\n",
    "\n",
    "    # Train the model with XGBoost train\n",
    "    bst = train(\n",
    "        params=config,                       # our hyperparameter search space\n",
    "        dtrain=train_set,                    # our RayDMatrix data structure\n",
    "        evals_result=evals_result,           # place holder for results\n",
    "        evals=[(train_set, \"train\")],\n",
    "        verbose_eval=False,\n",
    "        ray_params=ray_params)                # distributed parameters configs for Ray Tune\n",
    "\n",
    "    bst.save_model(\"model.xgb\")"
   ]
  },
  {
   "cell_type": "markdown",
   "id": "73f68cc5-6999-4bef-99e8-f68c6a5052c5",
   "metadata": {},
   "source": [
    "## Step 2: Define a hyperparameter search space"
   ]
  },
  {
   "cell_type": "code",
   "execution_count": 5,
   "id": "9a35e0c3-f0e5-4efd-a7a8-ffdf28dc5216",
   "metadata": {},
   "outputs": [],
   "source": [
    " # Specify the typical hyperparameter search space\n",
    "config = {\n",
    "    \"tree_method\": \"approx\",\n",
    "    \"objective\": \"binary:logistic\",\n",
    "    \"eval_metric\": [\"logloss\", \"error\"],\n",
    "    \"eta\": tune.loguniform(1e-4, 1e-1),\n",
    "    \"subsample\": tune.uniform(0.5, 1.0),\n",
    "    \"max_depth\": tune.randint(1, 9)\n",
    "}"
   ]
  },
  {
   "cell_type": "markdown",
   "id": "46ee450f-0eee-4fa1-ad81-f39a3247ef12",
   "metadata": {},
   "source": [
    "## Step 3: Run Ray tune main trainer and examine the results\n",
    "\n",
    "Ray Tune will launch distributed HPO, using four remote actors, each with its own instance of the trainable func\n",
    "\n",
    "<img src=\"images/ray_tune_dist_hpo.png\" height=\"60%\" width=\"70%\"> "
   ]
  },
  {
   "cell_type": "code",
   "execution_count": 6,
   "id": "c36a1548-90e7-4699-98d1-7e88cbab154f",
   "metadata": {},
   "outputs": [
    {
     "name": "stdout",
     "output_type": "stream",
     "text": [
      "\u001b[2m\u001b[36m(run pid=6439)\u001b[0m == Status ==\n",
      "\u001b[2m\u001b[36m(run pid=6439)\u001b[0m Current time: 2022-01-09 16:03:23 (running for 00:00:00.12)\n",
      "\u001b[2m\u001b[36m(run pid=6439)\u001b[0m Memory usage on this node: 2.8/62.0 GiB\n",
      "\u001b[2m\u001b[36m(run pid=6439)\u001b[0m Using FIFO scheduling algorithm.\n",
      "\u001b[2m\u001b[36m(run pid=6439)\u001b[0m Resources requested: 0/80 CPUs, 0/0 GPUs, 0.0/216.19 GiB heap, 0.0/92.35 GiB objects\n",
      "\u001b[2m\u001b[36m(run pid=6439)\u001b[0m Result logdir: /home/ray/ray_results/train_func_model_2022-01-09_16-03-22\n",
      "\u001b[2m\u001b[36m(run pid=6439)\u001b[0m Number of trials: 4/4 (4 PENDING)\n",
      "\u001b[2m\u001b[36m(run pid=6439)\u001b[0m \n",
      "\u001b[2m\u001b[36m(run pid=6439)\u001b[0m \n"
     ]
    },
    {
     "name": "stderr",
     "output_type": "stream",
     "text": [
      "\u001b[2m\u001b[36m(ImplicitFunc pid=6511)\u001b[0m 2022-01-09 16:03:25,577\tINFO main.py:926 -- [RayXGBoost] Created 4 new actors (4 total actors). Waiting until actors are ready for training.\n",
      "\u001b[2m\u001b[36m(ImplicitFunc pid=682, ip=172.31.53.244)\u001b[0m 2022-01-09 16:03:25,677\tINFO main.py:926 -- [RayXGBoost] Created 4 new actors (4 total actors). Waiting until actors are ready for training.\n",
      "\u001b[2m\u001b[36m(ImplicitFunc pid=878, ip=172.31.52.146)\u001b[0m 2022-01-09 16:03:25,707\tINFO main.py:926 -- [RayXGBoost] Created 4 new actors (4 total actors). Waiting until actors are ready for training.\n",
      "\u001b[2m\u001b[36m(ImplicitFunc pid=721, ip=172.31.39.40)\u001b[0m 2022-01-09 16:03:25,718\tINFO main.py:926 -- [RayXGBoost] Created 4 new actors (4 total actors). Waiting until actors are ready for training.\n",
      "\u001b[2m\u001b[36m(ImplicitFunc pid=682, ip=172.31.53.244)\u001b[0m 2022-01-09 16:03:27,794\tINFO main.py:971 -- [RayXGBoost] Starting XGBoost training.\n",
      "\u001b[2m\u001b[36m(_RemoteRayXGBoostActor pid=717, ip=172.31.53.244)\u001b[0m [16:03:27] task [xgboost.ray]:140538438038000 got new rank 3\n",
      "\u001b[2m\u001b[36m(_RemoteRayXGBoostActor pid=714, ip=172.31.53.244)\u001b[0m [16:03:27] task [xgboost.ray]:140195872100848 got new rank 0\n",
      "\u001b[2m\u001b[36m(_RemoteRayXGBoostActor pid=716, ip=172.31.53.244)\u001b[0m [16:03:27] task [xgboost.ray]:140607059206640 got new rank 2\n",
      "\u001b[2m\u001b[36m(_RemoteRayXGBoostActor pid=715, ip=172.31.53.244)\u001b[0m [16:03:27] task [xgboost.ray]:139732959343088 got new rank 1\n",
      "\u001b[2m\u001b[36m(ImplicitFunc pid=6511)\u001b[0m 2022-01-09 16:03:27,797\tINFO main.py:971 -- [RayXGBoost] Starting XGBoost training.\n",
      "\u001b[2m\u001b[36m(_RemoteRayXGBoostActor pid=6572)\u001b[0m [16:03:27] task [xgboost.ray]:139968395624896 got new rank 0\n",
      "\u001b[2m\u001b[36m(_RemoteRayXGBoostActor pid=6575)\u001b[0m [16:03:27] task [xgboost.ray]:139820866683376 got new rank 3\n",
      "\u001b[2m\u001b[36m(_RemoteRayXGBoostActor pid=6574)\u001b[0m [16:03:27] task [xgboost.ray]:139992076468672 got new rank 2\n",
      "\u001b[2m\u001b[36m(_RemoteRayXGBoostActor pid=6573)\u001b[0m [16:03:27] task [xgboost.ray]:140545404821952 got new rank 1\n",
      "\u001b[2m\u001b[36m(ImplicitFunc pid=721, ip=172.31.39.40)\u001b[0m 2022-01-09 16:03:27,937\tINFO main.py:971 -- [RayXGBoost] Starting XGBoost training.\n",
      "\u001b[2m\u001b[36m(_RemoteRayXGBoostActor pid=757, ip=172.31.39.40)\u001b[0m [16:03:27] task [xgboost.ray]:140544027853344 got new rank 1\n",
      "\u001b[2m\u001b[36m(_RemoteRayXGBoostActor pid=756, ip=172.31.39.40)\u001b[0m [16:03:27] task [xgboost.ray]:139853385425440 got new rank 0\n",
      "\u001b[2m\u001b[36m(_RemoteRayXGBoostActor pid=759, ip=172.31.39.40)\u001b[0m [16:03:27] task [xgboost.ray]:140342878622240 got new rank 3\n",
      "\u001b[2m\u001b[36m(_RemoteRayXGBoostActor pid=758, ip=172.31.39.40)\u001b[0m [16:03:27] task [xgboost.ray]:140671629181472 got new rank 2\n",
      "\u001b[2m\u001b[36m(ImplicitFunc pid=878, ip=172.31.52.146)\u001b[0m 2022-01-09 16:03:28,029\tINFO main.py:971 -- [RayXGBoost] Starting XGBoost training.\n",
      "\u001b[2m\u001b[36m(_RemoteRayXGBoostActor pid=919, ip=172.31.52.146)\u001b[0m [16:03:28] task [xgboost.ray]:140092949819840 got new rank 3\n",
      "\u001b[2m\u001b[36m(_RemoteRayXGBoostActor pid=917, ip=172.31.52.146)\u001b[0m [16:03:28] task [xgboost.ray]:139987720380864 got new rank 1\n",
      "\u001b[2m\u001b[36m(_RemoteRayXGBoostActor pid=918, ip=172.31.52.146)\u001b[0m [16:03:28] task [xgboost.ray]:139903634928064 got new rank 2\n",
      "\u001b[2m\u001b[36m(_RemoteRayXGBoostActor pid=916, ip=172.31.52.146)\u001b[0m [16:03:28] task [xgboost.ray]:140015586468288 got new rank 0\n"
     ]
    },
    {
     "name": "stdout",
     "output_type": "stream",
     "text": [
      "\u001b[2m\u001b[36m(run pid=6439)\u001b[0m 2022-01-09 16:03:28,707\tWARN commands.py:269 -- Loaded cached provider configuration\n",
      "\u001b[2m\u001b[36m(run pid=6439)\u001b[0m 2022-01-09 16:03:28,707\tWARN commands.py:270 -- If you experience issues with the cloud provider, try re-running the command with --no-config-cache.\n",
      "\u001b[2m\u001b[36m(run pid=6439)\u001b[0m \u001b[1m\u001b[36mAuthenticating\u001b[0m\n",
      "\u001b[2m\u001b[36m(run pid=6439)\u001b[0m Loaded Anyscale authentication token from variable.\n",
      "\u001b[2m\u001b[36m(run pid=6439)\u001b[0m \n",
      "\u001b[2m\u001b[36m(run pid=6439)\u001b[0m 2022-01-09 16:03:30,007\tINFO command_runner.py:357 -- Fetched IP: 172.31.53.244\n",
      "\u001b[2m\u001b[36m(run pid=6439)\u001b[0m 2022-01-09 16:03:30,007\tINFO log_timer.py:25 -- NodeUpdater: ins_wmBDm5Bam9yYSzTgTiYpHstj: Got IP  [LogTimer=65ms]\n",
      "\u001b[2m\u001b[36m(run pid=6439)\u001b[0m == Status ==\n",
      "\u001b[2m\u001b[36m(run pid=6439)\u001b[0m Current time: 2022-01-09 16:03:30 (running for 00:00:07.59)\n",
      "\u001b[2m\u001b[36m(run pid=6439)\u001b[0m Memory usage on this node: 3.5/62.0 GiB\n",
      "\u001b[2m\u001b[36m(run pid=6439)\u001b[0m Using FIFO scheduling algorithm.\n",
      "\u001b[2m\u001b[36m(run pid=6439)\u001b[0m Resources requested: 20.0/80 CPUs, 0/0 GPUs, 0.0/216.19 GiB heap, 0.0/92.35 GiB objects\n",
      "\u001b[2m\u001b[36m(run pid=6439)\u001b[0m Current best trial: b98f6_00002 with train-error=0.080844 and parameters={'tree_method': 'approx', 'objective': 'binary:logistic', 'eval_metric': ['logloss', 'error'], 'eta': 0.013487185290096673, 'subsample': 0.9130224011873633, 'max_depth': 1, 'nthread': 1, 'n_jobs': 1}\n",
      "\u001b[2m\u001b[36m(run pid=6439)\u001b[0m Result logdir: /home/ray/ray_results/train_func_model_2022-01-09_16-03-22\n",
      "\u001b[2m\u001b[36m(run pid=6439)\u001b[0m Number of trials: 4/4 (4 RUNNING)\n",
      "\u001b[2m\u001b[36m(run pid=6439)\u001b[0m \n",
      "\u001b[2m\u001b[36m(run pid=6439)\u001b[0m \n",
      "\u001b[2m\u001b[36m(run pid=6439)\u001b[0m 2022-01-09 16:03:31,790\tINFO command_runner.py:357 -- Fetched IP: 172.31.52.146\n",
      "\u001b[2m\u001b[36m(run pid=6439)\u001b[0m 2022-01-09 16:03:31,790\tINFO log_timer.py:25 -- NodeUpdater: ins_m3Z8WND2axJrUcmd473259vd: Got IP  [LogTimer=134ms]\n",
      "\u001b[2m\u001b[36m(run pid=6439)\u001b[0m 2022-01-09 16:03:33,419\tINFO command_runner.py:357 -- Fetched IP: 172.31.39.40\n",
      "\u001b[2m\u001b[36m(run pid=6439)\u001b[0m 2022-01-09 16:03:33,419\tINFO log_timer.py:25 -- NodeUpdater: ins_UDFE6M3QMbjyauxcxpW6pFnD: Got IP  [LogTimer=45ms]\n"
     ]
    },
    {
     "name": "stderr",
     "output_type": "stream",
     "text": [
      "\u001b[2m\u001b[36m(ImplicitFunc pid=721, ip=172.31.39.40)\u001b[0m 2022-01-09 16:03:34,268\tINFO main.py:1450 -- [RayXGBoost] Finished XGBoost training on training data with total N=569 in 8.60 seconds (6.33 pure XGBoost training time).\n",
      "\u001b[2m\u001b[36m(ImplicitFunc pid=682, ip=172.31.53.244)\u001b[0m 2022-01-09 16:03:34,263\tINFO main.py:1450 -- [RayXGBoost] Finished XGBoost training on training data with total N=569 in 8.63 seconds (6.46 pure XGBoost training time).\n",
      "\u001b[2m\u001b[36m(ImplicitFunc pid=878, ip=172.31.52.146)\u001b[0m 2022-01-09 16:03:34,262\tINFO main.py:1450 -- [RayXGBoost] Finished XGBoost training on training data with total N=569 in 8.60 seconds (6.22 pure XGBoost training time).\n",
      "\u001b[2m\u001b[36m(ImplicitFunc pid=6511)\u001b[0m 2022-01-09 16:03:34,278\tINFO main.py:1450 -- [RayXGBoost] Finished XGBoost training on training data with total N=569 in 8.74 seconds (6.48 pure XGBoost training time).\n",
      "\u001b[2m\u001b[36m(run pid=6439)\u001b[0m 2022-01-09 16:03:34,403\tINFO tune.py:626 -- Total run time: 12.09 seconds (11.12 seconds for the tuning loop).\n"
     ]
    },
    {
     "name": "stdout",
     "output_type": "stream",
     "text": [
      "\u001b[2m\u001b[36m(run pid=6439)\u001b[0m == Status ==\n",
      "\u001b[2m\u001b[36m(run pid=6439)\u001b[0m Current time: 2022-01-09 16:03:34 (running for 00:00:11.13)\n",
      "\u001b[2m\u001b[36m(run pid=6439)\u001b[0m Memory usage on this node: 3.3/62.0 GiB\n",
      "\u001b[2m\u001b[36m(run pid=6439)\u001b[0m Using FIFO scheduling algorithm.\n",
      "\u001b[2m\u001b[36m(run pid=6439)\u001b[0m Resources requested: 0/80 CPUs, 0/0 GPUs, 0.0/216.19 GiB heap, 0.0/92.35 GiB objects\n",
      "\u001b[2m\u001b[36m(run pid=6439)\u001b[0m Current best trial: b98f6_00000 with train-error=0.017575 and parameters={'tree_method': 'approx', 'objective': 'binary:logistic', 'eval_metric': ['logloss', 'error'], 'eta': 0.00010981286584081387, 'subsample': 0.6900396002641832, 'max_depth': 5, 'nthread': 1, 'n_jobs': 1}\n",
      "\u001b[2m\u001b[36m(run pid=6439)\u001b[0m Result logdir: /home/ray/ray_results/train_func_model_2022-01-09_16-03-22\n",
      "\u001b[2m\u001b[36m(run pid=6439)\u001b[0m Number of trials: 4/4 (4 TERMINATED)\n",
      "\u001b[2m\u001b[36m(run pid=6439)\u001b[0m \n",
      "\u001b[2m\u001b[36m(run pid=6439)\u001b[0m \n"
     ]
    }
   ],
   "source": [
    "# Run tune\n",
    "analysis = tune.run(\n",
    "    train_func_model,\n",
    "    config=config,\n",
    "    metric=\"train-error\",\n",
    "    mode=\"min\",\n",
    "    num_samples=4,\n",
    "    verbose=1,\n",
    "    resources_per_trial=ray_params.get_tune_resources()\n",
    ")"
   ]
  },
  {
   "cell_type": "code",
   "execution_count": 7,
   "id": "10ab3eaa-9002-4950-a29e-9790298de949",
   "metadata": {},
   "outputs": [
    {
     "name": "stdout",
     "output_type": "stream",
     "text": [
      "Best hyperparameters {'tree_method': 'approx', 'objective': 'binary:logistic', 'eval_metric': ['logloss', 'error'], 'eta': 0.00010981286584081387, 'subsample': 0.6900396002641832, 'max_depth': 5}\n"
     ]
    }
   ],
   "source": [
    "print(\"Best hyperparameters\", analysis.best_config)"
   ]
  },
  {
   "cell_type": "code",
   "execution_count": 8,
   "id": "405aff3f-88c9-4c07-b9b1-89dfa6f7a580",
   "metadata": {},
   "outputs": [
    {
     "name": "stderr",
     "output_type": "stream",
     "text": [
      "/usr/local/anaconda3/envs/ray-core/lib/python3.8/site-packages/ray/tune/analysis/experiment_analysis.py:262: UserWarning: Dataframes will use '/' instead of '.' to delimit nested result keys in future versions of Ray. For forward compatibility, set the environment variable TUNE_RESULT_DELIM='/'\n",
      "  warnings.warn(\n"
     ]
    },
    {
     "data": {
      "text/html": [
       "<div>\n",
       "<style scoped>\n",
       "    .dataframe tbody tr th:only-of-type {\n",
       "        vertical-align: middle;\n",
       "    }\n",
       "\n",
       "    .dataframe tbody tr th {\n",
       "        vertical-align: top;\n",
       "    }\n",
       "\n",
       "    .dataframe thead th {\n",
       "        text-align: right;\n",
       "    }\n",
       "</style>\n",
       "<table border=\"1\" class=\"dataframe\">\n",
       "  <thead>\n",
       "    <tr style=\"text-align: right;\">\n",
       "      <th></th>\n",
       "      <th>train-logloss</th>\n",
       "      <th>train-error</th>\n",
       "      <th>time_this_iter_s</th>\n",
       "      <th>done</th>\n",
       "      <th>timesteps_total</th>\n",
       "      <th>episodes_total</th>\n",
       "      <th>training_iteration</th>\n",
       "      <th>experiment_id</th>\n",
       "      <th>date</th>\n",
       "      <th>timestamp</th>\n",
       "      <th>...</th>\n",
       "      <th>iterations_since_restore</th>\n",
       "      <th>experiment_tag</th>\n",
       "      <th>config.tree_method</th>\n",
       "      <th>config.objective</th>\n",
       "      <th>config.eval_metric</th>\n",
       "      <th>config.eta</th>\n",
       "      <th>config.subsample</th>\n",
       "      <th>config.max_depth</th>\n",
       "      <th>config.nthread</th>\n",
       "      <th>config.n_jobs</th>\n",
       "    </tr>\n",
       "    <tr>\n",
       "      <th>trial_id</th>\n",
       "      <th></th>\n",
       "      <th></th>\n",
       "      <th></th>\n",
       "      <th></th>\n",
       "      <th></th>\n",
       "      <th></th>\n",
       "      <th></th>\n",
       "      <th></th>\n",
       "      <th></th>\n",
       "      <th></th>\n",
       "      <th></th>\n",
       "      <th></th>\n",
       "      <th></th>\n",
       "      <th></th>\n",
       "      <th></th>\n",
       "      <th></th>\n",
       "      <th></th>\n",
       "      <th></th>\n",
       "      <th></th>\n",
       "      <th></th>\n",
       "      <th></th>\n",
       "    </tr>\n",
       "  </thead>\n",
       "  <tbody>\n",
       "    <tr>\n",
       "      <th>b98f6_00000</th>\n",
       "      <td>0.692205</td>\n",
       "      <td>0.017575</td>\n",
       "      <td>0.006520</td>\n",
       "      <td>True</td>\n",
       "      <td>None</td>\n",
       "      <td>None</td>\n",
       "      <td>10</td>\n",
       "      <td>6c81cec979d14543b4a99a627da369df</td>\n",
       "      <td>2022-01-09_16-03-34</td>\n",
       "      <td>1641773014</td>\n",
       "      <td>...</td>\n",
       "      <td>10</td>\n",
       "      <td>0_eta=0.00010981,max_depth=5,subsample=0.69004</td>\n",
       "      <td>approx</td>\n",
       "      <td>binary:logistic</td>\n",
       "      <td>[logloss, error]</td>\n",
       "      <td>0.000110</td>\n",
       "      <td>0.690040</td>\n",
       "      <td>5</td>\n",
       "      <td>1</td>\n",
       "      <td>1</td>\n",
       "    </tr>\n",
       "    <tr>\n",
       "      <th>b98f6_00001</th>\n",
       "      <td>0.689884</td>\n",
       "      <td>0.019332</td>\n",
       "      <td>0.009151</td>\n",
       "      <td>True</td>\n",
       "      <td>None</td>\n",
       "      <td>None</td>\n",
       "      <td>10</td>\n",
       "      <td>606dc44a5fdf4952a5293e01cc9e116a</td>\n",
       "      <td>2022-01-09_16-03-34</td>\n",
       "      <td>1641773014</td>\n",
       "      <td>...</td>\n",
       "      <td>10</td>\n",
       "      <td>1_eta=0.00038227,max_depth=8,subsample=0.69583</td>\n",
       "      <td>approx</td>\n",
       "      <td>binary:logistic</td>\n",
       "      <td>[logloss, error]</td>\n",
       "      <td>0.000382</td>\n",
       "      <td>0.695830</td>\n",
       "      <td>8</td>\n",
       "      <td>1</td>\n",
       "      <td>1</td>\n",
       "    </tr>\n",
       "    <tr>\n",
       "      <th>b98f6_00002</th>\n",
       "      <td>0.608622</td>\n",
       "      <td>0.061511</td>\n",
       "      <td>0.005931</td>\n",
       "      <td>True</td>\n",
       "      <td>None</td>\n",
       "      <td>None</td>\n",
       "      <td>10</td>\n",
       "      <td>b6747593255b4bb7a170ac9c64ee8354</td>\n",
       "      <td>2022-01-09_16-03-34</td>\n",
       "      <td>1641773014</td>\n",
       "      <td>...</td>\n",
       "      <td>10</td>\n",
       "      <td>2_eta=0.013487,max_depth=1,subsample=0.91302</td>\n",
       "      <td>approx</td>\n",
       "      <td>binary:logistic</td>\n",
       "      <td>[logloss, error]</td>\n",
       "      <td>0.013487</td>\n",
       "      <td>0.913022</td>\n",
       "      <td>1</td>\n",
       "      <td>1</td>\n",
       "      <td>1</td>\n",
       "    </tr>\n",
       "    <tr>\n",
       "      <th>b98f6_00003</th>\n",
       "      <td>0.662892</td>\n",
       "      <td>0.019332</td>\n",
       "      <td>0.007406</td>\n",
       "      <td>True</td>\n",
       "      <td>None</td>\n",
       "      <td>None</td>\n",
       "      <td>10</td>\n",
       "      <td>f96e569ce8a040f8a527506288d8ae52</td>\n",
       "      <td>2022-01-09_16-03-34</td>\n",
       "      <td>1641773014</td>\n",
       "      <td>...</td>\n",
       "      <td>10</td>\n",
       "      <td>3_eta=0.0036449,max_depth=5,subsample=0.6839</td>\n",
       "      <td>approx</td>\n",
       "      <td>binary:logistic</td>\n",
       "      <td>[logloss, error]</td>\n",
       "      <td>0.003645</td>\n",
       "      <td>0.683903</td>\n",
       "      <td>5</td>\n",
       "      <td>1</td>\n",
       "      <td>1</td>\n",
       "    </tr>\n",
       "  </tbody>\n",
       "</table>\n",
       "<p>4 rows × 26 columns</p>\n",
       "</div>"
      ],
      "text/plain": [
       "             train-logloss  train-error  time_this_iter_s  done  \\\n",
       "trial_id                                                          \n",
       "b98f6_00000       0.692205     0.017575          0.006520  True   \n",
       "b98f6_00001       0.689884     0.019332          0.009151  True   \n",
       "b98f6_00002       0.608622     0.061511          0.005931  True   \n",
       "b98f6_00003       0.662892     0.019332          0.007406  True   \n",
       "\n",
       "            timesteps_total episodes_total  training_iteration  \\\n",
       "trial_id                                                         \n",
       "b98f6_00000            None           None                  10   \n",
       "b98f6_00001            None           None                  10   \n",
       "b98f6_00002            None           None                  10   \n",
       "b98f6_00003            None           None                  10   \n",
       "\n",
       "                                experiment_id                 date  \\\n",
       "trial_id                                                             \n",
       "b98f6_00000  6c81cec979d14543b4a99a627da369df  2022-01-09_16-03-34   \n",
       "b98f6_00001  606dc44a5fdf4952a5293e01cc9e116a  2022-01-09_16-03-34   \n",
       "b98f6_00002  b6747593255b4bb7a170ac9c64ee8354  2022-01-09_16-03-34   \n",
       "b98f6_00003  f96e569ce8a040f8a527506288d8ae52  2022-01-09_16-03-34   \n",
       "\n",
       "              timestamp  ...  iterations_since_restore  \\\n",
       "trial_id                 ...                             \n",
       "b98f6_00000  1641773014  ...                        10   \n",
       "b98f6_00001  1641773014  ...                        10   \n",
       "b98f6_00002  1641773014  ...                        10   \n",
       "b98f6_00003  1641773014  ...                        10   \n",
       "\n",
       "                                             experiment_tag  \\\n",
       "trial_id                                                      \n",
       "b98f6_00000  0_eta=0.00010981,max_depth=5,subsample=0.69004   \n",
       "b98f6_00001  1_eta=0.00038227,max_depth=8,subsample=0.69583   \n",
       "b98f6_00002    2_eta=0.013487,max_depth=1,subsample=0.91302   \n",
       "b98f6_00003    3_eta=0.0036449,max_depth=5,subsample=0.6839   \n",
       "\n",
       "            config.tree_method config.objective  config.eval_metric  \\\n",
       "trial_id                                                              \n",
       "b98f6_00000             approx  binary:logistic    [logloss, error]   \n",
       "b98f6_00001             approx  binary:logistic    [logloss, error]   \n",
       "b98f6_00002             approx  binary:logistic    [logloss, error]   \n",
       "b98f6_00003             approx  binary:logistic    [logloss, error]   \n",
       "\n",
       "             config.eta  config.subsample config.max_depth config.nthread  \\\n",
       "trial_id                                                                    \n",
       "b98f6_00000    0.000110          0.690040                5              1   \n",
       "b98f6_00001    0.000382          0.695830                8              1   \n",
       "b98f6_00002    0.013487          0.913022                1              1   \n",
       "b98f6_00003    0.003645          0.683903                5              1   \n",
       "\n",
       "            config.n_jobs  \n",
       "trial_id                   \n",
       "b98f6_00000             1  \n",
       "b98f6_00001             1  \n",
       "b98f6_00002             1  \n",
       "b98f6_00003             1  \n",
       "\n",
       "[4 rows x 26 columns]"
      ]
     },
     "execution_count": 8,
     "metadata": {},
     "output_type": "execute_result"
    }
   ],
   "source": [
    "analysis.results_df.head(5)"
   ]
  },
  {
   "cell_type": "markdown",
   "id": "eda7f8e5-bf4c-436f-95b1-8609aecf170f",
   "metadata": {},
   "source": [
    "---"
   ]
  },
  {
   "cell_type": "code",
   "execution_count": 9,
   "id": "6673aba4-4d53-4c86-8cf2-e82e3a035aaa",
   "metadata": {},
   "outputs": [],
   "source": [
    "ray.shutdown()"
   ]
  },
  {
   "cell_type": "markdown",
   "id": "d1886c8e-70ba-4776-94cd-a12916732f67",
   "metadata": {},
   "source": [
    "## References\n",
    "\n",
    " * [Ray Train: Tune: Scalable Hyperparameter Tuning](https://docs.ray.io/en/master/tune/index.html)\n",
    " * [Introducing Distributed XGBoost Training with Ray](https://www.anyscale.com/blog/distributed-xgboost-training-with-ray)\n",
    " * [How to Speed Up XGBoost Model Training](https://www.anyscale.com/blog/how-to-speed-up-xgboost-model-training)\n",
    " * [XGBoost-Ray Project](https://github.com/ray-project/xgboost_ray)\n",
    " * [Distributed XGBoost on Ray](https://docs.ray.io/en/latest/xgboost-ray.html)"
   ]
  }
 ],
 "metadata": {
  "kernelspec": {
   "display_name": "Python 3 (ipykernel)",
   "language": "python",
   "name": "python3"
  },
  "language_info": {
   "codemirror_mode": {
    "name": "ipython",
    "version": 3
   },
   "file_extension": ".py",
   "mimetype": "text/x-python",
   "name": "python",
   "nbconvert_exporter": "python",
   "pygments_lexer": "ipython3",
   "version": "3.8.10"
  }
 },
 "nbformat": 4,
 "nbformat_minor": 5
}
