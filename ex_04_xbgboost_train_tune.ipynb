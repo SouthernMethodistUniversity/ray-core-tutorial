{
 "cells": [
  {
   "cell_type": "markdown",
   "id": "f2f8ad5d-4621-4fa2-887b-9696008d9b42",
   "metadata": {},
   "source": [
    "# Distributed HPO with Ray Tune and XGBoost-Ray\n",
    "\n",
    "This demo introduces **Ray tune's** key concepts using a classification example. This example is derived from [Hyperparameter Tuning with Ray Tune and XGBoost-Ray](https://github.com/ray-project/xgboost_ray#hyperparameter-tuning). Basically, there are three basic steps or Ray Tune pattern for you as a newcomer to get started with using Ray Tune.\n",
    "\n",
    "Three simple steps:\n",
    "\n",
    " 1. Setup your config space and define your trainable and objective function\n",
    " 2. Use Tune to execute your training hyperparameter sweep, supplying the appropriate arguments including: search space, [search algorithms](https://docs.ray.io/en/latest/tune/api_docs/suggestion.html#summary) or [trial schedulers](https://docs.ray.io/en/latest/tune/api_docs/schedulers.html#tune-schedulers)\n",
    " 3. Examine or analyse the results returned\n",
    " \n",
    " <img src=\"https://docs.ray.io/en/latest/_images/tune-workflow.png\" height=\"50%\" width=\"60%\">\n",
    "\n",
    "\n",
    "See also the [Understanding Hyperparameter Tuning](https://github.com/anyscale/academy/blob/main/ray-tune/02-Understanding-Hyperparameter-Tuning.ipynb) notebook and the [Tune documentation](http://tune.io), in particular, the [API reference](https://docs.ray.io/en/latest/tune/api_docs/overview.html). \n"
   ]
  },
  {
   "cell_type": "code",
   "execution_count": 5,
   "id": "f2b8885d-b698-419f-b43f-d91a073052c8",
   "metadata": {},
   "outputs": [],
   "source": [
    "from xgboost_ray import RayDMatrix, RayParams, train\n",
    "from sklearn.datasets import load_breast_cancer\n",
    "\n",
    "import ray\n",
    "from ray import tune\n",
    "CONNECT_TO_ANYSCALE=True"
   ]
  },
  {
   "cell_type": "code",
   "execution_count": 6,
   "id": "94dd77f0-672e-461c-ad45-ff9b5079c819",
   "metadata": {},
   "outputs": [
    {
     "name": "stdout",
     "output_type": "stream",
     "text": [
      "\u001b[1m\u001b[36mOutput\u001b[0m\n",
      "\u001b[22m\u001b[33m(anyscale +32m34.5s)\u001b[0m WARNING: No working_dir specified! Files will only be uploaded to the cluster if a working_dir is provided or a project is detected. In the future, files will only be uploaded if working_dir is provided. To ensure files continue being imported going forward, set the working_dir in your runtime environment. See https://docs.ray.io/en/latest/handling-dependencies.html#runtime-environments.\n",
      "\u001b[1m\u001b[36m(anyscale +0.3s)\u001b[0m .anyscale.yaml found in project_dir. Directory is attached to a project.\n",
      "\u001b[1m\u001b[36m(anyscale +0.6s)\u001b[0m Using project (name: prj-weekly-demo, project_dir: /Users/jules/git-repos/ray-core-tutorial, id: prj_5rvR1w2ciyUs9RM27FeZ6FVB).\n",
      "\u001b[1m\u001b[36m(anyscale +1.5s)\u001b[0m cluster jsd-weekly-demo is currently running, the cluster will not be restarted.\n"
     ]
    },
    {
     "name": "stderr",
     "output_type": "stream",
     "text": [
      "2022-02-02 15:32:10,009\tINFO packaging.py:352 -- Creating a file package for local directory '/Users/jules/git-repos/ray-core-tutorial'.\n",
      "2022-02-02 15:32:10,050\tINFO packaging.py:221 -- Pushing file package 'gcs://_ray_pkg_e59db065a8ca6dac.zip' (6.34MiB) to Ray cluster...\n",
      "2022-02-02 15:32:11,012\tINFO packaging.py:224 -- Successfully pushed file package 'gcs://_ray_pkg_e59db065a8ca6dac.zip'.\n"
     ]
    },
    {
     "name": "stdout",
     "output_type": "stream",
     "text": [
      "\u001b[1m\u001b[36m(anyscale +12.0s)\u001b[0m Connected to jsd-weekly-demo, see: https://console.anyscale.com/projects/prj_5rvR1w2ciyUs9RM27FeZ6FVB/clusters/ses_jUg93ra8KHWTzAMZv5nig2Rb\n",
      "\u001b[1m\u001b[36m(anyscale +12.0s)\u001b[0m URL for head node of cluster: https://session-jug93ra8khwtzamzv5nig2rb.i.anyscaleuserdata.com\n"
     ]
    }
   ],
   "source": [
    "if ray.is_initialized:\n",
    "    ray.shutdown()\n",
    "    if CONNECT_TO_ANYSCALE:\n",
    "        ray.init(\"anyscale://jsd-weekly-demo\")\n",
    "    else:\n",
    "        ray.init()"
   ]
  },
  {
   "cell_type": "markdown",
   "id": "6e7515b4-c4eb-4068-a908-f53769ef35ab",
   "metadata": {},
   "source": [
    "## Step 1: Define a 'Trainable' training function to use with Ray Tune `ray.tune(...)`"
   ]
  },
  {
   "cell_type": "code",
   "execution_count": 7,
   "id": "4b632024-1e88-4972-8687-46d58a5910f6",
   "metadata": {},
   "outputs": [],
   "source": [
    "NUM_OF_ACTORS = 4           # degree of parallel trials; each actor will have a separate trial with a set of unique config from the search space\n",
    "NUM_OF_CPUS_PER_ACTOR = 1   # number of CPUs per actor\n",
    "\n",
    "ray_params = RayParams(num_actors=NUM_OF_ACTORS, cpus_per_actor=NUM_OF_CPUS_PER_ACTOR)"
   ]
  },
  {
   "cell_type": "code",
   "execution_count": 8,
   "id": "72ab5961-daac-4986-a9d3-5c224990c51a",
   "metadata": {},
   "outputs": [],
   "source": [
    "def train_func_model(config:dict, checkpoint_dir=None):\n",
    "    # create the dataset\n",
    "    train_X, train_y = load_breast_cancer(return_X_y=True)\n",
    "    # Convert to RayDMatrix data structure\n",
    "    train_set = RayDMatrix(train_X, train_y)\n",
    "\n",
    "    # Empty dictionary for the evaluation results reported back\n",
    "    # to tune\n",
    "    evals_result = {}\n",
    "\n",
    "    # Train the model with XGBoost train\n",
    "    bst = train(\n",
    "        params=config,                       # our hyperparameter search space\n",
    "        dtrain=train_set,                    # our RayDMatrix data structure\n",
    "        evals_result=evals_result,           # place holder for results\n",
    "        evals=[(train_set, \"train\")],\n",
    "        verbose_eval=False,\n",
    "        ray_params=ray_params)                # distributed parameters configs for Ray Tune\n",
    "\n",
    "    bst.save_model(\"model.xgb\")"
   ]
  },
  {
   "cell_type": "markdown",
   "id": "73f68cc5-6999-4bef-99e8-f68c6a5052c5",
   "metadata": {},
   "source": [
    "## Step 2: Define a hyperparameter search space"
   ]
  },
  {
   "cell_type": "code",
   "execution_count": 9,
   "id": "9a35e0c3-f0e5-4efd-a7a8-ffdf28dc5216",
   "metadata": {},
   "outputs": [],
   "source": [
    " # Specify the typical hyperparameter search space\n",
    "config = {\n",
    "    \"tree_method\": \"approx\",\n",
    "    \"objective\": \"binary:logistic\",\n",
    "    \"eval_metric\": [\"logloss\", \"error\"],\n",
    "    \"eta\": tune.loguniform(1e-4, 1e-1),\n",
    "    \"subsample\": tune.uniform(0.5, 1.0),\n",
    "    \"max_depth\": tune.randint(1, 9)\n",
    "}"
   ]
  },
  {
   "cell_type": "markdown",
   "id": "46ee450f-0eee-4fa1-ad81-f39a3247ef12",
   "metadata": {},
   "source": [
    "## Step 3: Run Ray tune main trainer and examine the results\n",
    "\n",
    "Ray Tune will launch distributed HPO, using four remote actors, each with its own instance of the trainable func\n",
    "\n",
    "<img src=\"images/ray_tune_dist_hpo.png\" height=\"60%\" width=\"70%\"> "
   ]
  },
  {
   "cell_type": "code",
   "execution_count": 10,
   "id": "c36a1548-90e7-4699-98d1-7e88cbab154f",
   "metadata": {},
   "outputs": [
    {
     "name": "stdout",
     "output_type": "stream",
     "text": [
      "\u001b[2m\u001b[36m(run pid=None)\u001b[0m == Status ==\n",
      "\u001b[2m\u001b[36m(run pid=None)\u001b[0m Current time: 2022-02-02 15:32:33 (running for 00:00:00.12)\n",
      "\u001b[2m\u001b[36m(run pid=None)\u001b[0m Memory usage on this node: 15.4/62.0 GiB\n",
      "\u001b[2m\u001b[36m(run pid=None)\u001b[0m Using FIFO scheduling algorithm.\n",
      "\u001b[2m\u001b[36m(run pid=None)\u001b[0m Resources requested: 0/80 CPUs, 0/0 GPUs, 0.0/216.23 GiB heap, 0.0/92.38 GiB objects\n",
      "\u001b[2m\u001b[36m(run pid=None)\u001b[0m Result logdir: /home/ray/ray_results/train_func_model_2022-02-02_15-32-33\n",
      "\u001b[2m\u001b[36m(run pid=None)\u001b[0m Number of trials: 4/4 (4 PENDING)\n",
      "\u001b[2m\u001b[36m(run pid=None)\u001b[0m \n",
      "\u001b[2m\u001b[36m(run pid=None)\u001b[0m \n"
     ]
    },
    {
     "name": "stderr",
     "output_type": "stream",
     "text": [
      "\u001b[2m\u001b[36m(ImplicitFunc pid=None, ip=172.31.122.0)\u001b[0m 2022-02-02 15:32:35,841\tINFO main.py:979 -- [RayXGBoost] Created 4 new actors (4 total actors). Waiting until actors are ready for training.\n",
      "\u001b[2m\u001b[36m(ImplicitFunc pid=None, ip=172.31.106.159)\u001b[0m 2022-02-02 15:32:35,861\tINFO main.py:979 -- [RayXGBoost] Created 4 new actors (4 total actors). Waiting until actors are ready for training.\n",
      "\u001b[2m\u001b[36m(ImplicitFunc pid=None)\u001b[0m 2022-02-02 15:32:36,042\tINFO main.py:979 -- [RayXGBoost] Created 4 new actors (4 total actors). Waiting until actors are ready for training.\n",
      "\u001b[2m\u001b[36m(ImplicitFunc pid=None, ip=172.31.120.87)\u001b[0m 2022-02-02 15:32:36,398\tINFO main.py:979 -- [RayXGBoost] Created 4 new actors (4 total actors). Waiting until actors are ready for training.\n",
      "\u001b[2m\u001b[36m(ImplicitFunc pid=None, ip=172.31.122.0)\u001b[0m 2022-02-02 15:32:37,558\tINFO main.py:1024 -- [RayXGBoost] Starting XGBoost training.\n",
      "\u001b[2m\u001b[36m(_RemoteRayXGBoostActor pid=None, ip=172.31.122.0)\u001b[0m [15:32:37] task [xgboost.ray]:140424791008688 got new rank 2\n",
      "\u001b[2m\u001b[36m(_RemoteRayXGBoostActor pid=None, ip=172.31.122.0)\u001b[0m [15:32:37] task [xgboost.ray]:140458153559424 got new rank 0\n",
      "\u001b[2m\u001b[36m(_RemoteRayXGBoostActor pid=None, ip=172.31.122.0)\u001b[0m [15:32:37] task [xgboost.ray]:140049865803184 got new rank 3\n",
      "\u001b[2m\u001b[36m(_RemoteRayXGBoostActor pid=None, ip=172.31.122.0)\u001b[0m [15:32:37] task [xgboost.ray]:140535413675440 got new rank 1\n",
      "\u001b[2m\u001b[36m(ImplicitFunc pid=None, ip=172.31.106.159)\u001b[0m 2022-02-02 15:32:37,680\tINFO main.py:1024 -- [RayXGBoost] Starting XGBoost training.\n",
      "\u001b[2m\u001b[36m(_RemoteRayXGBoostActor pid=None, ip=172.31.106.159)\u001b[0m [15:32:37] task [xgboost.ray]:139657181922688 got new rank 2\n",
      "\u001b[2m\u001b[36m(_RemoteRayXGBoostActor pid=None, ip=172.31.106.159)\u001b[0m [15:32:37] task [xgboost.ray]:140652168930688 got new rank 3\n",
      "\u001b[2m\u001b[36m(_RemoteRayXGBoostActor pid=None, ip=172.31.106.159)\u001b[0m [15:32:37] task [xgboost.ray]:140222140609920 got new rank 0\n",
      "\u001b[2m\u001b[36m(_RemoteRayXGBoostActor pid=None, ip=172.31.106.159)\u001b[0m [15:32:37] task [xgboost.ray]:140317913286016 got new rank 1\n",
      "\u001b[2m\u001b[36m(ImplicitFunc pid=None)\u001b[0m 2022-02-02 15:32:37,878\tINFO main.py:1024 -- [RayXGBoost] Starting XGBoost training.\n",
      "\u001b[2m\u001b[36m(_RemoteRayXGBoostActor pid=None)\u001b[0m [15:32:37] task [xgboost.ray]:139892592096544 got new rank 0\n",
      "\u001b[2m\u001b[36m(_RemoteRayXGBoostActor pid=None)\u001b[0m [15:32:37] task [xgboost.ray]:140479327216928 got new rank 2\n",
      "\u001b[2m\u001b[36m(_RemoteRayXGBoostActor pid=None)\u001b[0m [15:32:37] task [xgboost.ray]:140311676364112 got new rank 3\n",
      "\u001b[2m\u001b[36m(_RemoteRayXGBoostActor pid=None)\u001b[0m [15:32:37] task [xgboost.ray]:139737200174416 got new rank 1\n",
      "\u001b[2m\u001b[36m(ImplicitFunc pid=None, ip=172.31.120.87)\u001b[0m 2022-02-02 15:32:38,116\tINFO main.py:1024 -- [RayXGBoost] Starting XGBoost training.\n",
      "\u001b[2m\u001b[36m(_RemoteRayXGBoostActor pid=None, ip=172.31.120.87)\u001b[0m [15:32:38] task [xgboost.ray]:140620949923200 got new rank 1\n",
      "\u001b[2m\u001b[36m(_RemoteRayXGBoostActor pid=None, ip=172.31.120.87)\u001b[0m [15:32:38] task [xgboost.ray]:140276169205120 got new rank 3\n",
      "\u001b[2m\u001b[36m(_RemoteRayXGBoostActor pid=None, ip=172.31.120.87)\u001b[0m [15:32:38] task [xgboost.ray]:140657617634688 got new rank 0\n",
      "\u001b[2m\u001b[36m(_RemoteRayXGBoostActor pid=None, ip=172.31.120.87)\u001b[0m [15:32:38] task [xgboost.ray]:139834448582016 got new rank 2\n"
     ]
    },
    {
     "name": "stdout",
     "output_type": "stream",
     "text": [
      "\u001b[2m\u001b[36m(run pid=None)\u001b[0m 2022-02-02 15:32:38,286\tWARN commands.py:269 -- Loaded cached provider configuration\n",
      "\u001b[2m\u001b[36m(run pid=None)\u001b[0m 2022-02-02 15:32:38,286\tWARN commands.py:270 -- If you experience issues with the cloud provider, try re-running the command with --no-config-cache.\n",
      "\u001b[2m\u001b[36m(run pid=None)\u001b[0m \u001b[1m\u001b[36mAuthenticating\u001b[0m\n",
      "\u001b[2m\u001b[36m(run pid=None)\u001b[0m Loaded Anyscale authentication token from variable.\n",
      "\u001b[2m\u001b[36m(run pid=None)\u001b[0m \n",
      "\u001b[2m\u001b[36m(run pid=None)\u001b[0m 2022-02-02 15:32:39,552\tINFO command_runner.py:357 -- Fetched IP: 172.31.106.159\n",
      "\u001b[2m\u001b[36m(run pid=None)\u001b[0m 2022-02-02 15:32:39,552\tINFO log_timer.py:25 -- NodeUpdater: ins_N4PtedRvBWP5dTunfgbVSEq1: Got IP  [LogTimer=32ms]\n",
      "\u001b[2m\u001b[36m(run pid=None)\u001b[0m == Status ==\n",
      "\u001b[2m\u001b[36m(run pid=None)\u001b[0m Current time: 2022-02-02 15:32:40 (running for 00:00:06.55)\n",
      "\u001b[2m\u001b[36m(run pid=None)\u001b[0m Memory usage on this node: 16.0/62.0 GiB\n",
      "\u001b[2m\u001b[36m(run pid=None)\u001b[0m Using FIFO scheduling algorithm.\n",
      "\u001b[2m\u001b[36m(run pid=None)\u001b[0m Resources requested: 20.0/80 CPUs, 0/0 GPUs, 0.0/216.23 GiB heap, 0.0/92.38 GiB objects\n",
      "\u001b[2m\u001b[36m(run pid=None)\u001b[0m Current best trial: 6586b_00001 with train-error=0.056239 and parameters={'tree_method': 'approx', 'objective': 'binary:logistic', 'eval_metric': ['logloss', 'error'], 'eta': 0.030779246772057983, 'subsample': 0.59824112735932, 'max_depth': 4, 'nthread': 1, 'n_jobs': 1}\n",
      "\u001b[2m\u001b[36m(run pid=None)\u001b[0m Result logdir: /home/ray/ray_results/train_func_model_2022-02-02_15-32-33\n",
      "\u001b[2m\u001b[36m(run pid=None)\u001b[0m Number of trials: 4/4 (4 RUNNING)\n",
      "\u001b[2m\u001b[36m(run pid=None)\u001b[0m \n",
      "\u001b[2m\u001b[36m(run pid=None)\u001b[0m \n",
      "\u001b[2m\u001b[36m(run pid=None)\u001b[0m 2022-02-02 15:32:41,278\tINFO command_runner.py:357 -- Fetched IP: 172.31.120.87\n",
      "\u001b[2m\u001b[36m(run pid=None)\u001b[0m 2022-02-02 15:32:41,278\tINFO log_timer.py:25 -- NodeUpdater: ins_JTsrdS6MgEbHVzn3s7w9JUvX: Got IP  [LogTimer=34ms]\n",
      "\u001b[2m\u001b[36m(run pid=None)\u001b[0m 2022-02-02 15:32:42,780\tINFO command_runner.py:357 -- Fetched IP: 172.31.122.0\n",
      "\u001b[2m\u001b[36m(run pid=None)\u001b[0m 2022-02-02 15:32:42,780\tINFO log_timer.py:25 -- NodeUpdater: ins_LBh68bupVHQQVjC5MfRhFu3D: Got IP  [LogTimer=38ms]\n"
     ]
    },
    {
     "name": "stderr",
     "output_type": "stream",
     "text": [
      "\u001b[2m\u001b[36m(ImplicitFunc pid=None, ip=172.31.120.87)\u001b[0m 2022-02-02 15:32:43,588\tINFO main.py:1503 -- [RayXGBoost] Finished XGBoost training on training data with total N=569 in 7.41 seconds (5.47 pure XGBoost training time).\n",
      "\u001b[2m\u001b[36m(ImplicitFunc pid=None)\u001b[0m 2022-02-02 15:32:43,583\tINFO main.py:1503 -- [RayXGBoost] Finished XGBoost training on training data with total N=569 in 7.57 seconds (5.70 pure XGBoost training time).\n",
      "\u001b[2m\u001b[36m(ImplicitFunc pid=None, ip=172.31.106.159)\u001b[0m 2022-02-02 15:32:43,590\tINFO main.py:1503 -- [RayXGBoost] Finished XGBoost training on training data with total N=569 in 7.76 seconds (5.91 pure XGBoost training time).\n",
      "\u001b[2m\u001b[36m(ImplicitFunc pid=None, ip=172.31.122.0)\u001b[0m 2022-02-02 15:32:43,607\tINFO main.py:1503 -- [RayXGBoost] Finished XGBoost training on training data with total N=569 in 7.80 seconds (6.04 pure XGBoost training time).\n"
     ]
    },
    {
     "name": "stdout",
     "output_type": "stream",
     "text": [
      "\u001b[2m\u001b[36m(run pid=None)\u001b[0m == Status ==\n",
      "\u001b[2m\u001b[36m(run pid=None)\u001b[0m Current time: 2022-02-02 15:32:43 (running for 00:00:09.97)\n",
      "\u001b[2m\u001b[36m(run pid=None)\u001b[0m Memory usage on this node: 15.8/62.0 GiB\n",
      "\u001b[2m\u001b[36m(run pid=None)\u001b[0m Using FIFO scheduling algorithm.\n",
      "\u001b[2m\u001b[36m(run pid=None)\u001b[0m Resources requested: 0/80 CPUs, 0/0 GPUs, 0.0/216.23 GiB heap, 0.0/92.38 GiB objects\n",
      "\u001b[2m\u001b[36m(run pid=None)\u001b[0m Current best trial: 6586b_00002 with train-error=0.01406 and parameters={'tree_method': 'approx', 'objective': 'binary:logistic', 'eval_metric': ['logloss', 'error'], 'eta': 0.0012394061273935833, 'subsample': 0.7034529139252035, 'max_depth': 4, 'nthread': 1, 'n_jobs': 1}\n",
      "\u001b[2m\u001b[36m(run pid=None)\u001b[0m Result logdir: /home/ray/ray_results/train_func_model_2022-02-02_15-32-33\n",
      "\u001b[2m\u001b[36m(run pid=None)\u001b[0m Number of trials: 4/4 (4 TERMINATED)\n",
      "\u001b[2m\u001b[36m(run pid=None)\u001b[0m \n",
      "\u001b[2m\u001b[36m(run pid=None)\u001b[0m \n"
     ]
    },
    {
     "name": "stderr",
     "output_type": "stream",
     "text": [
      "\u001b[2m\u001b[36m(run pid=None)\u001b[0m 2022-02-02 15:32:43,853\tINFO tune.py:626 -- Total run time: 10.30 seconds (9.96 seconds for the tuning loop).\n"
     ]
    }
   ],
   "source": [
    "# Run tune\n",
    "analysis = tune.run(\n",
    "    train_func_model,\n",
    "    config=config,\n",
    "    metric=\"train-error\",\n",
    "    mode=\"min\",\n",
    "    num_samples=4,\n",
    "    verbose=1,\n",
    "    resources_per_trial=ray_params.get_tune_resources()\n",
    ")"
   ]
  },
  {
   "cell_type": "code",
   "execution_count": 11,
   "id": "10ab3eaa-9002-4950-a29e-9790298de949",
   "metadata": {},
   "outputs": [
    {
     "name": "stdout",
     "output_type": "stream",
     "text": [
      "Best hyperparameters {'tree_method': 'approx', 'objective': 'binary:logistic', 'eval_metric': ['logloss', 'error'], 'eta': 0.0012394061273935833, 'subsample': 0.7034529139252035, 'max_depth': 4}\n"
     ]
    }
   ],
   "source": [
    "print(\"Best hyperparameters\", analysis.best_config)"
   ]
  },
  {
   "cell_type": "code",
   "execution_count": 12,
   "id": "405aff3f-88c9-4c07-b9b1-89dfa6f7a580",
   "metadata": {},
   "outputs": [
    {
     "name": "stderr",
     "output_type": "stream",
     "text": [
      "/usr/local/anaconda3/envs/ray-core/lib/python3.8/site-packages/ray/tune/analysis/experiment_analysis.py:262: UserWarning: Dataframes will use '/' instead of '.' to delimit nested result keys in future versions of Ray. For forward compatibility, set the environment variable TUNE_RESULT_DELIM='/'\n",
      "  warnings.warn(\n"
     ]
    },
    {
     "data": {
      "text/html": [
       "<div>\n",
       "<style scoped>\n",
       "    .dataframe tbody tr th:only-of-type {\n",
       "        vertical-align: middle;\n",
       "    }\n",
       "\n",
       "    .dataframe tbody tr th {\n",
       "        vertical-align: top;\n",
       "    }\n",
       "\n",
       "    .dataframe thead th {\n",
       "        text-align: right;\n",
       "    }\n",
       "</style>\n",
       "<table border=\"1\" class=\"dataframe\">\n",
       "  <thead>\n",
       "    <tr style=\"text-align: right;\">\n",
       "      <th></th>\n",
       "      <th>train-logloss</th>\n",
       "      <th>train-error</th>\n",
       "      <th>time_this_iter_s</th>\n",
       "      <th>done</th>\n",
       "      <th>timesteps_total</th>\n",
       "      <th>episodes_total</th>\n",
       "      <th>training_iteration</th>\n",
       "      <th>experiment_id</th>\n",
       "      <th>date</th>\n",
       "      <th>timestamp</th>\n",
       "      <th>...</th>\n",
       "      <th>iterations_since_restore</th>\n",
       "      <th>experiment_tag</th>\n",
       "      <th>config.tree_method</th>\n",
       "      <th>config.objective</th>\n",
       "      <th>config.eval_metric</th>\n",
       "      <th>config.eta</th>\n",
       "      <th>config.subsample</th>\n",
       "      <th>config.max_depth</th>\n",
       "      <th>config.nthread</th>\n",
       "      <th>config.n_jobs</th>\n",
       "    </tr>\n",
       "    <tr>\n",
       "      <th>trial_id</th>\n",
       "      <th></th>\n",
       "      <th></th>\n",
       "      <th></th>\n",
       "      <th></th>\n",
       "      <th></th>\n",
       "      <th></th>\n",
       "      <th></th>\n",
       "      <th></th>\n",
       "      <th></th>\n",
       "      <th></th>\n",
       "      <th></th>\n",
       "      <th></th>\n",
       "      <th></th>\n",
       "      <th></th>\n",
       "      <th></th>\n",
       "      <th></th>\n",
       "      <th></th>\n",
       "      <th></th>\n",
       "      <th></th>\n",
       "      <th></th>\n",
       "      <th></th>\n",
       "    </tr>\n",
       "  </thead>\n",
       "  <tbody>\n",
       "    <tr>\n",
       "      <th>6586b_00000</th>\n",
       "      <td>0.671836</td>\n",
       "      <td>0.022847</td>\n",
       "      <td>0.006767</td>\n",
       "      <td>True</td>\n",
       "      <td>None</td>\n",
       "      <td>None</td>\n",
       "      <td>10</td>\n",
       "      <td>ed8c78b7e3244f7b855d6e7f8fdc4b19</td>\n",
       "      <td>2022-02-02_15-32-43</td>\n",
       "      <td>1643844763</td>\n",
       "      <td>...</td>\n",
       "      <td>10</td>\n",
       "      <td>0_eta=0.0026025,max_depth=5,subsample=0.5119</td>\n",
       "      <td>approx</td>\n",
       "      <td>binary:logistic</td>\n",
       "      <td>[logloss, error]</td>\n",
       "      <td>0.002602</td>\n",
       "      <td>0.511898</td>\n",
       "      <td>5</td>\n",
       "      <td>1</td>\n",
       "      <td>1</td>\n",
       "    </tr>\n",
       "    <tr>\n",
       "      <th>6586b_00001</th>\n",
       "      <td>0.488382</td>\n",
       "      <td>0.029877</td>\n",
       "      <td>0.005827</td>\n",
       "      <td>True</td>\n",
       "      <td>None</td>\n",
       "      <td>None</td>\n",
       "      <td>10</td>\n",
       "      <td>6247c6b495da44558b684e8a03847791</td>\n",
       "      <td>2022-02-02_15-32-43</td>\n",
       "      <td>1643844763</td>\n",
       "      <td>...</td>\n",
       "      <td>10</td>\n",
       "      <td>1_eta=0.030779,max_depth=4,subsample=0.59824</td>\n",
       "      <td>approx</td>\n",
       "      <td>binary:logistic</td>\n",
       "      <td>[logloss, error]</td>\n",
       "      <td>0.030779</td>\n",
       "      <td>0.598241</td>\n",
       "      <td>4</td>\n",
       "      <td>1</td>\n",
       "      <td>1</td>\n",
       "    </tr>\n",
       "    <tr>\n",
       "      <th>6586b_00002</th>\n",
       "      <td>0.682543</td>\n",
       "      <td>0.014060</td>\n",
       "      <td>0.005723</td>\n",
       "      <td>True</td>\n",
       "      <td>None</td>\n",
       "      <td>None</td>\n",
       "      <td>10</td>\n",
       "      <td>29097d8cdfc8455db626aea817165486</td>\n",
       "      <td>2022-02-02_15-32-43</td>\n",
       "      <td>1643844763</td>\n",
       "      <td>...</td>\n",
       "      <td>10</td>\n",
       "      <td>2_eta=0.0012394,max_depth=4,subsample=0.70345</td>\n",
       "      <td>approx</td>\n",
       "      <td>binary:logistic</td>\n",
       "      <td>[logloss, error]</td>\n",
       "      <td>0.001239</td>\n",
       "      <td>0.703453</td>\n",
       "      <td>4</td>\n",
       "      <td>1</td>\n",
       "      <td>1</td>\n",
       "    </tr>\n",
       "    <tr>\n",
       "      <th>6586b_00003</th>\n",
       "      <td>0.688289</td>\n",
       "      <td>0.028120</td>\n",
       "      <td>0.005581</td>\n",
       "      <td>True</td>\n",
       "      <td>None</td>\n",
       "      <td>None</td>\n",
       "      <td>10</td>\n",
       "      <td>70acdfc3121f4e939919b4a3b3e9b326</td>\n",
       "      <td>2022-02-02_15-32-43</td>\n",
       "      <td>1643844763</td>\n",
       "      <td>...</td>\n",
       "      <td>10</td>\n",
       "      <td>3_eta=0.00057779,max_depth=8,subsample=0.54722</td>\n",
       "      <td>approx</td>\n",
       "      <td>binary:logistic</td>\n",
       "      <td>[logloss, error]</td>\n",
       "      <td>0.000578</td>\n",
       "      <td>0.547222</td>\n",
       "      <td>8</td>\n",
       "      <td>1</td>\n",
       "      <td>1</td>\n",
       "    </tr>\n",
       "  </tbody>\n",
       "</table>\n",
       "<p>4 rows × 26 columns</p>\n",
       "</div>"
      ],
      "text/plain": [
       "             train-logloss  train-error  time_this_iter_s  done  \\\n",
       "trial_id                                                          \n",
       "6586b_00000       0.671836     0.022847          0.006767  True   \n",
       "6586b_00001       0.488382     0.029877          0.005827  True   \n",
       "6586b_00002       0.682543     0.014060          0.005723  True   \n",
       "6586b_00003       0.688289     0.028120          0.005581  True   \n",
       "\n",
       "            timesteps_total episodes_total  training_iteration  \\\n",
       "trial_id                                                         \n",
       "6586b_00000            None           None                  10   \n",
       "6586b_00001            None           None                  10   \n",
       "6586b_00002            None           None                  10   \n",
       "6586b_00003            None           None                  10   \n",
       "\n",
       "                                experiment_id                 date  \\\n",
       "trial_id                                                             \n",
       "6586b_00000  ed8c78b7e3244f7b855d6e7f8fdc4b19  2022-02-02_15-32-43   \n",
       "6586b_00001  6247c6b495da44558b684e8a03847791  2022-02-02_15-32-43   \n",
       "6586b_00002  29097d8cdfc8455db626aea817165486  2022-02-02_15-32-43   \n",
       "6586b_00003  70acdfc3121f4e939919b4a3b3e9b326  2022-02-02_15-32-43   \n",
       "\n",
       "              timestamp  ...  iterations_since_restore  \\\n",
       "trial_id                 ...                             \n",
       "6586b_00000  1643844763  ...                        10   \n",
       "6586b_00001  1643844763  ...                        10   \n",
       "6586b_00002  1643844763  ...                        10   \n",
       "6586b_00003  1643844763  ...                        10   \n",
       "\n",
       "                                             experiment_tag  \\\n",
       "trial_id                                                      \n",
       "6586b_00000    0_eta=0.0026025,max_depth=5,subsample=0.5119   \n",
       "6586b_00001    1_eta=0.030779,max_depth=4,subsample=0.59824   \n",
       "6586b_00002   2_eta=0.0012394,max_depth=4,subsample=0.70345   \n",
       "6586b_00003  3_eta=0.00057779,max_depth=8,subsample=0.54722   \n",
       "\n",
       "            config.tree_method config.objective  config.eval_metric  \\\n",
       "trial_id                                                              \n",
       "6586b_00000             approx  binary:logistic    [logloss, error]   \n",
       "6586b_00001             approx  binary:logistic    [logloss, error]   \n",
       "6586b_00002             approx  binary:logistic    [logloss, error]   \n",
       "6586b_00003             approx  binary:logistic    [logloss, error]   \n",
       "\n",
       "             config.eta  config.subsample config.max_depth config.nthread  \\\n",
       "trial_id                                                                    \n",
       "6586b_00000    0.002602          0.511898                5              1   \n",
       "6586b_00001    0.030779          0.598241                4              1   \n",
       "6586b_00002    0.001239          0.703453                4              1   \n",
       "6586b_00003    0.000578          0.547222                8              1   \n",
       "\n",
       "            config.n_jobs  \n",
       "trial_id                   \n",
       "6586b_00000             1  \n",
       "6586b_00001             1  \n",
       "6586b_00002             1  \n",
       "6586b_00003             1  \n",
       "\n",
       "[4 rows x 26 columns]"
      ]
     },
     "execution_count": 12,
     "metadata": {},
     "output_type": "execute_result"
    }
   ],
   "source": [
    "analysis.results_df.head(5)"
   ]
  },
  {
   "cell_type": "markdown",
   "id": "eda7f8e5-bf4c-436f-95b1-8609aecf170f",
   "metadata": {},
   "source": [
    "---"
   ]
  },
  {
   "cell_type": "code",
   "execution_count": 13,
   "id": "6673aba4-4d53-4c86-8cf2-e82e3a035aaa",
   "metadata": {},
   "outputs": [],
   "source": [
    "ray.shutdown()"
   ]
  },
  {
   "cell_type": "markdown",
   "id": "d1886c8e-70ba-4776-94cd-a12916732f67",
   "metadata": {},
   "source": [
    "## References\n",
    "\n",
    " * [Ray Train: Tune: Scalable Hyperparameter Tuning](https://docs.ray.io/en/master/tune/index.html)\n",
    " * [Introducing Distributed XGBoost Training with Ray](https://www.anyscale.com/blog/distributed-xgboost-training-with-ray)\n",
    " * [How to Speed Up XGBoost Model Training](https://www.anyscale.com/blog/how-to-speed-up-xgboost-model-training)\n",
    " * [XGBoost-Ray Project](https://github.com/ray-project/xgboost_ray)\n",
    " * [Distributed XGBoost on Ray](https://docs.ray.io/en/latest/xgboost-ray.html)"
   ]
  }
 ],
 "metadata": {
  "kernelspec": {
   "display_name": "Python 3 (ipykernel)",
   "language": "python",
   "name": "python3"
  },
  "language_info": {
   "codemirror_mode": {
    "name": "ipython",
    "version": 3
   },
   "file_extension": ".py",
   "mimetype": "text/x-python",
   "name": "python",
   "nbconvert_exporter": "python",
   "pygments_lexer": "ipython3",
   "version": "3.8.10"
  }
 },
 "nbformat": 4,
 "nbformat_minor": 5
}
