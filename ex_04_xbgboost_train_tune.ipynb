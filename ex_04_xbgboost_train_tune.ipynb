{
 "cells": [
  {
   "cell_type": "markdown",
   "id": "f2f8ad5d-4621-4fa2-887b-9696008d9b42",
   "metadata": {},
   "source": [
    "# Distributed HPO with Ray Tune and XGBoost-Ray\n",
    "\n",
    "This demo introduces **Ray tune's** key concepts using a a classification example. This example is derived from [Hyperparametere Tuning with Ray Tune and XGBoost-Ray](https://github.com/ray-project/xgboost_ray#hyperparameter-tuning). Basically, there are three basic steps or Ray Tune pattern for you as a newcomer to get started with using Ray Tune.\n",
    "\n",
    " 1. Setup your config space and define your trainable and objective function\n",
    " 2. Use tune to execute your training, supplying the appropriate arguments including: search space, [search algorithms](https://docs.ray.io/en/latest/tune/api_docs/suggestion.html#blendsearch) or [trial schedulers](https://docs.ray.io/en/latest/tune/api_docs/schedulers.html#tune-schedulers)\n",
    " 3. Examine analyse the results\n",
    " \n",
    " <img src=\"https://docs.ray.io/en/latest/_images/tune-workflow.png\" height=\"50%\" width=\"60%\">\n",
    "\n",
    "\n",
    "See also the [Hyperparameter Tuning References](References-Hyperparameter-Tuning.ipynb) notebook and the [Tune documentation](http://tune.io), in particular, the [API reference](https://docs.ray.io/en/latest/tune/api_docs/overview.html). \n"
   ]
  },
  {
   "cell_type": "code",
   "execution_count": 1,
   "id": "f2b8885d-b698-419f-b43f-d91a073052c8",
   "metadata": {},
   "outputs": [],
   "source": [
    "from xgboost_ray import RayDMatrix, RayParams, train\n",
    "from sklearn.datasets import load_breast_cancer\n",
    "\n",
    "from ray import tune"
   ]
  },
  {
   "cell_type": "markdown",
   "id": "6e7515b4-c4eb-4068-a908-f53769ef35ab",
   "metadata": {},
   "source": [
    "## Step 1: Define a 'Trainable' training function to use with Ray Tune `ray.tune(...)`"
   ]
  },
  {
   "cell_type": "code",
   "execution_count": 2,
   "id": "4b632024-1e88-4972-8687-46d58a5910f6",
   "metadata": {},
   "outputs": [],
   "source": [
    "NUM_OF_ACTORS = 4           # degree of parallel trials; each actor will have a separate trial\n",
    "NUM_OF_CPUS_PER_ACTOR = 1   # number of CPUs per actor"
   ]
  },
  {
   "cell_type": "code",
   "execution_count": 3,
   "id": "eaa72d37-e6d3-4cae-ba41-4556d6dc15a1",
   "metadata": {},
   "outputs": [],
   "source": [
    "ray_params = RayParams(num_actors=NUM_OF_ACTORS, cpus_per_actor=NUM_OF_CPUS_PER_ACTOR)"
   ]
  },
  {
   "cell_type": "code",
   "execution_count": 4,
   "id": "72ab5961-daac-4986-a9d3-5c224990c51a",
   "metadata": {},
   "outputs": [],
   "source": [
    "def train_func_model(config:dict):\n",
    "    # create the dataset\n",
    "    train_X, train_y = load_breast_cancer(return_X_y=True)\n",
    "    # Convert to RayDMatrix data structure\n",
    "    train_set = RayDMatrix(train_X, train_y)\n",
    "\n",
    "    # Empty dictionary for the evaluation results reported back\n",
    "    # to tune\n",
    "    evals_result = {}\n",
    "\n",
    "    # Train the model with XGBoost train\n",
    "    bst = train(\n",
    "        params=config,                       # our hyperparameter search space\n",
    "        dtrain=train_set,                    # our RayDMatrix data structure\n",
    "        evals_result=evals_result,           # place holder for results\n",
    "        evals=[(train_set, \"train\")],\n",
    "        verbose_eval=False,\n",
    "        ray_params=ray_params)                # distributed parameters configs for Ray Tune\n",
    "\n",
    "    bst.save_model(\"model.xgb\")"
   ]
  },
  {
   "cell_type": "markdown",
   "id": "73f68cc5-6999-4bef-99e8-f68c6a5052c5",
   "metadata": {},
   "source": [
    "## Step 2: Define a hyperparameter search space"
   ]
  },
  {
   "cell_type": "code",
   "execution_count": 5,
   "id": "9a35e0c3-f0e5-4efd-a7a8-ffdf28dc5216",
   "metadata": {},
   "outputs": [],
   "source": [
    " # Specify the hyperparameter search space\n",
    "config = {\n",
    "    \"tree_method\": \"approx\",\n",
    "    \"objective\": \"binary:logistic\",\n",
    "    \"eval_metric\": [\"logloss\", \"error\"],\n",
    "    \"eta\": tune.loguniform(1e-4, 1e-1),\n",
    "    \"subsample\": tune.uniform(0.5, 1.0),\n",
    "    \"max_depth\": tune.randint(1, 9)\n",
    "}"
   ]
  },
  {
   "cell_type": "markdown",
   "id": "46ee450f-0eee-4fa1-ad81-f39a3247ef12",
   "metadata": {},
   "source": [
    "## Step 3: Run Ray tune main trainer and examine the results\n",
    "\n",
    "Ray Tune will launch distributed HPO, using four remote actors, each with its own instance of the trainable func\n",
    "\n",
    "<img src=\"images/ray_tune_dist_hpo.png\" height=\"50%\" width=\"60%\"> "
   ]
  },
  {
   "cell_type": "code",
   "execution_count": 6,
   "id": "c36a1548-90e7-4699-98d1-7e88cbab154f",
   "metadata": {},
   "outputs": [
    {
     "name": "stderr",
     "output_type": "stream",
     "text": [
      "2022-01-04 18:07:44,192\tINFO services.py:1338 -- View the Ray dashboard at \u001b[1m\u001b[32mhttp://127.0.0.1:8265\u001b[39m\u001b[22m\n",
      "2022-01-04 18:07:45,507\tWARNING function_runner.py:561 -- Function checkpointing is disabled. This may result in unexpected behavior when using checkpointing features or certain schedulers. To enable, set the train function arguments to be `func(config, checkpoint_dir=None)`.\n"
     ]
    },
    {
     "data": {
      "text/html": [
       "== Status ==<br>Current time: 2022-01-04 18:07:47 (running for 00:00:01.58)<br>Memory usage on this node: 16.0/32.0 GiB<br>Using FIFO scheduling algorithm.<br>Resources requested: 5.0/12 CPUs, 0/0 GPUs, 0.0/10.87 GiB heap, 0.0/5.43 GiB objects<br>Result logdir: /Users/jules/ray_results/train_func_model_2022-01-04_18-07-45<br>Number of trials: 4/4 (3 PENDING, 1 RUNNING)<br><table>\n",
       "<thead>\n",
       "<tr><th>Trial name                  </th><th>status  </th><th>loc           </th><th style=\"text-align: right;\">        eta</th><th style=\"text-align: right;\">  max_depth</th><th style=\"text-align: right;\">  subsample</th></tr>\n",
       "</thead>\n",
       "<tbody>\n",
       "<tr><td>train_func_model_45e5e_00000</td><td>RUNNING </td><td>127.0.0.1:6054</td><td style=\"text-align: right;\">0.000547199</td><td style=\"text-align: right;\">          2</td><td style=\"text-align: right;\">   0.963656</td></tr>\n",
       "<tr><td>train_func_model_45e5e_00001</td><td>PENDING </td><td>              </td><td style=\"text-align: right;\">0.00137726 </td><td style=\"text-align: right;\">          8</td><td style=\"text-align: right;\">   0.847471</td></tr>\n",
       "<tr><td>train_func_model_45e5e_00002</td><td>PENDING </td><td>              </td><td style=\"text-align: right;\">0.000147236</td><td style=\"text-align: right;\">          5</td><td style=\"text-align: right;\">   0.778445</td></tr>\n",
       "<tr><td>train_func_model_45e5e_00003</td><td>PENDING </td><td>              </td><td style=\"text-align: right;\">0.00256393 </td><td style=\"text-align: right;\">          8</td><td style=\"text-align: right;\">   0.912371</td></tr>\n",
       "</tbody>\n",
       "</table><br><br>"
      ],
      "text/plain": [
       "<IPython.core.display.HTML object>"
      ]
     },
     "metadata": {},
     "output_type": "display_data"
    },
    {
     "name": "stderr",
     "output_type": "stream",
     "text": [
      "\u001b[2m\u001b[36m(ImplicitFunc pid=6054)\u001b[0m 2022-01-04 18:07:47,730\tINFO main.py:976 -- [RayXGBoost] Created 4 new actors (4 total actors). Waiting until actors are ready for training.\n",
      "\u001b[2m\u001b[36m(ImplicitFunc pid=6054)\u001b[0m 2022-01-04 18:07:49,195\tINFO main.py:1021 -- [RayXGBoost] Starting XGBoost training.\n",
      "\u001b[2m\u001b[36m(_RemoteRayXGBoostActor pid=6047)\u001b[0m [18:07:49] task [xgboost.ray]:140564624014928 got new rank 3\n",
      "\u001b[2m\u001b[36m(_RemoteRayXGBoostActor pid=6044)\u001b[0m [18:07:49] task [xgboost.ray]:140708772576848 got new rank 1\n",
      "\u001b[2m\u001b[36m(_RemoteRayXGBoostActor pid=6045)\u001b[0m [18:07:49] task [xgboost.ray]:140411480768080 got new rank 2\n",
      "\u001b[2m\u001b[36m(_RemoteRayXGBoostActor pid=6046)\u001b[0m [18:07:49] task [xgboost.ray]:140264781053520 got new rank 0\n",
      "\u001b[2m\u001b[36m(ImplicitFunc pid=6051)\u001b[0m 2022-01-04 18:07:49,368\tINFO main.py:976 -- [RayXGBoost] Created 4 new actors (4 total actors). Waiting until actors are ready for training.\n"
     ]
    },
    {
     "name": "stdout",
     "output_type": "stream",
     "text": [
      "Result for train_func_model_45e5e_00000:\n",
      "  date: 2022-01-04_18-07-50\n",
      "  done: false\n",
      "  experiment_id: e510848140a8433a89afbdd1e9f83d04\n",
      "  hostname: Juless-MacBook-Pro-16-inch-2019\n",
      "  iterations_since_restore: 1\n",
      "  node_ip: 127.0.0.1\n",
      "  pid: 6054\n",
      "  time_since_restore: 2.9446771144866943\n",
      "  time_this_iter_s: 2.9446771144866943\n",
      "  time_total_s: 2.9446771144866943\n",
      "  timestamp: 1641348470\n",
      "  timesteps_since_restore: 0\n",
      "  train-error: 0.061511\n",
      "  train-logloss: 0.692697\n",
      "  training_iteration: 1\n",
      "  trial_id: 45e5e_00000\n",
      "  \n",
      "Result for train_func_model_45e5e_00000:\n",
      "  date: 2022-01-04_18-07-50\n",
      "  done: true\n",
      "  experiment_id: e510848140a8433a89afbdd1e9f83d04\n",
      "  experiment_tag: 0_eta=0.0005472,max_depth=2,subsample=0.96366\n",
      "  hostname: Juless-MacBook-Pro-16-inch-2019\n",
      "  iterations_since_restore: 10\n",
      "  node_ip: 127.0.0.1\n",
      "  pid: 6054\n",
      "  time_since_restore: 3.0082030296325684\n",
      "  time_this_iter_s: 0.0066030025482177734\n",
      "  time_total_s: 3.0082030296325684\n",
      "  timestamp: 1641348470\n",
      "  timesteps_since_restore: 0\n",
      "  train-error: 0.040422\n",
      "  train-logloss: 0.688701\n",
      "  training_iteration: 10\n",
      "  trial_id: 45e5e_00000\n",
      "  \n"
     ]
    },
    {
     "name": "stderr",
     "output_type": "stream",
     "text": [
      "\u001b[2m\u001b[36m(ImplicitFunc pid=6054)\u001b[0m 2022-01-04 18:07:50,696\tINFO main.py:1500 -- [RayXGBoost] Finished XGBoost training on training data with total N=569 in 3.01 seconds (1.50 pure XGBoost training time).\n",
      "\u001b[2m\u001b[36m(ImplicitFunc pid=6051)\u001b[0m 2022-01-04 18:07:51,468\tINFO main.py:1021 -- [RayXGBoost] Starting XGBoost training.\n",
      "\u001b[2m\u001b[36m(_RemoteRayXGBoostActor pid=6043)\u001b[0m [18:07:51] task [xgboost.ray]:140698036272768 got new rank 0\n",
      "\u001b[2m\u001b[36m(_RemoteRayXGBoostActor pid=6042)\u001b[0m [18:07:51] task [xgboost.ray]:140245987753600 got new rank 1\n",
      "\u001b[2m\u001b[36m(_RemoteRayXGBoostActor pid=6080)\u001b[0m [18:07:51] task [xgboost.ray]:140550670876240 got new rank 3\n",
      "\u001b[2m\u001b[36m(_RemoteRayXGBoostActor pid=6079)\u001b[0m [18:07:51] task [xgboost.ray]:140615091617360 got new rank 2\n"
     ]
    },
    {
     "data": {
      "text/html": [
       "== Status ==<br>Current time: 2022-01-04 18:07:52 (running for 00:00:06.69)<br>Memory usage on this node: 16.0/32.0 GiB<br>Using FIFO scheduling algorithm.<br>Resources requested: 10.0/12 CPUs, 0/0 GPUs, 0.0/10.87 GiB heap, 0.0/5.43 GiB objects<br>Current best trial: 45e5e_00000 with train-error=0.040422 and parameters={'tree_method': 'approx', 'objective': 'binary:logistic', 'eval_metric': ['logloss', 'error'], 'eta': 0.0005471985729932926, 'subsample': 0.9636556071104304, 'max_depth': 2, 'nthread': 1, 'n_jobs': 1}<br>Result logdir: /Users/jules/ray_results/train_func_model_2022-01-04_18-07-45<br>Number of trials: 4/4 (1 PENDING, 2 RUNNING, 1 TERMINATED)<br><table>\n",
       "<thead>\n",
       "<tr><th>Trial name                  </th><th>status    </th><th>loc           </th><th style=\"text-align: right;\">        eta</th><th style=\"text-align: right;\">  max_depth</th><th style=\"text-align: right;\">  subsample</th><th style=\"text-align: right;\">  iter</th><th style=\"text-align: right;\">  total time (s)</th><th style=\"text-align: right;\">  train-logloss</th><th style=\"text-align: right;\">  train-error</th></tr>\n",
       "</thead>\n",
       "<tbody>\n",
       "<tr><td>train_func_model_45e5e_00001</td><td>RUNNING   </td><td>127.0.0.1:6051</td><td style=\"text-align: right;\">0.00137726 </td><td style=\"text-align: right;\">          8</td><td style=\"text-align: right;\">   0.847471</td><td style=\"text-align: right;\">      </td><td style=\"text-align: right;\">                </td><td style=\"text-align: right;\">               </td><td style=\"text-align: right;\">             </td></tr>\n",
       "<tr><td>train_func_model_45e5e_00002</td><td>RUNNING   </td><td>127.0.0.1:6087</td><td style=\"text-align: right;\">0.000147236</td><td style=\"text-align: right;\">          5</td><td style=\"text-align: right;\">   0.778445</td><td style=\"text-align: right;\">      </td><td style=\"text-align: right;\">                </td><td style=\"text-align: right;\">               </td><td style=\"text-align: right;\">             </td></tr>\n",
       "<tr><td>train_func_model_45e5e_00003</td><td>PENDING   </td><td>              </td><td style=\"text-align: right;\">0.00256393 </td><td style=\"text-align: right;\">          8</td><td style=\"text-align: right;\">   0.912371</td><td style=\"text-align: right;\">      </td><td style=\"text-align: right;\">                </td><td style=\"text-align: right;\">               </td><td style=\"text-align: right;\">             </td></tr>\n",
       "<tr><td>train_func_model_45e5e_00000</td><td>TERMINATED</td><td>127.0.0.1:6054</td><td style=\"text-align: right;\">0.000547199</td><td style=\"text-align: right;\">          2</td><td style=\"text-align: right;\">   0.963656</td><td style=\"text-align: right;\">    10</td><td style=\"text-align: right;\">          3.0082</td><td style=\"text-align: right;\">       0.688701</td><td style=\"text-align: right;\">     0.040422</td></tr>\n",
       "</tbody>\n",
       "</table><br><br>"
      ],
      "text/plain": [
       "<IPython.core.display.HTML object>"
      ]
     },
     "metadata": {},
     "output_type": "display_data"
    },
    {
     "name": "stdout",
     "output_type": "stream",
     "text": [
      "Result for train_func_model_45e5e_00001:\n",
      "  date: 2022-01-04_18-07-52\n",
      "  done: false\n",
      "  experiment_id: ed8e630878724539b57f17b80ab4467c\n",
      "  hostname: Juless-MacBook-Pro-16-inch-2019\n",
      "  iterations_since_restore: 1\n",
      "  node_ip: 127.0.0.1\n",
      "  pid: 6051\n",
      "  time_since_restore: 3.2746198177337646\n",
      "  time_this_iter_s: 3.2746198177337646\n",
      "  time_total_s: 3.2746198177337646\n",
      "  timestamp: 1641348472\n",
      "  timesteps_since_restore: 0\n",
      "  train-error: 0.026362\n",
      "  train-logloss: 0.691921\n",
      "  training_iteration: 1\n",
      "  trial_id: 45e5e_00001\n",
      "  \n",
      "Result for train_func_model_45e5e_00001:\n",
      "  date: 2022-01-04_18-07-52\n",
      "  done: true\n",
      "  experiment_id: ed8e630878724539b57f17b80ab4467c\n",
      "  experiment_tag: 1_eta=0.0013773,max_depth=8,subsample=0.84747\n",
      "  hostname: Juless-MacBook-Pro-16-inch-2019\n",
      "  iterations_since_restore: 10\n",
      "  node_ip: 127.0.0.1\n",
      "  pid: 6051\n",
      "  time_since_restore: 3.5455288887023926\n",
      "  time_this_iter_s: 0.007091045379638672\n",
      "  time_total_s: 3.5455288887023926\n",
      "  timestamp: 1641348472\n",
      "  timesteps_since_restore: 0\n",
      "  train-error: 0.010545\n",
      "  train-logloss: 0.681226\n",
      "  training_iteration: 10\n",
      "  trial_id: 45e5e_00001\n",
      "  \n"
     ]
    },
    {
     "name": "stderr",
     "output_type": "stream",
     "text": [
      "\u001b[2m\u001b[36m(ImplicitFunc pid=6051)\u001b[0m 2022-01-04 18:07:52,872\tINFO main.py:1500 -- [RayXGBoost] Finished XGBoost training on training data with total N=569 in 3.55 seconds (1.40 pure XGBoost training time).\n",
      "\u001b[2m\u001b[36m(ImplicitFunc pid=6087)\u001b[0m 2022-01-04 18:07:52,839\tINFO main.py:976 -- [RayXGBoost] Created 4 new actors (4 total actors). Waiting until actors are ready for training.\n",
      "\u001b[2m\u001b[36m(ImplicitFunc pid=6087)\u001b[0m 2022-01-04 18:07:55,128\tINFO main.py:1021 -- [RayXGBoost] Starting XGBoost training.\n",
      "\u001b[2m\u001b[36m(_RemoteRayXGBoostActor pid=6097)\u001b[0m [18:07:55] task [xgboost.ray]:140345440075344 got new rank 2\n",
      "\u001b[2m\u001b[36m(_RemoteRayXGBoostActor pid=6098)\u001b[0m [18:07:55] task [xgboost.ray]:140378599358032 got new rank 3\n",
      "\u001b[2m\u001b[36m(_RemoteRayXGBoostActor pid=6096)\u001b[0m [18:07:55] task [xgboost.ray]:140514694037072 got new rank 1\n",
      "\u001b[2m\u001b[36m(_RemoteRayXGBoostActor pid=6095)\u001b[0m [18:07:55] task [xgboost.ray]:140399002287696 got new rank 0\n",
      "\u001b[2m\u001b[36m(ImplicitFunc pid=6099)\u001b[0m 2022-01-04 18:07:55,417\tINFO main.py:976 -- [RayXGBoost] Created 4 new actors (4 total actors). Waiting until actors are ready for training.\n"
     ]
    },
    {
     "name": "stdout",
     "output_type": "stream",
     "text": [
      "Result for train_func_model_45e5e_00002:\n",
      "  date: 2022-01-04_18-07-56\n",
      "  done: false\n",
      "  experiment_id: a32d6f2a7e2741d994c233379adb3749\n",
      "  hostname: Juless-MacBook-Pro-16-inch-2019\n",
      "  iterations_since_restore: 1\n",
      "  node_ip: 127.0.0.1\n",
      "  pid: 6087\n",
      "  time_since_restore: 3.7764010429382324\n",
      "  time_this_iter_s: 3.7764010429382324\n",
      "  time_total_s: 3.7764010429382324\n",
      "  timestamp: 1641348476\n",
      "  timesteps_since_restore: 0\n",
      "  train-error: 0.035149\n",
      "  train-logloss: 0.693017\n",
      "  training_iteration: 1\n",
      "  trial_id: 45e5e_00002\n",
      "  \n"
     ]
    },
    {
     "data": {
      "text/html": [
       "== Status ==<br>Current time: 2022-01-04 18:07:56 (running for 00:00:10.48)<br>Memory usage on this node: 16.4/32.0 GiB<br>Using FIFO scheduling algorithm.<br>Resources requested: 10.0/12 CPUs, 0/0 GPUs, 0.0/10.87 GiB heap, 0.0/5.43 GiB objects<br>Current best trial: 45e5e_00001 with train-error=0.010545 and parameters={'tree_method': 'approx', 'objective': 'binary:logistic', 'eval_metric': ['logloss', 'error'], 'eta': 0.0013772574632048907, 'subsample': 0.847471377082333, 'max_depth': 8, 'nthread': 1, 'n_jobs': 1}<br>Result logdir: /Users/jules/ray_results/train_func_model_2022-01-04_18-07-45<br>Number of trials: 4/4 (2 RUNNING, 2 TERMINATED)<br><table>\n",
       "<thead>\n",
       "<tr><th>Trial name                  </th><th>status    </th><th>loc           </th><th style=\"text-align: right;\">        eta</th><th style=\"text-align: right;\">  max_depth</th><th style=\"text-align: right;\">  subsample</th><th style=\"text-align: right;\">  iter</th><th style=\"text-align: right;\">  total time (s)</th><th style=\"text-align: right;\">  train-logloss</th><th style=\"text-align: right;\">  train-error</th></tr>\n",
       "</thead>\n",
       "<tbody>\n",
       "<tr><td>train_func_model_45e5e_00002</td><td>RUNNING   </td><td>127.0.0.1:6087</td><td style=\"text-align: right;\">0.000147236</td><td style=\"text-align: right;\">          5</td><td style=\"text-align: right;\">   0.778445</td><td style=\"text-align: right;\">     1</td><td style=\"text-align: right;\">         3.7764 </td><td style=\"text-align: right;\">       0.693017</td><td style=\"text-align: right;\">     0.035149</td></tr>\n",
       "<tr><td>train_func_model_45e5e_00003</td><td>RUNNING   </td><td>127.0.0.1:6099</td><td style=\"text-align: right;\">0.00256393 </td><td style=\"text-align: right;\">          8</td><td style=\"text-align: right;\">   0.912371</td><td style=\"text-align: right;\">      </td><td style=\"text-align: right;\">                </td><td style=\"text-align: right;\">               </td><td style=\"text-align: right;\">             </td></tr>\n",
       "<tr><td>train_func_model_45e5e_00000</td><td>TERMINATED</td><td>127.0.0.1:6054</td><td style=\"text-align: right;\">0.000547199</td><td style=\"text-align: right;\">          2</td><td style=\"text-align: right;\">   0.963656</td><td style=\"text-align: right;\">    10</td><td style=\"text-align: right;\">         3.0082 </td><td style=\"text-align: right;\">       0.688701</td><td style=\"text-align: right;\">     0.040422</td></tr>\n",
       "<tr><td>train_func_model_45e5e_00001</td><td>TERMINATED</td><td>127.0.0.1:6051</td><td style=\"text-align: right;\">0.00137726 </td><td style=\"text-align: right;\">          8</td><td style=\"text-align: right;\">   0.847471</td><td style=\"text-align: right;\">    10</td><td style=\"text-align: right;\">         3.54553</td><td style=\"text-align: right;\">       0.681226</td><td style=\"text-align: right;\">     0.010545</td></tr>\n",
       "</tbody>\n",
       "</table><br><br>"
      ],
      "text/plain": [
       "<IPython.core.display.HTML object>"
      ]
     },
     "metadata": {},
     "output_type": "display_data"
    },
    {
     "name": "stdout",
     "output_type": "stream",
     "text": [
      "Result for train_func_model_45e5e_00002:\n",
      "  date: 2022-01-04_18-07-56\n",
      "  done: true\n",
      "  experiment_id: a32d6f2a7e2741d994c233379adb3749\n",
      "  experiment_tag: 2_eta=0.00014724,max_depth=5,subsample=0.77845\n",
      "  hostname: Juless-MacBook-Pro-16-inch-2019\n",
      "  iterations_since_restore: 10\n",
      "  node_ip: 127.0.0.1\n",
      "  pid: 6087\n",
      "  time_since_restore: 3.8543009757995605\n",
      "  time_this_iter_s: 0.006836891174316406\n",
      "  time_total_s: 3.8543009757995605\n",
      "  timestamp: 1641348476\n",
      "  timesteps_since_restore: 0\n",
      "  train-error: 0.015817\n",
      "  train-logloss: 0.691873\n",
      "  training_iteration: 10\n",
      "  trial_id: 45e5e_00002\n",
      "  \n"
     ]
    },
    {
     "name": "stderr",
     "output_type": "stream",
     "text": [
      "\u001b[2m\u001b[36m(ImplicitFunc pid=6087)\u001b[0m 2022-01-04 18:07:56,653\tINFO main.py:1500 -- [RayXGBoost] Finished XGBoost training on training data with total N=569 in 3.86 seconds (1.52 pure XGBoost training time).\n",
      "\u001b[2m\u001b[36m(ImplicitFunc pid=6099)\u001b[0m 2022-01-04 18:07:57,621\tINFO main.py:1021 -- [RayXGBoost] Starting XGBoost training.\n",
      "\u001b[2m\u001b[36m(_RemoteRayXGBoostActor pid=6115)\u001b[0m [18:07:57] task [xgboost.ray]:140385987624528 got new rank 1\n",
      "\u001b[2m\u001b[36m(_RemoteRayXGBoostActor pid=6116)\u001b[0m [18:07:57] task [xgboost.ray]:140240224456272 got new rank 2\n",
      "\u001b[2m\u001b[36m(_RemoteRayXGBoostActor pid=6114)\u001b[0m [18:07:57] task [xgboost.ray]:140569188630096 got new rank 0\n",
      "\u001b[2m\u001b[36m(_RemoteRayXGBoostActor pid=6117)\u001b[0m [18:07:57] task [xgboost.ray]:140679649656400 got new rank 3\n"
     ]
    },
    {
     "name": "stdout",
     "output_type": "stream",
     "text": [
      "Result for train_func_model_45e5e_00003:\n",
      "  date: 2022-01-04_18-07-58\n",
      "  done: false\n",
      "  experiment_id: bafc652b8c084873b62336b8f3debbfa\n",
      "  hostname: Juless-MacBook-Pro-16-inch-2019\n",
      "  iterations_since_restore: 1\n",
      "  node_ip: 127.0.0.1\n",
      "  pid: 6099\n",
      "  time_since_restore: 3.468424081802368\n",
      "  time_this_iter_s: 3.468424081802368\n",
      "  time_total_s: 3.468424081802368\n",
      "  timestamp: 1641348478\n",
      "  timesteps_since_restore: 0\n",
      "  train-error: 0.02812\n",
      "  train-logloss: 0.690879\n",
      "  training_iteration: 1\n",
      "  trial_id: 45e5e_00003\n",
      "  \n",
      "Result for train_func_model_45e5e_00003:\n",
      "  date: 2022-01-04_18-07-58\n",
      "  done: true\n",
      "  experiment_id: bafc652b8c084873b62336b8f3debbfa\n",
      "  experiment_tag: 3_eta=0.0025639,max_depth=8,subsample=0.91237\n",
      "  hostname: Juless-MacBook-Pro-16-inch-2019\n",
      "  iterations_since_restore: 10\n",
      "  node_ip: 127.0.0.1\n",
      "  pid: 6099\n",
      "  time_since_restore: 3.513869047164917\n",
      "  time_this_iter_s: 0.0038971900939941406\n",
      "  time_total_s: 3.513869047164917\n",
      "  timestamp: 1641348478\n",
      "  timesteps_since_restore: 0\n",
      "  train-error: 0.010545\n",
      "  train-logloss: 0.670945\n",
      "  training_iteration: 10\n",
      "  trial_id: 45e5e_00003\n",
      "  \n"
     ]
    },
    {
     "data": {
      "text/html": [
       "== Status ==<br>Current time: 2022-01-04 18:07:58 (running for 00:00:12.81)<br>Memory usage on this node: 15.9/32.0 GiB<br>Using FIFO scheduling algorithm.<br>Resources requested: 0/12 CPUs, 0/0 GPUs, 0.0/10.87 GiB heap, 0.0/5.43 GiB objects<br>Current best trial: 45e5e_00001 with train-error=0.010545 and parameters={'tree_method': 'approx', 'objective': 'binary:logistic', 'eval_metric': ['logloss', 'error'], 'eta': 0.0013772574632048907, 'subsample': 0.847471377082333, 'max_depth': 8, 'nthread': 1, 'n_jobs': 1}<br>Result logdir: /Users/jules/ray_results/train_func_model_2022-01-04_18-07-45<br>Number of trials: 4/4 (4 TERMINATED)<br><table>\n",
       "<thead>\n",
       "<tr><th>Trial name                  </th><th>status    </th><th>loc           </th><th style=\"text-align: right;\">        eta</th><th style=\"text-align: right;\">  max_depth</th><th style=\"text-align: right;\">  subsample</th><th style=\"text-align: right;\">  iter</th><th style=\"text-align: right;\">  total time (s)</th><th style=\"text-align: right;\">  train-logloss</th><th style=\"text-align: right;\">  train-error</th></tr>\n",
       "</thead>\n",
       "<tbody>\n",
       "<tr><td>train_func_model_45e5e_00000</td><td>TERMINATED</td><td>127.0.0.1:6054</td><td style=\"text-align: right;\">0.000547199</td><td style=\"text-align: right;\">          2</td><td style=\"text-align: right;\">   0.963656</td><td style=\"text-align: right;\">    10</td><td style=\"text-align: right;\">         3.0082 </td><td style=\"text-align: right;\">       0.688701</td><td style=\"text-align: right;\">     0.040422</td></tr>\n",
       "<tr><td>train_func_model_45e5e_00001</td><td>TERMINATED</td><td>127.0.0.1:6051</td><td style=\"text-align: right;\">0.00137726 </td><td style=\"text-align: right;\">          8</td><td style=\"text-align: right;\">   0.847471</td><td style=\"text-align: right;\">    10</td><td style=\"text-align: right;\">         3.54553</td><td style=\"text-align: right;\">       0.681226</td><td style=\"text-align: right;\">     0.010545</td></tr>\n",
       "<tr><td>train_func_model_45e5e_00002</td><td>TERMINATED</td><td>127.0.0.1:6087</td><td style=\"text-align: right;\">0.000147236</td><td style=\"text-align: right;\">          5</td><td style=\"text-align: right;\">   0.778445</td><td style=\"text-align: right;\">    10</td><td style=\"text-align: right;\">         3.8543 </td><td style=\"text-align: right;\">       0.691873</td><td style=\"text-align: right;\">     0.015817</td></tr>\n",
       "<tr><td>train_func_model_45e5e_00003</td><td>TERMINATED</td><td>127.0.0.1:6099</td><td style=\"text-align: right;\">0.00256393 </td><td style=\"text-align: right;\">          8</td><td style=\"text-align: right;\">   0.912371</td><td style=\"text-align: right;\">    10</td><td style=\"text-align: right;\">         3.51387</td><td style=\"text-align: right;\">       0.670945</td><td style=\"text-align: right;\">     0.010545</td></tr>\n",
       "</tbody>\n",
       "</table><br><br>"
      ],
      "text/plain": [
       "<IPython.core.display.HTML object>"
      ]
     },
     "metadata": {},
     "output_type": "display_data"
    },
    {
     "name": "stderr",
     "output_type": "stream",
     "text": [
      "\u001b[2m\u001b[36m(ImplicitFunc pid=6099)\u001b[0m 2022-01-04 18:07:58,889\tINFO main.py:1500 -- [RayXGBoost] Finished XGBoost training on training data with total N=569 in 3.51 seconds (1.26 pure XGBoost training time).\n",
      "2022-01-04 18:07:59,019\tINFO tune.py:626 -- Total run time: 13.51 seconds (12.80 seconds for the tuning loop).\n"
     ]
    }
   ],
   "source": [
    "# Run tune\n",
    "analysis = tune.run(\n",
    "    train_func_model,\n",
    "    config=config,\n",
    "    metric=\"train-error\",\n",
    "    mode=\"min\",\n",
    "    num_samples=4,\n",
    "    resources_per_trial=ray_params.get_tune_resources()\n",
    ")"
   ]
  },
  {
   "cell_type": "code",
   "execution_count": 7,
   "id": "10ab3eaa-9002-4950-a29e-9790298de949",
   "metadata": {},
   "outputs": [
    {
     "name": "stdout",
     "output_type": "stream",
     "text": [
      "Best hyperparameters {'tree_method': 'approx', 'objective': 'binary:logistic', 'eval_metric': ['logloss', 'error'], 'eta': 0.0013772574632048907, 'subsample': 0.847471377082333, 'max_depth': 8}\n"
     ]
    }
   ],
   "source": [
    "print(\"Best hyperparameters\", analysis.best_config)"
   ]
  },
  {
   "cell_type": "code",
   "execution_count": 8,
   "id": "405aff3f-88c9-4c07-b9b1-89dfa6f7a580",
   "metadata": {},
   "outputs": [
    {
     "name": "stderr",
     "output_type": "stream",
     "text": [
      "/usr/local/anaconda3/lib/python3.8/site-packages/ray/tune/analysis/experiment_analysis.py:262: UserWarning: Dataframes will use '/' instead of '.' to delimit nested result keys in future versions of Ray. For forward compatibility, set the environment variable TUNE_RESULT_DELIM='/'\n",
      "  warnings.warn(\n"
     ]
    },
    {
     "data": {
      "text/html": [
       "<div>\n",
       "<style scoped>\n",
       "    .dataframe tbody tr th:only-of-type {\n",
       "        vertical-align: middle;\n",
       "    }\n",
       "\n",
       "    .dataframe tbody tr th {\n",
       "        vertical-align: top;\n",
       "    }\n",
       "\n",
       "    .dataframe thead th {\n",
       "        text-align: right;\n",
       "    }\n",
       "</style>\n",
       "<table border=\"1\" class=\"dataframe\">\n",
       "  <thead>\n",
       "    <tr style=\"text-align: right;\">\n",
       "      <th></th>\n",
       "      <th>train-logloss</th>\n",
       "      <th>train-error</th>\n",
       "      <th>time_this_iter_s</th>\n",
       "      <th>done</th>\n",
       "      <th>timesteps_total</th>\n",
       "      <th>episodes_total</th>\n",
       "      <th>training_iteration</th>\n",
       "      <th>experiment_id</th>\n",
       "      <th>date</th>\n",
       "      <th>timestamp</th>\n",
       "      <th>...</th>\n",
       "      <th>iterations_since_restore</th>\n",
       "      <th>experiment_tag</th>\n",
       "      <th>config.tree_method</th>\n",
       "      <th>config.objective</th>\n",
       "      <th>config.eval_metric</th>\n",
       "      <th>config.eta</th>\n",
       "      <th>config.subsample</th>\n",
       "      <th>config.max_depth</th>\n",
       "      <th>config.nthread</th>\n",
       "      <th>config.n_jobs</th>\n",
       "    </tr>\n",
       "    <tr>\n",
       "      <th>trial_id</th>\n",
       "      <th></th>\n",
       "      <th></th>\n",
       "      <th></th>\n",
       "      <th></th>\n",
       "      <th></th>\n",
       "      <th></th>\n",
       "      <th></th>\n",
       "      <th></th>\n",
       "      <th></th>\n",
       "      <th></th>\n",
       "      <th></th>\n",
       "      <th></th>\n",
       "      <th></th>\n",
       "      <th></th>\n",
       "      <th></th>\n",
       "      <th></th>\n",
       "      <th></th>\n",
       "      <th></th>\n",
       "      <th></th>\n",
       "      <th></th>\n",
       "      <th></th>\n",
       "    </tr>\n",
       "  </thead>\n",
       "  <tbody>\n",
       "    <tr>\n",
       "      <th>45e5e_00000</th>\n",
       "      <td>0.688701</td>\n",
       "      <td>0.040422</td>\n",
       "      <td>0.006603</td>\n",
       "      <td>True</td>\n",
       "      <td>None</td>\n",
       "      <td>None</td>\n",
       "      <td>10</td>\n",
       "      <td>e510848140a8433a89afbdd1e9f83d04</td>\n",
       "      <td>2022-01-04_18-07-50</td>\n",
       "      <td>1641348470</td>\n",
       "      <td>...</td>\n",
       "      <td>10</td>\n",
       "      <td>0_eta=0.0005472,max_depth=2,subsample=0.96366</td>\n",
       "      <td>approx</td>\n",
       "      <td>binary:logistic</td>\n",
       "      <td>[logloss, error]</td>\n",
       "      <td>0.000547</td>\n",
       "      <td>0.963656</td>\n",
       "      <td>2</td>\n",
       "      <td>1</td>\n",
       "      <td>1</td>\n",
       "    </tr>\n",
       "    <tr>\n",
       "      <th>45e5e_00001</th>\n",
       "      <td>0.681226</td>\n",
       "      <td>0.010545</td>\n",
       "      <td>0.007091</td>\n",
       "      <td>True</td>\n",
       "      <td>None</td>\n",
       "      <td>None</td>\n",
       "      <td>10</td>\n",
       "      <td>ed8e630878724539b57f17b80ab4467c</td>\n",
       "      <td>2022-01-04_18-07-52</td>\n",
       "      <td>1641348472</td>\n",
       "      <td>...</td>\n",
       "      <td>10</td>\n",
       "      <td>1_eta=0.0013773,max_depth=8,subsample=0.84747</td>\n",
       "      <td>approx</td>\n",
       "      <td>binary:logistic</td>\n",
       "      <td>[logloss, error]</td>\n",
       "      <td>0.001377</td>\n",
       "      <td>0.847471</td>\n",
       "      <td>8</td>\n",
       "      <td>1</td>\n",
       "      <td>1</td>\n",
       "    </tr>\n",
       "    <tr>\n",
       "      <th>45e5e_00002</th>\n",
       "      <td>0.691873</td>\n",
       "      <td>0.015817</td>\n",
       "      <td>0.006837</td>\n",
       "      <td>True</td>\n",
       "      <td>None</td>\n",
       "      <td>None</td>\n",
       "      <td>10</td>\n",
       "      <td>a32d6f2a7e2741d994c233379adb3749</td>\n",
       "      <td>2022-01-04_18-07-56</td>\n",
       "      <td>1641348476</td>\n",
       "      <td>...</td>\n",
       "      <td>10</td>\n",
       "      <td>2_eta=0.00014724,max_depth=5,subsample=0.77845</td>\n",
       "      <td>approx</td>\n",
       "      <td>binary:logistic</td>\n",
       "      <td>[logloss, error]</td>\n",
       "      <td>0.000147</td>\n",
       "      <td>0.778445</td>\n",
       "      <td>5</td>\n",
       "      <td>1</td>\n",
       "      <td>1</td>\n",
       "    </tr>\n",
       "    <tr>\n",
       "      <th>45e5e_00003</th>\n",
       "      <td>0.670945</td>\n",
       "      <td>0.010545</td>\n",
       "      <td>0.003897</td>\n",
       "      <td>True</td>\n",
       "      <td>None</td>\n",
       "      <td>None</td>\n",
       "      <td>10</td>\n",
       "      <td>bafc652b8c084873b62336b8f3debbfa</td>\n",
       "      <td>2022-01-04_18-07-58</td>\n",
       "      <td>1641348478</td>\n",
       "      <td>...</td>\n",
       "      <td>10</td>\n",
       "      <td>3_eta=0.0025639,max_depth=8,subsample=0.91237</td>\n",
       "      <td>approx</td>\n",
       "      <td>binary:logistic</td>\n",
       "      <td>[logloss, error]</td>\n",
       "      <td>0.002564</td>\n",
       "      <td>0.912371</td>\n",
       "      <td>8</td>\n",
       "      <td>1</td>\n",
       "      <td>1</td>\n",
       "    </tr>\n",
       "  </tbody>\n",
       "</table>\n",
       "<p>4 rows × 26 columns</p>\n",
       "</div>"
      ],
      "text/plain": [
       "             train-logloss  train-error  time_this_iter_s  done  \\\n",
       "trial_id                                                          \n",
       "45e5e_00000       0.688701     0.040422          0.006603  True   \n",
       "45e5e_00001       0.681226     0.010545          0.007091  True   \n",
       "45e5e_00002       0.691873     0.015817          0.006837  True   \n",
       "45e5e_00003       0.670945     0.010545          0.003897  True   \n",
       "\n",
       "            timesteps_total episodes_total  training_iteration  \\\n",
       "trial_id                                                         \n",
       "45e5e_00000            None           None                  10   \n",
       "45e5e_00001            None           None                  10   \n",
       "45e5e_00002            None           None                  10   \n",
       "45e5e_00003            None           None                  10   \n",
       "\n",
       "                                experiment_id                 date  \\\n",
       "trial_id                                                             \n",
       "45e5e_00000  e510848140a8433a89afbdd1e9f83d04  2022-01-04_18-07-50   \n",
       "45e5e_00001  ed8e630878724539b57f17b80ab4467c  2022-01-04_18-07-52   \n",
       "45e5e_00002  a32d6f2a7e2741d994c233379adb3749  2022-01-04_18-07-56   \n",
       "45e5e_00003  bafc652b8c084873b62336b8f3debbfa  2022-01-04_18-07-58   \n",
       "\n",
       "              timestamp  ...  iterations_since_restore  \\\n",
       "trial_id                 ...                             \n",
       "45e5e_00000  1641348470  ...                        10   \n",
       "45e5e_00001  1641348472  ...                        10   \n",
       "45e5e_00002  1641348476  ...                        10   \n",
       "45e5e_00003  1641348478  ...                        10   \n",
       "\n",
       "                                             experiment_tag  \\\n",
       "trial_id                                                      \n",
       "45e5e_00000   0_eta=0.0005472,max_depth=2,subsample=0.96366   \n",
       "45e5e_00001   1_eta=0.0013773,max_depth=8,subsample=0.84747   \n",
       "45e5e_00002  2_eta=0.00014724,max_depth=5,subsample=0.77845   \n",
       "45e5e_00003   3_eta=0.0025639,max_depth=8,subsample=0.91237   \n",
       "\n",
       "            config.tree_method config.objective  config.eval_metric  \\\n",
       "trial_id                                                              \n",
       "45e5e_00000             approx  binary:logistic    [logloss, error]   \n",
       "45e5e_00001             approx  binary:logistic    [logloss, error]   \n",
       "45e5e_00002             approx  binary:logistic    [logloss, error]   \n",
       "45e5e_00003             approx  binary:logistic    [logloss, error]   \n",
       "\n",
       "             config.eta  config.subsample config.max_depth config.nthread  \\\n",
       "trial_id                                                                    \n",
       "45e5e_00000    0.000547          0.963656                2              1   \n",
       "45e5e_00001    0.001377          0.847471                8              1   \n",
       "45e5e_00002    0.000147          0.778445                5              1   \n",
       "45e5e_00003    0.002564          0.912371                8              1   \n",
       "\n",
       "            config.n_jobs  \n",
       "trial_id                   \n",
       "45e5e_00000             1  \n",
       "45e5e_00001             1  \n",
       "45e5e_00002             1  \n",
       "45e5e_00003             1  \n",
       "\n",
       "[4 rows x 26 columns]"
      ]
     },
     "execution_count": 8,
     "metadata": {},
     "output_type": "execute_result"
    }
   ],
   "source": [
    "analysis.results_df.head(5)"
   ]
  },
  {
   "cell_type": "markdown",
   "id": "eda7f8e5-bf4c-436f-95b1-8609aecf170f",
   "metadata": {},
   "source": [
    "---"
   ]
  },
  {
   "cell_type": "markdown",
   "id": "d1886c8e-70ba-4776-94cd-a12916732f67",
   "metadata": {},
   "source": [
    "## References\n",
    "\n",
    " * [Ray Train: Tune: Scalable Hyperparameter Tuning](https://docs.ray.io/en/master/tune/index.html)\n",
    " * [Introducing Distributed XGBoost Training with Ray](https://www.anyscale.com/blog/distributed-xgboost-training-with-ray)\n",
    " * [How to Speed Up XGBoost Model Training](https://www.anyscale.com/blog/how-to-speed-up-xgboost-model-training)\n",
    " * [XGBoost-Ray Project](https://github.com/ray-project/xgboost_ray)\n",
    " * [Distributed XGBoost on Ray](Distributed XGBoost on Ray)"
   ]
  }
 ],
 "metadata": {
  "kernelspec": {
   "display_name": "Python 3 (ipykernel)",
   "language": "python",
   "name": "python3"
  },
  "language_info": {
   "codemirror_mode": {
    "name": "ipython",
    "version": 3
   },
   "file_extension": ".py",
   "mimetype": "text/x-python",
   "name": "python",
   "nbconvert_exporter": "python",
   "pygments_lexer": "ipython3",
   "version": "3.8.12"
  }
 },
 "nbformat": 4,
 "nbformat_minor": 5
}
