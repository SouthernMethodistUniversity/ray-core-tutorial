{
 "cells": [
  {
   "cell_type": "markdown",
   "id": "f2f8ad5d-4621-4fa2-887b-9696008d9b42",
   "metadata": {},
   "source": [
    "# Distributed HPO with Ray Tune and XGBoost-Ray\n",
    "\n",
    "This demo introduces **Ray tune's** key concepts using a a classification example. This example is derived from [Hyperparametere Tuning with Ray Tune and XGBoost-Ray](https://github.com/ray-project/xgboost_ray#hyperparameter-tuning). Basically, there are three basic steps or Ray Tune pattern for you as a newcomer to get started with using Ray Tune.\n",
    "\n",
    " 1. Setup your config space and define your trainable and objective function\n",
    " 2. Use tune to execute your training, supplying the appropriate arguments including: search space, [search algorithms](https://docs.ray.io/en/latest/tune/api_docs/suggestion.html#blendsearch) or [trial schedulers](https://docs.ray.io/en/latest/tune/api_docs/schedulers.html#tune-schedulers)\n",
    " 3. Examine analyse the results\n",
    " \n",
    " <img src=\"https://docs.ray.io/en/latest/_images/tune-workflow.png\" height=\"50%\" width=\"60%\">\n",
    "\n",
    "\n",
    "See also the [Hyperparameter Tuning References](References-Hyperparameter-Tuning.ipynb) notebook and the [Tune documentation](http://tune.io), in particular, the [API reference](https://docs.ray.io/en/latest/tune/api_docs/overview.html). \n"
   ]
  },
  {
   "cell_type": "code",
   "execution_count": 1,
   "id": "f2b8885d-b698-419f-b43f-d91a073052c8",
   "metadata": {},
   "outputs": [],
   "source": [
    "from xgboost_ray import RayDMatrix, RayParams, train\n",
    "from sklearn.datasets import load_breast_cancer\n",
    "\n",
    "import ray\n",
    "from ray import tune\n",
    "CONNECT_TO_ANYSCALE=True"
   ]
  },
  {
   "cell_type": "code",
   "execution_count": 2,
   "id": "94dd77f0-672e-461c-ad45-ff9b5079c819",
   "metadata": {},
   "outputs": [
    {
     "name": "stdout",
     "output_type": "stream",
     "text": [
      "\u001b[1m\u001b[36mAuthenticating\u001b[0m\n",
      "Loaded Anyscale authentication token from ANYSCALE_CLI_TOKEN.\n",
      "\n",
      "\u001b[1m\u001b[36mOutput\u001b[0m\n",
      "\u001b[22m\u001b[33m(anyscale +0.6s)\u001b[0m WARNING: No working_dir specified! Files will only be uploaded to the cluster if a working_dir is provided or a project is detected. In the future, files will only be uploaded if working_dir is provided. To ensure files continue being imported going forward, set the working_dir in your runtime environment. See https://docs.ray.io/en/latest/handling-dependencies.html#runtime-environments.\n",
      "\u001b[1m\u001b[36m(anyscale +0.4s)\u001b[0m .anyscale.yaml found in project_dir. Directory is attached to a project.\n",
      "\u001b[1m\u001b[36m(anyscale +0.5s)\u001b[0m Using project (name: prj-weekly-demo, project_dir: /Users/jules/git-repos/ray-core-tutorial, id: prj_5rvR1w2ciyUs9RM27FeZ6FVB).\n",
      "\u001b[1m\u001b[36m(anyscale +1.7s)\u001b[0m cluster jsd-weekly-demo is currently running, the cluster will not be restarted.\n"
     ]
    },
    {
     "name": "stderr",
     "output_type": "stream",
     "text": [
      "2022-01-06 14:14:11,141\tINFO packaging.py:352 -- Creating a file package for local directory '/Users/jules/git-repos/ray-core-tutorial'.\n",
      "2022-01-06 14:14:11,162\tINFO packaging.py:221 -- Pushing file package 'gcs://_ray_pkg_9e91a598d6c3c0e5.zip' (1.87MiB) to Ray cluster...\n",
      "2022-01-06 14:14:11,520\tINFO packaging.py:224 -- Successfully pushed file package 'gcs://_ray_pkg_9e91a598d6c3c0e5.zip'.\n"
     ]
    },
    {
     "name": "stdout",
     "output_type": "stream",
     "text": [
      "\u001b[1m\u001b[36m(anyscale +11.7s)\u001b[0m Connected to jsd-weekly-demo, see: https://console.anyscale.com/projects/prj_5rvR1w2ciyUs9RM27FeZ6FVB/clusters/ses_GKnU1MGrXqZNmAkicHxSKU9G\n",
      "\u001b[1m\u001b[36m(anyscale +11.7s)\u001b[0m URL for head node of cluster: https://session-gknu1mgrxqznmakichxsku9g.i.anyscaleuserdata.com\n"
     ]
    }
   ],
   "source": [
    "if ray.is_initialized:\n",
    "    ray.shutdown()\n",
    "    if CONNECT_TO_ANYSCALE:\n",
    "        ray.init(\"anyscale://jsd-weekly-demo\")\n",
    "    else:\n",
    "        ray.init()"
   ]
  },
  {
   "cell_type": "markdown",
   "id": "6e7515b4-c4eb-4068-a908-f53769ef35ab",
   "metadata": {},
   "source": [
    "## Step 1: Define a 'Trainable' training function to use with Ray Tune `ray.tune(...)`"
   ]
  },
  {
   "cell_type": "code",
   "execution_count": 3,
   "id": "4b632024-1e88-4972-8687-46d58a5910f6",
   "metadata": {},
   "outputs": [],
   "source": [
    "NUM_OF_ACTORS = 4           # degree of parallel trials; each actor will have a separate trial\n",
    "NUM_OF_CPUS_PER_ACTOR = 1   # number of CPUs per actor\n",
    "\n",
    "ray_params = RayParams(num_actors=NUM_OF_ACTORS, cpus_per_actor=NUM_OF_CPUS_PER_ACTOR)"
   ]
  },
  {
   "cell_type": "code",
   "execution_count": 4,
   "id": "72ab5961-daac-4986-a9d3-5c224990c51a",
   "metadata": {},
   "outputs": [],
   "source": [
    "def train_func_model(config:dict, checkpoint_dir=None):\n",
    "    # create the dataset\n",
    "    train_X, train_y = load_breast_cancer(return_X_y=True)\n",
    "    # Convert to RayDMatrix data structure\n",
    "    train_set = RayDMatrix(train_X, train_y)\n",
    "\n",
    "    # Empty dictionary for the evaluation results reported back\n",
    "    # to tune\n",
    "    evals_result = {}\n",
    "\n",
    "    # Train the model with XGBoost train\n",
    "    bst = train(\n",
    "        params=config,                       # our hyperparameter search space\n",
    "        dtrain=train_set,                    # our RayDMatrix data structure\n",
    "        evals_result=evals_result,           # place holder for results\n",
    "        evals=[(train_set, \"train\")],\n",
    "        verbose_eval=False,\n",
    "        ray_params=ray_params)                # distributed parameters configs for Ray Tune\n",
    "\n",
    "    bst.save_model(\"model.xgb\")"
   ]
  },
  {
   "cell_type": "markdown",
   "id": "73f68cc5-6999-4bef-99e8-f68c6a5052c5",
   "metadata": {},
   "source": [
    "## Step 2: Define a hyperparameter search space"
   ]
  },
  {
   "cell_type": "code",
   "execution_count": 5,
   "id": "9a35e0c3-f0e5-4efd-a7a8-ffdf28dc5216",
   "metadata": {},
   "outputs": [],
   "source": [
    " # Specify the typical hyperparameter search space\n",
    "config = {\n",
    "    \"tree_method\": \"approx\",\n",
    "    \"objective\": \"binary:logistic\",\n",
    "    \"eval_metric\": [\"logloss\", \"error\"],\n",
    "    \"eta\": tune.loguniform(1e-4, 1e-1),\n",
    "    \"subsample\": tune.uniform(0.5, 1.0),\n",
    "    \"max_depth\": tune.randint(1, 9)\n",
    "}"
   ]
  },
  {
   "cell_type": "markdown",
   "id": "46ee450f-0eee-4fa1-ad81-f39a3247ef12",
   "metadata": {},
   "source": [
    "## Step 3: Run Ray tune main trainer and examine the results\n",
    "\n",
    "Ray Tune will launch distributed HPO, using four remote actors, each with its own instance of the trainable func\n",
    "\n",
    "<img src=\"images/ray_tune_dist_hpo.png\" height=\"60%\" width=\"70%\"> "
   ]
  },
  {
   "cell_type": "code",
   "execution_count": 6,
   "id": "c36a1548-90e7-4699-98d1-7e88cbab154f",
   "metadata": {},
   "outputs": [
    {
     "name": "stdout",
     "output_type": "stream",
     "text": [
      "\u001b[2m\u001b[36m(run pid=5511)\u001b[0m == Status ==\n",
      "\u001b[2m\u001b[36m(run pid=5511)\u001b[0m Current time: 2022-01-06 14:14:18 (running for 00:00:00.12)\n",
      "\u001b[2m\u001b[36m(run pid=5511)\u001b[0m Memory usage on this node: 2.7/62.0 GiB\n",
      "\u001b[2m\u001b[36m(run pid=5511)\u001b[0m Using FIFO scheduling algorithm.\n",
      "\u001b[2m\u001b[36m(run pid=5511)\u001b[0m Resources requested: 0/80 CPUs, 0/0 GPUs, 0.0/216.2 GiB heap, 0.0/92.37 GiB objects\n",
      "\u001b[2m\u001b[36m(run pid=5511)\u001b[0m Result logdir: /home/ray/ray_results/train_func_model_2022-01-06_14-14-17\n",
      "\u001b[2m\u001b[36m(run pid=5511)\u001b[0m Number of trials: 4/4 (4 PENDING)\n",
      "\u001b[2m\u001b[36m(run pid=5511)\u001b[0m \n",
      "\u001b[2m\u001b[36m(run pid=5511)\u001b[0m \n"
     ]
    },
    {
     "name": "stderr",
     "output_type": "stream",
     "text": [
      "\u001b[2m\u001b[36m(ImplicitFunc pid=5582)\u001b[0m 2022-01-06 14:14:21,017\tINFO main.py:926 -- [RayXGBoost] Created 4 new actors (4 total actors). Waiting until actors are ready for training.\n",
      "\u001b[2m\u001b[36m(ImplicitFunc pid=568, ip=172.31.78.55)\u001b[0m 2022-01-06 14:14:21,140\tINFO main.py:926 -- [RayXGBoost] Created 4 new actors (4 total actors). Waiting until actors are ready for training.\n",
      "\u001b[2m\u001b[36m(ImplicitFunc pid=562, ip=172.31.69.149)\u001b[0m 2022-01-06 14:14:21,148\tINFO main.py:926 -- [RayXGBoost] Created 4 new actors (4 total actors). Waiting until actors are ready for training.\n",
      "\u001b[2m\u001b[36m(ImplicitFunc pid=537, ip=172.31.95.94)\u001b[0m 2022-01-06 14:14:21,351\tINFO main.py:926 -- [RayXGBoost] Created 4 new actors (4 total actors). Waiting until actors are ready for training.\n",
      "\u001b[2m\u001b[36m(ImplicitFunc pid=5582)\u001b[0m 2022-01-06 14:14:23,137\tINFO main.py:971 -- [RayXGBoost] Starting XGBoost training.\n",
      "\u001b[2m\u001b[36m(_RemoteRayXGBoostActor pid=5647)\u001b[0m [14:14:23] task [xgboost.ray]:140299508281888 got new rank 2\n",
      "\u001b[2m\u001b[36m(_RemoteRayXGBoostActor pid=5646)\u001b[0m [14:14:23] task [xgboost.ray]:140566871572976 got new rank 1\n",
      "\u001b[2m\u001b[36m(_RemoteRayXGBoostActor pid=5648)\u001b[0m [14:14:23] task [xgboost.ray]:139605106008608 got new rank 3\n",
      "\u001b[2m\u001b[36m(_RemoteRayXGBoostActor pid=5645)\u001b[0m [14:14:23] task [xgboost.ray]:140296101810720 got new rank 0\n",
      "\u001b[2m\u001b[36m(ImplicitFunc pid=568, ip=172.31.78.55)\u001b[0m 2022-01-06 14:14:23,258\tINFO main.py:971 -- [RayXGBoost] Starting XGBoost training.\n",
      "\u001b[2m\u001b[36m(_RemoteRayXGBoostActor pid=601, ip=172.31.78.55)\u001b[0m [14:14:23] task [xgboost.ray]:140362470097440 got new rank 0\n",
      "\u001b[2m\u001b[36m(_RemoteRayXGBoostActor pid=604, ip=172.31.78.55)\u001b[0m [14:14:23] task [xgboost.ray]:139796958880336 got new rank 3\n",
      "\u001b[2m\u001b[36m(_RemoteRayXGBoostActor pid=603, ip=172.31.78.55)\u001b[0m [14:14:23] task [xgboost.ray]:140363506516560 got new rank 2\n",
      "\u001b[2m\u001b[36m(_RemoteRayXGBoostActor pid=602, ip=172.31.78.55)\u001b[0m [14:14:23] task [xgboost.ray]:139872266809936 got new rank 1\n",
      "\u001b[2m\u001b[36m(ImplicitFunc pid=562, ip=172.31.69.149)\u001b[0m 2022-01-06 14:14:23,267\tINFO main.py:971 -- [RayXGBoost] Starting XGBoost training.\n",
      "\u001b[2m\u001b[36m(_RemoteRayXGBoostActor pid=597, ip=172.31.69.149)\u001b[0m [14:14:23] task [xgboost.ray]:140206857531888 got new rank 3\n",
      "\u001b[2m\u001b[36m(_RemoteRayXGBoostActor pid=594, ip=172.31.69.149)\u001b[0m [14:14:23] task [xgboost.ray]:140306113942000 got new rank 0\n",
      "\u001b[2m\u001b[36m(_RemoteRayXGBoostActor pid=595, ip=172.31.69.149)\u001b[0m [14:14:23] task [xgboost.ray]:140588624441840 got new rank 1\n",
      "\u001b[2m\u001b[36m(_RemoteRayXGBoostActor pid=596, ip=172.31.69.149)\u001b[0m [14:14:23] task [xgboost.ray]:140061429764592 got new rank 2\n",
      "\u001b[2m\u001b[36m(ImplicitFunc pid=537, ip=172.31.95.94)\u001b[0m 2022-01-06 14:14:23,775\tINFO main.py:971 -- [RayXGBoost] Starting XGBoost training.\n",
      "\u001b[2m\u001b[36m(_RemoteRayXGBoostActor pid=579, ip=172.31.95.94)\u001b[0m [14:14:23] task [xgboost.ray]:140527562891808 got new rank 2\n",
      "\u001b[2m\u001b[36m(_RemoteRayXGBoostActor pid=580, ip=172.31.95.94)\u001b[0m [14:14:23] task [xgboost.ray]:139775063163424 got new rank 3\n",
      "\u001b[2m\u001b[36m(_RemoteRayXGBoostActor pid=577, ip=172.31.95.94)\u001b[0m [14:14:23] task [xgboost.ray]:139741807555104 got new rank 0\n",
      "\u001b[2m\u001b[36m(_RemoteRayXGBoostActor pid=578, ip=172.31.95.94)\u001b[0m [14:14:23] task [xgboost.ray]:140603207615008 got new rank 1\n"
     ]
    },
    {
     "name": "stdout",
     "output_type": "stream",
     "text": [
      "\u001b[2m\u001b[36m(run pid=5511)\u001b[0m == Status ==\n",
      "\u001b[2m\u001b[36m(run pid=5511)\u001b[0m Current time: 2022-01-06 14:14:24 (running for 00:00:05.56)\n",
      "\u001b[2m\u001b[36m(run pid=5511)\u001b[0m Memory usage on this node: 3.3/62.0 GiB\n",
      "\u001b[2m\u001b[36m(run pid=5511)\u001b[0m Using FIFO scheduling algorithm.\n",
      "\u001b[2m\u001b[36m(run pid=5511)\u001b[0m Resources requested: 20.0/80 CPUs, 0/0 GPUs, 0.0/216.2 GiB heap, 0.0/92.37 GiB objects\n",
      "\u001b[2m\u001b[36m(run pid=5511)\u001b[0m Current best trial: fd748_00000 with train-error=0.080844 and parameters={'tree_method': 'approx', 'objective': 'binary:logistic', 'eval_metric': ['logloss', 'error'], 'eta': 0.0032092244261342474, 'subsample': 0.5456953402106876, 'max_depth': 1, 'nthread': 1, 'n_jobs': 1}\n",
      "\u001b[2m\u001b[36m(run pid=5511)\u001b[0m Result logdir: /home/ray/ray_results/train_func_model_2022-01-06_14-14-17\n",
      "\u001b[2m\u001b[36m(run pid=5511)\u001b[0m Number of trials: 4/4 (4 RUNNING)\n",
      "\u001b[2m\u001b[36m(run pid=5511)\u001b[0m \n",
      "\u001b[2m\u001b[36m(run pid=5511)\u001b[0m \n",
      "\u001b[2m\u001b[36m(run pid=5511)\u001b[0m 2022-01-06 14:14:24,309\tWARN commands.py:269 -- Loaded cached provider configuration\n",
      "\u001b[2m\u001b[36m(run pid=5511)\u001b[0m 2022-01-06 14:14:24,309\tWARN commands.py:270 -- If you experience issues with the cloud provider, try re-running the command with --no-config-cache.\n"
     ]
    },
    {
     "name": "stderr",
     "output_type": "stream",
     "text": [
      "\u001b[2m\u001b[36m(ImplicitFunc pid=5582)\u001b[0m 2022-01-06 14:14:24,228\tINFO main.py:1450 -- [RayXGBoost] Finished XGBoost training on training data with total N=569 in 3.25 seconds (1.08 pure XGBoost training time).\n"
     ]
    },
    {
     "name": "stdout",
     "output_type": "stream",
     "text": [
      "\u001b[2m\u001b[36m(run pid=5511)\u001b[0m \u001b[1m\u001b[36mAuthenticating\u001b[0m\n",
      "\u001b[2m\u001b[36m(run pid=5511)\u001b[0m Loaded Anyscale authentication token from variable.\n",
      "\u001b[2m\u001b[36m(run pid=5511)\u001b[0m \n",
      "\u001b[2m\u001b[36m(run pid=5511)\u001b[0m 2022-01-06 14:14:25,604\tINFO command_runner.py:357 -- Fetched IP: 172.31.78.55\n",
      "\u001b[2m\u001b[36m(run pid=5511)\u001b[0m 2022-01-06 14:14:25,604\tINFO log_timer.py:25 -- NodeUpdater: ins_tg89XjdiD9djfkwcXk8MdP1v: Got IP  [LogTimer=41ms]\n",
      "\u001b[2m\u001b[36m(run pid=5511)\u001b[0m 2022-01-06 14:14:27,571\tINFO command_runner.py:357 -- Fetched IP: 172.31.69.149\n",
      "\u001b[2m\u001b[36m(run pid=5511)\u001b[0m 2022-01-06 14:14:27,571\tINFO log_timer.py:25 -- NodeUpdater: ins_w29yhts53cKc4VWd425F8R1t: Got IP  [LogTimer=103ms]\n",
      "\u001b[2m\u001b[36m(run pid=5511)\u001b[0m 2022-01-06 14:14:29,291\tINFO command_runner.py:357 -- Fetched IP: 172.31.95.94\n",
      "\u001b[2m\u001b[36m(run pid=5511)\u001b[0m 2022-01-06 14:14:29,291\tINFO log_timer.py:25 -- NodeUpdater: ins_6R2GbSNa4kQan5Vp9U8Dw42g: Got IP  [LogTimer=95ms]\n",
      "\u001b[2m\u001b[36m(run pid=5511)\u001b[0m == Status ==\n",
      "\u001b[2m\u001b[36m(run pid=5511)\u001b[0m Current time: 2022-01-06 14:14:30 (running for 00:00:11.54)\n",
      "\u001b[2m\u001b[36m(run pid=5511)\u001b[0m Memory usage on this node: 2.7/62.0 GiB\n",
      "\u001b[2m\u001b[36m(run pid=5511)\u001b[0m Using FIFO scheduling algorithm.\n",
      "\u001b[2m\u001b[36m(run pid=5511)\u001b[0m Resources requested: 15.0/80 CPUs, 0/0 GPUs, 0.0/216.2 GiB heap, 0.0/92.37 GiB objects\n",
      "\u001b[2m\u001b[36m(run pid=5511)\u001b[0m Current best trial: fd748_00003 with train-error=0.022847 and parameters={'tree_method': 'approx', 'objective': 'binary:logistic', 'eval_metric': ['logloss', 'error'], 'eta': 0.00027069625258288973, 'subsample': 0.893212305775269, 'max_depth': 7, 'nthread': 1, 'n_jobs': 1}\n",
      "\u001b[2m\u001b[36m(run pid=5511)\u001b[0m Result logdir: /home/ray/ray_results/train_func_model_2022-01-06_14-14-17\n",
      "\u001b[2m\u001b[36m(run pid=5511)\u001b[0m Number of trials: 4/4 (3 RUNNING, 1 TERMINATED)\n",
      "\u001b[2m\u001b[36m(run pid=5511)\u001b[0m \n",
      "\u001b[2m\u001b[36m(run pid=5511)\u001b[0m \n",
      "\u001b[2m\u001b[36m(run pid=5511)\u001b[0m == Status ==\n",
      "\u001b[2m\u001b[36m(run pid=5511)\u001b[0m Current time: 2022-01-06 14:14:30 (running for 00:00:11.62)\n",
      "\u001b[2m\u001b[36m(run pid=5511)\u001b[0m Memory usage on this node: 2.7/62.0 GiB\n",
      "\u001b[2m\u001b[36m(run pid=5511)\u001b[0m Using FIFO scheduling algorithm.\n",
      "\u001b[2m\u001b[36m(run pid=5511)\u001b[0m Resources requested: 0/80 CPUs, 0/0 GPUs, 0.0/216.2 GiB heap, 0.0/92.37 GiB objects\n",
      "\u001b[2m\u001b[36m(run pid=5511)\u001b[0m Current best trial: fd748_00001 with train-error=0.008787 and parameters={'tree_method': 'approx', 'objective': 'binary:logistic', 'eval_metric': ['logloss', 'error'], 'eta': 0.00016056242418745548, 'subsample': 0.9316039415749886, 'max_depth': 7, 'nthread': 1, 'n_jobs': 1}\n",
      "\u001b[2m\u001b[36m(run pid=5511)\u001b[0m Result logdir: /home/ray/ray_results/train_func_model_2022-01-06_14-14-17\n",
      "\u001b[2m\u001b[36m(run pid=5511)\u001b[0m Number of trials: 4/4 (4 TERMINATED)\n",
      "\u001b[2m\u001b[36m(run pid=5511)\u001b[0m \n",
      "\u001b[2m\u001b[36m(run pid=5511)\u001b[0m \n"
     ]
    },
    {
     "name": "stderr",
     "output_type": "stream",
     "text": [
      "\u001b[2m\u001b[36m(ImplicitFunc pid=537, ip=172.31.95.94)\u001b[0m 2022-01-06 14:14:30,232\tINFO main.py:1450 -- [RayXGBoost] Finished XGBoost training on training data with total N=569 in 8.92 seconds (6.45 pure XGBoost training time).\n",
      "\u001b[2m\u001b[36m(ImplicitFunc pid=568, ip=172.31.78.55)\u001b[0m 2022-01-06 14:14:30,219\tINFO main.py:1450 -- [RayXGBoost] Finished XGBoost training on training data with total N=569 in 9.12 seconds (6.96 pure XGBoost training time).\n",
      "\u001b[2m\u001b[36m(ImplicitFunc pid=562, ip=172.31.69.149)\u001b[0m 2022-01-06 14:14:30,223\tINFO main.py:1450 -- [RayXGBoost] Finished XGBoost training on training data with total N=569 in 9.11 seconds (6.95 pure XGBoost training time).\n",
      "\u001b[2m\u001b[36m(run pid=5511)\u001b[0m 2022-01-06 14:14:30,341\tINFO tune.py:626 -- Total run time: 12.60 seconds (11.62 seconds for the tuning loop).\n"
     ]
    }
   ],
   "source": [
    "# Run tune\n",
    "analysis = tune.run(\n",
    "    train_func_model,\n",
    "    config=config,\n",
    "    metric=\"train-error\",\n",
    "    mode=\"min\",\n",
    "    num_samples=4,\n",
    "    verbose=1,\n",
    "    resources_per_trial=ray_params.get_tune_resources()\n",
    ")"
   ]
  },
  {
   "cell_type": "code",
   "execution_count": 7,
   "id": "10ab3eaa-9002-4950-a29e-9790298de949",
   "metadata": {},
   "outputs": [
    {
     "name": "stdout",
     "output_type": "stream",
     "text": [
      "Best hyperparameters {'tree_method': 'approx', 'objective': 'binary:logistic', 'eval_metric': ['logloss', 'error'], 'eta': 0.00016056242418745548, 'subsample': 0.9316039415749886, 'max_depth': 7}\n"
     ]
    }
   ],
   "source": [
    "print(\"Best hyperparameters\", analysis.best_config)"
   ]
  },
  {
   "cell_type": "code",
   "execution_count": 8,
   "id": "405aff3f-88c9-4c07-b9b1-89dfa6f7a580",
   "metadata": {},
   "outputs": [
    {
     "name": "stderr",
     "output_type": "stream",
     "text": [
      "/usr/local/anaconda3/lib/python3.8/site-packages/ray/tune/analysis/experiment_analysis.py:262: UserWarning: Dataframes will use '/' instead of '.' to delimit nested result keys in future versions of Ray. For forward compatibility, set the environment variable TUNE_RESULT_DELIM='/'\n",
      "  warnings.warn(\n"
     ]
    },
    {
     "data": {
      "text/html": [
       "<div>\n",
       "<style scoped>\n",
       "    .dataframe tbody tr th:only-of-type {\n",
       "        vertical-align: middle;\n",
       "    }\n",
       "\n",
       "    .dataframe tbody tr th {\n",
       "        vertical-align: top;\n",
       "    }\n",
       "\n",
       "    .dataframe thead th {\n",
       "        text-align: right;\n",
       "    }\n",
       "</style>\n",
       "<table border=\"1\" class=\"dataframe\">\n",
       "  <thead>\n",
       "    <tr style=\"text-align: right;\">\n",
       "      <th></th>\n",
       "      <th>train-logloss</th>\n",
       "      <th>train-error</th>\n",
       "      <th>time_this_iter_s</th>\n",
       "      <th>done</th>\n",
       "      <th>timesteps_total</th>\n",
       "      <th>episodes_total</th>\n",
       "      <th>training_iteration</th>\n",
       "      <th>experiment_id</th>\n",
       "      <th>date</th>\n",
       "      <th>timestamp</th>\n",
       "      <th>...</th>\n",
       "      <th>iterations_since_restore</th>\n",
       "      <th>experiment_tag</th>\n",
       "      <th>config.tree_method</th>\n",
       "      <th>config.objective</th>\n",
       "      <th>config.eval_metric</th>\n",
       "      <th>config.eta</th>\n",
       "      <th>config.subsample</th>\n",
       "      <th>config.max_depth</th>\n",
       "      <th>config.nthread</th>\n",
       "      <th>config.n_jobs</th>\n",
       "    </tr>\n",
       "    <tr>\n",
       "      <th>trial_id</th>\n",
       "      <th></th>\n",
       "      <th></th>\n",
       "      <th></th>\n",
       "      <th></th>\n",
       "      <th></th>\n",
       "      <th></th>\n",
       "      <th></th>\n",
       "      <th></th>\n",
       "      <th></th>\n",
       "      <th></th>\n",
       "      <th></th>\n",
       "      <th></th>\n",
       "      <th></th>\n",
       "      <th></th>\n",
       "      <th></th>\n",
       "      <th></th>\n",
       "      <th></th>\n",
       "      <th></th>\n",
       "      <th></th>\n",
       "      <th></th>\n",
       "      <th></th>\n",
       "    </tr>\n",
       "  </thead>\n",
       "  <tbody>\n",
       "    <tr>\n",
       "      <th>fd748_00000</th>\n",
       "      <td>0.671303</td>\n",
       "      <td>0.057996</td>\n",
       "      <td>0.005046</td>\n",
       "      <td>True</td>\n",
       "      <td>None</td>\n",
       "      <td>None</td>\n",
       "      <td>10</td>\n",
       "      <td>79123a930dbf484a946b34b0721407c5</td>\n",
       "      <td>2022-01-06_14-14-24</td>\n",
       "      <td>1641507264</td>\n",
       "      <td>...</td>\n",
       "      <td>10</td>\n",
       "      <td>0_eta=0.0032092,max_depth=1,subsample=0.5457</td>\n",
       "      <td>approx</td>\n",
       "      <td>binary:logistic</td>\n",
       "      <td>[logloss, error]</td>\n",
       "      <td>0.003209</td>\n",
       "      <td>0.545695</td>\n",
       "      <td>1</td>\n",
       "      <td>1</td>\n",
       "      <td>1</td>\n",
       "    </tr>\n",
       "    <tr>\n",
       "      <th>fd748_00001</th>\n",
       "      <td>0.691727</td>\n",
       "      <td>0.008787</td>\n",
       "      <td>0.005658</td>\n",
       "      <td>True</td>\n",
       "      <td>None</td>\n",
       "      <td>None</td>\n",
       "      <td>10</td>\n",
       "      <td>64a534de15de4149a4d0d45ac373df8d</td>\n",
       "      <td>2022-01-06_14-14-30</td>\n",
       "      <td>1641507270</td>\n",
       "      <td>...</td>\n",
       "      <td>10</td>\n",
       "      <td>1_eta=0.00016056,max_depth=7,subsample=0.9316</td>\n",
       "      <td>approx</td>\n",
       "      <td>binary:logistic</td>\n",
       "      <td>[logloss, error]</td>\n",
       "      <td>0.000161</td>\n",
       "      <td>0.931604</td>\n",
       "      <td>7</td>\n",
       "      <td>1</td>\n",
       "      <td>1</td>\n",
       "    </tr>\n",
       "    <tr>\n",
       "      <th>fd748_00002</th>\n",
       "      <td>0.461959</td>\n",
       "      <td>0.035149</td>\n",
       "      <td>0.006099</td>\n",
       "      <td>True</td>\n",
       "      <td>None</td>\n",
       "      <td>None</td>\n",
       "      <td>10</td>\n",
       "      <td>9533d2ef95974537a6929027c6e82fcc</td>\n",
       "      <td>2022-01-06_14-14-30</td>\n",
       "      <td>1641507270</td>\n",
       "      <td>...</td>\n",
       "      <td>10</td>\n",
       "      <td>2_eta=0.038053,max_depth=2,subsample=0.92326</td>\n",
       "      <td>approx</td>\n",
       "      <td>binary:logistic</td>\n",
       "      <td>[logloss, error]</td>\n",
       "      <td>0.038053</td>\n",
       "      <td>0.923255</td>\n",
       "      <td>2</td>\n",
       "      <td>1</td>\n",
       "      <td>1</td>\n",
       "    </tr>\n",
       "    <tr>\n",
       "      <th>fd748_00003</th>\n",
       "      <td>0.690781</td>\n",
       "      <td>0.015817</td>\n",
       "      <td>0.006858</td>\n",
       "      <td>True</td>\n",
       "      <td>None</td>\n",
       "      <td>None</td>\n",
       "      <td>10</td>\n",
       "      <td>883d29bebcbe4ef88fbb5f4f1d04b21d</td>\n",
       "      <td>2022-01-06_14-14-30</td>\n",
       "      <td>1641507270</td>\n",
       "      <td>...</td>\n",
       "      <td>10</td>\n",
       "      <td>3_eta=0.0002707,max_depth=7,subsample=0.89321</td>\n",
       "      <td>approx</td>\n",
       "      <td>binary:logistic</td>\n",
       "      <td>[logloss, error]</td>\n",
       "      <td>0.000271</td>\n",
       "      <td>0.893212</td>\n",
       "      <td>7</td>\n",
       "      <td>1</td>\n",
       "      <td>1</td>\n",
       "    </tr>\n",
       "  </tbody>\n",
       "</table>\n",
       "<p>4 rows × 26 columns</p>\n",
       "</div>"
      ],
      "text/plain": [
       "             train-logloss  train-error  time_this_iter_s  done  \\\n",
       "trial_id                                                          \n",
       "fd748_00000       0.671303     0.057996          0.005046  True   \n",
       "fd748_00001       0.691727     0.008787          0.005658  True   \n",
       "fd748_00002       0.461959     0.035149          0.006099  True   \n",
       "fd748_00003       0.690781     0.015817          0.006858  True   \n",
       "\n",
       "            timesteps_total episodes_total  training_iteration  \\\n",
       "trial_id                                                         \n",
       "fd748_00000            None           None                  10   \n",
       "fd748_00001            None           None                  10   \n",
       "fd748_00002            None           None                  10   \n",
       "fd748_00003            None           None                  10   \n",
       "\n",
       "                                experiment_id                 date  \\\n",
       "trial_id                                                             \n",
       "fd748_00000  79123a930dbf484a946b34b0721407c5  2022-01-06_14-14-24   \n",
       "fd748_00001  64a534de15de4149a4d0d45ac373df8d  2022-01-06_14-14-30   \n",
       "fd748_00002  9533d2ef95974537a6929027c6e82fcc  2022-01-06_14-14-30   \n",
       "fd748_00003  883d29bebcbe4ef88fbb5f4f1d04b21d  2022-01-06_14-14-30   \n",
       "\n",
       "              timestamp  ...  iterations_since_restore  \\\n",
       "trial_id                 ...                             \n",
       "fd748_00000  1641507264  ...                        10   \n",
       "fd748_00001  1641507270  ...                        10   \n",
       "fd748_00002  1641507270  ...                        10   \n",
       "fd748_00003  1641507270  ...                        10   \n",
       "\n",
       "                                            experiment_tag config.tree_method  \\\n",
       "trial_id                                                                        \n",
       "fd748_00000   0_eta=0.0032092,max_depth=1,subsample=0.5457             approx   \n",
       "fd748_00001  1_eta=0.00016056,max_depth=7,subsample=0.9316             approx   \n",
       "fd748_00002   2_eta=0.038053,max_depth=2,subsample=0.92326             approx   \n",
       "fd748_00003  3_eta=0.0002707,max_depth=7,subsample=0.89321             approx   \n",
       "\n",
       "            config.objective  config.eval_metric  config.eta  \\\n",
       "trial_id                                                       \n",
       "fd748_00000  binary:logistic    [logloss, error]    0.003209   \n",
       "fd748_00001  binary:logistic    [logloss, error]    0.000161   \n",
       "fd748_00002  binary:logistic    [logloss, error]    0.038053   \n",
       "fd748_00003  binary:logistic    [logloss, error]    0.000271   \n",
       "\n",
       "             config.subsample config.max_depth config.nthread config.n_jobs  \n",
       "trial_id                                                                     \n",
       "fd748_00000          0.545695                1              1             1  \n",
       "fd748_00001          0.931604                7              1             1  \n",
       "fd748_00002          0.923255                2              1             1  \n",
       "fd748_00003          0.893212                7              1             1  \n",
       "\n",
       "[4 rows x 26 columns]"
      ]
     },
     "execution_count": 8,
     "metadata": {},
     "output_type": "execute_result"
    }
   ],
   "source": [
    "analysis.results_df.head(5)"
   ]
  },
  {
   "cell_type": "code",
   "execution_count": 9,
   "id": "26be7928-b380-4135-a988-9e72dfaeda1b",
   "metadata": {},
   "outputs": [],
   "source": [
    "ray.shutdown()"
   ]
  },
  {
   "cell_type": "markdown",
   "id": "eda7f8e5-bf4c-436f-95b1-8609aecf170f",
   "metadata": {},
   "source": [
    "---"
   ]
  },
  {
   "cell_type": "markdown",
   "id": "d1886c8e-70ba-4776-94cd-a12916732f67",
   "metadata": {},
   "source": [
    "## References\n",
    "\n",
    " * [Ray Train: Tune: Scalable Hyperparameter Tuning](https://docs.ray.io/en/master/tune/index.html)\n",
    " * [Introducing Distributed XGBoost Training with Ray](https://www.anyscale.com/blog/distributed-xgboost-training-with-ray)\n",
    " * [How to Speed Up XGBoost Model Training](https://www.anyscale.com/blog/how-to-speed-up-xgboost-model-training)\n",
    " * [XGBoost-Ray Project](https://github.com/ray-project/xgboost_ray)\n",
    " * [Distributed XGBoost on Ray](https://docs.ray.io/en/latest/xgboost-ray.html)"
   ]
  }
 ],
 "metadata": {
  "kernelspec": {
   "display_name": "Python 3 (ipykernel)",
   "language": "python",
   "name": "python3"
  },
  "language_info": {
   "codemirror_mode": {
    "name": "ipython",
    "version": 3
   },
   "file_extension": ".py",
   "mimetype": "text/x-python",
   "name": "python",
   "nbconvert_exporter": "python",
   "pygments_lexer": "ipython3",
   "version": "3.8.12"
  }
 },
 "nbformat": 4,
 "nbformat_minor": 5
}
