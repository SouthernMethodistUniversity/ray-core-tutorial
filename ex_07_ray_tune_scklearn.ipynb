{
 "cells": [
  {
   "cell_type": "markdown",
   "id": "50156943",
   "metadata": {},
   "source": [
    "# Ray Crash Course  - Distributed HPO with Ray Tune's TuneGridSearchCV and Scikit-Learn\n",
    "\n",
    "© 2019-2022, Anyscale. All Rights Reserved\n",
    "\n",
    "This demo introduces **Ray tune's** key concepts using a classification example. Basically, there are three basic steps or Ray Tune pattern for you as a newcomer to get started with using Ray Tune. We'll use a drop-in replacement for normal Scikit-learn's `GridSearchCV` with distributed Ray Tune's `TuneGridSearchCV`.\n",
    "\n",
    "See also the [Understanding Hyperparameter Tuning](https://github.com/anyscale/academy/blob/main/ray-tune/02-Understanding-Hyperparameter-Tuning.ipynb) notebook and the [Tune documentation](http://tune.io), in particular, the [API reference](https://docs.ray.io/en/latest/tune/api_docs/overview.html). \n"
   ]
  },
  {
   "cell_type": "code",
   "execution_count": 10,
   "id": "eed803cc",
   "metadata": {},
   "outputs": [],
   "source": [
    "from sklearn.model_selection import GridSearchCV\n",
    "# Import Tune's replacement\n",
    "from ray.tune.sklearn import TuneGridSearchCV\n",
    "\n",
    "# Other relevant imports\n",
    "from sklearn.model_selection import train_test_split\n",
    "\n",
    "# Use the stochastic gradient descent (SGD) classifier\n",
    "from sklearn.linear_model import SGDClassifier\n",
    "\n",
    "# import the classification dataset\n",
    "from sklearn.datasets import make_classification\n",
    "import numpy as np\n",
    "import time\n",
    "import logging\n",
    "import ray"
   ]
  },
  {
   "cell_type": "code",
   "execution_count": 11,
   "id": "f93759e0",
   "metadata": {},
   "outputs": [
    {
     "name": "stderr",
     "output_type": "stream",
     "text": [
      "2022-03-28 15:05:32,035\tINFO services.py:1412 -- View the Ray dashboard at \u001b[1m\u001b[32mhttp://127.0.0.1:8266\u001b[39m\u001b[22m\n"
     ]
    }
   ],
   "source": [
    "CONNECT_TO_ANYSCALE=False\n",
    "if ray.is_initialized:\n",
    "    ray.shutdown()\n",
    "    if CONNECT_TO_ANYSCALE:\n",
    "        ray.init(\"anyscale://jsd-ray-core-tutorial\")\n",
    "    else:\n",
    "        ray.init()"
   ]
  },
  {
   "cell_type": "markdown",
   "id": "d9fc8350",
   "metadata": {},
   "source": [
    "### Create Feature Set\n",
    "\n",
    " * 250K rows\n",
    " * 250 features\n",
    " * 2 classes"
   ]
  },
  {
   "cell_type": "code",
   "execution_count": 12,
   "id": "13e7b4fc",
   "metadata": {},
   "outputs": [],
   "source": [
    "def create_classification_data() -> (np.ndarray, np.ndarray):\n",
    "    X, y = make_classification(\n",
    "        n_samples=250000,\n",
    "        n_features=250,\n",
    "        n_informative=50,\n",
    "        n_redundant=0,\n",
    "        n_classes=2,\n",
    "        class_sep=2.5)\n",
    "    return X, y"
   ]
  },
  {
   "cell_type": "markdown",
   "id": "f96c690a",
   "metadata": {},
   "source": [
    "### Create classification data and define parameter search space"
   ]
  },
  {
   "cell_type": "code",
   "execution_count": 13,
   "id": "a20ef947",
   "metadata": {},
   "outputs": [],
   "source": [
    "X, y = create_classification_data()\n",
    "# Split the dataset into train and test sets\n",
    "x_train, x_test, y_train, y_test = train_test_split(X, y, test_size=10000)\n",
    "\n",
    "# Example parameters grid to tune from SGDClassifier\n",
    "parameter_grid = {\"alpha\": [1e-4, 1e-1, 1], \"epsilon\": [0.01, 0.1]}"
   ]
  },
  {
   "cell_type": "markdown",
   "id": "a6916365",
   "metadata": {},
   "source": [
    "## Use Regular Scikit-learn GridSearch\n",
    "This will run on a single node using all its cores."
   ]
  },
  {
   "cell_type": "code",
   "execution_count": 14,
   "id": "335bc7de",
   "metadata": {},
   "outputs": [],
   "source": [
    "# n_jobs=-1 enables use of all cores does\n",
    "sklearn_search = GridSearchCV(SGDClassifier(),\n",
    "                    parameter_grid,\n",
    "                    n_jobs=-1,\n",
    "                    verbose=True)"
   ]
  },
  {
   "cell_type": "code",
   "execution_count": 15,
   "id": "57534c54",
   "metadata": {},
   "outputs": [
    {
     "name": "stdout",
     "output_type": "stream",
     "text": [
      "Fitting 5 folds for each of 6 candidates, totalling 30 fits\n",
      "CPU times: user 1.31 s, sys: 408 ms, total: 1.72 s\n",
      "Wall time: 17.5 s\n"
     ]
    },
    {
     "data": {
      "text/plain": [
       "GridSearchCV(estimator=SGDClassifier(), n_jobs=-1,\n",
       "             param_grid={'alpha': [0.0001, 0.1, 1], 'epsilon': [0.01, 0.1]},\n",
       "             verbose=True)"
      ]
     },
     "execution_count": 15,
     "metadata": {},
     "output_type": "execute_result"
    }
   ],
   "source": [
    "%%time\n",
    "sklearn_search.fit(x_train, y_train)"
   ]
  },
  {
   "cell_type": "code",
   "execution_count": 16,
   "id": "99557053",
   "metadata": {},
   "outputs": [
    {
     "name": "stdout",
     "output_type": "stream",
     "text": [
      "Standard Scikit-learn GridSearchCV Best params: {'alpha': 0.1, 'epsilon': 0.01}\n"
     ]
    }
   ],
   "source": [
    " print(f\"Standard Scikit-learn GridSearchCV Best params: {sklearn_search.best_params_}\")"
   ]
  },
  {
   "cell_type": "markdown",
   "id": "7c2a5ee5",
   "metadata": {},
   "source": [
    "## Use Ray's Scikit-learn drop-in replacement TuneGridSearchCV\n",
    "Use all cores on a Ray Cluster or local host to tune "
   ]
  },
  {
   "cell_type": "code",
   "execution_count": 17,
   "id": "2e100cde",
   "metadata": {},
   "outputs": [],
   "source": [
    "# Now let's do with Tune's in-place replacement\n",
    "# Note: If early_stopping=True, TuneGridSearchCV will default to using Tune’s ASHAScheduler.\n",
    "tune_sklearn = TuneGridSearchCV(SGDClassifier(), \n",
    "                    parameter_grid,\n",
    "                    early_stopping=True,\n",
    "                    max_iters=30,\n",
    "                    n_jobs=12,    # Use 40 cores if running on a cluster\n",
    "                    mode=\"min\",\n",
    "                    verbose=True)"
   ]
  },
  {
   "cell_type": "code",
   "execution_count": 18,
   "id": "a74c1d1a",
   "metadata": {},
   "outputs": [
    {
     "data": {
      "text/html": [
       "== Status ==<br>Current time: 2022-03-28 15:07:06 (running for 00:00:46.87)<br>Memory usage on this node: 14.7/32.0 GiB<br>Using AsyncHyperBand: num_stopped=5\n",
       "Bracket: Iter 16.000: -0.9741958333333333 | Iter 4.000: -0.9724479166666666 | Iter 1.000: -0.9742197916666667<br>Resources requested: 0/12 CPUs, 0/0 GPUs, 0.0/15.18 GiB heap, 0.0/2.0 GiB objects<br>Current best trial: 4bc83_00000 with average_test_score=0.9727041666666667 and parameters={'early_stopping': True, 'early_stop_type': <EarlyStopping.PARTIAL_FIT: 1>, 'X_id': ObjectRef(00ffffffffffffffffffffffffffffffffffffff0100000001000000), 'y_id': ObjectRef(00ffffffffffffffffffffffffffffffffffffff0100000002000000), 'groups': None, 'cv': StratifiedKFold(n_splits=5, random_state=None, shuffle=False), 'fit_params': {}, 'scoring': {'score': <function _passthrough_scorer at 0x7fab78ae8790>}, 'max_iters': 30, 'return_train_score': False, 'n_jobs': 1, 'metric_name': 'average_test_score', 'alpha': 0.0001, 'epsilon': 0.01, 'estimator_ids': [ObjectRef(00ffffffffffffffffffffffffffffffffffffff0100000003000000), ObjectRef(00ffffffffffffffffffffffffffffffffffffff0100000004000000), ObjectRef(00ffffffffffffffffffffffffffffffffffffff0100000005000000), ObjectRef(00ffffffffffffffffffffffffffffffffffffff0100000006000000), ObjectRef(00ffffffffffffffffffffffffffffffffffffff0100000007000000)]}<br>Result logdir: /Users/jules/ray_results/_Trainable_2022-03-28_15-06-19<br>Number of trials: 6/6 (6 TERMINATED)<br><br>"
      ],
      "text/plain": [
       "<IPython.core.display.HTML object>"
      ]
     },
     "metadata": {},
     "output_type": "display_data"
    },
    {
     "name": "stderr",
     "output_type": "stream",
     "text": [
      "2022-03-28 15:07:06,903\tINFO tune.py:639 -- Total run time: 47.52 seconds (46.86 seconds for the tuning loop).\n"
     ]
    },
    {
     "name": "stdout",
     "output_type": "stream",
     "text": [
      "CPU times: user 2.21 s, sys: 1.24 s, total: 3.45 s\n",
      "Wall time: 48.8 s\n"
     ]
    },
    {
     "data": {
      "text/plain": [
       "TuneGridSearchCV(early_stopping=<ray.tune.schedulers.async_hyperband.AsyncHyperBandScheduler object at 0x7fab3803c580>,\n",
       "                 estimator=SGDClassifier(),\n",
       "                 loggers=[<class 'ray.tune.logger.JsonLogger'>,\n",
       "                          <class 'ray.tune.logger.CSVLogger'>],\n",
       "                 max_iters=30, mode='min', n_jobs=12,\n",
       "                 param_grid={'alpha': [0.0001, 0.1, 1], 'epsilon': [0.01, 0.1]},\n",
       "                 scoring={'score': <function _passthrough_scorer at 0x7fab78ae8790>},\n",
       "                 sk_n_jobs=1, verbose=True)"
      ]
     },
     "execution_count": 18,
     "metadata": {},
     "output_type": "execute_result"
    }
   ],
   "source": [
    "%%time\n",
    "tune_sklearn.fit(x_train, y_train)"
   ]
  },
  {
   "cell_type": "code",
   "execution_count": 19,
   "id": "116b90ee",
   "metadata": {},
   "outputs": [
    {
     "name": "stdout",
     "output_type": "stream",
     "text": [
      "Ray Tune Scikit-learn TuneGridSearchCV Best params: {'alpha': 0.1, 'epsilon': 0.01}\n"
     ]
    }
   ],
   "source": [
    "print(f\"Ray Tune Scikit-learn TuneGridSearchCV Best params: {tune_sklearn.best_params}\")"
   ]
  },
  {
   "cell_type": "code",
   "execution_count": 20,
   "id": "4214cf5d-ce55-4a79-a294-93523b1a636c",
   "metadata": {},
   "outputs": [],
   "source": [
    "ray.shutdown()"
   ]
  }
 ],
 "metadata": {
  "kernelspec": {
   "display_name": "Python 3 (ipykernel)",
   "language": "python",
   "name": "python3"
  },
  "language_info": {
   "codemirror_mode": {
    "name": "ipython",
    "version": 3
   },
   "file_extension": ".py",
   "mimetype": "text/x-python",
   "name": "python",
   "nbconvert_exporter": "python",
   "pygments_lexer": "ipython3",
   "version": "3.8.12"
  }
 },
 "nbformat": 4,
 "nbformat_minor": 5
}
