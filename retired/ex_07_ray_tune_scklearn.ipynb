{
 "cells": [
  {
   "cell_type": "markdown",
   "id": "50156943",
   "metadata": {},
   "source": [
    "# Ray Crash Course  - Distributed HPO with Ray Tune's TuneGridSearchCV and Scikit-Learn\n",
    "\n",
    "© 2019-2022, Anyscale. All Rights Reserved\n",
    "\n",
    "This demo introduces **Ray tune's** key concepts using a classification example. Basically, there are three basic steps or Ray Tune pattern for you as a newcomer to get started with using Ray Tune. We'll use a drop-in replacement for normal Scikit-learn's `GridSearchCV` with distributed Ray Tune's `TuneGridSearchCV`.\n",
    "\n",
    "See also the [Understanding Hyperparameter Tuning](https://github.com/anyscale/academy/blob/main/ray-tune/02-Understanding-Hyperparameter-Tuning.ipynb) notebook and the [Tune documentation](http://tune.io), in particular, the [API reference](https://docs.ray.io/en/latest/tune/api_docs/overview.html). \n"
   ]
  },
  {
   "cell_type": "code",
   "execution_count": 22,
   "id": "eed803cc",
   "metadata": {},
   "outputs": [],
   "source": [
    "# Import Tune's replacement\n",
    "from ray.tune.sklearn import TuneGridSearchCV\n",
    "\n",
    "# Other relevant imports\n",
    "from sklearn.model_selection import train_test_split\n",
    "\n",
    "# Use the stochastic gradient descent (SGD) classifier\n",
    "from sklearn.linear_model import SGDClassifier\n",
    "\n",
    "# import the classification dataset\n",
    "from sklearn.datasets import make_classification\n",
    "import numpy as np\n",
    "import time\n",
    "import logging\n",
    "import ray"
   ]
  },
  {
   "cell_type": "code",
   "execution_count": 23,
   "id": "f93759e0",
   "metadata": {},
   "outputs": [
    {
     "name": "stderr",
     "output_type": "stream",
     "text": [
      "2022-04-19 11:19:38,906\tINFO services.py:1460 -- View the Ray dashboard at \u001b[1m\u001b[32mhttp://127.0.0.1:8265\u001b[39m\u001b[22m\n"
     ]
    }
   ],
   "source": [
    "CONNECT_TO_ANYSCALE=False\n",
    "if ray.is_initialized:\n",
    "    ray.shutdown()\n",
    "    if CONNECT_TO_ANYSCALE:\n",
    "        ray.init(\"anyscale://jsd-ray-core-tutorial\")\n",
    "    else:\n",
    "        ray.init()"
   ]
  },
  {
   "cell_type": "markdown",
   "id": "d9fc8350",
   "metadata": {},
   "source": [
    "### Create Feature Set\n",
    "\n",
    " * 250K rows\n",
    " * 250 features\n",
    " * 2 classes"
   ]
  },
  {
   "cell_type": "code",
   "execution_count": 24,
   "id": "13e7b4fc",
   "metadata": {},
   "outputs": [],
   "source": [
    "def create_classification_data() -> (np.ndarray, np.ndarray):\n",
    "    X, y = make_classification(\n",
    "        n_samples=250000,\n",
    "        n_features=250,\n",
    "        n_informative=50,\n",
    "        n_redundant=0,\n",
    "        n_classes=2,\n",
    "        class_sep=2.5)\n",
    "    return X, y"
   ]
  },
  {
   "cell_type": "markdown",
   "id": "f96c690a",
   "metadata": {},
   "source": [
    "### Create classification data and define parameter search space"
   ]
  },
  {
   "cell_type": "code",
   "execution_count": 25,
   "id": "a20ef947",
   "metadata": {},
   "outputs": [],
   "source": [
    "X, y = create_classification_data()\n",
    "# Split the dataset into train and test sets\n",
    "x_train, x_test, y_train, y_test = train_test_split(X, y, test_size=10000)\n",
    "\n",
    "# Example parameters grid to tune from SGDClassifier\n",
    "parameter_grid = {\"alpha\": [1e-4, 1e-1, 1], \"epsilon\": [0.01, 0.1]}"
   ]
  },
  {
   "cell_type": "markdown",
   "id": "7c2a5ee5",
   "metadata": {},
   "source": [
    "## Use Ray's Scikit-learn drop-in replacement TuneGridSearchCV\n",
    "Use all cores on a Ray Cluster or local host to tune "
   ]
  },
  {
   "cell_type": "code",
   "execution_count": 26,
   "id": "2e100cde",
   "metadata": {},
   "outputs": [],
   "source": [
    "# Now let's do with Tune's in-place replacement\n",
    "# Note: If early_stopping=True, TuneGridSearchCV will default to using Tune’s ASHAScheduler.\n",
    "tune_sklearn = TuneGridSearchCV(SGDClassifier(), \n",
    "                    parameter_grid,\n",
    "                    early_stopping=True,\n",
    "                    max_iters=30,\n",
    "                    n_jobs=12,    # Use 40 cores if running on a cluster\n",
    "                    mode=\"min\",\n",
    "                    verbose=True)"
   ]
  },
  {
   "cell_type": "code",
   "execution_count": 27,
   "id": "a74c1d1a",
   "metadata": {},
   "outputs": [
    {
     "data": {
      "text/html": [
       "== Status ==<br>Current time: 2022-04-19 11:21:00 (running for 00:01:00.03)<br>Memory usage on this node: 14.4/32.0 GiB<br>Using AsyncHyperBand: num_stopped=4\n",
       "Bracket: Iter 16.000: -0.9791052083333334 | Iter 4.000: -0.9734739583333334 | Iter 1.000: -0.9747270833333332<br>Resources requested: 0/12 CPUs, 0/0 GPUs, 0.0/15.61 GiB heap, 0.0/2.0 GiB objects<br>Current best trial: 52e75_00003 with average_test_score=0.9806791666666668 and parameters={'early_stopping': True, 'early_stop_type': <EarlyStopping.PARTIAL_FIT: 1>, 'groups': None, 'cv': StratifiedKFold(n_splits=5, random_state=None, shuffle=False), 'fit_params': {}, 'scoring': {'score': <function _passthrough_scorer at 0x7f92a093d8b0>}, 'max_iters': 30, 'return_train_score': False, 'n_jobs': 1, 'metric_name': 'average_test_score', 'alpha': 0.0001, 'epsilon': 0.1}<br>Result logdir: /Users/jules/ray_results/_Trainable_2022-04-19_11-19-59<br>Number of trials: 6/6 (6 TERMINATED)<br><br>"
      ],
      "text/plain": [
       "<IPython.core.display.HTML object>"
      ]
     },
     "metadata": {},
     "output_type": "display_data"
    },
    {
     "name": "stderr",
     "output_type": "stream",
     "text": [
      "2022-04-19 11:21:00,108\tINFO tune.py:702 -- Total run time: 60.15 seconds (60.03 seconds for the tuning loop).\n"
     ]
    },
    {
     "name": "stdout",
     "output_type": "stream",
     "text": [
      "CPU times: user 2.03 s, sys: 1.28 s, total: 3.31 s\n",
      "Wall time: 1min 1s\n"
     ]
    },
    {
     "data": {
      "text/plain": [
       "TuneGridSearchCV(early_stopping=True, estimator=SGDClassifier(), max_iters=30,\n",
       "                 mode='min', n_jobs=12,\n",
       "                 param_grid={'alpha': [0.0001, 0.1, 1], 'epsilon': [0.01, 0.1]},\n",
       "                 sk_n_jobs=1, verbose=True)"
      ]
     },
     "execution_count": 27,
     "metadata": {},
     "output_type": "execute_result"
    }
   ],
   "source": [
    "%%time\n",
    "tune_sklearn.fit(x_train, y_train)"
   ]
  },
  {
   "cell_type": "code",
   "execution_count": 29,
   "id": "116b90ee",
   "metadata": {},
   "outputs": [
    {
     "name": "stdout",
     "output_type": "stream",
     "text": [
      "Ray Tune Scikit-learn TuneGridSearchCV Best params: {'alpha': 0.1, 'epsilon': 0.1}\n"
     ]
    }
   ],
   "source": [
    "print(f\"Ray Tune Scikit-learn TuneGridSearchCV Best params: {tune_sklearn.best_params}\")"
   ]
  },
  {
   "cell_type": "code",
   "execution_count": 30,
   "id": "4214cf5d-ce55-4a79-a294-93523b1a636c",
   "metadata": {},
   "outputs": [],
   "source": [
    "ray.shutdown()"
   ]
  },
  {
   "cell_type": "markdown",
   "id": "9d9517b3-c139-4cc8-84cd-12a1aa224385",
   "metadata": {},
   "source": [
    "### Homework\n",
    "\n",
    "1. Try some [Tune How-to guides](https://docs.ray.io/en/latest/tune/examples/index.html) "
   ]
  }
 ],
 "metadata": {
  "kernelspec": {
   "display_name": "Python 3 (ipykernel)",
   "language": "python",
   "name": "python3"
  },
  "language_info": {
   "codemirror_mode": {
    "name": "ipython",
    "version": 3
   },
   "file_extension": ".py",
   "mimetype": "text/x-python",
   "name": "python",
   "nbconvert_exporter": "python",
   "pygments_lexer": "ipython3",
   "version": "3.8.13"
  }
 },
 "nbformat": 4,
 "nbformat_minor": 5
}
