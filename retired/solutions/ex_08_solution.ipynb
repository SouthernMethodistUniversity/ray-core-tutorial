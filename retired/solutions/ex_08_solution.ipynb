{
 "cells": [
  {
   "cell_type": "code",
   "execution_count": 1,
   "id": "fbd3efe1-5183-4393-91ad-566aaddee191",
   "metadata": {},
   "outputs": [],
   "source": [
    "import ray\n",
    "from ray import serve\n",
    "import random\n",
    "\n",
    "import requests"
   ]
  },
  {
   "cell_type": "code",
   "execution_count": 2,
   "id": "f717b5af-3ee4-4d35-96ea-5ea8be26470e",
   "metadata": {},
   "outputs": [
    {
     "name": "stderr",
     "output_type": "stream",
     "text": [
      "2022-04-12 18:56:04,726\tINFO services.py:1460 -- View the Ray dashboard at \u001b[1m\u001b[32mhttp://127.0.0.1:8266\u001b[39m\u001b[22m\n",
      "\u001b[2m\u001b[36m(ServeController pid=71592)\u001b[0m 2022-04-12 18:56:08,436\tINFO checkpoint_path.py:15 -- Using RayInternalKVStore for controller checkpoint and recovery.\n",
      "\u001b[2m\u001b[36m(ServeController pid=71592)\u001b[0m 2022-04-12 18:56:08,544\tINFO http_state.py:106 -- Starting HTTP proxy with name 'SERVE_CONTROLLER_ACTOR:ziytnj:SERVE_PROXY_ACTOR-node:127.0.0.1-0' on node 'node:127.0.0.1-0' listening on '127.0.0.1:8000'\n",
      "2022-04-12 18:56:09,786\tINFO api.py:797 -- Started Serve instance in namespace 'serve'.\n"
     ]
    },
    {
     "data": {
      "text/plain": [
       "<ray.serve.api.Client at 0x7fa8d8c0d2b0>"
      ]
     },
     "execution_count": 2,
     "metadata": {},
     "output_type": "execute_result"
    }
   ],
   "source": [
    "serve.start()"
   ]
  },
  {
   "cell_type": "markdown",
   "id": "55dff614-a30a-44d0-842b-a24e196450a1",
   "metadata": {},
   "source": [
    "### Create a Python function deployment "
   ]
  },
  {
   "cell_type": "code",
   "execution_count": 3,
   "id": "9e8cd218-a831-4e12-b89a-46f878e46b97",
   "metadata": {},
   "outputs": [],
   "source": [
    "@serve.deployment\n",
    "def my_ray_serve_function(request):\n",
    "    args = request.query_params[\"data\"]\n",
    "    result = random.random() * float(args)\n",
    "    return f\"Result: {result:.3f}\" "
   ]
  },
  {
   "cell_type": "code",
   "execution_count": 4,
   "id": "408bc6bc-70bd-4d15-a9f9-0825253b9933",
   "metadata": {},
   "outputs": [
    {
     "name": "stderr",
     "output_type": "stream",
     "text": [
      "2022-04-12 18:56:09,807\tINFO api.py:618 -- Updating deployment 'my_ray_serve_function'. component=serve deployment=my_ray_serve_function\n",
      "\u001b[2m\u001b[36m(HTTPProxyActor pid=71609)\u001b[0m INFO:     Started server process [71609]\n",
      "\u001b[2m\u001b[36m(ServeController pid=71592)\u001b[0m 2022-04-12 18:56:09,816\tINFO deployment_state.py:1210 -- Adding 1 replicas to deployment 'my_ray_serve_function'. component=serve deployment=my_ray_serve_function\n",
      "2022-04-12 18:56:11,815\tINFO api.py:633 -- Deployment 'my_ray_serve_function' is ready at `http://127.0.0.1:8000/my_ray_serve_function`. component=serve deployment=my_ray_serve_function\n"
     ]
    }
   ],
   "source": [
    "my_ray_serve_function.deploy()"
   ]
  },
  {
   "cell_type": "markdown",
   "id": "96d82a0b-0921-456a-8d1c-2a4970f08f1a",
   "metadata": {},
   "source": [
    "### Send Request to the function "
   ]
  },
  {
   "cell_type": "code",
   "execution_count": 5,
   "id": "5a7f4db8-5819-4a36-a39e-45b620ffb1de",
   "metadata": {},
   "outputs": [
    {
     "name": "stdout",
     "output_type": "stream",
     "text": [
      " 0: Result: 0.000\n",
      " 1: Result: 0.908\n",
      " 2: Result: 0.415\n",
      " 3: Result: 1.428\n",
      " 4: Result: 0.339\n"
     ]
    }
   ],
   "source": [
    "for i in range(5):\n",
    "    response = requests.get(f\"http://127.0.0.1:8000/my_ray_serve_function?data={i}\").text\n",
    "    print(f'{i:2d}: {response:}')"
   ]
  },
  {
   "cell_type": "markdown",
   "id": "2dde668f-0705-4c9c-88bb-bf468e7c02d1",
   "metadata": {},
   "source": [
    "### Create a stateful class"
   ]
  },
  {
   "cell_type": "code",
   "execution_count": 17,
   "id": "93b5247b-b7c3-4dd0-9919-f460407ce79d",
   "metadata": {},
   "outputs": [],
   "source": [
    "from random import random\n",
    "import starlette\n",
    "from starlette.requests import Request\n",
    "\n",
    "@serve.deployment\n",
    "class Model:\n",
    "    \n",
    "    def __init__(self, threshold):\n",
    "        self.threshold = threshold\n",
    "        \n",
    "    def __call__(self, starlette_request):\n",
    "        if isinstance(starlette_request, starlette.requests.Request):\n",
    "            data = starlette_request.query_params['data']\n",
    "        else:\n",
    "            # Request came via a ServerHandle API method call.\n",
    "            data = starlette_request\n",
    "        prediction = random() + float(data) if float(data) > self.threshold else float(data)\n",
    "        return {\"prediction\": prediction}"
   ]
  },
  {
   "cell_type": "code",
   "execution_count": 18,
   "id": "52e32071-e4d4-4d02-8421-3e542736384c",
   "metadata": {},
   "outputs": [
    {
     "name": "stderr",
     "output_type": "stream",
     "text": [
      "2022-04-12 19:02:07,168\tINFO api.py:618 -- Updating deployment 'Model'. component=serve deployment=Model\n",
      "\u001b[2m\u001b[36m(ServeController pid=71592)\u001b[0m 2022-04-12 19:02:07,272\tINFO deployment_state.py:1167 -- Stopping 1 replicas of deployment 'Model' with outdated versions. component=serve deployment=Model\n",
      "\u001b[2m\u001b[36m(ServeController pid=71592)\u001b[0m 2022-04-12 19:02:09,424\tINFO deployment_state.py:1210 -- Adding 1 replicas to deployment 'Model'. component=serve deployment=Model\n",
      "2022-04-12 19:02:11,195\tINFO api.py:633 -- Deployment 'Model' is ready at `http://127.0.0.1:8000/Model`. component=serve deployment=Model\n"
     ]
    }
   ],
   "source": [
    "Model.deploy(0.5)"
   ]
  },
  {
   "cell_type": "markdown",
   "id": "3e9c9748-eeb2-4937-89e9-5f53f123edd2",
   "metadata": {},
   "source": [
    "### Send requests to the model"
   ]
  },
  {
   "cell_type": "code",
   "execution_count": 19,
   "id": "f5636ab1-823b-4e12-8d6d-bae8a9c03985",
   "metadata": {},
   "outputs": [
    {
     "name": "stdout",
     "output_type": "stream",
     "text": [
      "prediction  : {\n",
      "  \"prediction\": 1.5609795907065314\n",
      "}\n",
      "prediction  : {\n",
      "  \"prediction\": 0.25009238923849064\n",
      "}\n",
      "prediction  : {\n",
      "  \"prediction\": 0.3763580629780887\n",
      "}\n",
      "prediction  : {\n",
      "  \"prediction\": 0.30675872742057997\n",
      "}\n",
      "prediction  : {\n",
      "  \"prediction\": 0.04218724913945959\n",
      "}\n"
     ]
    }
   ],
   "source": [
    "url = f\"http://127.0.0.1:8000/Model\"\n",
    "for i in range(5):\n",
    "    print(f\"prediction  : {requests.get(url, params={'data': random()}).text}\")"
   ]
  },
  {
   "cell_type": "raw",
   "id": "54b49569-7f61-4674-987a-19e095151a64",
   "metadata": {},
   "source": [
    "serve.shutdown()"
   ]
  }
 ],
 "metadata": {
  "kernelspec": {
   "display_name": "Python 3 (ipykernel)",
   "language": "python",
   "name": "python3"
  },
  "language_info": {
   "codemirror_mode": {
    "name": "ipython",
    "version": 3
   },
   "file_extension": ".py",
   "mimetype": "text/x-python",
   "name": "python",
   "nbconvert_exporter": "python",
   "pygments_lexer": "ipython3",
   "version": "3.8.12"
  }
 },
 "nbformat": 4,
 "nbformat_minor": 5
}
