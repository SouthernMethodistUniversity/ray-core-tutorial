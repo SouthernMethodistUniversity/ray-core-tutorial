{
 "cells": [
  {
   "cell_type": "markdown",
   "id": "f2f8ad5d-4621-4fa2-887b-9696008d9b42",
   "metadata": {},
   "source": [
    "# Ray crash course - Distributed HPO with Ray Tune and XGBoost-Ray\n",
    "\n",
    "© 2019-2022, Anyscale. All Rights Reserved\n",
    "\n",
    "This demo introduces **Ray tune's** key concepts using a classification example. This example is derived from [Hyperparameter Tuning with Ray Tune and XGBoost-Ray](https://github.com/ray-project/xgboost_ray#hyperparameter-tuning). Basically, there are three basic steps or Ray Tune pattern for you as a newcomer to get started with using Ray Tune.\n",
    "\n",
    "Three simple steps:\n",
    "\n",
    " 1. Setup your config space and define your trainable and objective function\n",
    " 2. Use Tune to execute your training hyperparameter sweep, supplying the appropriate arguments including: search space, [search algorithms](https://docs.ray.io/en/latest/tune/api_docs/suggestion.html#summary) or [trial schedulers](https://docs.ray.io/en/latest/tune/api_docs/schedulers.html#tune-schedulers)\n",
    " 3. Examine or analyse the results returned\n",
    " \n",
    " <img src=\"https://docs.ray.io/en/latest/_images/tune_flow.png\" height=\"50%\" width=\"60%\">\n",
    "\n",
    "\n",
    "See also the [Understanding Hyperparameter Tuning](https://github.com/anyscale/academy/blob/main/ray-tune/02-Understanding-Hyperparameter-Tuning.ipynb) notebook and the [Tune documentation](http://tune.io), in particular, the [API reference](https://docs.ray.io/en/latest/tune/api_docs/overview.html). \n"
   ]
  },
  {
   "cell_type": "code",
   "execution_count": 38,
   "id": "f2b8885d-b698-419f-b43f-d91a073052c8",
   "metadata": {},
   "outputs": [],
   "source": [
    "import os\n",
    "\n",
    "from xgboost_ray import RayDMatrix, RayParams, train\n",
    "from sklearn.datasets import load_breast_cancer\n",
    "\n",
    "import ray\n",
    "from ray import tune\n",
    "CONNECT_TO_ANYSCALE=False"
   ]
  },
  {
   "cell_type": "code",
   "execution_count": 39,
   "id": "94dd77f0-672e-461c-ad45-ff9b5079c819",
   "metadata": {},
   "outputs": [
    {
     "name": "stderr",
     "output_type": "stream",
     "text": [
      "2022-04-19 13:10:26,474\tINFO services.py:1460 -- View the Ray dashboard at \u001b[1m\u001b[32mhttp://127.0.0.1:8265\u001b[39m\u001b[22m\n"
     ]
    }
   ],
   "source": [
    "if ray.is_initialized:\n",
    "    ray.shutdown()\n",
    "    if CONNECT_TO_ANYSCALE:\n",
    "        ray.init(\"anyscale://jsd-ray-core-tutorial\")\n",
    "    else:\n",
    "        ray.init()"
   ]
  },
  {
   "cell_type": "markdown",
   "id": "6e7515b4-c4eb-4068-a908-f53769ef35ab",
   "metadata": {},
   "source": [
    "## Step 1: Define a 'Trainable' training function to use with Ray Tune `ray.tune(...)`"
   ]
  },
  {
   "cell_type": "code",
   "execution_count": 40,
   "id": "4b632024-1e88-4972-8687-46d58a5910f6",
   "metadata": {},
   "outputs": [],
   "source": [
    "NUM_OF_ACTORS = 4           # degree of parallel trials; each actor will have a separate trial with a set of unique config from the search space\n",
    "NUM_OF_CPUS_PER_ACTOR = 1   # number of CPUs per actor\n",
    "\n",
    "ray_params = RayParams(num_actors=NUM_OF_ACTORS, cpus_per_actor=NUM_OF_CPUS_PER_ACTOR)"
   ]
  },
  {
   "cell_type": "code",
   "execution_count": 41,
   "id": "72ab5961-daac-4986-a9d3-5c224990c51a",
   "metadata": {},
   "outputs": [],
   "source": [
    "def train_func_model(config:dict, checkpoint_dir=None):\n",
    "    # create the dataset\n",
    "    train_X, train_y = load_breast_cancer(return_X_y=True)\n",
    "    # Convert to RayDMatrix data structure\n",
    "    train_set = RayDMatrix(train_X, train_y)\n",
    "\n",
    "    # Empty dictionary for the evaluation results reported back\n",
    "    # to tune\n",
    "    evals_result = {}\n",
    "\n",
    "    # Train the model with XGBoost train\n",
    "    bst = train(\n",
    "        params=config,                       # our hyperparameter search space\n",
    "        dtrain=train_set,                    # our RayDMatrix data structure\n",
    "        evals_result=evals_result,           # place holder for results\n",
    "        evals=[(train_set, \"train\")],\n",
    "        verbose_eval=False,\n",
    "        ray_params=ray_params)                # distributed parameters configs for Ray Tune\n",
    "    \n",
    "    # save the model in the checkpoint dir for each trial run\n",
    "    with tune.checkpoint_dir(step=0) as checkpoint_dir:\n",
    "        bst.save_model(os.path.join(checkpoint_dir, \"model.xgb\"))"
   ]
  },
  {
   "cell_type": "markdown",
   "id": "73f68cc5-6999-4bef-99e8-f68c6a5052c5",
   "metadata": {},
   "source": [
    "## Step 2: Define a hyperparameter search space"
   ]
  },
  {
   "cell_type": "code",
   "execution_count": 42,
   "id": "9a35e0c3-f0e5-4efd-a7a8-ffdf28dc5216",
   "metadata": {},
   "outputs": [],
   "source": [
    " # Specify the typical hyperparameter search space\n",
    "config = {\n",
    "    \"tree_method\": \"approx\",\n",
    "    \"objective\": \"binary:logistic\",\n",
    "    \"eval_metric\": [\"logloss\", \"error\"],\n",
    "    \"eta\": tune.loguniform(1e-4, 1e-1),\n",
    "    \"subsample\": tune.uniform(0.5, 1.0),\n",
    "    \"max_depth\": tune.randint(1, 9)\n",
    "}"
   ]
  },
  {
   "cell_type": "markdown",
   "id": "46ee450f-0eee-4fa1-ad81-f39a3247ef12",
   "metadata": {},
   "source": [
    "## Step 3: Run Ray tune main trainer and examine the results\n",
    "\n",
    "Ray Tune will launch distributed HPO, using four remote actors, each with its own instance of the trainable func\n",
    "\n",
    "<img src=\"images/ray_tune_dist_hpo.png\" height=\"60%\" width=\"70%\"> "
   ]
  },
  {
   "cell_type": "code",
   "execution_count": 43,
   "id": "c36a1548-90e7-4699-98d1-7e88cbab154f",
   "metadata": {},
   "outputs": [
    {
     "data": {
      "text/html": [
       "== Status ==<br>Current time: 2022-04-19 13:10:59 (running for 00:00:22.63)<br>Memory usage on this node: 17.9/32.0 GiB<br>Using FIFO scheduling algorithm.<br>Resources requested: 0/12 CPUs, 0/0 GPUs, 0.0/11.99 GiB heap, 0.0/2.0 GiB objects<br>Current best trial: c6cab_00003 with train-error=0.01406 and parameters={'tree_method': 'approx', 'objective': 'binary:logistic', 'eval_metric': ['logloss', 'error'], 'eta': 0.00014427164112291156, 'subsample': 0.9017039270833161, 'max_depth': 7, 'nthread': 1, 'n_jobs': 1}<br>Result logdir: /Users/jules/ray_results/train_func_model_2022-04-19_13-10-36<br>Number of trials: 4/4 (4 TERMINATED)<br><br>"
      ],
      "text/plain": [
       "<IPython.core.display.HTML object>"
      ]
     },
     "metadata": {},
     "output_type": "display_data"
    },
    {
     "name": "stderr",
     "output_type": "stream",
     "text": [
      "2022-04-19 13:10:59,588\tINFO tune.py:702 -- Total run time: 22.75 seconds (22.63 seconds for the tuning loop).\n"
     ]
    }
   ],
   "source": [
    "# Run tune\n",
    "analysis = tune.run(\n",
    "    train_func_model,\n",
    "    config=config,\n",
    "    metric=\"train-error\",\n",
    "    mode=\"min\",\n",
    "    num_samples=4,\n",
    "    verbose=1,\n",
    "    resources_per_trial=ray_params.get_tune_resources()\n",
    ")"
   ]
  },
  {
   "cell_type": "code",
   "execution_count": 44,
   "id": "10ab3eaa-9002-4950-a29e-9790298de949",
   "metadata": {},
   "outputs": [
    {
     "name": "stdout",
     "output_type": "stream",
     "text": [
      "Best hyperparameters {'tree_method': 'approx', 'objective': 'binary:logistic', 'eval_metric': ['logloss', 'error'], 'eta': 0.00014427164112291156, 'subsample': 0.9017039270833161, 'max_depth': 7}\n"
     ]
    }
   ],
   "source": [
    "print(\"Best hyperparameters\", analysis.best_config)"
   ]
  },
  {
   "cell_type": "code",
   "execution_count": 45,
   "id": "405aff3f-88c9-4c07-b9b1-89dfa6f7a580",
   "metadata": {},
   "outputs": [
    {
     "data": {
      "text/html": [
       "<div>\n",
       "<style scoped>\n",
       "    .dataframe tbody tr th:only-of-type {\n",
       "        vertical-align: middle;\n",
       "    }\n",
       "\n",
       "    .dataframe tbody tr th {\n",
       "        vertical-align: top;\n",
       "    }\n",
       "\n",
       "    .dataframe thead th {\n",
       "        text-align: right;\n",
       "    }\n",
       "</style>\n",
       "<table border=\"1\" class=\"dataframe\">\n",
       "  <thead>\n",
       "    <tr style=\"text-align: right;\">\n",
       "      <th></th>\n",
       "      <th>train-logloss</th>\n",
       "      <th>train-error</th>\n",
       "      <th>time_this_iter_s</th>\n",
       "      <th>done</th>\n",
       "      <th>timesteps_total</th>\n",
       "      <th>episodes_total</th>\n",
       "      <th>training_iteration</th>\n",
       "      <th>experiment_id</th>\n",
       "      <th>date</th>\n",
       "      <th>timestamp</th>\n",
       "      <th>...</th>\n",
       "      <th>warmup_time</th>\n",
       "      <th>experiment_tag</th>\n",
       "      <th>config.tree_method</th>\n",
       "      <th>config.objective</th>\n",
       "      <th>config.eval_metric</th>\n",
       "      <th>config.eta</th>\n",
       "      <th>config.subsample</th>\n",
       "      <th>config.max_depth</th>\n",
       "      <th>config.nthread</th>\n",
       "      <th>config.n_jobs</th>\n",
       "    </tr>\n",
       "    <tr>\n",
       "      <th>trial_id</th>\n",
       "      <th></th>\n",
       "      <th></th>\n",
       "      <th></th>\n",
       "      <th></th>\n",
       "      <th></th>\n",
       "      <th></th>\n",
       "      <th></th>\n",
       "      <th></th>\n",
       "      <th></th>\n",
       "      <th></th>\n",
       "      <th></th>\n",
       "      <th></th>\n",
       "      <th></th>\n",
       "      <th></th>\n",
       "      <th></th>\n",
       "      <th></th>\n",
       "      <th></th>\n",
       "      <th></th>\n",
       "      <th></th>\n",
       "      <th></th>\n",
       "      <th></th>\n",
       "    </tr>\n",
       "  </thead>\n",
       "  <tbody>\n",
       "    <tr>\n",
       "      <th>c6cab_00000</th>\n",
       "      <td>0.534440</td>\n",
       "      <td>0.028120</td>\n",
       "      <td>0.007696</td>\n",
       "      <td>True</td>\n",
       "      <td>None</td>\n",
       "      <td>None</td>\n",
       "      <td>10</td>\n",
       "      <td>a32c559970074412bbe511c236704d23</td>\n",
       "      <td>2022-04-19_13-10-45</td>\n",
       "      <td>1650399045</td>\n",
       "      <td>...</td>\n",
       "      <td>0.003457</td>\n",
       "      <td>0_eta=0.0229,max_depth=3,subsample=0.6016</td>\n",
       "      <td>approx</td>\n",
       "      <td>binary:logistic</td>\n",
       "      <td>[logloss, error]</td>\n",
       "      <td>0.022904</td>\n",
       "      <td>0.601579</td>\n",
       "      <td>3</td>\n",
       "      <td>1</td>\n",
       "      <td>1</td>\n",
       "    </tr>\n",
       "    <tr>\n",
       "      <th>c6cab_00001</th>\n",
       "      <td>0.644833</td>\n",
       "      <td>0.038664</td>\n",
       "      <td>0.004796</td>\n",
       "      <td>True</td>\n",
       "      <td>None</td>\n",
       "      <td>None</td>\n",
       "      <td>10</td>\n",
       "      <td>ee042876a8c3491086531bd510b155fd</td>\n",
       "      <td>2022-04-19_13-10-48</td>\n",
       "      <td>1650399048</td>\n",
       "      <td>...</td>\n",
       "      <td>0.002940</td>\n",
       "      <td>1_eta=0.0063,max_depth=2,subsample=0.7052</td>\n",
       "      <td>approx</td>\n",
       "      <td>binary:logistic</td>\n",
       "      <td>[logloss, error]</td>\n",
       "      <td>0.006308</td>\n",
       "      <td>0.705180</td>\n",
       "      <td>2</td>\n",
       "      <td>1</td>\n",
       "      <td>1</td>\n",
       "    </tr>\n",
       "    <tr>\n",
       "      <th>c6cab_00002</th>\n",
       "      <td>0.658369</td>\n",
       "      <td>0.073814</td>\n",
       "      <td>0.005228</td>\n",
       "      <td>True</td>\n",
       "      <td>None</td>\n",
       "      <td>None</td>\n",
       "      <td>10</td>\n",
       "      <td>1f3fd18913284667b705feb095ff2740</td>\n",
       "      <td>2022-04-19_13-10-54</td>\n",
       "      <td>1650399054</td>\n",
       "      <td>...</td>\n",
       "      <td>0.002776</td>\n",
       "      <td>2_eta=0.0051,max_depth=1,subsample=0.7892</td>\n",
       "      <td>approx</td>\n",
       "      <td>binary:logistic</td>\n",
       "      <td>[logloss, error]</td>\n",
       "      <td>0.005146</td>\n",
       "      <td>0.789170</td>\n",
       "      <td>1</td>\n",
       "      <td>1</td>\n",
       "      <td>1</td>\n",
       "    </tr>\n",
       "    <tr>\n",
       "      <th>c6cab_00003</th>\n",
       "      <td>0.691881</td>\n",
       "      <td>0.014060</td>\n",
       "      <td>0.004248</td>\n",
       "      <td>True</td>\n",
       "      <td>None</td>\n",
       "      <td>None</td>\n",
       "      <td>10</td>\n",
       "      <td>e1e89dd6d50c467a8d8431acb1085010</td>\n",
       "      <td>2022-04-19_13-10-58</td>\n",
       "      <td>1650399058</td>\n",
       "      <td>...</td>\n",
       "      <td>0.003222</td>\n",
       "      <td>3_eta=0.0001,max_depth=7,subsample=0.9017</td>\n",
       "      <td>approx</td>\n",
       "      <td>binary:logistic</td>\n",
       "      <td>[logloss, error]</td>\n",
       "      <td>0.000144</td>\n",
       "      <td>0.901704</td>\n",
       "      <td>7</td>\n",
       "      <td>1</td>\n",
       "      <td>1</td>\n",
       "    </tr>\n",
       "  </tbody>\n",
       "</table>\n",
       "<p>4 rows × 27 columns</p>\n",
       "</div>"
      ],
      "text/plain": [
       "             train-logloss  train-error  time_this_iter_s  done  \\\n",
       "trial_id                                                          \n",
       "c6cab_00000       0.534440     0.028120          0.007696  True   \n",
       "c6cab_00001       0.644833     0.038664          0.004796  True   \n",
       "c6cab_00002       0.658369     0.073814          0.005228  True   \n",
       "c6cab_00003       0.691881     0.014060          0.004248  True   \n",
       "\n",
       "            timesteps_total episodes_total  training_iteration  \\\n",
       "trial_id                                                         \n",
       "c6cab_00000            None           None                  10   \n",
       "c6cab_00001            None           None                  10   \n",
       "c6cab_00002            None           None                  10   \n",
       "c6cab_00003            None           None                  10   \n",
       "\n",
       "                                experiment_id                 date  \\\n",
       "trial_id                                                             \n",
       "c6cab_00000  a32c559970074412bbe511c236704d23  2022-04-19_13-10-45   \n",
       "c6cab_00001  ee042876a8c3491086531bd510b155fd  2022-04-19_13-10-48   \n",
       "c6cab_00002  1f3fd18913284667b705feb095ff2740  2022-04-19_13-10-54   \n",
       "c6cab_00003  e1e89dd6d50c467a8d8431acb1085010  2022-04-19_13-10-58   \n",
       "\n",
       "              timestamp  ...  warmup_time  \\\n",
       "trial_id                 ...                \n",
       "c6cab_00000  1650399045  ...     0.003457   \n",
       "c6cab_00001  1650399048  ...     0.002940   \n",
       "c6cab_00002  1650399054  ...     0.002776   \n",
       "c6cab_00003  1650399058  ...     0.003222   \n",
       "\n",
       "                                        experiment_tag config.tree_method  \\\n",
       "trial_id                                                                    \n",
       "c6cab_00000  0_eta=0.0229,max_depth=3,subsample=0.6016             approx   \n",
       "c6cab_00001  1_eta=0.0063,max_depth=2,subsample=0.7052             approx   \n",
       "c6cab_00002  2_eta=0.0051,max_depth=1,subsample=0.7892             approx   \n",
       "c6cab_00003  3_eta=0.0001,max_depth=7,subsample=0.9017             approx   \n",
       "\n",
       "            config.objective  config.eval_metric  config.eta  \\\n",
       "trial_id                                                       \n",
       "c6cab_00000  binary:logistic    [logloss, error]    0.022904   \n",
       "c6cab_00001  binary:logistic    [logloss, error]    0.006308   \n",
       "c6cab_00002  binary:logistic    [logloss, error]    0.005146   \n",
       "c6cab_00003  binary:logistic    [logloss, error]    0.000144   \n",
       "\n",
       "             config.subsample  config.max_depth config.nthread config.n_jobs  \n",
       "trial_id                                                                      \n",
       "c6cab_00000          0.601579                 3              1             1  \n",
       "c6cab_00001          0.705180                 2              1             1  \n",
       "c6cab_00002          0.789170                 1              1             1  \n",
       "c6cab_00003          0.901704                 7              1             1  \n",
       "\n",
       "[4 rows x 27 columns]"
      ]
     },
     "execution_count": 45,
     "metadata": {},
     "output_type": "execute_result"
    }
   ],
   "source": [
    "analysis.results_df.head(5)"
   ]
  },
  {
   "cell_type": "markdown",
   "id": "eda7f8e5-bf4c-436f-95b1-8609aecf170f",
   "metadata": {},
   "source": [
    "---"
   ]
  },
  {
   "cell_type": "code",
   "execution_count": 46,
   "id": "c30d5e77-dfc6-4172-a203-4895db2f5818",
   "metadata": {},
   "outputs": [
    {
     "data": {
      "text/plain": [
       "'/Users/jules/ray_results/train_func_model_2022-04-19_13-10-36/train_func_model_c6cab_00003_3_eta=0.0001,max_depth=7,subsample=0.9017_2022-04-19_13-10-50'"
      ]
     },
     "execution_count": 46,
     "metadata": {},
     "output_type": "execute_result"
    }
   ],
   "source": [
    "analysis.best_logdir"
   ]
  },
  {
   "cell_type": "code",
   "execution_count": 49,
   "id": "6673aba4-4d53-4c86-8cf2-e82e3a035aaa",
   "metadata": {},
   "outputs": [],
   "source": [
    "ray.shutdown()"
   ]
  },
  {
   "cell_type": "markdown",
   "id": "14a97c4e-0e1b-4298-ace8-d7695daed388",
   "metadata": {},
   "source": [
    "### Homework\n",
    "\n",
    "1. Try read the references below \n",
    "2. Try some of the examples in the references"
   ]
  },
  {
   "cell_type": "markdown",
   "id": "d1886c8e-70ba-4776-94cd-a12916732f67",
   "metadata": {},
   "source": [
    "## References\n",
    "\n",
    " * [Ray Train: Tune: Scalable Hyperparameter Tuning](https://docs.ray.io/en/master/tune/index.html)\n",
    " * [Introducing Distributed XGBoost Training with Ray](https://www.anyscale.com/blog/distributed-xgboost-training-with-ray)\n",
    " * [How to Speed Up XGBoost Model Training](https://www.anyscale.com/blog/how-to-speed-up-xgboost-model-training)\n",
    " * [XGBoost-Ray Project](https://github.com/ray-project/xgboost_ray)\n",
    " * [Distributed XGBoost on Ray](https://docs.ray.io/en/latest/xgboost-ray.html)"
   ]
  }
 ],
 "metadata": {
  "kernelspec": {
   "display_name": "Python 3 (ipykernel)",
   "language": "python",
   "name": "python3"
  },
  "language_info": {
   "codemirror_mode": {
    "name": "ipython",
    "version": 3
   },
   "file_extension": ".py",
   "mimetype": "text/x-python",
   "name": "python",
   "nbconvert_exporter": "python",
   "pygments_lexer": "ipython3",
   "version": "3.8.12"
  }
 },
 "nbformat": 4,
 "nbformat_minor": 5
}
