{
 "cells": [
  {
   "cell_type": "code",
   "execution_count": null,
   "id": "51bc67b6-1425-441c-b018-ba49b6bd097b",
   "metadata": {},
   "outputs": [],
   "source": [
    "sample_request_inputs = [{\n",
    "    \"sepal length\": 6.3,\n",
    "    \"sepal width\": 3.3,\n",
    "    \"petal length\": 6.0,\n",
    "    \"petal width\": 2.5\n",
    "    },\n",
    "    {\n",
    "    \"sepal length\": 5.1,\n",
    "    \"sepal width\": 3.5,\n",
    "    \"petal length\": 1.4,\n",
    "    \"petal width\": 0.2\n",
    "    },\n",
    "    {\n",
    "    \"sepal length\": 6.4,\n",
    "    \"sepal width\": 3.2,\n",
    "    \"petal length\": 4.5,\n",
    "    \"petal width\": 1.5},\n",
    "]"
   ]
  },
  {
   "cell_type": "code",
   "execution_count": null,
   "id": "8639c07d-c973-43d9-b71a-0ab1ebe0980c",
   "metadata": {},
   "outputs": [],
   "source": [
    "for input_request in sample_request_inputs:\n",
    "    response = requests.get(\"http://localhost:8000/regressor\",\n",
    "                            json=input_request)\n",
    "    print(response.text)"
   ]
  }
 ],
 "metadata": {
  "kernelspec": {
   "display_name": "Python 3 (ipykernel)",
   "language": "python",
   "name": "python3"
  },
  "language_info": {
   "codemirror_mode": {
    "name": "ipython",
    "version": 3
   },
   "file_extension": ".py",
   "mimetype": "text/x-python",
   "name": "python",
   "nbconvert_exporter": "python",
   "pygments_lexer": "ipython3",
   "version": "3.8.12"
  }
 },
 "nbformat": 4,
 "nbformat_minor": 5
}
