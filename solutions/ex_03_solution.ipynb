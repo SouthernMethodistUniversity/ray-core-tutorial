{
 "cells": [
  {
   "cell_type": "code",
   "execution_count": 6,
   "id": "b456a148-3f34-468f-a889-3f319489444b",
   "metadata": {},
   "outputs": [],
   "source": [
    "import logging\n",
    "import time\n",
    "import os\n",
    "import math\n",
    "import ray\n",
    "import random\n",
    "import tqdm\n",
    "from typing import Dict, Tuple, List\n",
    "from random import randint\n",
    "import numpy as np"
   ]
  },
  {
   "cell_type": "code",
   "execution_count": 7,
   "id": "834f3f49-5ce3-4942-a8d2-7aa490fdb73b",
   "metadata": {},
   "outputs": [
    {
     "data": {
      "text/html": [
       "<div>\n",
       "    <div style=\"margin-left: 50px;display: flex;flex-direction: row;align-items: center\">\n",
       "        <h3 style=\"color: var(--jp-ui-font-color0)\">Ray</h3>\n",
       "        <svg version=\"1.1\" id=\"ray\" width=\"3em\" viewBox=\"0 0 144.5 144.6\" style=\"margin-left: 3em;margin-right: 3em\">\n",
       "            <g id=\"layer-1\">\n",
       "                <path fill=\"#00a2e9\" class=\"st0\" d=\"M97.3,77.2c-3.8-1.1-6.2,0.9-8.3,5.1c-3.5,6.8-9.9,9.9-17.4,9.6S58,88.1,54.8,81.2c-1.4-3-3-4-6.3-4.1\n",
       "                    c-5.6-0.1-9.9,0.1-13.1,6.4c-3.8,7.6-13.6,10.2-21.8,7.6C5.2,88.4-0.4,80.5,0,71.7c0.1-8.4,5.7-15.8,13.8-18.2\n",
       "                    c8.4-2.6,17.5,0.7,22.3,8c1.3,1.9,1.3,5.2,3.6,5.6c3.9,0.6,8,0.2,12,0.2c1.8,0,1.9-1.6,2.4-2.8c3.5-7.8,9.7-11.8,18-11.9\n",
       "                    c8.2-0.1,14.4,3.9,17.8,11.4c1.3,2.8,2.9,3.6,5.7,3.3c1-0.1,2,0.1,3,0c2.8-0.5,6.4,1.7,8.1-2.7s-2.3-5.5-4.1-7.5\n",
       "                    c-5.1-5.7-10.9-10.8-16.1-16.3C84,38,81.9,37.1,78,38.3C66.7,42,56.2,35.7,53,24.1C50.3,14,57.3,2.8,67.7,0.5\n",
       "                    C78.4-2,89,4.7,91.5,15.3c0.1,0.3,0.1,0.5,0.2,0.8c0.7,3.4,0.7,6.9-0.8,9.8c-1.7,3.2-0.8,5,1.5,7.2c6.7,6.5,13.3,13,19.8,19.7\n",
       "                    c1.8,1.8,3,2.1,5.5,1.2c9.1-3.4,17.9-0.6,23.4,7c4.8,6.9,4.6,16.1-0.4,22.9c-5.4,7.2-14.2,9.9-23.1,6.5c-2.3-0.9-3.5-0.6-5.1,1.1\n",
       "                    c-6.7,6.9-13.6,13.7-20.5,20.4c-1.8,1.8-2.5,3.2-1.4,5.9c3.5,8.7,0.3,18.6-7.7,23.6c-7.9,5-18.2,3.8-24.8-2.9\n",
       "                    c-6.4-6.4-7.4-16.2-2.5-24.3c4.9-7.8,14.5-11,23.1-7.8c3,1.1,4.7,0.5,6.9-1.7C91.7,98.4,98,92.3,104.2,86c1.6-1.6,4.1-2.7,2.6-6.2\n",
       "                    c-1.4-3.3-3.8-2.5-6.2-2.6C99.8,77.2,98.9,77.2,97.3,77.2z M72.1,29.7c5.5,0.1,9.9-4.3,10-9.8c0-0.1,0-0.2,0-0.3\n",
       "                    C81.8,14,77,9.8,71.5,10.2c-5,0.3-9,4.2-9.3,9.2c-0.2,5.5,4,10.1,9.5,10.3C71.8,29.7,72,29.7,72.1,29.7z M72.3,62.3\n",
       "                    c-5.4-0.1-9.9,4.2-10.1,9.7c0,0.2,0,0.3,0,0.5c0.2,5.4,4.5,9.7,9.9,10c5.1,0.1,9.9-4.7,10.1-9.8c0.2-5.5-4-10-9.5-10.3\n",
       "                    C72.6,62.3,72.4,62.3,72.3,62.3z M115,72.5c0.1,5.4,4.5,9.7,9.8,9.9c5.6-0.2,10-4.8,10-10.4c-0.2-5.4-4.6-9.7-10-9.7\n",
       "                    c-5.3-0.1-9.8,4.2-9.9,9.5C115,72.1,115,72.3,115,72.5z M19.5,62.3c-5.4,0.1-9.8,4.4-10,9.8c-0.1,5.1,5.2,10.4,10.2,10.3\n",
       "                    c5.6-0.2,10-4.9,9.8-10.5c-0.1-5.4-4.5-9.7-9.9-9.6C19.6,62.3,19.5,62.3,19.5,62.3z M71.8,134.6c5.9,0.2,10.3-3.9,10.4-9.6\n",
       "                    c0.5-5.5-3.6-10.4-9.1-10.8c-5.5-0.5-10.4,3.6-10.8,9.1c0,0.5,0,0.9,0,1.4c-0.2,5.3,4,9.8,9.3,10\n",
       "                    C71.6,134.6,71.7,134.6,71.8,134.6z\"/>\n",
       "            </g>\n",
       "        </svg>\n",
       "        <table>\n",
       "            <tr>\n",
       "                <td style=\"text-align: left\"><b>Python version:</b></td>\n",
       "                <td style=\"text-align: left\"><b>3.8.13</b></td>\n",
       "            </tr>\n",
       "            <tr>\n",
       "                <td style=\"text-align: left\"><b>Ray version:</b></td>\n",
       "                <td style=\"text-align: left\"><b> 2.3.0</b></td>\n",
       "            </tr>\n",
       "            <tr>\n",
       "    <td style=\"text-align: left\"><b>Dashboard:</b></td>\n",
       "    <td style=\"text-align: left\"><b><a href=\"http://127.0.0.1:8267\" target=\"_blank\">http://127.0.0.1:8267</a></b></td>\n",
       "</tr>\n",
       "\n",
       "        </table>\n",
       "    </div>\n",
       "</div>\n"
      ],
      "text/plain": [
       "RayContext(dashboard_url='127.0.0.1:8267', python_version='3.8.13', ray_version='2.3.0', ray_commit='cf7a56b4b0b648c324722df7c99c168e92ff0b45', address_info={'node_ip_address': '127.0.0.1', 'raylet_ip_address': '127.0.0.1', 'redis_address': None, 'object_store_address': '/tmp/ray/session_2023-02-26_14-26-54_960980_73058/sockets/plasma_store', 'raylet_socket_name': '/tmp/ray/session_2023-02-26_14-26-54_960980_73058/sockets/raylet', 'webui_url': '127.0.0.1:8267', 'session_dir': '/tmp/ray/session_2023-02-26_14-26-54_960980_73058', 'metrics_export_port': 59961, 'gcs_address': '127.0.0.1:57533', 'address': '127.0.0.1:57533', 'dashboard_agent_listen_port': 52365, 'node_id': 'c707f34390057228d0d268e603e8536ce4d45fa04b7cc2a6f45e9548'})"
      ]
     },
     "execution_count": 7,
     "metadata": {},
     "output_type": "execute_result"
    }
   ],
   "source": [
    "if ray.is_initialized:\n",
    "    ray.shutdown()\n",
    "ray.init(logging_level=logging.ERROR)"
   ]
  },
  {
   "cell_type": "code",
   "execution_count": 8,
   "id": "1098ee33-9bec-4345-ba87-4a1ed9b87437",
   "metadata": {},
   "outputs": [],
   "source": [
    "class ActorCls:\n",
    "    def __init__(self, name: str):\n",
    "        self.name = name\n",
    "        self.method_calls = {\"method\": 0}\n",
    "\n",
    "    def method(self, **args) -> None:\n",
    "        # Overwrite this method in the subclass\n",
    "        pass\n",
    "\n",
    "    def get_all_method_calls(self) -> Tuple[str, Dict[str, int]]:\n",
    "        return self.get_name(), self.method_calls\n",
    "    \n",
    "    def get_name(self) -> str:\n",
    "        return self.name"
   ]
  },
  {
   "cell_type": "code",
   "execution_count": 9,
   "id": "5ce35e3d-566e-493a-99c1-560eb1ca0788",
   "metadata": {},
   "outputs": [],
   "source": [
    "@ray.remote\n",
    "class ActorClsOne(ActorCls):\n",
    "    \n",
    "    def __init__(self, name: str):\n",
    "        super().__init__(name)\n",
    "        \n",
    "    def method(self, **args) -> None:\n",
    "        # do something with kwargs here\n",
    "        time.sleep(args[\"timeout\"])\n",
    "        \n",
    "        # update the respective counter\n",
    "        self.method_calls[\"method\"] += 1"
   ]
  },
  {
   "cell_type": "code",
   "execution_count": 10,
   "id": "93940068-fde2-48da-9621-c7bb769cf300",
   "metadata": {},
   "outputs": [],
   "source": [
    "@ray.remote\n",
    "class ActorClsTwo(ActorCls):\n",
    "    \n",
    "    def __init__(self, name: str):\n",
    "         super().__init__(name)\n",
    "        \n",
    "    def method(self, **args) -> None:\n",
    "        # do something with kwargs here\n",
    "        time.sleep(args[\"timeout\"])\n",
    "        \n",
    "        # update the respective counter\n",
    "        self.method_calls[\"method\"] += 1"
   ]
  },
  {
   "cell_type": "code",
   "execution_count": 11,
   "id": "42b7346a-e3e0-4074-a426-8753b1df687e",
   "metadata": {},
   "outputs": [],
   "source": [
    "@ray.remote\n",
    "class ActorClsThree(ActorCls):\n",
    "    \n",
    "    def __init__(self, name: str):\n",
    "         super().__init__(name)\n",
    "        \n",
    "    def method(self, **args) -> None:\n",
    "        # do something with kwargs here\n",
    "        time.sleep(args[\"timeout\"])\n",
    "        \n",
    "        # update the respective counter\n",
    "        self.method_calls[\"method\"] += 1"
   ]
  },
  {
   "cell_type": "code",
   "execution_count": 12,
   "id": "8aa5fc45-b15b-4c2d-aec1-9c051d37c423",
   "metadata": {},
   "outputs": [],
   "source": [
    "actor_one = ActorClsOne.remote(\"ActorClsOne\")\n",
    "actor_two = ActorClsTwo.remote(\"ActorClsTwo\")\n",
    "actor_three = ActorClsTwo.remote(\"ActorClsThree\")"
   ]
  },
  {
   "cell_type": "code",
   "execution_count": 14,
   "id": "c30cb397-2f64-491c-9a34-60f3687e9b5d",
   "metadata": {},
   "outputs": [],
   "source": [
    "# A list of Actor classes\n",
    "CALLERS_NAMES = [\"ActorClsOne\", \"ActorClsTwo\", \"ActorClsThree\"]\n",
    "\n",
    "# A dictionary of Actor instances\n",
    "CALLERS_CLS_DICT = {\"ActorClsOne\": actor_one, \n",
    "                    \"ActorClsTwo\": actor_two,\n",
    "                    \"ActorClsThree\": actor_three}"
   ]
  },
  {
   "cell_type": "code",
   "execution_count": 15,
   "id": "22a4f44a-77b2-4459-a863-84b986eb5a1b",
   "metadata": {},
   "outputs": [
    {
     "name": "stdout",
     "output_type": "stream",
     "text": [
      "State of counts in this execution: {'ActorClsOne': 3, 'ActorClsTwo': 8, 'ActorClsThree': 4}\n",
      "State of counts in this execution: {'ActorClsOne': 6, 'ActorClsTwo': 14, 'ActorClsThree': 10}\n",
      "State of counts in this execution: {'ActorClsOne': 10, 'ActorClsTwo': 17, 'ActorClsThree': 18}\n"
     ]
    }
   ],
   "source": [
    "count_dict = {\"ActorClsOne\": 0, \"ActorClsTwo\": 0, \"ActorClsThree\": 0}\n",
    "for _ in range(len(CALLERS_NAMES)): \n",
    "    for _ in range(15):\n",
    "        name = random.choice(CALLERS_NAMES)\n",
    "        count_dict[name] += 1 \n",
    "        CALLERS_CLS_DICT[name].method.remote(timeout=1, store=\"mongo_db\") if name == \"ActorClsOne\" else CALLERS_CLS_DICT[name].method.remote(timeout=1.5, store=\"delta\")\n",
    "        \n",
    "    print(f\"State of counts in this execution: {count_dict}\")\n",
    "    time.sleep(0.5)"
   ]
  },
  {
   "cell_type": "code",
   "execution_count": 16,
   "id": "a2897704-2400-4731-b6e9-44164aa46db8",
   "metadata": {},
   "outputs": [
    {
     "name": "stdout",
     "output_type": "stream",
     "text": [
      "[('ActorClsOne', {'method': 10}), ('ActorClsTwo', {'method': 17}), ('ActorClsThree', {'method': 18})]\n"
     ]
    }
   ],
   "source": [
    "print(ray.get([CALLERS_CLS_DICT[name].get_all_method_calls.remote() for name in CALLERS_NAMES]))"
   ]
  },
  {
   "cell_type": "code",
   "execution_count": 17,
   "id": "8a2d525b-da65-41b2-bf32-f950926bbd31",
   "metadata": {},
   "outputs": [],
   "source": [
    "ray.shutdown()"
   ]
  }
 ],
 "metadata": {
  "kernelspec": {
   "display_name": "Python 3 (ipykernel)",
   "language": "python",
   "name": "python3"
  },
  "language_info": {
   "codemirror_mode": {
    "name": "ipython",
    "version": 3
   },
   "file_extension": ".py",
   "mimetype": "text/x-python",
   "name": "python",
   "nbconvert_exporter": "python",
   "pygments_lexer": "ipython3",
   "version": "3.8.13"
  }
 },
 "nbformat": 4,
 "nbformat_minor": 5
}
