{
 "cells": [
  {
   "cell_type": "markdown",
   "metadata": {},
   "source": [
    "# A Guided Tour of Ray Core: Remote Classes"
   ]
  },
  {
   "cell_type": "markdown",
   "metadata": {},
   "source": [
    "[*Remote Classes*](https://docs.ray.io/en/latest/walkthrough.html#remote-classes-actors)\n",
    "involve using a `@ray.remote` decorator on a class. \n",
    "\n",
    "This implements an [*actor*](https://patterns.eecs.berkeley.edu/?page_id=258) pattern, with properties: *stateful*, *message-passing semantics*\n",
    "\n",
    "---"
   ]
  },
  {
   "cell_type": "markdown",
   "metadata": {},
   "source": [
    "First, let's start Ray…"
   ]
  },
  {
   "cell_type": "code",
   "execution_count": 21,
   "metadata": {},
   "outputs": [],
   "source": [
    "import logging\n",
    "import ray\n",
    "from random import randint"
   ]
  },
  {
   "cell_type": "code",
   "execution_count": 22,
   "metadata": {},
   "outputs": [
    {
     "data": {
      "text/plain": [
       "{'node_ip_address': '127.0.0.1',\n",
       " 'raylet_ip_address': '127.0.0.1',\n",
       " 'redis_address': '127.0.0.1:6379',\n",
       " 'object_store_address': '/tmp/ray/session_2021-12-23_12-11-59_289745_7893/sockets/plasma_store',\n",
       " 'raylet_socket_name': '/tmp/ray/session_2021-12-23_12-11-59_289745_7893/sockets/raylet',\n",
       " 'webui_url': '127.0.0.1:8265',\n",
       " 'session_dir': '/tmp/ray/session_2021-12-23_12-11-59_289745_7893',\n",
       " 'metrics_export_port': 57423,\n",
       " 'node_id': '17cbf202d56a8dc5a06bb9a465075fbd24ce017562e8e0b13059c550'}"
      ]
     },
     "execution_count": 22,
     "metadata": {},
     "output_type": "execute_result"
    }
   ],
   "source": [
    "ray.init(\n",
    "    ignore_reinit_error=True,\n",
    "    logging_level=logging.ERROR,\n",
    ")"
   ]
  },
  {
   "cell_type": "markdown",
   "metadata": {},
   "source": [
    "## 3. Remote Classes Stateful Actors Pattern"
   ]
  },
  {
   "cell_type": "markdown",
   "metadata": {},
   "source": [
    "To start, we'll define a class and use the decorator:"
   ]
  },
  {
   "cell_type": "markdown",
   "metadata": {},
   "source": [
    "\n",
    "Let's use another Actor class and create multiple instances associated with a distinct attribute, such as a name."
   ]
  },
  {
   "cell_type": "code",
   "execution_count": 23,
   "metadata": {},
   "outputs": [],
   "source": [
    "@ray.remote\n",
    "class GoalsScored:\n",
    "    def __init__ (self, player, age) -> None:\n",
    "        self._goals = 0\n",
    "        self._player = player\n",
    "        self._age = age\n",
    "\n",
    "    def score (self, goal) -> object:\n",
    "        self._goals += goal\n",
    "        return self._goals\n",
    "       \n",
    "    def player(self) -> str:\n",
    "        return self._player\n",
    "    \n",
    "    # return three values\n",
    "    def stats(self) -> object:\n",
    "        return self._player, self._age, self._goals"
   ]
  },
  {
   "cell_type": "markdown",
   "metadata": {},
   "source": [
    "Define three Actors: Rolando, Neymar, Messi"
   ]
  },
  {
   "cell_type": "code",
   "execution_count": 24,
   "metadata": {},
   "outputs": [
    {
     "name": "stdout",
     "output_type": "stream",
     "text": [
      "CPU times: user 8.24 ms, sys: 3 ms, total: 11.2 ms\n",
      "Wall time: 8.13 ms\n"
     ]
    }
   ],
   "source": [
    "%%time \n",
    "\n",
    "ronaldo = GoalsScored.remote(\"Ronaldo\", randint(18, 35))\n",
    "neymar = GoalsScored.remote(\"Neymar\", randint(18, 35))\n",
    "messi = GoalsScored.remote(\"Messi\", randint(18, 35))"
   ]
  },
  {
   "cell_type": "markdown",
   "metadata": {},
   "source": [
    "Update the scores for each player"
   ]
  },
  {
   "cell_type": "code",
   "execution_count": 29,
   "metadata": {},
   "outputs": [
    {
     "name": "stdout",
     "output_type": "stream",
     "text": [
      "CPU times: user 1.09 ms, sys: 481 µs, total: 1.57 ms\n",
      "Wall time: 1.01 ms\n"
     ]
    }
   ],
   "source": [
    "%%time\n",
    "\n",
    "ronaldo_ref = ronaldo.score.remote(randint(1, 7))\n",
    "neymar_ref = neymar.score.remote(randint(1, 7))\n",
    "messi_ref  = messi.score.remote(randint(1, 7))"
   ]
  },
  {
   "cell_type": "markdown",
   "metadata": {},
   "source": [
    "Again, use list comprehension to iterate over each Actor handle instances, along with object_ref for their goals scores, maintained by each distinct actor."
   ]
  },
  {
   "cell_type": "code",
   "execution_count": 30,
   "metadata": {},
   "outputs": [
    {
     "name": "stdout",
     "output_type": "stream",
     "text": [
      "Player: ('Ronaldo', 33, 15) and goals scored: 15\n",
      "Player: ('Neymar', 27, 8) and goals scored: 8\n",
      "Player: ('Messi', 20, 10) and goals scored: 10\n"
     ]
    }
   ],
   "source": [
    "for ref, ref_obj in [(ronaldo, ronaldo_ref), (neymar, neymar_ref), (messi, messi_ref) ]:\n",
    "   print(f\"Player: {ray.get(ref.stats.remote())} and goals scored: {ray.get(ref_obj)}\")"
   ]
  },
  {
   "cell_type": "code",
   "execution_count": null,
   "metadata": {},
   "outputs": [],
   "source": [
    "for ref, ref_obj in [(ronaldo, ronaldo_ref), (neymar, neymar_ref), (messi, messi_ref) ]:\n",
    "   print(f\"Player: {ray.get(ref.player.remote())} and goals scored: {ray.get(ref_obj)}\")"
   ]
  },
  {
   "cell_type": "markdown",
   "metadata": {},
   "source": [
    "Finally, shutdown Ray"
   ]
  },
  {
   "cell_type": "code",
   "execution_count": 20,
   "metadata": {},
   "outputs": [],
   "source": [
    "ray.shutdown()"
   ]
  },
  {
   "cell_type": "markdown",
   "metadata": {},
   "source": [
    "---\n",
    "## References"
   ]
  },
  {
   "cell_type": "markdown",
   "metadata": {},
   "source": [
    "[\"A Universal Modular Actor Formalism for Artificial Intelligence\"](https://www.ijcai.org/Proceedings/73/Papers/027B.pdf)  \n",
    "Carl Hewitt, Peter Bishop, Richard Steiger  \n",
    "*IJCAI* (1973)"
   ]
  }
 ],
 "metadata": {
  "kernelspec": {
   "display_name": "Python 3 (ipykernel)",
   "language": "python",
   "name": "python3"
  },
  "language_info": {
   "codemirror_mode": {
    "name": "ipython",
    "version": 3
   },
   "file_extension": ".py",
   "mimetype": "text/x-python",
   "name": "python",
   "nbconvert_exporter": "python",
   "pygments_lexer": "ipython3",
   "version": "3.8.12"
  }
 },
 "nbformat": 4,
 "nbformat_minor": 4
}
