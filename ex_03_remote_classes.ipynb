{
 "cells": [
  {
   "cell_type": "markdown",
   "metadata": {},
   "source": [
    "# A Guided Tour of Ray Core: Remote Classes"
   ]
  },
  {
   "cell_type": "markdown",
   "metadata": {},
   "source": [
    "[*Remote Classes*](https://docs.ray.io/en/latest/walkthrough.html#remote-classes-actors)\n",
    "involve using a `@ray.remote` decorator on a class. \n",
    "\n",
    "This implements an [*actor*](https://patterns.eecs.berkeley.edu/?page_id=258) pattern, with properties: *stateful*, *message-passing semantics*\n",
    "\n",
    "Actors are extremely powerful. They allow you to take a Python class and instantiate it as a microservice which can be queried from other actors and tasks and even other applications.\n",
    "\n",
    "When you instantiate a remote Actor, a separate worker process is created on the workder node. \n",
    "Other Ray tasks and actors can invoke its methods on that process, mutating its internal state.\n",
    "When the driver exits or when the actor handle goes out of scope, the Python worker process terminates. Actors can also be terminated manually if needed. The examples code below all these cases.\n",
    "\n",
    "<img src=\"images/actor_and_workders.png\" height=\"60%\" width=\"70%\">"
   ]
  },
  {
   "cell_type": "markdown",
   "metadata": {},
   "source": [
    "---"
   ]
  },
  {
   "cell_type": "markdown",
   "metadata": {},
   "source": [
    "First, let's start Ray…"
   ]
  },
  {
   "cell_type": "code",
   "execution_count": 1,
   "metadata": {},
   "outputs": [],
   "source": [
    "import logging\n",
    "import time\n",
    "import ray\n",
    "import random\n",
    "from random import randint"
   ]
  },
  {
   "cell_type": "code",
   "execution_count": 2,
   "metadata": {},
   "outputs": [
    {
     "data": {
      "text/plain": [
       "{'node_ip_address': '127.0.0.1',\n",
       " 'raylet_ip_address': '127.0.0.1',\n",
       " 'redis_address': '127.0.0.1:6379',\n",
       " 'object_store_address': '/tmp/ray/session_2021-12-31_21-42-02_937272_51966/sockets/plasma_store',\n",
       " 'raylet_socket_name': '/tmp/ray/session_2021-12-31_21-42-02_937272_51966/sockets/raylet',\n",
       " 'webui_url': '127.0.0.1:8265',\n",
       " 'session_dir': '/tmp/ray/session_2021-12-31_21-42-02_937272_51966',\n",
       " 'metrics_export_port': 59321,\n",
       " 'node_id': '723816f4da3269ec1a56b6e74b712066b4022264fd9b622844472afe'}"
      ]
     },
     "execution_count": 2,
     "metadata": {},
     "output_type": "execute_result"
    }
   ],
   "source": [
    "ray.init(\n",
    "    ignore_reinit_error=True,\n",
    "    logging_level=logging.ERROR,\n",
    ")"
   ]
  },
  {
   "cell_type": "markdown",
   "metadata": {},
   "source": [
    "## 3. Remote Class as a Stateful Actor Pattern"
   ]
  },
  {
   "cell_type": "markdown",
   "metadata": {},
   "source": [
    "To start, we'll define a class and use the decorator:"
   ]
  },
  {
   "cell_type": "markdown",
   "metadata": {},
   "source": [
    "Let's use Python class and convert that to a remote Actor class and create multiple actor handle instances associated with a distinct attributes, such as a name, age, goals scored, etc"
   ]
  },
  {
   "cell_type": "code",
   "execution_count": 3,
   "metadata": {},
   "outputs": [],
   "source": [
    "@ray.remote\n",
    "class GoalsScored:\n",
    "    def __init__ (self, player, age) -> None:\n",
    "        self._goals = 0\n",
    "        self._player = player\n",
    "        self._age = age\n",
    "\n",
    "    def score (self, goal) -> object:\n",
    "        self._goals += goal\n",
    "        return self._goals\n",
    "       \n",
    "    def player(self) -> str:\n",
    "        return self._player\n",
    "    \n",
    "    # Any method of the actor can return multiple object refs.\n",
    "    @ray.method(num_returns=3)\n",
    "    def stats(self) -> object:\n",
    "        return self._player, self._age, self._goals"
   ]
  },
  {
   "cell_type": "markdown",
   "metadata": {},
   "source": [
    "Define three Actors: Rolando, Neymar, Messi"
   ]
  },
  {
   "cell_type": "code",
   "execution_count": 4,
   "metadata": {},
   "outputs": [
    {
     "name": "stdout",
     "output_type": "stream",
     "text": [
      "CPU times: user 42.9 ms, sys: 17.1 ms, total: 59.9 ms\n",
      "Wall time: 60.9 ms\n"
     ]
    }
   ],
   "source": [
    "%%time \n",
    "\n",
    "ronaldo = GoalsScored.remote(\"Ronaldo\", randint(18, 35))\n",
    "neymar = GoalsScored.remote(\"Neymar\", randint(18, 35))\n",
    "messi = GoalsScored.remote(\"Messi\", randint(18, 35))"
   ]
  },
  {
   "cell_type": "markdown",
   "metadata": {},
   "source": [
    "Update the scores for each player"
   ]
  },
  {
   "cell_type": "code",
   "execution_count": 5,
   "metadata": {},
   "outputs": [
    {
     "name": "stdout",
     "output_type": "stream",
     "text": [
      "CPU times: user 1.43 ms, sys: 948 µs, total: 2.38 ms\n",
      "Wall time: 2.16 ms\n"
     ]
    },
    {
     "data": {
      "text/plain": [
       "ObjectRef(32cccd03c567a254dd78db0d527f4ccb8f9533a80100000001000000)"
      ]
     },
     "execution_count": 5,
     "metadata": {},
     "output_type": "execute_result"
    }
   ],
   "source": [
    "%%time\n",
    "\n",
    "ronaldo.score.remote(randint(1, 7))\n",
    "neymar.score.remote(randint(1, 7))\n",
    "messi.score.remote(randint(1, 7))"
   ]
  },
  {
   "cell_type": "markdown",
   "metadata": {},
   "source": [
    "Again, use list comprehension to iterate over each Actor handle instances, along with object_ref for their goals scores, maintained by each distinct actor."
   ]
  },
  {
   "cell_type": "code",
   "execution_count": 6,
   "metadata": {},
   "outputs": [],
   "source": [
    "def print_stats():\n",
    "    for ref in [ronaldo, neymar, messi]:\n",
    "        print(f\"Player: {ray.get(ref.stats.remote())}\")"
   ]
  },
  {
   "cell_type": "code",
   "execution_count": 7,
   "metadata": {},
   "outputs": [
    {
     "name": "stdout",
     "output_type": "stream",
     "text": [
      "Player: ['Ronaldo', 30, 4]\n",
      "Player: ['Neymar', 19, 6]\n",
      "Player: ['Messi', 18, 3]\n"
     ]
    }
   ],
   "source": [
    "print_stats()"
   ]
  },
  {
   "cell_type": "markdown",
   "metadata": {},
   "source": [
    "Add three goals for for Neymar"
   ]
  },
  {
   "cell_type": "code",
   "execution_count": 8,
   "metadata": {},
   "outputs": [
    {
     "name": "stdout",
     "output_type": "stream",
     "text": [
      "Player: ['Ronaldo', 30, 4]\n",
      "Player: ['Neymar', 19, 9]\n",
      "Player: ['Messi', 18, 3]\n"
     ]
    }
   ],
   "source": [
    "[neymar.score.remote(goal) for goal in range(3)]\n",
    "print_stats()"
   ]
  },
  {
   "cell_type": "markdown",
   "metadata": {},
   "source": [
    "## Tree of Actors Pattern\n",
    "\n",
    "A common pattern used in Ray libraries ([Ray Tune](https://docs.ray.io/en/latest/tune/index.html) and [Ray Train](https://docs.ray.io/en/latest/train/train.html)) to train models in a parallel or distributed manners.\n",
    "\n",
    "In this common pattern, tree of actors, a collection of workers as actors, are managed by a supervisor. For example, you want to train multiple models at the same time, while being able to checkpoint/inspect its state.\n",
    "\n",
    "<img src=\"https://docs.ray.io/en/latest/_images/tree-of-actors.svg\" width=\"50%\" height=\"40%\">\n",
    "\n",
    "Let's implement a simple exampel to illustrate this pattern."
   ]
  },
  {
   "cell_type": "code",
   "execution_count": 9,
   "metadata": {},
   "outputs": [],
   "source": [
    "STATES = [\"RUNNING\", \"DONE\"]\n",
    "\n",
    "class Model:\n",
    "\n",
    "    def __init__(self, m:str):\n",
    "        self._model = m\n",
    "\n",
    "    def train(self):\n",
    "        # do some training here\n",
    "        time.sleep(1)\n",
    "    \n",
    "def model_factory(m: str):\n",
    "    return Model(m)"
   ]
  },
  {
   "cell_type": "markdown",
   "metadata": {},
   "source": [
    "Create a Worker and Supervisor Actors "
   ]
  },
  {
   "cell_type": "code",
   "execution_count": 11,
   "metadata": {},
   "outputs": [],
   "source": [
    "@ray.remote\n",
    "class Worker(object):\n",
    "    def __init__(self, m:str):\n",
    "        self._model = m\n",
    "        \n",
    "    def state(self) -> str:\n",
    "        return random.choice(STATES)\n",
    "    \n",
    "    def work(self) -> None:\n",
    "        model_factory(self._model).train()\n",
    "         \n",
    "@ray.remote\n",
    "class Supervisor:\n",
    "    def __init__(self):\n",
    "        # Create three workers, each by its unique name\n",
    "        self.workers = [Worker.remote(name) for name in [\"lr\", \"cl\", \"lrn\"]]\n",
    "                        \n",
    "    def work(self):\n",
    "        [w.work.remote() for w in self.workers]\n",
    "        \n",
    "    def terminate(self):\n",
    "        [ray.kill(w) for w in self.workers]\n",
    "        \n",
    "    def state(self):\n",
    "        return ray.get([w.state.remote() for w in self.workers])"
   ]
  },
  {
   "cell_type": "markdown",
   "metadata": {},
   "source": [
    "Create a Actor instance for supervisor and launch its workers"
   ]
  },
  {
   "cell_type": "code",
   "execution_count": 12,
   "metadata": {},
   "outputs": [
    {
     "data": {
      "text/plain": [
       "ObjectRef(24eed4584329c19a76ac0ed443f7f4c0e7923b130100000001000000)"
      ]
     },
     "execution_count": 12,
     "metadata": {},
     "output_type": "execute_result"
    }
   ],
   "source": [
    "sup = Supervisor.remote()\n",
    "\n",
    "# Launch remote actors as workers\n",
    "sup.work.remote()"
   ]
  },
  {
   "cell_type": "code",
   "execution_count": 13,
   "metadata": {},
   "outputs": [
    {
     "name": "stdout",
     "output_type": "stream",
     "text": [
      "['DONE', 'DONE', 'RUNNING']\n",
      "['DONE', 'DONE', 'RUNNING']\n",
      "['RUNNING', 'DONE', 'RUNNING']\n",
      "['RUNNING', 'DONE', 'DONE']\n",
      "['DONE', 'RUNNING', 'RUNNING']\n",
      "['DONE', 'DONE', 'RUNNING']\n",
      "['DONE', 'RUNNING', 'DONE']\n",
      "['DONE', 'DONE', 'RUNNING']\n",
      "['RUNNING', 'RUNNING', 'DONE']\n",
      "['DONE', 'DONE', 'DONE']\n"
     ]
    }
   ],
   "source": [
    "# check their status\n",
    "while True:\n",
    "    states = ray.get(sup.state.remote())\n",
    "    print(states)\n",
    "    result = all('DONE' == e for e in states)\n",
    "    if result:\n",
    "        # Note: Actor processes will be terminated automatically when the initial actor handle goes out of scope in Python. \n",
    "        # If we create an actor with actor_handle = ActorClass.remote(), then when actor_handle goes out of scope and is destructed, \n",
    "        # the actor process will be terminated. Note that this only applies to the original actor handle created for the actor \n",
    "        # and not to subsequent actor handles created by passing the actor handle to other tasks.\n",
    "        \n",
    "        # kill supervisors all worker manually, only for illustrtation and demo\n",
    "        sup.terminate.remote()\n",
    "\n",
    "        # kill the supervisor manually, only for illustration and demo\n",
    "        ray.kill(sup)\n",
    "        break"
   ]
  },
  {
   "cell_type": "markdown",
   "metadata": {},
   "source": [
    "### Passing Actor handles to Ray Tasks"
   ]
  },
  {
   "cell_type": "code",
   "execution_count": 14,
   "metadata": {},
   "outputs": [],
   "source": [
    "@ray.remote\n",
    "class MessageActor(object):\n",
    "    def __init__(self):\n",
    "        self.messages = []\n",
    "    \n",
    "    def add_message(self, message):\n",
    "        self.messages.append(message)\n",
    "    \n",
    "    def get_and_clear_messages(self):\n",
    "        messages = self.messages\n",
    "        self.messages = []\n",
    "        return messages"
   ]
  },
  {
   "cell_type": "markdown",
   "metadata": {},
   "source": [
    "Define a remote function which loops around and pushes messages to the actor, having access to a handle instance as an argument."
   ]
  },
  {
   "cell_type": "code",
   "execution_count": 15,
   "metadata": {},
   "outputs": [],
   "source": [
    "@ray.remote\n",
    "def worker(message_actor, j):\n",
    "    for i in range(10):\n",
    "        time.sleep(1)\n",
    "        message_actor.add_message.remote(\n",
    "            f\"Message {i} from worker {j}.\")\n"
   ]
  },
  {
   "cell_type": "markdown",
   "metadata": {},
   "source": [
    "Create a message actor."
   ]
  },
  {
   "cell_type": "code",
   "execution_count": 16,
   "metadata": {},
   "outputs": [],
   "source": [
    "message_actor = MessageActor.remote()"
   ]
  },
  {
   "cell_type": "markdown",
   "metadata": {},
   "source": [
    "Start 3 tasks that push messages to the actor."
   ]
  },
  {
   "cell_type": "code",
   "execution_count": 17,
   "metadata": {},
   "outputs": [
    {
     "data": {
      "text/plain": [
       "[ObjectRef(4e2ab276f14c37c2ffffffffffffffffffffffff0100000001000000),\n",
       " ObjectRef(c96088b12950798bffffffffffffffffffffffff0100000001000000),\n",
       " ObjectRef(acb2f4769a638593ffffffffffffffffffffffff0100000001000000)]"
      ]
     },
     "execution_count": 17,
     "metadata": {},
     "output_type": "execute_result"
    }
   ],
   "source": [
    "[worker.remote(message_actor, j) for j in range(3)]"
   ]
  },
  {
   "cell_type": "markdown",
   "metadata": {},
   "source": [
    "Periodically get the messages and print them."
   ]
  },
  {
   "cell_type": "code",
   "execution_count": 18,
   "metadata": {},
   "outputs": [
    {
     "name": "stdout",
     "output_type": "stream",
     "text": [
      "New messages\n",
      ": ['Message 0 from worker 0.', 'Message 0 from worker 1.', 'Message 0 from worker 2.']\n",
      "New messages\n",
      ": ['Message 1 from worker 0.', 'Message 1 from worker 1.', 'Message 1 from worker 2.']\n",
      "New messages\n",
      ": ['Message 2 from worker 0.', 'Message 2 from worker 1.', 'Message 2 from worker 2.']\n",
      "New messages\n",
      ": ['Message 3 from worker 0.', 'Message 3 from worker 1.', 'Message 3 from worker 2.']\n",
      "New messages\n",
      ": ['Message 4 from worker 0.', 'Message 4 from worker 1.', 'Message 4 from worker 2.']\n",
      "New messages\n",
      ": ['Message 5 from worker 0.', 'Message 5 from worker 1.', 'Message 5 from worker 2.']\n",
      "New messages\n",
      ": ['Message 6 from worker 0.', 'Message 6 from worker 1.', 'Message 6 from worker 2.']\n",
      "New messages\n",
      ": ['Message 7 from worker 0.', 'Message 7 from worker 1.', 'Message 7 from worker 2.']\n",
      "New messages\n",
      ": ['Message 8 from worker 0.', 'Message 8 from worker 1.', 'Message 8 from worker 2.']\n",
      "New messages\n",
      ": ['Message 9 from worker 0.', 'Message 9 from worker 1.', 'Message 9 from worker 2.']\n"
     ]
    }
   ],
   "source": [
    "for _ in range(10):\n",
    "    new_messages = ray.get(message_actor.get_and_clear_messages.remote())\n",
    "    print(\"New messages\\n:\", new_messages)\n",
    "    time.sleep(1)"
   ]
  },
  {
   "cell_type": "markdown",
   "metadata": {},
   "source": [
    "Finally, shutdown Ray"
   ]
  },
  {
   "cell_type": "code",
   "execution_count": 19,
   "metadata": {},
   "outputs": [],
   "source": [
    "ray.shutdown()"
   ]
  },
  {
   "cell_type": "markdown",
   "metadata": {},
   "source": [
    "---\n",
    "## References"
   ]
  },
  {
   "cell_type": "markdown",
   "metadata": {},
   "source": [
    " * [Using and Programming with Actors](https://docs.ray.io/en/latest/actors.html)\n",
    " * [Advanced Patterns and Anti-Patterns in Ray](https://docs.ray.io/en/latest/ray-design-patterns/index.htmlhttps://docs.ray.io/en/latest/ray-design-patterns/index.html)"
   ]
  }
 ],
 "metadata": {
  "kernelspec": {
   "display_name": "Python 3 (ipykernel)",
   "language": "python",
   "name": "python3"
  },
  "language_info": {
   "codemirror_mode": {
    "name": "ipython",
    "version": 3
   },
   "file_extension": ".py",
   "mimetype": "text/x-python",
   "name": "python",
   "nbconvert_exporter": "python",
   "pygments_lexer": "ipython3",
   "version": "3.8.12"
  }
 },
 "nbformat": 4,
 "nbformat_minor": 4
}
