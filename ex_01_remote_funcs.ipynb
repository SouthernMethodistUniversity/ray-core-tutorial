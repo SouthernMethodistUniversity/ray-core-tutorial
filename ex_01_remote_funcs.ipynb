{
 "cells": [
  {
   "cell_type": "markdown",
   "id": "a14cab54",
   "metadata": {},
   "source": [
    "# A Guided Tour of Ray Core: Remote Tasks\n",
    "\n",
    "© 2019-2022, Anyscale. All Rights Reserved\n",
    "\n",
    "📖 [Back to Table of Contents](./ex_00_tutorial_overview.ipynb)<br>\n",
    "➡ [Next notebook](./ex_02_remote_objs.ipynb) <br>\n",
    "\n",
    "### Introduction\n",
    "\n",
    "Ray enables arbitrary functions to be executed asynchronously on separate Python workers. These asynchronous Ray functions are called “tasks.” You can specify task's resource requirements in terms of CPUs, GPUs, and custom resources. These resource requests are used by the cluster scheduler to distribute tasks across the cluster for parallelized execution.  \n",
    "\n",
    "<img src=\"images/py_2_ray.png\" height=\"55%\" width=\"50%\">\n",
    "\n",
    "### Learning objectives\n",
    "In this this tutorial, we learn about:\n",
    " * Remote Task Parallel Pattern\n",
    " * Stateless remote functions as distributed tasks\n",
    " * Serial vs Parallel execution \n",
    " * Understand the concept of a Ray task \n",
    " * Easy API to convert an existing Python function into a Ray remote task\n",
    " * Walk through a map-reduce and distribute batch inference use cases"
   ]
  },
  {
   "cell_type": "code",
   "execution_count": 2,
   "id": "bee29917",
   "metadata": {},
   "outputs": [],
   "source": [
    "import os\n",
    "import time\n",
    "import logging\n",
    "\n",
    "import numpy as np\n",
    "import pandas as pd\n",
    "import pyarrow.parquet as pq\n",
    "from numpy import loadtxt\n",
    "import ray"
   ]
  },
  {
   "cell_type": "markdown",
   "id": "74b98b39",
   "metadata": {
    "tags": []
   },
   "source": [
    "## 1. Tasks Parallel Pattern\n",
    "\n",
    "Ray converts decorated functions with `@ray.remote` into stateless tasks, scheduled anywhere on a Ray node's worker in the cluster. \n",
    "\n",
    "Where they will be executed (and by whom), you don't have to worry about its details. All that is taken care for you. Nor do \n",
    "you have to reason about it — all that burden is Ray's job. You simply take your existing Python functions and covert them into \n",
    "distributed stateless *Ray Tasks*: **as simple as that!**"
   ]
  },
  {
   "cell_type": "markdown",
   "id": "893ec22c",
   "metadata": {},
   "source": [
    "### Example 1: Serial vs Parallelism\n",
    "\n",
    "Let's look at simple tasks running serially and then in parallel. For illustration, we'll use a simple task, but this could be a compute-intensive task as part of your workload.\n"
   ]
  },
  {
   "cell_type": "markdown",
   "id": "93a44dfe",
   "metadata": {},
   "source": [
    "There are a few key differences between the original function and the decorated one:\n",
    "\n",
    "**Invocation**: The regular version is called with `regular_function()`, whereas the remote version is called with `remote_function.remote()`. Keep this pattern in mind for all Ray remote execution methods.\n",
    "\n",
    "**Mode of execution and return values**: `regular_function` executes synchronously and returns the result of the function as the value `1` (in our case), whereas `remote_function` immediately returns an `ObjectID` (a future) and then executes the task in the background on a remote worker process. The result of the future is obtained by calling `ray.get` on the `ObjectID`. This is a blocking function."
   ]
  },
  {
   "cell_type": "code",
   "execution_count": 21,
   "id": "e1982539",
   "metadata": {},
   "outputs": [],
   "source": [
    "# A regular Python function.\n",
    "def regular_function():\n",
    "    time.sleep(1)\n",
    "    return 1"
   ]
  },
  {
   "cell_type": "code",
   "execution_count": 22,
   "id": "94597c9a",
   "metadata": {},
   "outputs": [],
   "source": [
    "# A Ray remote function.\n",
    "@ray.remote\n",
    "def remote_function():\n",
    "    time.sleep(1)\n",
    "    return 1"
   ]
  },
  {
   "cell_type": "markdown",
   "id": "8b04aec4",
   "metadata": {},
   "source": [
    "Let's launch a Ray cluster on our local machine."
   ]
  },
  {
   "cell_type": "code",
   "execution_count": 3,
   "id": "4aad47d9",
   "metadata": {},
   "outputs": [
    {
     "data": {
      "text/html": [
       "<div>\n",
       "    <div style=\"margin-left: 50px;display: flex;flex-direction: row;align-items: center\">\n",
       "        <h3 style=\"color: var(--jp-ui-font-color0)\">Ray</h3>\n",
       "        <svg version=\"1.1\" id=\"ray\" width=\"3em\" viewBox=\"0 0 144.5 144.6\" style=\"margin-left: 3em;margin-right: 3em\">\n",
       "            <g id=\"layer-1\">\n",
       "                <path fill=\"#00a2e9\" class=\"st0\" d=\"M97.3,77.2c-3.8-1.1-6.2,0.9-8.3,5.1c-3.5,6.8-9.9,9.9-17.4,9.6S58,88.1,54.8,81.2c-1.4-3-3-4-6.3-4.1\n",
       "                    c-5.6-0.1-9.9,0.1-13.1,6.4c-3.8,7.6-13.6,10.2-21.8,7.6C5.2,88.4-0.4,80.5,0,71.7c0.1-8.4,5.7-15.8,13.8-18.2\n",
       "                    c8.4-2.6,17.5,0.7,22.3,8c1.3,1.9,1.3,5.2,3.6,5.6c3.9,0.6,8,0.2,12,0.2c1.8,0,1.9-1.6,2.4-2.8c3.5-7.8,9.7-11.8,18-11.9\n",
       "                    c8.2-0.1,14.4,3.9,17.8,11.4c1.3,2.8,2.9,3.6,5.7,3.3c1-0.1,2,0.1,3,0c2.8-0.5,6.4,1.7,8.1-2.7s-2.3-5.5-4.1-7.5\n",
       "                    c-5.1-5.7-10.9-10.8-16.1-16.3C84,38,81.9,37.1,78,38.3C66.7,42,56.2,35.7,53,24.1C50.3,14,57.3,2.8,67.7,0.5\n",
       "                    C78.4-2,89,4.7,91.5,15.3c0.1,0.3,0.1,0.5,0.2,0.8c0.7,3.4,0.7,6.9-0.8,9.8c-1.7,3.2-0.8,5,1.5,7.2c6.7,6.5,13.3,13,19.8,19.7\n",
       "                    c1.8,1.8,3,2.1,5.5,1.2c9.1-3.4,17.9-0.6,23.4,7c4.8,6.9,4.6,16.1-0.4,22.9c-5.4,7.2-14.2,9.9-23.1,6.5c-2.3-0.9-3.5-0.6-5.1,1.1\n",
       "                    c-6.7,6.9-13.6,13.7-20.5,20.4c-1.8,1.8-2.5,3.2-1.4,5.9c3.5,8.7,0.3,18.6-7.7,23.6c-7.9,5-18.2,3.8-24.8-2.9\n",
       "                    c-6.4-6.4-7.4-16.2-2.5-24.3c4.9-7.8,14.5-11,23.1-7.8c3,1.1,4.7,0.5,6.9-1.7C91.7,98.4,98,92.3,104.2,86c1.6-1.6,4.1-2.7,2.6-6.2\n",
       "                    c-1.4-3.3-3.8-2.5-6.2-2.6C99.8,77.2,98.9,77.2,97.3,77.2z M72.1,29.7c5.5,0.1,9.9-4.3,10-9.8c0-0.1,0-0.2,0-0.3\n",
       "                    C81.8,14,77,9.8,71.5,10.2c-5,0.3-9,4.2-9.3,9.2c-0.2,5.5,4,10.1,9.5,10.3C71.8,29.7,72,29.7,72.1,29.7z M72.3,62.3\n",
       "                    c-5.4-0.1-9.9,4.2-10.1,9.7c0,0.2,0,0.3,0,0.5c0.2,5.4,4.5,9.7,9.9,10c5.1,0.1,9.9-4.7,10.1-9.8c0.2-5.5-4-10-9.5-10.3\n",
       "                    C72.6,62.3,72.4,62.3,72.3,62.3z M115,72.5c0.1,5.4,4.5,9.7,9.8,9.9c5.6-0.2,10-4.8,10-10.4c-0.2-5.4-4.6-9.7-10-9.7\n",
       "                    c-5.3-0.1-9.8,4.2-9.9,9.5C115,72.1,115,72.3,115,72.5z M19.5,62.3c-5.4,0.1-9.8,4.4-10,9.8c-0.1,5.1,5.2,10.4,10.2,10.3\n",
       "                    c5.6-0.2,10-4.9,9.8-10.5c-0.1-5.4-4.5-9.7-9.9-9.6C19.6,62.3,19.5,62.3,19.5,62.3z M71.8,134.6c5.9,0.2,10.3-3.9,10.4-9.6\n",
       "                    c0.5-5.5-3.6-10.4-9.1-10.8c-5.5-0.5-10.4,3.6-10.8,9.1c0,0.5,0,0.9,0,1.4c-0.2,5.3,4,9.8,9.3,10\n",
       "                    C71.6,134.6,71.7,134.6,71.8,134.6z\"/>\n",
       "            </g>\n",
       "        </svg>\n",
       "        <table>\n",
       "            <tr>\n",
       "                <td style=\"text-align: left\"><b>Python version:</b></td>\n",
       "                <td style=\"text-align: left\"><b>3.8.13</b></td>\n",
       "            </tr>\n",
       "            <tr>\n",
       "                <td style=\"text-align: left\"><b>Ray version:</b></td>\n",
       "                <td style=\"text-align: left\"><b> 2.0.0</b></td>\n",
       "            </tr>\n",
       "            <tr>\n",
       "    <td style=\"text-align: left\"><b>Dashboard:</b></td>\n",
       "    <td style=\"text-align: left\"><b><a href=\"http://127.0.0.1:8265\" target=\"_blank\">http://127.0.0.1:8265</a></b></td>\n",
       "</tr>\n",
       "\n",
       "        </table>\n",
       "    </div>\n",
       "</div>\n"
      ],
      "text/plain": [
       "RayContext(dashboard_url='127.0.0.1:8265', python_version='3.8.13', ray_version='2.0.0', ray_commit='cba26cc83f6b5b8a2ff166594a65cb74c0ec8740', address_info={'node_ip_address': '127.0.0.1', 'raylet_ip_address': '127.0.0.1', 'redis_address': None, 'object_store_address': '/tmp/ray/session_2022-10-23_10-41-18_058016_82171/sockets/plasma_store', 'raylet_socket_name': '/tmp/ray/session_2022-10-23_10-41-18_058016_82171/sockets/raylet', 'webui_url': '127.0.0.1:8265', 'session_dir': '/tmp/ray/session_2022-10-23_10-41-18_058016_82171', 'metrics_export_port': 65235, 'gcs_address': '127.0.0.1:65239', 'address': '127.0.0.1:65239', 'dashboard_agent_listen_port': 52365, 'node_id': 'ef24771bd59431b959fba76aa0c37121e727a6b86a10426798beb4a0'})"
      ]
     },
     "execution_count": 3,
     "metadata": {},
     "output_type": "execute_result"
    }
   ],
   "source": [
    "if ray.is_initialized:\n",
    "    ray.shutdown()\n",
    "ray.init(logging_level=logging.ERROR)"
   ]
  },
  {
   "cell_type": "code",
   "execution_count": 24,
   "id": "db6cea5d-09fb-4fb8-a7bc-8839804c375d",
   "metadata": {},
   "outputs": [],
   "source": [
    "# Let's invoke the regular function\n",
    "assert regular_function() == 1"
   ]
  },
  {
   "cell_type": "code",
   "execution_count": 25,
   "id": "0895cda7",
   "metadata": {},
   "outputs": [
    {
     "data": {
      "text/plain": [
       "ObjectRef(85748392bcd969ccffffffffffffffffffffffff0100000001000000)"
      ]
     },
     "execution_count": 25,
     "metadata": {},
     "output_type": "execute_result"
    }
   ],
   "source": [
    "# Let's invoke the remote function.\n",
    "obj_ref = remote_function.remote()\n",
    "obj_ref"
   ]
  },
  {
   "cell_type": "code",
   "execution_count": 26,
   "id": "111ac990",
   "metadata": {},
   "outputs": [],
   "source": [
    "assert ray.get(obj_ref) == 1"
   ]
  },
  {
   "cell_type": "markdown",
   "id": "33c8f5fe",
   "metadata": {},
   "source": [
    "#### Serial execution in Python with no parallelism\n",
    "Invocations of `regular_function` in a comprehension loop happens `serially`:"
   ]
  },
  {
   "cell_type": "code",
   "execution_count": 27,
   "id": "2d090c79",
   "metadata": {},
   "outputs": [],
   "source": [
    "# These are executed one at a time, back-to-back, in a list comprehension\n",
    "results = [regular_function() for _ in range(10)]\n",
    "assert sum(results) == 10"
   ]
  },
  {
   "cell_type": "markdown",
   "id": "d4e5601c",
   "metadata": {},
   "source": [
    "#### Parallel execution in Python with Ray\n",
    "\n",
    "Invocations of `remote_function` in a loop happen `asynchronously` and in parallel:"
   ]
  },
  {
   "cell_type": "code",
   "execution_count": 28,
   "id": "a06dc2bd",
   "metadata": {},
   "outputs": [],
   "source": [
    "# Executing these functions, in comprehension list, happens at the same time in the background, \n",
    "# and we get the results using ray.get.\n",
    "\n",
    "results = [remote_function.remote() for _ in range(10)]\n",
    "assert sum(ray.get(results)) == 10"
   ]
  },
  {
   "cell_type": "markdown",
   "id": "ddf7bb91",
   "metadata": {},
   "source": [
    "### Example 2: Adding two np arrays\n",
    "\n",
    "<img src=\"images/task_api_add_array.png\" width=\"50%\" height=\"25%\">"
   ]
  },
  {
   "cell_type": "markdown",
   "id": "12e573d5",
   "metadata": {},
   "source": [
    "Define a function as a Ray task to read an array"
   ]
  },
  {
   "cell_type": "code",
   "execution_count": 29,
   "id": "07b86a34",
   "metadata": {},
   "outputs": [],
   "source": [
    "@ray.remote\n",
    "def read_array(fn: str) -> np.array:\n",
    "    arr = loadtxt(fn, comments=\"#\", delimiter=\",\", unpack=False)\n",
    "    return arr.astype('int')"
   ]
  },
  {
   "cell_type": "markdown",
   "id": "d4a7cebe",
   "metadata": {},
   "source": [
    "Define a function as a Ray task to add two np arrays return the sum"
   ]
  },
  {
   "cell_type": "code",
   "execution_count": 30,
   "id": "baeb063d",
   "metadata": {},
   "outputs": [],
   "source": [
    "@ray.remote\n",
    "def add_array(arr1: np.array, arr2: np.array) -> np.array:\n",
    "    return np.add(arr1, arr1)"
   ]
  },
  {
   "cell_type": "markdown",
   "id": "553e7cd7",
   "metadata": {},
   "source": [
    "Define a function as a Ray task to sum the contents of an np array"
   ]
  },
  {
   "cell_type": "code",
   "execution_count": 31,
   "id": "c8b01bea",
   "metadata": {},
   "outputs": [],
   "source": [
    "@ray.remote\n",
    "def sum_array(arr1: np.array) -> int:\n",
    "    return np.sum(arr1)"
   ]
  },
  {
   "cell_type": "markdown",
   "id": "779d86e8",
   "metadata": {},
   "source": [
    "Now let's execute our tasks. For now we will run Ray locally on our laptop or on a single node, with potential access to utilize all the available cores when necessary.\n",
    "\n",
    "Ray executes immediately and returns an object reference `ObjectRef` as a future. This enables Ray to parallelize tasks and execute them asynchronously."
   ]
  },
  {
   "cell_type": "markdown",
   "id": "e1853f1f",
   "metadata": {},
   "source": [
    "### Read both arrays. \n",
    "\n",
    "Use the `func_name.remote(args)` extention to invoke a remote Ray Task"
   ]
  },
  {
   "cell_type": "code",
   "execution_count": 32,
   "id": "30e63c86",
   "metadata": {},
   "outputs": [
    {
     "name": "stdout",
     "output_type": "stream",
     "text": [
      "array 1: ObjectRef(465c0fb8d6cb3cdcffffffffffffffffffffffff0100000001000000)\n"
     ]
    }
   ],
   "source": [
    "obj_ref_arr1 = read_array.remote(os.path.abspath(\"data/file_1.txt\"))\n",
    "print(f\"array 1: {obj_ref_arr1}\")"
   ]
  },
  {
   "cell_type": "code",
   "execution_count": 33,
   "id": "be601ef5",
   "metadata": {},
   "outputs": [
    {
     "name": "stdout",
     "output_type": "stream",
     "text": [
      "array 2: ObjectRef(3d3e27c54ed1f5cfffffffffffffffffffffffff0100000001000000)\n"
     ]
    }
   ],
   "source": [
    "obj_ref_arr2 = read_array.remote(os.path.abspath(\"data/file_2.txt\"))\n",
    "print(f\"array 2: {obj_ref_arr2}\")"
   ]
  },
  {
   "cell_type": "markdown",
   "id": "1c37ac17",
   "metadata": {},
   "source": [
    "### Add both arrays\n",
    "\n",
    "Let's add our two arrays by calling the remote method. *Note*: We are sending Ray `ObjectRef` references as arguments. Those arguments will be resolved inline and fetched from owner's object store. That is, the cluster node that creates the `ObjectRef` owns the meta data associated and stores it in its object store. \n",
    "\n",
    "Ray scheduler is aware of where these object references reside or who owns them, so it will schedule this remote task on node on the worker process for data locality."
   ]
  },
  {
   "cell_type": "code",
   "execution_count": 34,
   "id": "b1ec1898",
   "metadata": {},
   "outputs": [
    {
     "data": {
      "text/plain": [
       "ObjectRef(cae5e964086715a4ffffffffffffffffffffffff0100000001000000)"
      ]
     },
     "execution_count": 34,
     "metadata": {},
     "output_type": "execute_result"
    }
   ],
   "source": [
    "result_obj_ref = add_array.remote(obj_ref_arr1, obj_ref_arr2)\n",
    "result_obj_ref"
   ]
  },
  {
   "cell_type": "markdown",
   "id": "c70b38ce",
   "metadata": {},
   "source": [
    "### Fetch the result \n",
    "\n",
    "This will task if not finished will block during `.get(object_ref`)"
   ]
  },
  {
   "cell_type": "code",
   "execution_count": 35,
   "id": "92f5e031",
   "metadata": {},
   "outputs": [
    {
     "name": "stdout",
     "output_type": "stream",
     "text": [
      "Result: add arr1 + arr2: \n",
      " [[  0  96 144 150 108 178 168 136  18  76]\n",
      " [  6  80 146 116  20  70 192  12 130  66]\n",
      " [110 134  24 194 104 146  14 152  78 100]\n",
      " [118  68  40  80 184 110  22  78 186  76]\n",
      " [178 178  74 104  96 172  98   6  38 100]\n",
      " [168  74 136  22  40  72  92 122 104 154]\n",
      " [140 180 112 110  98 152 188  56  64  46]\n",
      " [ 10  88 184  30 106 126 174 150 122  50]\n",
      " [102 116  58  60 186 188 104 144 160  54]\n",
      " [  2  56 164  70 178  72  20 168 170 130]]\n"
     ]
    }
   ],
   "source": [
    "result = ray.get(result_obj_ref)\n",
    "print(f\"Result: add arr1 + arr2: \\n {result}\")"
   ]
  },
  {
   "cell_type": "markdown",
   "id": "cf4051a7",
   "metadata": {},
   "source": [
    "Add the array elements within an `np.array` and get the sum. \n",
    "**Note** that we are sending `ObjRefs` as arguments to the function. Ray will resolve or fetch the value of these arrays. "
   ]
  },
  {
   "cell_type": "code",
   "execution_count": 36,
   "id": "1f27dc65",
   "metadata": {},
   "outputs": [],
   "source": [
    "sum_1 = ray.get(sum_array.remote(obj_ref_arr1))\n",
    "sum_2 = ray.get(sum_array.remote(obj_ref_arr2))"
   ]
  },
  {
   "cell_type": "code",
   "execution_count": 37,
   "id": "b1d5e2da",
   "metadata": {},
   "outputs": [
    {
     "name": "stdout",
     "output_type": "stream",
     "text": [
      "Sum of arr1: 5173\n",
      "Sum of arr2: 7719\n"
     ]
    }
   ],
   "source": [
    "print(f'Sum of arr1: {sum_1}')\n",
    "print(f'Sum of arr2: {sum_2}')"
   ]
  },
  {
   "cell_type": "markdown",
   "id": "06fdb316-83d9-4599-b335-f6dbfb9485ef",
   "metadata": {},
   "source": [
    "### Any questions?"
   ]
  },
  {
   "cell_type": "markdown",
   "id": "27eeba1a",
   "metadata": {},
   "source": [
    "### Example 3: Generating Fibonnaci series\n",
    "\n",
    "Let's define two functions: one runs locally or serially, the other runs on a Ray cluster (local or remote). This example is borrowed and refactored from our \n",
    "blog: [Writing your First Distributed Python Application with Ray](https://www.anyscale.com/blog/writing-your-first-distributed-python-application-with-ray). \n",
    "(This is an excellent tutorial to get started with the concept of why and when to use Ray tasks and Ray Actors. Highly recommended read!)\n",
    "\n",
    "Another similar blog of interest is how to compute the value of **pi**: [How to scale Python multiprocessing to a cluster with one line of code](https://medium.com/distributed-computing-with-ray/how-to-scale-python-multiprocessing-to-a-cluster-with-one-line-of-code-d19f242f60ff)."
   ]
  },
  {
   "cell_type": "code",
   "execution_count": 38,
   "id": "49994253",
   "metadata": {},
   "outputs": [],
   "source": [
    "# Function for local execution \n",
    "def generate_fibonacci(sequence_size):\n",
    "    fibonacci = []\n",
    "    for i in range(0, sequence_size):\n",
    "        if i < 2:\n",
    "            fibonacci.append(i)\n",
    "            continue\n",
    "        fibonacci.append(fibonacci[i-1]+fibonacci[i-2])\n",
    "    return len(fibonacci)"
   ]
  },
  {
   "cell_type": "code",
   "execution_count": 39,
   "id": "92777c6f",
   "metadata": {},
   "outputs": [],
   "source": [
    "# Function for remote Ray task with just a wrapper\n",
    "@ray.remote\n",
    "def generate_fibonacci_distributed(sequence_size):\n",
    "    return generate_fibonacci(sequence_size)"
   ]
  },
  {
   "cell_type": "code",
   "execution_count": 40,
   "id": "0b8b6ff1",
   "metadata": {},
   "outputs": [
    {
     "data": {
      "text/plain": [
       "10"
      ]
     },
     "execution_count": 40,
     "metadata": {},
     "output_type": "execute_result"
    }
   ],
   "source": [
    "# Get the number of cores \n",
    "os.cpu_count()"
   ]
  },
  {
   "cell_type": "code",
   "execution_count": 41,
   "id": "675f4fb2",
   "metadata": {},
   "outputs": [],
   "source": [
    "# Normal Python in a single process \n",
    "def run_local(sequence_size):\n",
    "    results = [generate_fibonacci(sequence_size) for _ in range(os.cpu_count())]\n",
    "    return results"
   ]
  },
  {
   "cell_type": "code",
   "execution_count": 42,
   "id": "199e8e69",
   "metadata": {},
   "outputs": [
    {
     "name": "stdout",
     "output_type": "stream",
     "text": [
      "CPU times: user 1.54 s, sys: 550 ms, total: 2.09 s\n",
      "Wall time: 2.08 s\n"
     ]
    },
    {
     "data": {
      "text/plain": [
       "[100000,\n",
       " 100000,\n",
       " 100000,\n",
       " 100000,\n",
       " 100000,\n",
       " 100000,\n",
       " 100000,\n",
       " 100000,\n",
       " 100000,\n",
       " 100000]"
      ]
     },
     "execution_count": 42,
     "metadata": {},
     "output_type": "execute_result"
    }
   ],
   "source": [
    "%%time\n",
    "run_local(100000)"
   ]
  },
  {
   "cell_type": "code",
   "execution_count": 43,
   "id": "3fc510e9",
   "metadata": {},
   "outputs": [],
   "source": [
    "# Distributed on a Ray cluster\n",
    "def run_remote(sequence_size):\n",
    "    results = ray.get([generate_fibonacci_distributed.remote(sequence_size) for _ in range(os.cpu_count())])\n",
    "    return results"
   ]
  },
  {
   "cell_type": "code",
   "execution_count": 44,
   "id": "b4ebb951",
   "metadata": {},
   "outputs": [
    {
     "name": "stdout",
     "output_type": "stream",
     "text": [
      "CPU times: user 7.28 ms, sys: 13.3 ms, total: 20.6 ms\n",
      "Wall time: 368 ms\n"
     ]
    },
    {
     "data": {
      "text/plain": [
       "[100000,\n",
       " 100000,\n",
       " 100000,\n",
       " 100000,\n",
       " 100000,\n",
       " 100000,\n",
       " 100000,\n",
       " 100000,\n",
       " 100000,\n",
       " 100000]"
      ]
     },
     "execution_count": 44,
     "metadata": {},
     "output_type": "execute_result"
    }
   ],
   "source": [
    "%%time\n",
    "run_remote(100000)"
   ]
  },
  {
   "cell_type": "markdown",
   "id": "db9d115e-9ee3-43a8-bf4b-3b42e762c1e5",
   "metadata": {},
   "source": [
    "### Any questions?"
   ]
  },
  {
   "cell_type": "markdown",
   "id": "9ea4b7d2-2ceb-4a87-9a7b-3945f15f7d0a",
   "metadata": {},
   "source": [
    "### Example 4:  Use case of `tasks` for map-reduce\n",
    "\n",
    "The `map-reduce` pattern is a good use case for writing distributed applications with Ray core APIs. For _map_, this example uses Ray tasks to execute a \n",
    "given function multiple times in parallel (on a separate process on a node).  \n",
    "\n",
    "We then use `ray.get`, as part of the `reduce` process, to fetch the results of each of these functions.\n",
    "\n",
    "<img src=\"https://docs.ray.io/en/latest/_images/map-reduce.svg\">"
   ]
  },
  {
   "cell_type": "markdown",
   "id": "691c697f-7827-446e-9772-c41052ac6485",
   "metadata": {},
   "source": [
    "### Single-threaded map "
   ]
  },
  {
   "cell_type": "code",
   "execution_count": 4,
   "id": "d4332c96-92b3-4dab-8e19-6f42275bffc9",
   "metadata": {},
   "outputs": [
    {
     "name": "stdout",
     "output_type": "stream",
     "text": [
      "[0, 2, 4, 6, 8, 10, 12, 14, 16, 18, 20, 22, 24, 26, 28, 30, 32, 34, 36, 38, 40, 42, 44, 46, 48, 50, 52, 54, 56, 58, 60, 62, 64, 66, 68, 70, 72, 74, 76, 78, 80, 82, 84, 86, 88, 90, 92, 94, 96, 98, 100, 102, 104, 106, 108, 110, 112, 114, 116, 118, 120, 122, 124, 126, 128, 130, 132, 134, 136, 138, 140, 142, 144, 146, 148, 150, 152, 154, 156, 158, 160, 162, 164, 166, 168, 170, 172, 174, 176, 178, 180, 182, 184, 186, 188, 190, 192, 194, 196, 198]\n"
     ]
    }
   ],
   "source": [
    "items = list(range(100))\n",
    "map_func = lambda i : i * 2\n",
    "output = [map_func(i) for i in items]\n",
    "print(output)"
   ]
  },
  {
   "cell_type": "markdown",
   "id": "e307c179-6309-4b1b-855b-2a5569b0ab08",
   "metadata": {},
   "source": [
    "### Ray parallel map\n",
    "Use the `@ray.remote` decorator to convert this `map`function into a Ray task. It takes an object and func argument and invokes the function to process the object.\n",
    "Simple and elegant!"
   ]
  },
  {
   "cell_type": "code",
   "execution_count": 5,
   "id": "297fb8e5-5977-4253-9fca-0350a18e539f",
   "metadata": {},
   "outputs": [],
   "source": [
    "@ray.remote\n",
    "def map(obj, f):\n",
    "    return f(obj)"
   ]
  },
  {
   "cell_type": "code",
   "execution_count": 6,
   "id": "aff668e0-ad2d-4331-815b-a120caa4a201",
   "metadata": {},
   "outputs": [
    {
     "name": "stdout",
     "output_type": "stream",
     "text": [
      "[0, 2, 4, 6, 8, 10, 12, 14, 16, 18, 20, 22, 24, 26, 28, 30, 32, 34, 36, 38, 40, 42, 44, 46, 48, 50, 52, 54, 56, 58, 60, 62, 64, 66, 68, 70, 72, 74, 76, 78, 80, 82, 84, 86, 88, 90, 92, 94, 96, 98, 100, 102, 104, 106, 108, 110, 112, 114, 116, 118, 120, 122, 124, 126, 128, 130, 132, 134, 136, 138, 140, 142, 144, 146, 148, 150, 152, 154, 156, 158, 160, 162, 164, 166, 168, 170, 172, 174, 176, 178, 180, 182, 184, 186, 188, 190, 192, 194, 196, 198]\n"
     ]
    }
   ],
   "source": [
    "items = list(range(100))\n",
    "map_func = lambda i : i * 2\n",
    "\n",
    "# map.remote() will return an objRef to the computed value. We fetch\n",
    "# that value using ray.get\n",
    "output = ray.get([map.remote(i, map_func) for i in items])\n",
    "print(output)"
   ]
  },
  {
   "cell_type": "markdown",
   "id": "f0b957d3-32df-414e-baa9-ff4a318b25a6",
   "metadata": {},
   "source": [
    "### Single-threaded reduce\n",
    "For reduce, let's imagine that we want to sum up the numbers computed from\n",
    "our map function."
   ]
  },
  {
   "cell_type": "code",
   "execution_count": 7,
   "id": "ba5b2fed-add8-4221-b9dd-5872cb3fc2a2",
   "metadata": {},
   "outputs": [
    {
     "data": {
      "text/plain": [
       "9900"
      ]
     },
     "execution_count": 7,
     "metadata": {},
     "output_type": "execute_result"
    }
   ],
   "source": [
    "items = list(range(100))\n",
    "map_func = lambda i : i * 2\n",
    "output = sum([map_func(i) for i in items])\n",
    "output"
   ]
  },
  {
   "cell_type": "markdown",
   "id": "30f41d52-a295-4626-984c-7a3c7d21a461",
   "metadata": {},
   "source": [
    "### Ray parallel map and reduce"
   ]
  },
  {
   "cell_type": "code",
   "execution_count": 8,
   "id": "e36d2ebc-0757-4e42-94d1-79936a187ce0",
   "metadata": {},
   "outputs": [],
   "source": [
    "@ray.remote\n",
    "def map(obj, f):\n",
    "    return f(obj)\n",
    "\n",
    "# Our reduce operation is expecting multipe arguments.\n",
    "# It sums up all arguments using np.sum(elements)\n",
    "@ray.remote\n",
    "def sum_results(*elements):\n",
    "    return np.sum(elements)"
   ]
  },
  {
   "cell_type": "markdown",
   "id": "5042ad71-675a-476b-bc47-2af794a5df2c",
   "metadata": {},
   "source": [
    "Let's do our Ray parallel map. Note that comprehension list is a collection of `ObjRefs`, each element returned by `map.remote(i, map_func)`"
   ]
  },
  {
   "cell_type": "code",
   "execution_count": 9,
   "id": "6cc1581b-2657-4907-b2e8-c2336ea59ed5",
   "metadata": {},
   "outputs": [
    {
     "data": {
      "text/plain": [
       "[ObjectRef(298e3e66d66deed9ffffffffffffffffffffffff0100000001000000),\n",
       " ObjectRef(664a780010703836ffffffffffffffffffffffff0100000001000000)]"
      ]
     },
     "execution_count": 9,
     "metadata": {},
     "output_type": "execute_result"
    }
   ],
   "source": [
    "items = list(range(100))\n",
    "map_func = lambda i : i * 2\n",
    "remote_elements = [map.remote(i, map_func) for i in items]\n",
    "remote_elements[:2]"
   ]
  },
  {
   "cell_type": "markdown",
   "id": "66231521-daa8-464f-b565-57a9e59e7af6",
   "metadata": {},
   "source": [
    "#### Simple reduce\n",
    "The `sum_results.remote()` as a reduce step returns the `ObjectRef` to results\n",
    "of all the values in the elements."
   ]
  },
  {
   "cell_type": "code",
   "execution_count": 10,
   "id": "263e3a55-da3a-4102-9d59-d66ebf522e42",
   "metadata": {},
   "outputs": [
    {
     "name": "stdout",
     "output_type": "stream",
     "text": [
      "9900\n"
     ]
    }
   ],
   "source": [
    "# simple reduce\n",
    "remote_final_sum = sum_results.remote(*remote_elements)\n",
    "# fetch the reduce sumed result\n",
    "result = ray.get(remote_final_sum)\n",
    "print(result)"
   ]
  },
  {
   "cell_type": "markdown",
   "id": "9b56f2c2-8625-475d-905c-a0609ef3df6f",
   "metadata": {},
   "source": [
    "### Tree reduce\n",
    "Simply break into intermediate results, followed by the final reduce. \n",
    "In short break into five groups of 20 object references, and then final\n",
    "reduce."
   ]
  },
  {
   "cell_type": "code",
   "execution_count": 11,
   "id": "fb3cf3df-8c37-4d93-92f1-7f7350cc94a9",
   "metadata": {},
   "outputs": [
    {
     "name": "stdout",
     "output_type": "stream",
     "text": [
      "9900\n"
     ]
    }
   ],
   "source": [
    "# Tree reduce using comprehension list. \n",
    "# Split in five groups of 20 ObjecRefs for intermediate reduce,\n",
    "# followed by final reduce, for all 100 elements\n",
    "intermediate_results = [sum_results.remote(\n",
    "    *remote_elements[i * 20: (i + 1) * 20]) for i in range(5)]\n",
    "\n",
    "# Get the reduce results of these groups\n",
    "remote_final_sum = sum_results.remote(*intermediate_results)\n",
    "result = ray.get(remote_final_sum)\n",
    "print(result)"
   ]
  },
  {
   "cell_type": "markdown",
   "id": "b8b6bfc7-21df-4865-9d69-37d9b5e5b2a6",
   "metadata": {},
   "source": [
    "### Example 5:  How to use Tasks for distributed batch inference \n",
    "\n",
    "Batch inference is a common distributed application workload in machine learning. It's a process of using a trained model to generate predictions for a collection of observations. \n",
    "Primarily, it has the following elements:\n",
    "\n",
    "**Input dataset**: This is a large collection of observations to generate predictions for. The data is usually stored in an external storage system like S3, HDFS or database, across\n",
    "many files.\n",
    "**ML model**: This is a trained ML model that is usually also stored in an external storage system or in a model store.\n",
    "**Predictions**: These are the outputs when applying the ML model on observations. Normally, predictions are usually written back to the storage system.\n",
    "\n",
    "For purpose of this tutorial, we make the following provisions:\n",
    " * create a dummy model that returns some fake prediction\n",
    " * use real-world NYC taxi data to provide large data set for batch inference\n",
    " * return the predictions instead of writing it back to the disk\n",
    "\n",
    "As an example of scaling pattern called Different Data Same Function (DDSF), also known as Distributed Data Parallel (DDP) paradigm, our function in this digaram is the \n",
    "pretrained **model** and the data is split and disributed as **shards**.\n",
    "\n",
    "<img src=\"images/batch-inference.png\" width=\"25%\" height=\"25%\">\n"
   ]
  },
  {
   "cell_type": "markdown",
   "id": "dfe2fc8d-4a9b-495e-9c74-2ac15f0ddf92",
   "metadata": {},
   "source": [
    "Define a Python closure to load our pretrained model. This model is just a fake model that predicts whether a \n",
    "tip is warranted continent on the number of fares (2 or more) on collective rides.\n",
    "\n",
    "**Note**: This prediction is fake. The real model will invoke model's `model.predict(input_data)`. Yet\n",
    "it suffices for this example."
   ]
  },
  {
   "cell_type": "code",
   "execution_count": 12,
   "id": "39cc1f1d-13b1-48ca-bf6c-7e55584bb0f2",
   "metadata": {},
   "outputs": [],
   "source": [
    "def load_trained_model():\n",
    "    # A fake model that predicts whether tips were given based on number of passengers in the taxi cab.\n",
    "    def model(batch: pd.DataFrame) -> pd.DataFrame:\n",
    "        # Some model payload so Ray copies the model in the shared plasma store to tasks scheduled across nodes.\n",
    "        model.payload = np.arange(100, 100_000_000, dtype=float)\n",
    "        model.cls = \"regression\"\n",
    "        \n",
    "        # give a tip if 2 or more passengers\n",
    "        predict = batch[\"passenger_count\"] >= 2 \n",
    "        return pd.DataFrame({\"score\": predict})\n",
    "    \n",
    "    return model    "
   ]
  },
  {
   "cell_type": "markdown",
   "id": "5c347d93-6ed8-4d01-acb9-39309c8d6b79",
   "metadata": {},
   "source": [
    "Let's define a Ray task that will handle each shard of the NYC taxt data"
   ]
  },
  {
   "cell_type": "code",
   "execution_count": 13,
   "id": "794a075a-01e0-4789-9734-6a29e9df79aa",
   "metadata": {},
   "outputs": [],
   "source": [
    "@ray.remote\n",
    "def make_model_batch_predictions(model, shard_path):\n",
    "    print(f\"Batch inference for shard file: {shard_path}\")\n",
    "    df = pq.read_table(shard_path).to_pandas()\n",
    "    result = model(df)\n",
    "\n",
    "    # Return our prediction data frame\n",
    "    return result"
   ]
  },
  {
   "cell_type": "markdown",
   "id": "ba78dfe6-f17f-4c99-93a2-1b87bd7b474a",
   "metadata": {},
   "source": [
    "Get the 12 files consisting of NYC data per month"
   ]
  },
  {
   "cell_type": "code",
   "execution_count": 14,
   "id": "044acf37-a2bc-41dc-9347-4631aacfef4f",
   "metadata": {},
   "outputs": [],
   "source": [
    "# 12 files, one for each remote task.\n",
    "input_files = [\n",
    "    f\"s3://anonymous@air-example-data/ursa-labs-taxi-data/downsampled_2009_full_year_data.parquet\"\n",
    "    f\"/fe41422b01c04169af2a65a83b753e0f_{i:06d}.parquet\" for i in range(12)\n",
    "]"
   ]
  },
  {
   "cell_type": "markdown",
   "id": "473ae826-61c5-4212-9374-98b53a0ef78b",
   "metadata": {},
   "source": [
    "`ray.put()` the model just once to local object store, and then pass the reference to the remote tasks.\n",
    "This is Ray core API for putting objects into the Ray Plasma store. We discuss these APIs and Plasma store\n",
    "in the next tutorial. "
   ]
  },
  {
   "cell_type": "code",
   "execution_count": 15,
   "id": "bbb61e5c-d190-4b10-bf4f-251a1c138235",
   "metadata": {},
   "outputs": [
    {
     "data": {
      "text/plain": [
       "ObjectRef(00ffffffffffffffffffffffffffffffffffffff0100000001000000)"
      ]
     },
     "execution_count": 15,
     "metadata": {},
     "output_type": "execute_result"
    }
   ],
   "source": [
    "# Get the model \n",
    "model = load_trained_model()\n",
    "\n",
    "# Put the model object into the shared object store.\n",
    "model_ref = ray.put(model)\n",
    "model_ref"
   ]
  },
  {
   "cell_type": "code",
   "execution_count": 16,
   "id": "4946c974-64ee-4e85-982e-8f5dff3bad7d",
   "metadata": {},
   "outputs": [
    {
     "name": "stdout",
     "output_type": "stream",
     "text": [
      "\u001b[2m\u001b[36m(make_model_batch_predictions pid=82481)\u001b[0m Batch inference for shard file: s3://anonymous@air-example-data/ursa-labs-taxi-data/downsampled_2009_full_year_data.parquet/fe41422b01c04169af2a65a83b753e0f_000002.parquet\n",
      "\u001b[2m\u001b[36m(make_model_batch_predictions pid=82484)\u001b[0m Batch inference for shard file: s3://anonymous@air-example-data/ursa-labs-taxi-data/downsampled_2009_full_year_data.parquet/fe41422b01c04169af2a65a83b753e0f_000009.parquet\n",
      "\u001b[2m\u001b[36m(make_model_batch_predictions pid=82486)\u001b[0m Batch inference for shard file: s3://anonymous@air-example-data/ursa-labs-taxi-data/downsampled_2009_full_year_data.parquet/fe41422b01c04169af2a65a83b753e0f_000001.parquet\n",
      "\u001b[2m\u001b[36m(make_model_batch_predictions pid=82485)\u001b[0m Batch inference for shard file: s3://anonymous@air-example-data/ursa-labs-taxi-data/downsampled_2009_full_year_data.parquet/fe41422b01c04169af2a65a83b753e0f_000007.parquet\n",
      "\u001b[2m\u001b[36m(make_model_batch_predictions pid=82479)\u001b[0m Batch inference for shard file: s3://anonymous@air-example-data/ursa-labs-taxi-data/downsampled_2009_full_year_data.parquet/fe41422b01c04169af2a65a83b753e0f_000003.parquet\n",
      "\u001b[2m\u001b[36m(make_model_batch_predictions pid=82488)\u001b[0m Batch inference for shard file: s3://anonymous@air-example-data/ursa-labs-taxi-data/downsampled_2009_full_year_data.parquet/fe41422b01c04169af2a65a83b753e0f_000008.parquet\n",
      "\u001b[2m\u001b[36m(make_model_batch_predictions pid=82483)\u001b[0m Batch inference for shard file: s3://anonymous@air-example-data/ursa-labs-taxi-data/downsampled_2009_full_year_data.parquet/fe41422b01c04169af2a65a83b753e0f_000000.parquet\n",
      "\u001b[2m\u001b[36m(make_model_batch_predictions pid=82480)\u001b[0m Batch inference for shard file: s3://anonymous@air-example-data/ursa-labs-taxi-data/downsampled_2009_full_year_data.parquet/fe41422b01c04169af2a65a83b753e0f_000006.parquet\n",
      "\u001b[2m\u001b[36m(make_model_batch_predictions pid=82487)\u001b[0m Batch inference for shard file: s3://anonymous@air-example-data/ursa-labs-taxi-data/downsampled_2009_full_year_data.parquet/fe41422b01c04169af2a65a83b753e0f_000005.parquet\n",
      "\u001b[2m\u001b[36m(make_model_batch_predictions pid=82482)\u001b[0m Batch inference for shard file: s3://anonymous@air-example-data/ursa-labs-taxi-data/downsampled_2009_full_year_data.parquet/fe41422b01c04169af2a65a83b753e0f_000004.parquet\n",
      "\u001b[2m\u001b[36m(make_model_batch_predictions pid=82488)\u001b[0m Batch inference for shard file: s3://anonymous@air-example-data/ursa-labs-taxi-data/downsampled_2009_full_year_data.parquet/fe41422b01c04169af2a65a83b753e0f_000010.parquet\n",
      "\u001b[2m\u001b[36m(make_model_batch_predictions pid=82487)\u001b[0m Batch inference for shard file: s3://anonymous@air-example-data/ursa-labs-taxi-data/downsampled_2009_full_year_data.parquet/fe41422b01c04169af2a65a83b753e0f_000011.parquet\n"
     ]
    }
   ],
   "source": [
    "# List for holding all object references from the model's predictions\n",
    "result_refs = []\n",
    "\n",
    "# Launch all prediction tasks. For each file create a Ray remote task\n",
    "# to do a batch inference\n",
    "for file in input_files:\n",
    "    \n",
    "    # Launch a prediction task by passing model reference and shard file to it.\n",
    "    # NOTE: it would be highly inefficient if you are passing the model itself\n",
    "    # like  make_model_prediction.remote(model, file), which in order to pass the model\n",
    "    # to remote node will ray.put(model) for each task, potentially overwhelming\n",
    "    # the local object store and causing out-of-memory or out-of-disk error.\n",
    "    result_refs.append(make_model_batch_predictions.remote(model_ref, file))"
   ]
  },
  {
   "cell_type": "markdown",
   "id": "c6bd8ce7-9b9b-45e3-a24a-882736445eef",
   "metadata": {},
   "source": [
    "Fetch the results"
   ]
  },
  {
   "cell_type": "code",
   "execution_count": 17,
   "id": "ca2c5618-d45f-407f-8535-8a7626b66d6e",
   "metadata": {},
   "outputs": [],
   "source": [
    "results = ray.get(result_refs)"
   ]
  },
  {
   "cell_type": "code",
   "execution_count": 18,
   "id": "169cd4aa-08e4-4234-9799-d3266355b1b8",
   "metadata": {},
   "outputs": [
    {
     "name": "stdout",
     "output_type": "stream",
     "text": [
      "Predictions dataframe size: 141062 | Total score for tips: 46360\n",
      "Predictions dataframe size: 133932 | Total score for tips: 42175\n",
      "Predictions dataframe size: 144014 | Total score for tips: 45175\n",
      "Predictions dataframe size: 143087 | Total score for tips: 45510\n",
      "Predictions dataframe size: 148108 | Total score for tips: 47713\n",
      "Predictions dataframe size: 141981 | Total score for tips: 45188\n",
      "Predictions dataframe size: 136394 | Total score for tips: 43234\n",
      "Predictions dataframe size: 136999 | Total score for tips: 45142\n",
      "Predictions dataframe size: 139985 | Total score for tips: 44138\n",
      "Predictions dataframe size: 156198 | Total score for tips: 49909\n",
      "Predictions dataframe size: 142893 | Total score for tips: 46112\n",
      "Predictions dataframe size: 145976 | Total score for tips: 48036\n"
     ]
    }
   ],
   "source": [
    " # Let's check predictions and output size.\n",
    "for r in results:\n",
    "    print(f\"Predictions dataframe size: {len(r)} | Total score for tips: {r['score'].sum()}\")"
   ]
  },
  {
   "cell_type": "code",
   "execution_count": 19,
   "id": "bc6626f9-2887-46ca-8c2c-db7a0173fb66",
   "metadata": {},
   "outputs": [],
   "source": [
    "ray.shutdown()"
   ]
  },
  {
   "cell_type": "markdown",
   "id": "56ad62eb",
   "metadata": {},
   "source": [
    "---"
   ]
  },
  {
   "cell_type": "markdown",
   "id": "0658478a",
   "metadata": {},
   "source": [
    "### Exercises\n",
    "\n",
    "1. Increase the fibonacci with 200K, 300K\n",
    "2. Add a compute intensive function; pick some function from your repo and convert to a remote task.\n",
    "3. (Optional) Run how to [compute PI](extra/highly_parallel.ipynb). **Note**: You can tweak with the `FULL_SAMPLE_COUNT`, to adjust the accuracy to the value of `math.pi`. `100 billion samples` may take too long. Play with this number."
   ]
  },
  {
   "cell_type": "markdown",
   "id": "0d4fa0e7",
   "metadata": {},
   "source": [
    "### Homework\n",
    "1. Try writing a map-reduce app for word or character count in a list. Try first with simple case of a few lines, then extend it to a large file.\n",
    "2. Try using local [bubble sort](https://www.geeksforgeeks.org/python-program-for-bubble-sort/) and remote bubble sort\n",
    "3. Do you see the difference for small and large numbers?\n",
    "4. Read this [blog](https://www.anyscale.com/blog/parallelizing-python-code) and try some examples.\n",
    "5. Take an existing regression model, save it as in a model format, use this scaling technique to do batch inference at scale and in parallel"
   ]
  },
  {
   "cell_type": "markdown",
   "id": "4d8d5d0c-89d9-40cc-9fb3-85e3ddc59f3c",
   "metadata": {},
   "source": [
    "### Next Step\n",
    "\n",
    "Let's move on to the distributed [remote objects lesson](ex_02_remote_objs.ipynb)."
   ]
  },
  {
   "cell_type": "markdown",
   "id": "08f363a1",
   "metadata": {},
   "source": [
    "### References\n",
    "\n",
    "1. [Modern Parallel and Distributed Python: A Quick Tutorial on Ray](https://towardsdatascience.com/modern-parallel-and-distributed-python-a-quick-tutorial-on-ray-99f8d70369b8) by Robert Nishihara, co-creator of Ray and co-founder Anyscale\n",
    "2. [Ray Core Introduction](https://www.anyscale.com/events/2022/02/03/introduction-to-ray-core-and-its-ecosystem) by Jules S. Damji"
   ]
  },
  {
   "cell_type": "markdown",
   "id": "e3814279-ed27-4dbe-92d4-33ea456224b6",
   "metadata": {},
   "source": [
    "📖 [Back to Table of Contents](./ex_00_tutorial_overview.ipynb)<br>\n",
    "➡ [Next notebook](./ex_02_remote_objs.ipynb) <br>"
   ]
  }
 ],
 "metadata": {
  "kernelspec": {
   "display_name": "Python 3 (ipykernel)",
   "language": "python",
   "name": "python3"
  },
  "language_info": {
   "codemirror_mode": {
    "name": "ipython",
    "version": 3
   },
   "file_extension": ".py",
   "mimetype": "text/x-python",
   "name": "python",
   "nbconvert_exporter": "python",
   "pygments_lexer": "ipython3",
   "version": "3.8.13"
  }
 },
 "nbformat": 4,
 "nbformat_minor": 5
}
