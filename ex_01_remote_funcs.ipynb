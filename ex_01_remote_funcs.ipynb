{
 "cells": [
  {
   "cell_type": "markdown",
   "id": "15a16c45-b3a5-4c4f-81d4-8bec7c83892d",
   "metadata": {},
   "source": [
    "<img src=\"images/ray_basic_patterns.png\" height=\"25%\" width=\"50%\">"
   ]
  },
  {
   "cell_type": "code",
   "execution_count": 1,
   "id": "42b0bdbc-3bcf-4975-9590-f8ae9cb5bfd7",
   "metadata": {},
   "outputs": [],
   "source": [
    "import os\n",
    "import time\n",
    "import logging\n",
    "\n",
    "import numpy as np\n",
    "from numpy import loadtxt\n",
    "import ray"
   ]
  },
  {
   "cell_type": "markdown",
   "id": "ea926840-ada3-4566-98eb-e594585374e6",
   "metadata": {},
   "source": [
    "## 1. Tasks Parallel Pattern\n",
    "\n",
    "Ray converts decorated functions into stateless tasks, scheduled\n",
    "anywhere onto a ray worker in the cluster by simply adding the `@ray.remote` decorator\n",
    "\n",
    "All these functions are converted into Ray stateless tasks that will be executed on some worker process in a Ray cluster.\n",
    "Where they will be placed, you don't have to worry about its details. All that is taken care for you. Nor do you have to\n",
    "reason about it— all that burder is Ray's job.\n",
    "\n",
    "You simply take your existing Python functions and covert them into *Ray Tasks*: as simple as that!"
   ]
  },
  {
   "cell_type": "markdown",
   "id": "e789e133-9b12-4518-831a-b78fa0430705",
   "metadata": {},
   "source": [
    "### Example 1: Adding two np arrays"
   ]
  },
  {
   "cell_type": "markdown",
   "id": "3e076e93-3ed7-4acc-88ad-8a4115b568b3",
   "metadata": {},
   "source": [
    "Define a function as a Ray task to read an array"
   ]
  },
  {
   "cell_type": "code",
   "execution_count": 2,
   "id": "54f1ed66-7169-42f0-b952-6298dd01ab42",
   "metadata": {},
   "outputs": [],
   "source": [
    "@ray.remote\n",
    "def read_array(fn: str) -> np.array:\n",
    "    arr = loadtxt(fn, comments=\"#\", delimiter=\",\", unpack=False)\n",
    "    return arr.astype('int')"
   ]
  },
  {
   "cell_type": "markdown",
   "id": "51619a9a-1f41-4678-a9ae-d2831713d247",
   "metadata": {},
   "source": [
    "Define a function as a Ray task to add two np arrays return the sum"
   ]
  },
  {
   "cell_type": "code",
   "execution_count": 3,
   "id": "c5e543c9-7b67-4776-b8d8-2a4bbbded604",
   "metadata": {},
   "outputs": [],
   "source": [
    "@ray.remote\n",
    "def add_array(arr1: np.array, arr2: np.array) -> np.array:\n",
    "    return np.add(arr1, arr1)"
   ]
  },
  {
   "cell_type": "markdown",
   "id": "7f7b4888-7116-4141-a170-744f9e31ae33",
   "metadata": {},
   "source": [
    "Define a function as a Ray task to the contents of an np array"
   ]
  },
  {
   "cell_type": "code",
   "execution_count": 4,
   "id": "2c1aee3b-9b15-4653-a46a-b0e0e3ee8a3a",
   "metadata": {},
   "outputs": [],
   "source": [
    "@ray.remote\n",
    "def sum_array(arr1: np.array) -> int:\n",
    "    return np.sum(arr1)"
   ]
  },
  {
   "cell_type": "markdown",
   "id": "b6d982e4-0f9b-4255-a416-e157a6943870",
   "metadata": {},
   "source": [
    "Now let's execute them our tasks. But first, we have to initialize Ray. For now\n",
    "we will run Ray locally on our laptop.\n",
    "\n",
    "Ray executes immediately and returns an object reference as a futures. This enables Ray to parallelize tasks and execute them\n",
    "asynchronously.\n",
    "\n",
    "But first let's initialize ray."
   ]
  },
  {
   "cell_type": "code",
   "execution_count": 5,
   "id": "215d59ae-af16-414f-9766-c37785e4c0ec",
   "metadata": {},
   "outputs": [
    {
     "data": {
      "text/plain": [
       "{'node_ip_address': '127.0.0.1',\n",
       " 'raylet_ip_address': '127.0.0.1',\n",
       " 'redis_address': '127.0.0.1:64516',\n",
       " 'object_store_address': '/tmp/ray/session_2021-12-28_16-51-45_848187_74720/sockets/plasma_store',\n",
       " 'raylet_socket_name': '/tmp/ray/session_2021-12-28_16-51-45_848187_74720/sockets/raylet',\n",
       " 'webui_url': '127.0.0.1:8266',\n",
       " 'session_dir': '/tmp/ray/session_2021-12-28_16-51-45_848187_74720',\n",
       " 'metrics_export_port': 65417,\n",
       " 'node_id': 'd1b5664c1245494c14c99a8b3f673ea6ea793085346fa07dd2a2b92c'}"
      ]
     },
     "execution_count": 5,
     "metadata": {},
     "output_type": "execute_result"
    }
   ],
   "source": [
    "ray.init(\n",
    "    ignore_reinit_error=True,\n",
    "    logging_level=logging.ERROR,\n",
    ")"
   ]
  },
  {
   "cell_type": "markdown",
   "id": "647c56ed-ff55-481e-8445-290159232d61",
   "metadata": {},
   "source": [
    "#### Read both arrays. "
   ]
  },
  {
   "cell_type": "code",
   "execution_count": 6,
   "id": "16389983-334b-4b1b-9982-5343d512e8c2",
   "metadata": {},
   "outputs": [
    {
     "name": "stdout",
     "output_type": "stream",
     "text": [
      "array 1: ObjectRef(a67dc375e60ddd1affffffffffffffffffffffff0100000001000000)\n"
     ]
    }
   ],
   "source": [
    "obj_ref_arr1 = read_array.remote(\"data/file_1.txt\")\n",
    "print(f\"array 1: {obj_ref_arr1}\")"
   ]
  },
  {
   "cell_type": "code",
   "execution_count": 7,
   "id": "866e4bdc-04e2-4629-b13c-a55a1be08621",
   "metadata": {},
   "outputs": [
    {
     "name": "stdout",
     "output_type": "stream",
     "text": [
      "array 2: ObjectRef(63964fa4841d4a2effffffffffffffffffffffff0100000001000000)\n"
     ]
    }
   ],
   "source": [
    "obj_ref_arr2 = read_array.remote(\"data/file_2.txt\")\n",
    "print(f\"array 2: {obj_ref_arr2}\")"
   ]
  },
  {
   "cell_type": "markdown",
   "id": "e7cc20ed-4f1e-4ec3-a8d3-1959b398175a",
   "metadata": {},
   "source": [
    "Let's add our two arrays by calling the remote method. *Note*: We are sending RayObject references as arguments.\n",
    "Those will be resolved inline and fetched from owner or the note that owns them from its global object store. \n",
    "\n",
    "Ray scheduler is aware of where these object references reside or who owns them, so it will schedule this remote\n",
    "task on node on the worker process for data locality."
   ]
  },
  {
   "cell_type": "code",
   "execution_count": 8,
   "id": "c8195bf8-9f4e-421d-8955-0c0e8c851134",
   "metadata": {},
   "outputs": [],
   "source": [
    "result_obj_ref = add_array.remote(obj_ref_arr1, obj_ref_arr2)"
   ]
  },
  {
   "cell_type": "markdown",
   "id": "d346857a-d91b-4b5c-8f31-db907179beb5",
   "metadata": {},
   "source": [
    "Fetch the result: this will block if not finished"
   ]
  },
  {
   "cell_type": "code",
   "execution_count": 9,
   "id": "e642440b-e29c-4fb7-9c51-2390720d9146",
   "metadata": {},
   "outputs": [
    {
     "name": "stdout",
     "output_type": "stream",
     "text": [
      "Result: add arr1 + arr2: \n",
      " [[  0  96 144 150 108 178 168 136  18  76]\n",
      " [  6  80 146 116  20  70 192  12 130  66]\n",
      " [110 134  24 194 104 146  14 152  78 100]\n",
      " [118  68  40  80 184 110  22  78 186  76]\n",
      " [178 178  74 104  96 172  98   6  38 100]\n",
      " [168  74 136  22  40  72  92 122 104 154]\n",
      " [140 180 112 110  98 152 188  56  64  46]\n",
      " [ 10  88 184  30 106 126 174 150 122  50]\n",
      " [102 116  58  60 186 188 104 144 160  54]\n",
      " [  2  56 164  70 178  72  20 168 170 130]]\n"
     ]
    }
   ],
   "source": [
    "result = ray.get(result_obj_ref)\n",
    "print(f\"Result: add arr1 + arr2: \\n {result}\")"
   ]
  },
  {
   "cell_type": "code",
   "execution_count": 10,
   "id": "387ce8d5-fc95-4417-8c8f-756ac4ea2c5f",
   "metadata": {},
   "outputs": [],
   "source": [
    "# Add the array elements and get the sum\n",
    "sum_1 = ray.get(sum_array.remote(obj_ref_arr1))\n",
    "sum_2 = ray.get(sum_array.remote(obj_ref_arr2))"
   ]
  },
  {
   "cell_type": "code",
   "execution_count": 11,
   "id": "62dc9863-8766-49bd-948e-d7270a83a82a",
   "metadata": {},
   "outputs": [
    {
     "name": "stdout",
     "output_type": "stream",
     "text": [
      "Sum of arr1: 5173\n",
      "Sum of arr2: 7719\n"
     ]
    }
   ],
   "source": [
    "print(f'Sum of arr1: {sum_1}')\n",
    "print(f'Sum of arr2: {sum_2}')"
   ]
  },
  {
   "cell_type": "markdown",
   "id": "c30303db-5f78-4d84-b1ef-ef61f8dbb978",
   "metadata": {},
   "source": [
    "### Example 2: Generating Fibonnaci series\n",
    "\n",
    "Let's define two functions: one runs locally or serially, the other runs on a Ray cluster (local or remote). This example is borrowed and refactored from our blog: [Writing your First Distributed Python Application with Ray](https://www.anyscale.com/blog/writing-your-first-distributed-python-application-with-ray). \n",
    "\n",
    "Another similar blog of interest is how to compute the value of **pi**: [How to scale Python multiprocessing to a cluster with one line of code](https://medium.com/distributed-computing-with-ray/how-to-scale-python-multiprocessing-to-a-cluster-with-one-line-of-code-d19f242f60ff)."
   ]
  },
  {
   "cell_type": "code",
   "execution_count": 12,
   "id": "1cf54530-e125-45d4-92b3-9c6bc02f083a",
   "metadata": {},
   "outputs": [],
   "source": [
    "# Local execution \n",
    "def generate_fibonacci(sequence_size):\n",
    "    fibonacci = []\n",
    "    for i in range(0, sequence_size):\n",
    "        if i < 2:\n",
    "            fibonacci.append(i)\n",
    "            continue\n",
    "        fibonacci.append(fibonacci[i-1]+fibonacci[i-2])\n",
    "    return len(fibonacci)"
   ]
  },
  {
   "cell_type": "code",
   "execution_count": 13,
   "id": "22788e88-5bd4-41da-91f8-51bc4ed76a41",
   "metadata": {},
   "outputs": [],
   "source": [
    "# Remote Task with just a wrapper\n",
    "@ray.remote\n",
    "def generate_fibonacci_distributed(sequence_size):\n",
    "    return generate_fibonacci(sequence_size)"
   ]
  },
  {
   "cell_type": "code",
   "execution_count": 14,
   "id": "389b4b81-3627-4592-b92e-cc3d5c3601ee",
   "metadata": {},
   "outputs": [
    {
     "data": {
      "text/plain": [
       "12"
      ]
     },
     "execution_count": 14,
     "metadata": {},
     "output_type": "execute_result"
    }
   ],
   "source": [
    "# Get the number of cores \n",
    "os.cpu_count()"
   ]
  },
  {
   "cell_type": "code",
   "execution_count": 15,
   "id": "546138b1-0ec3-4f7d-b7eb-c032294fa4df",
   "metadata": {},
   "outputs": [],
   "source": [
    "# Normal Python in a single process \n",
    "def run_local(sequence_size):\n",
    "    results = [generate_fibonacci(sequence_size) for _ in range(os.cpu_count())]\n",
    "    return results"
   ]
  },
  {
   "cell_type": "code",
   "execution_count": 16,
   "id": "520c97ec-d6ff-4e85-a09d-3873054d1558",
   "metadata": {},
   "outputs": [
    {
     "name": "stdout",
     "output_type": "stream",
     "text": [
      "CPU times: user 2.94 s, sys: 1.95 s, total: 4.89 s\n",
      "Wall time: 4.9 s\n"
     ]
    },
    {
     "data": {
      "text/plain": [
       "[100000,\n",
       " 100000,\n",
       " 100000,\n",
       " 100000,\n",
       " 100000,\n",
       " 100000,\n",
       " 100000,\n",
       " 100000,\n",
       " 100000,\n",
       " 100000,\n",
       " 100000,\n",
       " 100000]"
      ]
     },
     "execution_count": 16,
     "metadata": {},
     "output_type": "execute_result"
    }
   ],
   "source": [
    "%%time\n",
    "run_local(100000)"
   ]
  },
  {
   "cell_type": "code",
   "execution_count": 17,
   "id": "9f8317bb-18b2-4389-836d-1e05399148de",
   "metadata": {},
   "outputs": [],
   "source": [
    "# Distributed on a Ray cluster\n",
    "def run_remote(sequence_size):\n",
    "    results = ray.get([generate_fibonacci_distributed.remote(sequence_size) for _ in range(os.cpu_count())])\n",
    "    return results"
   ]
  },
  {
   "cell_type": "code",
   "execution_count": 18,
   "id": "2ca042c5-9d0d-4bcc-9522-69c7d1e95500",
   "metadata": {},
   "outputs": [
    {
     "name": "stdout",
     "output_type": "stream",
     "text": [
      "CPU times: user 58.6 ms, sys: 28.3 ms, total: 86.9 ms\n",
      "Wall time: 1.95 s\n"
     ]
    },
    {
     "data": {
      "text/plain": [
       "[100000,\n",
       " 100000,\n",
       " 100000,\n",
       " 100000,\n",
       " 100000,\n",
       " 100000,\n",
       " 100000,\n",
       " 100000,\n",
       " 100000,\n",
       " 100000,\n",
       " 100000,\n",
       " 100000]"
      ]
     },
     "execution_count": 18,
     "metadata": {},
     "output_type": "execute_result"
    }
   ],
   "source": [
    "%%time\n",
    "run_remote(100000)"
   ]
  },
  {
   "cell_type": "code",
   "execution_count": 19,
   "id": "8f0256a2-ca5a-4c17-af32-022449fe3c6e",
   "metadata": {},
   "outputs": [],
   "source": [
    "# Normally will want to shutdown\n",
    "ray.shutdown()"
   ]
  },
  {
   "cell_type": "markdown",
   "id": "736292de-21cd-45cc-a103-5c7732f628ab",
   "metadata": {},
   "source": [
    "---"
   ]
  },
  {
   "cell_type": "markdown",
   "id": "ba2b7cec-65e3-4544-ab02-2fed100c1b38",
   "metadata": {},
   "source": [
    "### References\n",
    "\n",
    "1. [Modern Parallel and Distributed Python: A Quick Tutorial on Ray](https://towardsdatascience.com/modern-parallel-and-distributed-python-a-quick-tutorial-on-ray-99f8d70369b8) by Robert Nishihara, co-creator of Ray and co-founder Anyscale"
   ]
  }
 ],
 "metadata": {
  "kernelspec": {
   "display_name": "Python 3 (ipykernel)",
   "language": "python",
   "name": "python3"
  },
  "language_info": {
   "codemirror_mode": {
    "name": "ipython",
    "version": 3
   },
   "file_extension": ".py",
   "mimetype": "text/x-python",
   "name": "python",
   "nbconvert_exporter": "python",
   "pygments_lexer": "ipython3",
   "version": "3.8.12"
  }
 },
 "nbformat": 4,
 "nbformat_minor": 5
}
