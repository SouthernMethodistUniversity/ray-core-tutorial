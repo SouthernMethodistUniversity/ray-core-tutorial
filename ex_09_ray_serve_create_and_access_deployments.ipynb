{
 "cells": [
  {
   "cell_type": "markdown",
   "id": "d6e4dfe1-144a-4142-b3a2-9cd5fc20ced5",
   "metadata": {},
   "source": [
    "# Ray Serve - Creating, Deploying and Accessing Deployments\n",
    "\n",
    "© 2019-2022, Anyscale. All Rights Reserved\n",
    "\n",
    "This brief tutorial shows how to create, deploy, and expose access to\n",
    "deployment models, using the simple Ray Serve deployment APIs.\n",
    "Once deployed, you can send requests to deployments via two methods:\n",
    "\n",
    " 1. ServerHandle API\n",
    " 2. HTTP"
   ]
  },
  {
   "cell_type": "code",
   "execution_count": 1,
   "id": "6162fac5-4fa5-4553-9a21-8ac8dab4a4a2",
   "metadata": {},
   "outputs": [],
   "source": [
    "import os\n",
    "from random import random\n",
    "\n",
    "import requests\n",
    "import starlette\n",
    "from starlette.requests import Request\n",
    "import ray\n",
    "from ray import serve"
   ]
  },
  {
   "cell_type": "markdown",
   "id": "05706639-da47-4826-80b8-b8915ca25696",
   "metadata": {},
   "source": [
    "A simple example model stored in a pickled format at an accessible path\n",
    "that can be reloaded and deserialized into a model instance. Once deployed\n",
    "in Ray Serve, we can use it for prediction. The prediction is a fake condition,\n",
    "based on threshold of weight greater than 0.5."
   ]
  },
  {
   "cell_type": "code",
   "execution_count": 2,
   "id": "0a6596d7-e3f1-42cb-97f2-70f76b57450b",
   "metadata": {},
   "outputs": [],
   "source": [
    "class Model:\n",
    "    def __init__(self, path):\n",
    "        self.path = path\n",
    "\n",
    "    def predict(self, data):\n",
    "        return random() + data if data > 0.5 else data"
   ]
  },
  {
   "cell_type": "code",
   "execution_count": 3,
   "id": "96ab2dd9-bcd3-4756-ac04-d0771a7a5441",
   "metadata": {},
   "outputs": [],
   "source": [
    "@serve.deployment\n",
    "class Deployment:\n",
    "    # Take in a path to load your desired model\n",
    "    def __init__(self, path: str) -> None:\n",
    "        self.path = path\n",
    "        self.model = Model(path)\n",
    "        # Get the pid on which this deployment is running on\n",
    "        self.pid = os.getpid()\n",
    "\n",
    "    # Deployments are callable. Here we simply return a prediction from\n",
    "    # our request\n",
    "    def __call__(self, starlette_request) -> str:\n",
    "        # Request came via an HTTP\n",
    "        if isinstance(starlette_request, starlette.requests.Request):\n",
    "            data = starlette_request.query_params['data']\n",
    "        else:\n",
    "            # Request came via a ServerHandle API method call.\n",
    "            data = starlette_request\n",
    "        pred = self.model.predict(float(data))\n",
    "        return f\"(pid: {self.pid}); path: {self.path}; data: {float(data):.3f}; prediction: {pred:.3f}\""
   ]
  },
  {
   "cell_type": "markdown",
   "id": "8ce34a8a-9fe0-4c02-bf83-9b6210b08e7f",
   "metadata": {},
   "source": [
    "Start a Ray Serve instance. This will automatically start or connect to an existing Ray cluster."
   ]
  },
  {
   "cell_type": "code",
   "execution_count": 4,
   "id": "b86ad83f-19c9-4410-b635-955497ecc20f",
   "metadata": {},
   "outputs": [
    {
     "name": "stderr",
     "output_type": "stream",
     "text": [
      "2022-03-16 16:32:58,840\tINFO services.py:1412 -- View the Ray dashboard at \u001b[1m\u001b[32mhttp://127.0.0.1:8269\u001b[39m\u001b[22m\n",
      "\u001b[2m\u001b[36m(ServeController pid=63161)\u001b[0m 2022-03-16 16:33:01,745\tINFO checkpoint_path.py:16 -- Using RayInternalKVStore for controller checkpoint and recovery.\n",
      "\u001b[2m\u001b[36m(ServeController pid=63161)\u001b[0m 2022-03-16 16:33:01,853\tINFO http_state.py:98 -- Starting HTTP proxy with name 'SERVE_CONTROLLER_ACTOR:fNdmTn:SERVE_PROXY_ACTOR-node:127.0.0.1-0' on node 'node:127.0.0.1-0' listening on '127.0.0.1:8000'\n",
      "2022-03-16 16:33:02,196\tINFO api.py:521 -- Started Serve instance in namespace 'serve'.\n"
     ]
    },
    {
     "data": {
      "text/plain": [
       "<ray.serve.api.Client at 0x7ff9208ceb80>"
      ]
     },
     "execution_count": 4,
     "metadata": {},
     "output_type": "execute_result"
    }
   ],
   "source": [
    "serve.start()"
   ]
  },
  {
   "cell_type": "markdown",
   "id": "5de7ed24-649a-403c-ad76-085cf33c4eed",
   "metadata": {},
   "source": [
    "Create two distinct deployments of the same class as two replicas. \n",
    "Associate each deployment with a unique 'name'.This name can be used as to fetch its respective serve handle.\n",
    "See code below for method 1."
   ]
  },
  {
   "cell_type": "code",
   "execution_count": 5,
   "id": "ffd04a68-e299-4647-bb75-2abf6492c2f4",
   "metadata": {},
   "outputs": [
    {
     "name": "stderr",
     "output_type": "stream",
     "text": [
      "2022-03-16 16:33:02,215\tINFO api.py:262 -- Updating deployment 'rep-1'. component=serve deployment=rep-1\n",
      "\u001b[2m\u001b[36m(HTTPProxyActor pid=63157)\u001b[0m INFO:     Started server process [63157]\n",
      "\u001b[2m\u001b[36m(ServeController pid=63161)\u001b[0m 2022-03-16 16:33:02,287\tINFO deployment_state.py:920 -- Adding 2 replicas to deployment 'rep-1'. component=serve deployment=rep-1\n",
      "2022-03-16 16:33:02,729\tINFO api.py:274 -- Deployment 'rep-1' is ready at `http://127.0.0.1:8000/rep-1`. component=serve deployment=rep-1\n",
      "2022-03-16 16:33:02,735\tINFO api.py:262 -- Updating deployment 'rep-2'. component=serve deployment=rep-2\n",
      "\u001b[2m\u001b[36m(ServeController pid=63161)\u001b[0m 2022-03-16 16:33:02,837\tINFO deployment_state.py:920 -- Adding 2 replicas to deployment 'rep-2'. component=serve deployment=rep-2\n",
      "2022-03-16 16:33:03,282\tINFO api.py:274 -- Deployment 'rep-2' is ready at `http://127.0.0.1:8000/rep-2`. component=serve deployment=rep-2\n"
     ]
    }
   ],
   "source": [
    "Deployment.options(name=\"rep-1\", num_replicas=2).deploy(\"/model/rep-1.pkl\")\n",
    "Deployment.options(name=\"rep-2\", num_replicas=2).deploy(\"/model/rep-2.pkl\")"
   ]
  },
  {
   "cell_type": "markdown",
   "id": "1afacbbf-e3ad-4312-8d53-39ac90d81a2b",
   "metadata": {},
   "source": [
    "### Get the current list of deployment\n"
   ]
  },
  {
   "cell_type": "code",
   "execution_count": 6,
   "id": "a1ebe3d9-5b11-4e39-81a3-e4fb44f98f7b",
   "metadata": {},
   "outputs": [
    {
     "name": "stdout",
     "output_type": "stream",
     "text": [
      "{'rep-1': Deployment(name=rep-1,version=None,route_prefix=/rep-1), 'rep-2': Deployment(name=rep-2,version=None,route_prefix=/rep-2)}\n"
     ]
    }
   ],
   "source": [
    "print(serve.list_deployments())"
   ]
  },
  {
   "cell_type": "markdown",
   "id": "3d5b149f-b36f-44d5-9fdf-e04d3162a9ed",
   "metadata": {},
   "source": [
    "### Method 1: Access each deployment using the ServerHandle API"
   ]
  },
  {
   "cell_type": "code",
   "execution_count": 7,
   "id": "4fb8c5a8-04e2-4c66-8854-795839bc0c26",
   "metadata": {},
   "outputs": [
    {
     "name": "stderr",
     "output_type": "stream",
     "text": [
      "2022-03-16 16:33:08,797\tWARNING api.py:333 -- You are retrieving a sync handle inside an asyncio loop. Try getting client.get_handle(.., sync=False) to get better performance. Learn more at https://docs.ray.io/en/master/serve/http-servehandle.html#sync-and-async-handles\n",
      "2022-03-16 16:33:08,811\tWARNING api.py:333 -- You are retrieving a sync handle inside an asyncio loop. Try getting client.get_handle(.., sync=False) to get better performance. Learn more at https://docs.ray.io/en/master/serve/http-servehandle.html#sync-and-async-handles\n"
     ]
    },
    {
     "name": "stdout",
     "output_type": "stream",
     "text": [
      "handle name : rep-1\n",
      "prediction  : (pid: 63160); path: /model/rep-1.pkl; data: 0.517; prediction: 1.339\n",
      "--\n",
      "handle name : rep-2\n",
      "prediction  : (pid: 63150); path: /model/rep-2.pkl; data: 0.470; prediction: 0.470\n",
      "--\n",
      "handle name : rep-1\n",
      "prediction  : (pid: 63156); path: /model/rep-1.pkl; data: 0.827; prediction: 1.650\n",
      "--\n",
      "handle name : rep-2\n",
      "prediction  : (pid: 63159); path: /model/rep-2.pkl; data: 0.605; prediction: 1.428\n",
      "--\n"
     ]
    }
   ],
   "source": [
    "for _ in range(2):\n",
    "    for d_name in [\"rep-1\", \"rep-2\"]:\n",
    "        # Get handle to the each deployment and invoke its method.\n",
    "        # Which replica the request is dispatched to is determined\n",
    "        # by the Router actor.\n",
    "        handle = serve.get_deployment(d_name).get_handle()\n",
    "        print(f\"handle name : {d_name}\")\n",
    "        print(f\"prediction  : {ray.get(handle.remote(random()))}\")\n",
    "        print(\"-\" * 2)"
   ]
  },
  {
   "cell_type": "markdown",
   "id": "e22863fa-7128-4b1f-853c-5a77723ff344",
   "metadata": {},
   "source": [
    "### Method 2: Access deployment via HTTP Request"
   ]
  },
  {
   "cell_type": "code",
   "execution_count": 8,
   "id": "6d4bcce3-30b5-4baa-b67d-d6a575a30edb",
   "metadata": {},
   "outputs": [
    {
     "name": "stdout",
     "output_type": "stream",
     "text": [
      "handle name : rep-1\n",
      "prediction  : (pid: 63156); path: /model/rep-1.pkl; data: 0.320; prediction: 0.320\n",
      "handle name : rep-2\n",
      "prediction  : (pid: 63159); path: /model/rep-2.pkl; data: 0.974; prediction: 1.513\n",
      "handle name : rep-1\n",
      "prediction  : (pid: 63160); path: /model/rep-1.pkl; data: 0.853; prediction: 1.393\n",
      "handle name : rep-2\n",
      "prediction  : (pid: 63150); path: /model/rep-2.pkl; data: 0.133; prediction: 0.133\n"
     ]
    }
   ],
   "source": [
    "for _ in range(2):\n",
    "    for d_name in [\"rep-1\", \"rep-2\"]:\n",
    "        # Send HTTP request along with data payload\n",
    "        url = f\"http://127.0.0.1:8000/{d_name}\"\n",
    "        print(f\"handle name : {d_name}\")\n",
    "        print(f\"prediction  : {requests.get(url, params={'data': random()}).text}\")"
   ]
  },
  {
   "cell_type": "markdown",
   "id": "3c1e4e92-2eb0-4a18-9ffa-c24893c929e4",
   "metadata": {},
   "source": [
    "### Exercises\n",
    "\n",
    "Here are some things you can try:\n",
    "\n",
    "1. For each method, send ten requests\n",
    "2. Increase number of replicas\n",
    "3. Do requests get sent to different replicas? (check the pids)"
   ]
  }
 ],
 "metadata": {
  "kernelspec": {
   "display_name": "Python 3 (ipykernel)",
   "language": "python",
   "name": "python3"
  },
  "language_info": {
   "codemirror_mode": {
    "name": "ipython",
    "version": 3
   },
   "file_extension": ".py",
   "mimetype": "text/x-python",
   "name": "python",
   "nbconvert_exporter": "python",
   "pygments_lexer": "ipython3",
   "version": "3.8.12"
  }
 },
 "nbformat": 4,
 "nbformat_minor": 5
}
