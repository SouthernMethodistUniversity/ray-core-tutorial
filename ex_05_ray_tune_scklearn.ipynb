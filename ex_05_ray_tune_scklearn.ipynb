{
 "cells": [
  {
   "cell_type": "markdown",
   "id": "50156943",
   "metadata": {},
   "source": [
    "# Distributed HPO with Ray Tune's TuneGridSearchCV and Scikit-Learn\n",
    "\n",
    "This demo introduces **Ray tune's** key concepts using a classification example. Basically, there are three basic steps or Ray Tune pattern for you as a newcomer to get started with using Ray Tune. We'll use a drop-in replacement for normal Scikit-learn's `GridSearchCV` with distributed Ray Tune's `TuneGridSearchCV`.\n",
    "\n",
    "See also the [Understanding Hyperparameter Tuning](https://github.com/anyscale/academy/blob/main/ray-tune/02-Understanding-Hyperparameter-Tuning.ipynb) notebook and the [Tune documentation](http://tune.io), in particular, the [API reference](https://docs.ray.io/en/latest/tune/api_docs/overview.html). \n"
   ]
  },
  {
   "cell_type": "code",
   "execution_count": 1,
   "id": "eed803cc",
   "metadata": {},
   "outputs": [],
   "source": [
    "from sklearn.model_selection import GridSearchCV\n",
    "# Import Tune's replacement\n",
    "from ray.tune.sklearn import TuneGridSearchCV\n",
    "\n",
    "# Other relevant imports\n",
    "from sklearn.model_selection import train_test_split\n",
    "\n",
    "# Use the stochastic gradient descent (SGD) classifier\n",
    "from sklearn.linear_model import SGDClassifier\n",
    "\n",
    "# import the classification dataset\n",
    "from sklearn.datasets import make_classification\n",
    "import numpy as np\n",
    "import time\n",
    "import ray"
   ]
  },
  {
   "cell_type": "code",
   "execution_count": 2,
   "id": "f93759e0",
   "metadata": {},
   "outputs": [
    {
     "name": "stderr",
     "output_type": "stream",
     "text": [
      "2022-02-02 14:09:53,688\tINFO worker.py:842 -- Connecting to existing Ray cluster at address: 172.31.111.127:6379\n"
     ]
    }
   ],
   "source": [
    "CONNECT_TO_ANYSCALE=False\n",
    "if ray.is_initialized:\n",
    "    ray.shutdown()\n",
    "    if CONNECT_TO_ANYSCALE:\n",
    "        ray.init(\"anyscale://jsd-weekly-demo\")\n",
    "    else:\n",
    "        ray.init()"
   ]
  },
  {
   "cell_type": "markdown",
   "id": "d9fc8350",
   "metadata": {},
   "source": [
    "### Create Feature Set\n",
    "\n",
    " * 2.1M rows\n",
    " * 1K features\n",
    " * 5 classes"
   ]
  },
  {
   "cell_type": "code",
   "execution_count": 5,
   "id": "13e7b4fc",
   "metadata": {},
   "outputs": [],
   "source": [
    "def create_classification_data() -> (np.ndarray, np.ndarray):\n",
    "    X, y = make_classification(\n",
    "        n_samples=210000,\n",
    "        n_features=1000,\n",
    "        n_informative=50,\n",
    "        n_redundant=0,\n",
    "        n_classes=5,\n",
    "        class_sep=2.5)\n",
    "    return X, y"
   ]
  },
  {
   "cell_type": "markdown",
   "id": "f96c690a",
   "metadata": {},
   "source": [
    "### Create classification data and define parameter search space"
   ]
  },
  {
   "cell_type": "code",
   "execution_count": 6,
   "id": "a20ef947",
   "metadata": {},
   "outputs": [],
   "source": [
    "X, y = create_classification_data()\n",
    "# Split the dataset into train and test sets\n",
    "x_train, x_test, y_train, y_test = train_test_split(X, y, test_size=10000)\n",
    "\n",
    "# Example parameters grid to tune from SGDClassifier\n",
    "parameter_grid = {\"alpha\": [1e-4, 1e-1, 1], \"epsilon\": [0.01, 0.1]}"
   ]
  },
  {
   "cell_type": "markdown",
   "id": "a6916365",
   "metadata": {},
   "source": [
    "## Use Regular Scikit-learn GridSearch\n",
    "This will run on a single node using all its cores. Here number of cores = 8"
   ]
  },
  {
   "cell_type": "code",
   "execution_count": 9,
   "id": "335bc7de",
   "metadata": {},
   "outputs": [],
   "source": [
    "# n_jobs=-1 enables use of all cores does\n",
    "sklearn_search = GridSearchCV(SGDClassifier(),\n",
    "                    parameter_grid,\n",
    "                    n_jobs=-1\n",
    "                              ,\n",
    "                    verbose=True)"
   ]
  },
  {
   "cell_type": "code",
   "execution_count": 10,
   "id": "57534c54",
   "metadata": {},
   "outputs": [
    {
     "name": "stdout",
     "output_type": "stream",
     "text": [
      "Fitting 5 folds for each of 6 candidates, totalling 30 fits\n",
      "CPU times: user 39.8 s, sys: 4.49 s, total: 44.3 s\n",
      "Wall time: 20min 20s\n"
     ]
    },
    {
     "data": {
      "text/plain": [
       "GridSearchCV(estimator=SGDClassifier(), n_jobs=16,\n",
       "             param_grid={'alpha': [0.0001, 0.1, 1], 'epsilon': [0.01, 0.1]},\n",
       "             verbose=True)"
      ]
     },
     "execution_count": 10,
     "metadata": {},
     "output_type": "execute_result"
    }
   ],
   "source": [
    "%%time\n",
    "sklearn_search.fit(x_train, y_train)"
   ]
  },
  {
   "cell_type": "code",
   "execution_count": 11,
   "id": "99557053",
   "metadata": {},
   "outputs": [
    {
     "name": "stdout",
     "output_type": "stream",
     "text": [
      "Standard Scikit-learn GridSearchCV Best params: {'alpha': 0.1, 'epsilon': 0.01}\n"
     ]
    }
   ],
   "source": [
    " print(f\"Standard Scikit-learn GridSearchCV Best params: {sklearn_search.best_params_}\")"
   ]
  },
  {
   "cell_type": "markdown",
   "id": "7c2a5ee5",
   "metadata": {},
   "source": [
    "## Use Ray's Scikit-learn drop-in replacement TuneGridSearchCV\n",
    "Use 40 cores on a Ray Cluster to tune "
   ]
  },
  {
   "cell_type": "code",
   "execution_count": 15,
   "id": "2e100cde",
   "metadata": {},
   "outputs": [],
   "source": [
    "# Now let's do with Tune's in-place replacement\n",
    "# Note: If early_stopping=True, TuneGridSearchCV will default to using Tune’s ASHAScheduler.\n",
    "tune_sklearn = TuneGridSearchCV(SGDClassifier(), \n",
    "                    parameter_grid,\n",
    "                    early_stopping=True,\n",
    "                    max_iters=30,\n",
    "                    n_jobs=40,    # Use 40 cores \n",
    "                    mode=\"min\",\n",
    "                    verbose=True)"
   ]
  },
  {
   "cell_type": "code",
   "execution_count": null,
   "id": "a74c1d1a",
   "metadata": {},
   "outputs": [
    {
     "data": {
      "text/html": [
       "== Status ==<br>Current time: 2022-02-02 14:55:18 (running for 00:05:25.56)<br>Memory usage on this node: 18.6/62.0 GiB<br>Using AsyncHyperBand: num_stopped=3\n",
       "Bracket: Iter 16.000: -0.9228387499999999 | Iter 4.000: -0.9242975 | Iter 1.000: -0.92277<br>Resources requested: 4.0/80 CPUs, 0/0 GPUs, 0.0/216.23 GiB heap, 0.0/92.38 GiB objects<br>Current best trial: 6f6ac_00000 with average_test_score=0.9197850000000001 and parameters={'early_stopping': True, 'early_stop_type': <EarlyStopping.PARTIAL_FIT: 1>, 'X_id': ObjectRef(ffffffffffffffffffffffffffffffffffffffff0300000008000000), 'y_id': ObjectRef(ffffffffffffffffffffffffffffffffffffffff0300000009000000), 'groups': None, 'cv': StratifiedKFold(n_splits=5, random_state=None, shuffle=False), 'fit_params': {}, 'scoring': {'score': <function _passthrough_scorer at 0x7fef1cd3b820>}, 'max_iters': 30, 'return_train_score': False, 'n_jobs': 1, 'metric_name': 'average_test_score', 'alpha': 0.0001, 'epsilon': 0.01, 'estimator_ids': [ObjectRef(ffffffffffffffffffffffffffffffffffffffff030000000a000000), ObjectRef(ffffffffffffffffffffffffffffffffffffffff030000000b000000), ObjectRef(ffffffffffffffffffffffffffffffffffffffff030000000c000000), ObjectRef(ffffffffffffffffffffffffffffffffffffffff030000000d000000), ObjectRef(ffffffffffffffffffffffffffffffffffffffff030000000e000000)]}<br>Result logdir: /home/ray/ray_results/_Trainable_2022-02-02_14-49-53<br>Number of trials: 6/6 (2 RUNNING, 4 TERMINATED)<br><br>"
      ],
      "text/plain": [
       "<IPython.core.display.HTML object>"
      ]
     },
     "metadata": {},
     "output_type": "display_data"
    }
   ],
   "source": [
    "%%time\n",
    "tune_sklearn.fit(x_train, y_train)"
   ]
  },
  {
   "cell_type": "code",
   "execution_count": 14,
   "id": "116b90ee",
   "metadata": {},
   "outputs": [
    {
     "name": "stdout",
     "output_type": "stream",
     "text": [
      "Ray Tune Scikit-learn TuneGridSearchCV Best params: {'alpha': 0.1, 'epsilon': 0.01}\n"
     ]
    }
   ],
   "source": [
    "print(f\"Ray Tune Scikit-learn TuneGridSearchCV Best params: {tune_sklearn.best_params}\")"
   ]
  }
 ],
 "metadata": {
  "kernelspec": {
   "display_name": "Python 3 (ipykernel)",
   "language": "python",
   "name": "python3"
  },
  "language_info": {
   "codemirror_mode": {
    "name": "ipython",
    "version": 3
   },
   "file_extension": ".py",
   "mimetype": "text/x-python",
   "name": "python",
   "nbconvert_exporter": "python",
   "pygments_lexer": "ipython3",
   "version": "3.8.10"
  }
 },
 "nbformat": 4,
 "nbformat_minor": 5
}
