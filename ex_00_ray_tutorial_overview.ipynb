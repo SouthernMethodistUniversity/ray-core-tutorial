{
 "cells": [
  {
   "cell_type": "markdown",
   "metadata": {},
   "source": [
    "# Ray Tutorial Basic Core APIs - Overview\n",
    "\n",
    "© 2021-2022, Anyscale. All Rights Reserved\n",
    "\n",
    "## About This Tutorial\n",
    "\n",
    "In this tutorial, we cover the basic Ray Core APIs and its fundamental patterns. This is an introductory material. We cover three basic distributed Ray core APIs patterns:\n",
    "\n",
    " * Remote Functions as Tasks\n",
    " * Remote Objects as Futures\n",
    " * Remote Classes as stateful Actors\n",
    " \n",
    " <img src=\"images/ray_basic_patterns.png\" height=\"25%\" width=\"50%\">\n",
    " \n",
    "There are other advance [Ray Patterns and Anti-patterns](https://docs.ray.io/en/latest/ray-design-patterns/index.html), which are not covered in this tutorial \n",
    "Mainly applicable when writing more complex distributed applications, we recommend reading themo \n",
    "to equip yourself to use Ray APIs more effectively.\n",
    "\n",
    "\n",
    "See the instructions in the [README](./README.md) for setting up your environment to use this tutorial."
   ]
  },
  {
   "cell_type": "markdown",
   "metadata": {},
   "source": [
    "|     | Lesson | Description |\n",
    "| :-- | :----- | :---------- |\n",
    "| 00  | [Ray Tutorial Overview](ex_00_ray_tutorial_overview) | Overview of this tutorial. |\n",
    "| 01  | [Ray Remote Functions ](ex_01_remote_funcs.ipynb) |The Remote Function as StateLess Tasks Pattern. |\n",
    "| 02  | [Ray Remote Objects](ex_02_remote_objects.ipynb) |The Remote Objects as Futures Pattern. |\n",
    "| 03  | [Ray Remote Classes](ex_03_remote_classes.ipynb) |The Remote Classes as Stateful Actors Pattern |"
   ]
  }
 ],
 "metadata": {
  "kernelspec": {
   "display_name": "Python 3 (ipykernel)",
   "language": "python",
   "name": "python3"
  },
  "language_info": {
   "codemirror_mode": {
    "name": "ipython",
    "version": 3
   },
   "file_extension": ".py",
   "mimetype": "text/x-python",
   "name": "python",
   "nbconvert_exporter": "python",
   "pygments_lexer": "ipython3",
   "version": "3.8.12"
  }
 },
 "nbformat": 4,
 "nbformat_minor": 4
}
